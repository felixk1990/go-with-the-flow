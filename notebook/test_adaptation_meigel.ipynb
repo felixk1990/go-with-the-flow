{
 "cells": [
  {
   "cell_type": "code",
   "execution_count": 1,
   "metadata": {},
   "outputs": [
    {
     "name": "stdout",
     "output_type": "stream",
     "text": [
      "Set source: dipole_border\n",
      "set_source_landscape(): dipole_border is set and consistent :)\n",
      "Set plexus: default\n",
      "set_plexus_landscape(): default is set and consistent :)\n"
     ]
    }
   ],
   "source": [
    "import numpy as np\n",
    "import kirchhoff.circuit_init as kfi\n",
    "from goflow.adapter import init_ivp as gi\n",
    "\n",
    "#initialize circuit+flow pattern\n",
    "C = kfi.initialize_circuit_from_crystal('square',3)\n",
    "\n",
    "# set model and model parameters\n",
    "pars_src = {\n",
    "    'modeSRC': 'dipole_border',\n",
    "}\n",
    "pars_plx = {\n",
    "    'modePLX':'default',\n",
    "}\n",
    "pars_model = {\n",
    "    'phi0': .5,\n",
    "}\n",
    "\n",
    "# # initialize dynamic system and set integration parameters\n",
    "morpheus = gi.morph_dynamic(C, 'meigel', [pars_model, pars_src, pars_plx]) "
   ]
  },
  {
   "cell_type": "code",
   "execution_count": null,
   "metadata": {},
   "outputs": [],
   "source": [
    "# numerically evaluate the system\n",
    "morpheus.evals = 10\n",
    "cnd = morpheus.flow.circuit.edges['conductivity']\n",
    "cnd_scale = morpheus.flow.circuit.scales['conductance']\n",
    "sp = {\n",
    "    't0': 0.,\n",
    "    't1': 3.,\n",
    "    'x0': np.power(cnd/cnd_scale,0.25),\n",
    "#     'x0': nsol.y.transpose()[-1]\n",
    "}\n",
    "\n",
    "nsol = morpheus.autoSolve((sp['t0'],sp['t1']), sp['x0'])\n",
    "print(nsol)"
   ]
  },
  {
   "cell_type": "code",
   "execution_count": null,
   "metadata": {},
   "outputs": [],
   "source": [
    "dataPoints = zip(nsol.t,nsol.y.transpose())\n",
    "Model = morpheus.model\n",
    "args = Model.solver_options['args']\n",
    "cost = [Model.calc_cost_system(t, y, *args) for t, y in dataPoints]\n",
    "\n",
    "# # # plot dynamic data such as radii and costs\n",
    "import matplotlib.pyplot as plt\n",
    "fig,axs=plt.subplots(2,1,figsize=(12,6),sharex=True)\n",
    "axs[0].plot(nsol.t,nsol.y.transpose(),alpha=0.1,color='b')\n",
    "axs[1].plot(nsol.t,cost,alpha=0.2,color='b')\n",
    "\n",
    "for i in range(2):\n",
    "    axs[i].grid(True)\n",
    "    \n",
    "axs[1].set_xlabel(r'time $t$')\n",
    "axs[0].set_ylabel(r'radii $r$')\n",
    "axs[1].set_ylabel(r'metabolic cost $\\Gamma$')\n",
    "plt.show()"
   ]
  },
  {
   "cell_type": "code",
   "execution_count": null,
   "metadata": {},
   "outputs": [],
   "source": [
    "Model = morpheus.model\n",
    "args = Model.solver_options['args']\n",
    "p_sq = [Model.get_stimuli_pars(args[0],y)[1] for t, y in zip(nsol.t,nsol.y.transpose())]\n",
    "cnd = [Model.get_stimuli_pars(args[0],y)[0] for t, y in zip(nsol.t,nsol.y.transpose())]\n",
    "\n",
    "# # # plot dynamic data such as radii and costs\n",
    "import matplotlib.pyplot as plt\n",
    "fig,axs=plt.subplots(2,1,figsize=(12,6),sharex=True)\n",
    "axs[0].plot(nsol.t, p_sq,alpha=0.1,color='b')\n",
    "axs[1].plot(nsol.t, cnd,alpha=0.2,color='b')\n",
    "\n",
    "for i in range(2):\n",
    "    axs[i].grid(True)\n",
    "    \n",
    "axs[1].set_xlabel(r'time $t$')\n",
    "axs[0].set_ylabel(r'$p^2$')\n",
    "axs[1].set_ylabel(r'conductity $C$')\n",
    "plt.show()"
   ]
  },
  {
   "cell_type": "code",
   "execution_count": null,
   "metadata": {
    "scrolled": false
   },
   "outputs": [],
   "source": [
    "# # plot network with data of choice\n",
    "morpheus.flow.circuit.edges['radii'] = nsol.y.transpose()[-1]*1.\n",
    "fig=morpheus.flow.circuit.plot_circuit(linewidth = [morpheus.flow.circuit.edges['radii']])\n",
    "fig.show()"
   ]
  },
  {
   "cell_type": "code",
   "execution_count": null,
   "metadata": {},
   "outputs": [],
   "source": [
    "print(nsol.y.T[-1])"
   ]
  },
  {
   "cell_type": "code",
   "execution_count": null,
   "metadata": {},
   "outputs": [],
   "source": [
    "y = nsol.y.transpose()[-1]\n",
    "Model.get_stimuli_pars(args[0],y)[1]"
   ]
  },
  {
   "cell_type": "code",
   "execution_count": null,
   "metadata": {},
   "outputs": [],
   "source": []
  }
 ],
 "metadata": {
  "kernelspec": {
   "display_name": "DevGoFlow",
   "language": "python",
   "name": "devgoflow"
  },
  "language_info": {
   "codemirror_mode": {
    "name": "ipython",
    "version": 3
   },
   "file_extension": ".py",
   "mimetype": "text/x-python",
   "name": "python",
   "nbconvert_exporter": "python",
   "pygments_lexer": "ipython3",
   "version": "3.10.4"
  }
 },
 "nbformat": 4,
 "nbformat_minor": 4
}
