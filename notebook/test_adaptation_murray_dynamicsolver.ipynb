{
 "cells": [
  {
   "cell_type": "code",
   "execution_count": 1,
   "metadata": {},
   "outputs": [],
   "source": [
    "import numpy as np\n",
    "import goflow.init_ivp as gi\n",
    "import goflow.models as gfm"
   ]
  },
  {
   "cell_type": "code",
   "execution_count": 7,
   "metadata": {
    "scrolled": false
   },
   "outputs": [
    {
     "name": "stdout",
     "output_type": "stream",
     "text": [
      "circuit(): initialized and ready for (some) action :)\n",
      "set_source_landscape():  is set and consistent :)\n",
      "set_plexus_landscape(): default is set and consistent :)\n"
     ]
    },
    {
     "data": {
      "application/vnd.plotly.v1+json": {
       "config": {
        "plotlyServerURL": "https://plot.ly"
       },
       "data": [
        {
         "hoverinfo": "text",
         "hovertext": [
          "label: 0<br>source: 0.0<br>",
          "label: 1<br>source: -1.0<br>",
          "label: 2<br>source: 0.0<br>",
          "label: 3<br>source: -1.0<br>",
          "label: 4<br>source: 0.0<br>",
          "label: 5<br>source: -1.0<br>",
          "label: 6<br>source: 0.0<br>",
          "label: 7<br>source: -1.0<br>",
          "label: 8<br>source: 0.0<br>",
          "label: 9<br>source: -1.0<br>",
          "label: 10<br>source: 0.0<br>",
          "label: 11<br>source: -1.0<br>",
          "label: 12<br>source: 0.0<br>",
          "label: 13<br>source: -1.0<br>",
          "label: 14<br>source: 0.0<br>",
          "label: 15<br>source: 0.0<br>",
          "label: 16<br>source: 0.0<br>",
          "label: 17<br>source: 0.0<br>",
          "label: 18<br>source: 0.0<br>",
          "label: 19<br>source: 0.0<br>",
          "label: 20<br>source: 0.0<br>",
          "label: 21<br>source: 0.0<br>",
          "label: 22<br>source: 0.0<br>",
          "label: 23<br>source: 0.0<br>",
          "label: 24<br>source: 0.0<br>",
          "label: 25<br>source: 0.0<br>",
          "label: 26<br>source: 0.0<br>",
          "label: 27<br>source: 0.0<br>",
          "label: 28<br>source: 0.0<br>",
          "label: 29<br>source: 0.0<br>",
          "label: 30<br>source: 0.0<br>",
          "label: 31<br>source: 0.0<br>",
          "label: 32<br>source: 0.0<br>",
          "label: 33<br>source: 0.0<br>",
          "label: 34<br>source: 0.0<br>",
          "label: 35<br>source: 0.0<br>",
          "label: 36<br>source: 0.0<br>",
          "label: 37<br>source: 0.0<br>",
          "label: 38<br>source: 0.0<br>",
          "label: 39<br>source: 0.0<br>",
          "label: 40<br>source: 0.0<br>",
          "label: 41<br>source: 0.0<br>",
          "label: 42<br>source: 0.0<br>",
          "label: 43<br>source: 0.0<br>",
          "label: 44<br>source: 0.0<br>",
          "label: 45<br>source: 0.0<br>",
          "label: 46<br>source: 0.0<br>",
          "label: 47<br>source: 0.0<br>",
          "label: 48<br>source: 0.0<br>",
          "label: 49<br>source: 0.0<br>",
          "label: 50<br>source: 0.0<br>",
          "label: 51<br>source: 0.0<br>",
          "label: 52<br>source: 0.0<br>",
          "label: 53<br>source: 0.0<br>",
          "label: 54<br>source: 0.0<br>",
          "label: 55<br>source: 0.0<br>",
          "label: 56<br>source: 0.0<br>",
          "label: 57<br>source: 0.0<br>",
          "label: 58<br>source: 0.0<br>",
          "label: 59<br>source: 0.0<br>",
          "label: 60<br>source: 0.0<br>",
          "label: 61<br>source: 0.0<br>",
          "label: 62<br>source: 0.0<br>",
          "label: 63<br>source: 0.0<br>",
          "label: 64<br>source: 0.0<br>",
          "label: 65<br>source: 0.0<br>",
          "label: 66<br>source: 0.0<br>",
          "label: 67<br>source: 0.0<br>",
          "label: 68<br>source: 0.0<br>",
          "label: 69<br>source: 0.0<br>",
          "label: 70<br>source: 0.0<br>",
          "label: 71<br>source: 0.0<br>",
          "label: 72<br>source: 0.0<br>",
          "label: 73<br>source: 0.0<br>",
          "label: 74<br>source: 0.0<br>",
          "label: 75<br>source: 0.0<br>",
          "label: 76<br>source: 0.0<br>",
          "label: 77<br>source: 0.0<br>",
          "label: 78<br>source: 0.0<br>",
          "label: 79<br>source: 0.0<br>",
          "label: 80<br>source: 0.0<br>",
          "label: 81<br>source: 0.0<br>",
          "label: 82<br>source: 0.0<br>",
          "label: 83<br>source: 0.0<br>",
          "label: 84<br>source: 0.0<br>",
          "label: 85<br>source: 0.0<br>",
          "label: 86<br>source: 0.0<br>",
          "label: 87<br>source: 0.0<br>",
          "label: 88<br>source: 0.0<br>",
          "label: 89<br>source: 0.0<br>",
          "label: 90<br>source: 0.0<br>",
          "label: 91<br>source: 0.0<br>",
          "label: 92<br>source: 0.0<br>",
          "label: 93<br>source: 0.0<br>",
          "label: 94<br>source: 0.0<br>",
          "label: 95<br>source: 0.0<br>",
          "label: 96<br>source: 1.0<br>",
          "label: 97<br>source: 0.0<br>",
          "label: 98<br>source: 1.0<br>",
          "label: 99<br>source: 0.0<br>",
          "label: 100<br>source: 1.0<br>",
          "label: 101<br>source: 0.0<br>",
          "label: 102<br>source: 1.0<br>",
          "label: 103<br>source: 0.0<br>",
          "label: 104<br>source: 1.0<br>",
          "label: 105<br>source: 0.0<br>",
          "label: 106<br>source: 1.0<br>",
          "label: 107<br>source: 0.0<br>",
          "label: 108<br>source: 1.0<br>",
          "label: 109<br>source: 0.0<br>"
         ],
         "marker": {
          "color": "#a845b5",
          "line": {
           "width": 2
          },
          "size": 2
         },
         "mode": "markers",
         "type": "scatter",
         "x": [
          0.5,
          0,
          0.5,
          0,
          0.5,
          0,
          0.5,
          0,
          0.5,
          0,
          0.5,
          0,
          0.5,
          0,
          0.5,
          1.5,
          2,
          1.5,
          2,
          1.5,
          2,
          1.5,
          2,
          1.5,
          2,
          1.5,
          2,
          1.5,
          2,
          1.5,
          2,
          3.5,
          3,
          3.5,
          3,
          3.5,
          3,
          3.5,
          3,
          3.5,
          3,
          3.5,
          3,
          3.5,
          3,
          3.5,
          3,
          4.5,
          5,
          4.5,
          5,
          4.5,
          5,
          4.5,
          5,
          4.5,
          5,
          4.5,
          5,
          4.5,
          5,
          4.5,
          5,
          6.5,
          6,
          6.5,
          6,
          6.5,
          6,
          6.5,
          6,
          6.5,
          6,
          6.5,
          6,
          6.5,
          6,
          6.5,
          6,
          7.5,
          8,
          7.5,
          8,
          7.5,
          8,
          7.5,
          8,
          7.5,
          8,
          7.5,
          8,
          7.5,
          8,
          7.5,
          8,
          9,
          9.5,
          9,
          9.5,
          9,
          9.5,
          9,
          9.5,
          9,
          9.5,
          9,
          9.5,
          9,
          9.5,
          9
         ],
         "y": [
          0,
          0.8660254037844386,
          1.7320508075688772,
          2.598076211353316,
          3.4641016151377544,
          4.330127018922193,
          5.196152422706632,
          6.06217782649107,
          6.928203230275509,
          7.794228634059947,
          8.660254037844386,
          9.526279441628825,
          10.392304845413264,
          11.258330249197702,
          12.12435565298214,
          0,
          0.8660254037844386,
          1.7320508075688772,
          2.598076211353316,
          3.4641016151377544,
          4.330127018922193,
          5.196152422706632,
          6.06217782649107,
          6.928203230275509,
          7.794228634059947,
          8.660254037844386,
          9.526279441628825,
          10.392304845413264,
          11.258330249197702,
          12.12435565298214,
          12.990381056766578,
          0,
          0.8660254037844386,
          1.7320508075688772,
          2.598076211353316,
          3.4641016151377544,
          4.330127018922193,
          5.196152422706632,
          6.06217782649107,
          6.928203230275509,
          7.794228634059947,
          8.660254037844386,
          9.526279441628825,
          10.392304845413264,
          11.258330249197702,
          12.12435565298214,
          12.990381056766578,
          0,
          0.8660254037844386,
          1.7320508075688772,
          2.598076211353316,
          3.4641016151377544,
          4.330127018922193,
          5.196152422706632,
          6.06217782649107,
          6.928203230275509,
          7.794228634059947,
          8.660254037844386,
          9.526279441628825,
          10.392304845413264,
          11.258330249197702,
          12.12435565298214,
          12.990381056766578,
          0,
          0.8660254037844386,
          1.7320508075688772,
          2.598076211353316,
          3.4641016151377544,
          4.330127018922193,
          5.196152422706632,
          6.06217782649107,
          6.928203230275509,
          7.794228634059947,
          8.660254037844386,
          9.526279441628825,
          10.392304845413264,
          11.258330249197702,
          12.12435565298214,
          12.990381056766578,
          0,
          0.8660254037844386,
          1.7320508075688772,
          2.598076211353316,
          3.4641016151377544,
          4.330127018922193,
          5.196152422706632,
          6.06217782649107,
          6.928203230275509,
          7.794228634059947,
          8.660254037844386,
          9.526279441628825,
          10.392304845413264,
          11.258330249197702,
          12.12435565298214,
          12.990381056766578,
          0.8660254037844386,
          1.7320508075688772,
          2.598076211353316,
          3.4641016151377544,
          4.330127018922193,
          5.196152422706632,
          6.06217782649107,
          6.928203230275509,
          7.794228634059947,
          8.660254037844386,
          9.526279441628825,
          10.392304845413264,
          11.258330249197702,
          12.12435565298214,
          12.990381056766578
         ]
        },
        {
         "hoverinfo": "none",
         "line": {
          "color": "#c762d4",
          "width": 5
         },
         "mode": "lines",
         "type": "scatter",
         "x": [
          0.5,
          0,
          null
         ],
         "y": [
          0,
          0.8660254037844386,
          null
         ]
        },
        {
         "hoverinfo": "none",
         "line": {
          "color": "#c762d4",
          "width": 5
         },
         "mode": "lines",
         "type": "scatter",
         "x": [
          0.5,
          1.5,
          null
         ],
         "y": [
          0,
          0,
          null
         ]
        },
        {
         "hoverinfo": "none",
         "line": {
          "color": "#c762d4",
          "width": 5
         },
         "mode": "lines",
         "type": "scatter",
         "x": [
          0,
          0.5,
          null
         ],
         "y": [
          0.8660254037844386,
          1.7320508075688772,
          null
         ]
        },
        {
         "hoverinfo": "none",
         "line": {
          "color": "#c762d4",
          "width": 5
         },
         "mode": "lines",
         "type": "scatter",
         "x": [
          0.5,
          0,
          null
         ],
         "y": [
          1.7320508075688772,
          2.598076211353316,
          null
         ]
        },
        {
         "hoverinfo": "none",
         "line": {
          "color": "#c762d4",
          "width": 5
         },
         "mode": "lines",
         "type": "scatter",
         "x": [
          0.5,
          1.5,
          null
         ],
         "y": [
          1.7320508075688772,
          1.7320508075688772,
          null
         ]
        },
        {
         "hoverinfo": "none",
         "line": {
          "color": "#c762d4",
          "width": 5
         },
         "mode": "lines",
         "type": "scatter",
         "x": [
          0,
          0.5,
          null
         ],
         "y": [
          2.598076211353316,
          3.4641016151377544,
          null
         ]
        },
        {
         "hoverinfo": "none",
         "line": {
          "color": "#c762d4",
          "width": 5
         },
         "mode": "lines",
         "type": "scatter",
         "x": [
          0.5,
          0,
          null
         ],
         "y": [
          3.4641016151377544,
          4.330127018922193,
          null
         ]
        },
        {
         "hoverinfo": "none",
         "line": {
          "color": "#c762d4",
          "width": 5
         },
         "mode": "lines",
         "type": "scatter",
         "x": [
          0.5,
          1.5,
          null
         ],
         "y": [
          3.4641016151377544,
          3.4641016151377544,
          null
         ]
        },
        {
         "hoverinfo": "none",
         "line": {
          "color": "#c762d4",
          "width": 5
         },
         "mode": "lines",
         "type": "scatter",
         "x": [
          0,
          0.5,
          null
         ],
         "y": [
          4.330127018922193,
          5.196152422706632,
          null
         ]
        },
        {
         "hoverinfo": "none",
         "line": {
          "color": "#c762d4",
          "width": 5
         },
         "mode": "lines",
         "type": "scatter",
         "x": [
          0.5,
          0,
          null
         ],
         "y": [
          5.196152422706632,
          6.06217782649107,
          null
         ]
        },
        {
         "hoverinfo": "none",
         "line": {
          "color": "#c762d4",
          "width": 5
         },
         "mode": "lines",
         "type": "scatter",
         "x": [
          0.5,
          1.5,
          null
         ],
         "y": [
          5.196152422706632,
          5.196152422706632,
          null
         ]
        },
        {
         "hoverinfo": "none",
         "line": {
          "color": "#c762d4",
          "width": 5
         },
         "mode": "lines",
         "type": "scatter",
         "x": [
          0,
          0.5,
          null
         ],
         "y": [
          6.06217782649107,
          6.928203230275509,
          null
         ]
        },
        {
         "hoverinfo": "none",
         "line": {
          "color": "#c762d4",
          "width": 5
         },
         "mode": "lines",
         "type": "scatter",
         "x": [
          0.5,
          0,
          null
         ],
         "y": [
          6.928203230275509,
          7.794228634059947,
          null
         ]
        },
        {
         "hoverinfo": "none",
         "line": {
          "color": "#c762d4",
          "width": 5
         },
         "mode": "lines",
         "type": "scatter",
         "x": [
          0.5,
          1.5,
          null
         ],
         "y": [
          6.928203230275509,
          6.928203230275509,
          null
         ]
        },
        {
         "hoverinfo": "none",
         "line": {
          "color": "#c762d4",
          "width": 5
         },
         "mode": "lines",
         "type": "scatter",
         "x": [
          0,
          0.5,
          null
         ],
         "y": [
          7.794228634059947,
          8.660254037844386,
          null
         ]
        },
        {
         "hoverinfo": "none",
         "line": {
          "color": "#c762d4",
          "width": 5
         },
         "mode": "lines",
         "type": "scatter",
         "x": [
          0.5,
          0,
          null
         ],
         "y": [
          8.660254037844386,
          9.526279441628825,
          null
         ]
        },
        {
         "hoverinfo": "none",
         "line": {
          "color": "#c762d4",
          "width": 5
         },
         "mode": "lines",
         "type": "scatter",
         "x": [
          0.5,
          1.5,
          null
         ],
         "y": [
          8.660254037844386,
          8.660254037844386,
          null
         ]
        },
        {
         "hoverinfo": "none",
         "line": {
          "color": "#c762d4",
          "width": 5
         },
         "mode": "lines",
         "type": "scatter",
         "x": [
          0,
          0.5,
          null
         ],
         "y": [
          9.526279441628825,
          10.392304845413264,
          null
         ]
        },
        {
         "hoverinfo": "none",
         "line": {
          "color": "#c762d4",
          "width": 5
         },
         "mode": "lines",
         "type": "scatter",
         "x": [
          0.5,
          0,
          null
         ],
         "y": [
          10.392304845413264,
          11.258330249197702,
          null
         ]
        },
        {
         "hoverinfo": "none",
         "line": {
          "color": "#c762d4",
          "width": 5
         },
         "mode": "lines",
         "type": "scatter",
         "x": [
          0.5,
          1.5,
          null
         ],
         "y": [
          10.392304845413264,
          10.392304845413264,
          null
         ]
        },
        {
         "hoverinfo": "none",
         "line": {
          "color": "#c762d4",
          "width": 5
         },
         "mode": "lines",
         "type": "scatter",
         "x": [
          0,
          0.5,
          null
         ],
         "y": [
          11.258330249197702,
          12.12435565298214,
          null
         ]
        },
        {
         "hoverinfo": "none",
         "line": {
          "color": "#c762d4",
          "width": 5
         },
         "mode": "lines",
         "type": "scatter",
         "x": [
          0.5,
          1.5,
          null
         ],
         "y": [
          12.12435565298214,
          12.12435565298214,
          null
         ]
        },
        {
         "hoverinfo": "none",
         "line": {
          "color": "#c762d4",
          "width": 5
         },
         "mode": "lines",
         "type": "scatter",
         "x": [
          1.5,
          2,
          null
         ],
         "y": [
          0,
          0.8660254037844386,
          null
         ]
        },
        {
         "hoverinfo": "none",
         "line": {
          "color": "#c762d4",
          "width": 5
         },
         "mode": "lines",
         "type": "scatter",
         "x": [
          2,
          1.5,
          null
         ],
         "y": [
          0.8660254037844386,
          1.7320508075688772,
          null
         ]
        },
        {
         "hoverinfo": "none",
         "line": {
          "color": "#c762d4",
          "width": 5
         },
         "mode": "lines",
         "type": "scatter",
         "x": [
          2,
          3,
          null
         ],
         "y": [
          0.8660254037844386,
          0.8660254037844386,
          null
         ]
        },
        {
         "hoverinfo": "none",
         "line": {
          "color": "#c762d4",
          "width": 5
         },
         "mode": "lines",
         "type": "scatter",
         "x": [
          1.5,
          2,
          null
         ],
         "y": [
          1.7320508075688772,
          2.598076211353316,
          null
         ]
        },
        {
         "hoverinfo": "none",
         "line": {
          "color": "#c762d4",
          "width": 5
         },
         "mode": "lines",
         "type": "scatter",
         "x": [
          2,
          1.5,
          null
         ],
         "y": [
          2.598076211353316,
          3.4641016151377544,
          null
         ]
        },
        {
         "hoverinfo": "none",
         "line": {
          "color": "#c762d4",
          "width": 5
         },
         "mode": "lines",
         "type": "scatter",
         "x": [
          2,
          3,
          null
         ],
         "y": [
          2.598076211353316,
          2.598076211353316,
          null
         ]
        },
        {
         "hoverinfo": "none",
         "line": {
          "color": "#c762d4",
          "width": 5
         },
         "mode": "lines",
         "type": "scatter",
         "x": [
          1.5,
          2,
          null
         ],
         "y": [
          3.4641016151377544,
          4.330127018922193,
          null
         ]
        },
        {
         "hoverinfo": "none",
         "line": {
          "color": "#c762d4",
          "width": 5
         },
         "mode": "lines",
         "type": "scatter",
         "x": [
          2,
          1.5,
          null
         ],
         "y": [
          4.330127018922193,
          5.196152422706632,
          null
         ]
        },
        {
         "hoverinfo": "none",
         "line": {
          "color": "#c762d4",
          "width": 5
         },
         "mode": "lines",
         "type": "scatter",
         "x": [
          2,
          3,
          null
         ],
         "y": [
          4.330127018922193,
          4.330127018922193,
          null
         ]
        },
        {
         "hoverinfo": "none",
         "line": {
          "color": "#c762d4",
          "width": 5
         },
         "mode": "lines",
         "type": "scatter",
         "x": [
          1.5,
          2,
          null
         ],
         "y": [
          5.196152422706632,
          6.06217782649107,
          null
         ]
        },
        {
         "hoverinfo": "none",
         "line": {
          "color": "#c762d4",
          "width": 5
         },
         "mode": "lines",
         "type": "scatter",
         "x": [
          2,
          1.5,
          null
         ],
         "y": [
          6.06217782649107,
          6.928203230275509,
          null
         ]
        },
        {
         "hoverinfo": "none",
         "line": {
          "color": "#c762d4",
          "width": 5
         },
         "mode": "lines",
         "type": "scatter",
         "x": [
          2,
          3,
          null
         ],
         "y": [
          6.06217782649107,
          6.06217782649107,
          null
         ]
        },
        {
         "hoverinfo": "none",
         "line": {
          "color": "#c762d4",
          "width": 5
         },
         "mode": "lines",
         "type": "scatter",
         "x": [
          1.5,
          2,
          null
         ],
         "y": [
          6.928203230275509,
          7.794228634059947,
          null
         ]
        },
        {
         "hoverinfo": "none",
         "line": {
          "color": "#c762d4",
          "width": 5
         },
         "mode": "lines",
         "type": "scatter",
         "x": [
          2,
          1.5,
          null
         ],
         "y": [
          7.794228634059947,
          8.660254037844386,
          null
         ]
        },
        {
         "hoverinfo": "none",
         "line": {
          "color": "#c762d4",
          "width": 5
         },
         "mode": "lines",
         "type": "scatter",
         "x": [
          2,
          3,
          null
         ],
         "y": [
          7.794228634059947,
          7.794228634059947,
          null
         ]
        },
        {
         "hoverinfo": "none",
         "line": {
          "color": "#c762d4",
          "width": 5
         },
         "mode": "lines",
         "type": "scatter",
         "x": [
          1.5,
          2,
          null
         ],
         "y": [
          8.660254037844386,
          9.526279441628825,
          null
         ]
        },
        {
         "hoverinfo": "none",
         "line": {
          "color": "#c762d4",
          "width": 5
         },
         "mode": "lines",
         "type": "scatter",
         "x": [
          2,
          1.5,
          null
         ],
         "y": [
          9.526279441628825,
          10.392304845413264,
          null
         ]
        },
        {
         "hoverinfo": "none",
         "line": {
          "color": "#c762d4",
          "width": 5
         },
         "mode": "lines",
         "type": "scatter",
         "x": [
          2,
          3,
          null
         ],
         "y": [
          9.526279441628825,
          9.526279441628825,
          null
         ]
        },
        {
         "hoverinfo": "none",
         "line": {
          "color": "#c762d4",
          "width": 5
         },
         "mode": "lines",
         "type": "scatter",
         "x": [
          1.5,
          2,
          null
         ],
         "y": [
          10.392304845413264,
          11.258330249197702,
          null
         ]
        },
        {
         "hoverinfo": "none",
         "line": {
          "color": "#c762d4",
          "width": 5
         },
         "mode": "lines",
         "type": "scatter",
         "x": [
          2,
          1.5,
          null
         ],
         "y": [
          11.258330249197702,
          12.12435565298214,
          null
         ]
        },
        {
         "hoverinfo": "none",
         "line": {
          "color": "#c762d4",
          "width": 5
         },
         "mode": "lines",
         "type": "scatter",
         "x": [
          2,
          3,
          null
         ],
         "y": [
          11.258330249197702,
          11.258330249197702,
          null
         ]
        },
        {
         "hoverinfo": "none",
         "line": {
          "color": "#c762d4",
          "width": 5
         },
         "mode": "lines",
         "type": "scatter",
         "x": [
          1.5,
          2,
          null
         ],
         "y": [
          12.12435565298214,
          12.990381056766578,
          null
         ]
        },
        {
         "hoverinfo": "none",
         "line": {
          "color": "#c762d4",
          "width": 5
         },
         "mode": "lines",
         "type": "scatter",
         "x": [
          2,
          3,
          null
         ],
         "y": [
          12.990381056766578,
          12.990381056766578,
          null
         ]
        },
        {
         "hoverinfo": "none",
         "line": {
          "color": "#c762d4",
          "width": 5
         },
         "mode": "lines",
         "type": "scatter",
         "x": [
          3.5,
          3,
          null
         ],
         "y": [
          0,
          0.8660254037844386,
          null
         ]
        },
        {
         "hoverinfo": "none",
         "line": {
          "color": "#c762d4",
          "width": 5
         },
         "mode": "lines",
         "type": "scatter",
         "x": [
          3.5,
          4.5,
          null
         ],
         "y": [
          0,
          0,
          null
         ]
        },
        {
         "hoverinfo": "none",
         "line": {
          "color": "#c762d4",
          "width": 5
         },
         "mode": "lines",
         "type": "scatter",
         "x": [
          3,
          3.5,
          null
         ],
         "y": [
          0.8660254037844386,
          1.7320508075688772,
          null
         ]
        },
        {
         "hoverinfo": "none",
         "line": {
          "color": "#c762d4",
          "width": 5
         },
         "mode": "lines",
         "type": "scatter",
         "x": [
          3.5,
          3,
          null
         ],
         "y": [
          1.7320508075688772,
          2.598076211353316,
          null
         ]
        },
        {
         "hoverinfo": "none",
         "line": {
          "color": "#c762d4",
          "width": 5
         },
         "mode": "lines",
         "type": "scatter",
         "x": [
          3.5,
          4.5,
          null
         ],
         "y": [
          1.7320508075688772,
          1.7320508075688772,
          null
         ]
        },
        {
         "hoverinfo": "none",
         "line": {
          "color": "#c762d4",
          "width": 5
         },
         "mode": "lines",
         "type": "scatter",
         "x": [
          3,
          3.5,
          null
         ],
         "y": [
          2.598076211353316,
          3.4641016151377544,
          null
         ]
        },
        {
         "hoverinfo": "none",
         "line": {
          "color": "#c762d4",
          "width": 5
         },
         "mode": "lines",
         "type": "scatter",
         "x": [
          3.5,
          3,
          null
         ],
         "y": [
          3.4641016151377544,
          4.330127018922193,
          null
         ]
        },
        {
         "hoverinfo": "none",
         "line": {
          "color": "#c762d4",
          "width": 5
         },
         "mode": "lines",
         "type": "scatter",
         "x": [
          3.5,
          4.5,
          null
         ],
         "y": [
          3.4641016151377544,
          3.4641016151377544,
          null
         ]
        },
        {
         "hoverinfo": "none",
         "line": {
          "color": "#c762d4",
          "width": 5
         },
         "mode": "lines",
         "type": "scatter",
         "x": [
          3,
          3.5,
          null
         ],
         "y": [
          4.330127018922193,
          5.196152422706632,
          null
         ]
        },
        {
         "hoverinfo": "none",
         "line": {
          "color": "#c762d4",
          "width": 5
         },
         "mode": "lines",
         "type": "scatter",
         "x": [
          3.5,
          3,
          null
         ],
         "y": [
          5.196152422706632,
          6.06217782649107,
          null
         ]
        },
        {
         "hoverinfo": "none",
         "line": {
          "color": "#c762d4",
          "width": 5
         },
         "mode": "lines",
         "type": "scatter",
         "x": [
          3.5,
          4.5,
          null
         ],
         "y": [
          5.196152422706632,
          5.196152422706632,
          null
         ]
        },
        {
         "hoverinfo": "none",
         "line": {
          "color": "#c762d4",
          "width": 5
         },
         "mode": "lines",
         "type": "scatter",
         "x": [
          3,
          3.5,
          null
         ],
         "y": [
          6.06217782649107,
          6.928203230275509,
          null
         ]
        },
        {
         "hoverinfo": "none",
         "line": {
          "color": "#c762d4",
          "width": 5
         },
         "mode": "lines",
         "type": "scatter",
         "x": [
          3.5,
          3,
          null
         ],
         "y": [
          6.928203230275509,
          7.794228634059947,
          null
         ]
        },
        {
         "hoverinfo": "none",
         "line": {
          "color": "#c762d4",
          "width": 5
         },
         "mode": "lines",
         "type": "scatter",
         "x": [
          3.5,
          4.5,
          null
         ],
         "y": [
          6.928203230275509,
          6.928203230275509,
          null
         ]
        },
        {
         "hoverinfo": "none",
         "line": {
          "color": "#c762d4",
          "width": 5
         },
         "mode": "lines",
         "type": "scatter",
         "x": [
          3,
          3.5,
          null
         ],
         "y": [
          7.794228634059947,
          8.660254037844386,
          null
         ]
        },
        {
         "hoverinfo": "none",
         "line": {
          "color": "#c762d4",
          "width": 5
         },
         "mode": "lines",
         "type": "scatter",
         "x": [
          3.5,
          3,
          null
         ],
         "y": [
          8.660254037844386,
          9.526279441628825,
          null
         ]
        },
        {
         "hoverinfo": "none",
         "line": {
          "color": "#c762d4",
          "width": 5
         },
         "mode": "lines",
         "type": "scatter",
         "x": [
          3.5,
          4.5,
          null
         ],
         "y": [
          8.660254037844386,
          8.660254037844386,
          null
         ]
        },
        {
         "hoverinfo": "none",
         "line": {
          "color": "#c762d4",
          "width": 5
         },
         "mode": "lines",
         "type": "scatter",
         "x": [
          3,
          3.5,
          null
         ],
         "y": [
          9.526279441628825,
          10.392304845413264,
          null
         ]
        },
        {
         "hoverinfo": "none",
         "line": {
          "color": "#c762d4",
          "width": 5
         },
         "mode": "lines",
         "type": "scatter",
         "x": [
          3.5,
          3,
          null
         ],
         "y": [
          10.392304845413264,
          11.258330249197702,
          null
         ]
        },
        {
         "hoverinfo": "none",
         "line": {
          "color": "#c762d4",
          "width": 5
         },
         "mode": "lines",
         "type": "scatter",
         "x": [
          3.5,
          4.5,
          null
         ],
         "y": [
          10.392304845413264,
          10.392304845413264,
          null
         ]
        },
        {
         "hoverinfo": "none",
         "line": {
          "color": "#c762d4",
          "width": 5
         },
         "mode": "lines",
         "type": "scatter",
         "x": [
          3,
          3.5,
          null
         ],
         "y": [
          11.258330249197702,
          12.12435565298214,
          null
         ]
        },
        {
         "hoverinfo": "none",
         "line": {
          "color": "#c762d4",
          "width": 5
         },
         "mode": "lines",
         "type": "scatter",
         "x": [
          3.5,
          3,
          null
         ],
         "y": [
          12.12435565298214,
          12.990381056766578,
          null
         ]
        },
        {
         "hoverinfo": "none",
         "line": {
          "color": "#c762d4",
          "width": 5
         },
         "mode": "lines",
         "type": "scatter",
         "x": [
          3.5,
          4.5,
          null
         ],
         "y": [
          12.12435565298214,
          12.12435565298214,
          null
         ]
        },
        {
         "hoverinfo": "none",
         "line": {
          "color": "#c762d4",
          "width": 5
         },
         "mode": "lines",
         "type": "scatter",
         "x": [
          4.5,
          5,
          null
         ],
         "y": [
          0,
          0.8660254037844386,
          null
         ]
        },
        {
         "hoverinfo": "none",
         "line": {
          "color": "#c762d4",
          "width": 5
         },
         "mode": "lines",
         "type": "scatter",
         "x": [
          5,
          4.5,
          null
         ],
         "y": [
          0.8660254037844386,
          1.7320508075688772,
          null
         ]
        },
        {
         "hoverinfo": "none",
         "line": {
          "color": "#c762d4",
          "width": 5
         },
         "mode": "lines",
         "type": "scatter",
         "x": [
          5,
          6,
          null
         ],
         "y": [
          0.8660254037844386,
          0.8660254037844386,
          null
         ]
        },
        {
         "hoverinfo": "none",
         "line": {
          "color": "#c762d4",
          "width": 5
         },
         "mode": "lines",
         "type": "scatter",
         "x": [
          4.5,
          5,
          null
         ],
         "y": [
          1.7320508075688772,
          2.598076211353316,
          null
         ]
        },
        {
         "hoverinfo": "none",
         "line": {
          "color": "#c762d4",
          "width": 5
         },
         "mode": "lines",
         "type": "scatter",
         "x": [
          5,
          4.5,
          null
         ],
         "y": [
          2.598076211353316,
          3.4641016151377544,
          null
         ]
        },
        {
         "hoverinfo": "none",
         "line": {
          "color": "#c762d4",
          "width": 5
         },
         "mode": "lines",
         "type": "scatter",
         "x": [
          5,
          6,
          null
         ],
         "y": [
          2.598076211353316,
          2.598076211353316,
          null
         ]
        },
        {
         "hoverinfo": "none",
         "line": {
          "color": "#c762d4",
          "width": 5
         },
         "mode": "lines",
         "type": "scatter",
         "x": [
          4.5,
          5,
          null
         ],
         "y": [
          3.4641016151377544,
          4.330127018922193,
          null
         ]
        },
        {
         "hoverinfo": "none",
         "line": {
          "color": "#c762d4",
          "width": 5
         },
         "mode": "lines",
         "type": "scatter",
         "x": [
          5,
          4.5,
          null
         ],
         "y": [
          4.330127018922193,
          5.196152422706632,
          null
         ]
        },
        {
         "hoverinfo": "none",
         "line": {
          "color": "#c762d4",
          "width": 5
         },
         "mode": "lines",
         "type": "scatter",
         "x": [
          5,
          6,
          null
         ],
         "y": [
          4.330127018922193,
          4.330127018922193,
          null
         ]
        },
        {
         "hoverinfo": "none",
         "line": {
          "color": "#c762d4",
          "width": 5
         },
         "mode": "lines",
         "type": "scatter",
         "x": [
          4.5,
          5,
          null
         ],
         "y": [
          5.196152422706632,
          6.06217782649107,
          null
         ]
        },
        {
         "hoverinfo": "none",
         "line": {
          "color": "#c762d4",
          "width": 5
         },
         "mode": "lines",
         "type": "scatter",
         "x": [
          5,
          4.5,
          null
         ],
         "y": [
          6.06217782649107,
          6.928203230275509,
          null
         ]
        },
        {
         "hoverinfo": "none",
         "line": {
          "color": "#c762d4",
          "width": 5
         },
         "mode": "lines",
         "type": "scatter",
         "x": [
          5,
          6,
          null
         ],
         "y": [
          6.06217782649107,
          6.06217782649107,
          null
         ]
        },
        {
         "hoverinfo": "none",
         "line": {
          "color": "#c762d4",
          "width": 5
         },
         "mode": "lines",
         "type": "scatter",
         "x": [
          4.5,
          5,
          null
         ],
         "y": [
          6.928203230275509,
          7.794228634059947,
          null
         ]
        },
        {
         "hoverinfo": "none",
         "line": {
          "color": "#c762d4",
          "width": 5
         },
         "mode": "lines",
         "type": "scatter",
         "x": [
          5,
          4.5,
          null
         ],
         "y": [
          7.794228634059947,
          8.660254037844386,
          null
         ]
        },
        {
         "hoverinfo": "none",
         "line": {
          "color": "#c762d4",
          "width": 5
         },
         "mode": "lines",
         "type": "scatter",
         "x": [
          5,
          6,
          null
         ],
         "y": [
          7.794228634059947,
          7.794228634059947,
          null
         ]
        },
        {
         "hoverinfo": "none",
         "line": {
          "color": "#c762d4",
          "width": 5
         },
         "mode": "lines",
         "type": "scatter",
         "x": [
          4.5,
          5,
          null
         ],
         "y": [
          8.660254037844386,
          9.526279441628825,
          null
         ]
        },
        {
         "hoverinfo": "none",
         "line": {
          "color": "#c762d4",
          "width": 5
         },
         "mode": "lines",
         "type": "scatter",
         "x": [
          5,
          4.5,
          null
         ],
         "y": [
          9.526279441628825,
          10.392304845413264,
          null
         ]
        },
        {
         "hoverinfo": "none",
         "line": {
          "color": "#c762d4",
          "width": 5
         },
         "mode": "lines",
         "type": "scatter",
         "x": [
          5,
          6,
          null
         ],
         "y": [
          9.526279441628825,
          9.526279441628825,
          null
         ]
        },
        {
         "hoverinfo": "none",
         "line": {
          "color": "#c762d4",
          "width": 5
         },
         "mode": "lines",
         "type": "scatter",
         "x": [
          4.5,
          5,
          null
         ],
         "y": [
          10.392304845413264,
          11.258330249197702,
          null
         ]
        },
        {
         "hoverinfo": "none",
         "line": {
          "color": "#c762d4",
          "width": 5
         },
         "mode": "lines",
         "type": "scatter",
         "x": [
          5,
          4.5,
          null
         ],
         "y": [
          11.258330249197702,
          12.12435565298214,
          null
         ]
        },
        {
         "hoverinfo": "none",
         "line": {
          "color": "#c762d4",
          "width": 5
         },
         "mode": "lines",
         "type": "scatter",
         "x": [
          5,
          6,
          null
         ],
         "y": [
          11.258330249197702,
          11.258330249197702,
          null
         ]
        },
        {
         "hoverinfo": "none",
         "line": {
          "color": "#c762d4",
          "width": 5
         },
         "mode": "lines",
         "type": "scatter",
         "x": [
          4.5,
          5,
          null
         ],
         "y": [
          12.12435565298214,
          12.990381056766578,
          null
         ]
        },
        {
         "hoverinfo": "none",
         "line": {
          "color": "#c762d4",
          "width": 5
         },
         "mode": "lines",
         "type": "scatter",
         "x": [
          5,
          6,
          null
         ],
         "y": [
          12.990381056766578,
          12.990381056766578,
          null
         ]
        },
        {
         "hoverinfo": "none",
         "line": {
          "color": "#c762d4",
          "width": 5
         },
         "mode": "lines",
         "type": "scatter",
         "x": [
          6.5,
          6,
          null
         ],
         "y": [
          0,
          0.8660254037844386,
          null
         ]
        },
        {
         "hoverinfo": "none",
         "line": {
          "color": "#c762d4",
          "width": 5
         },
         "mode": "lines",
         "type": "scatter",
         "x": [
          6.5,
          7.5,
          null
         ],
         "y": [
          0,
          0,
          null
         ]
        },
        {
         "hoverinfo": "none",
         "line": {
          "color": "#c762d4",
          "width": 5
         },
         "mode": "lines",
         "type": "scatter",
         "x": [
          6,
          6.5,
          null
         ],
         "y": [
          0.8660254037844386,
          1.7320508075688772,
          null
         ]
        },
        {
         "hoverinfo": "none",
         "line": {
          "color": "#c762d4",
          "width": 5
         },
         "mode": "lines",
         "type": "scatter",
         "x": [
          6.5,
          6,
          null
         ],
         "y": [
          1.7320508075688772,
          2.598076211353316,
          null
         ]
        },
        {
         "hoverinfo": "none",
         "line": {
          "color": "#c762d4",
          "width": 5
         },
         "mode": "lines",
         "type": "scatter",
         "x": [
          6.5,
          7.5,
          null
         ],
         "y": [
          1.7320508075688772,
          1.7320508075688772,
          null
         ]
        },
        {
         "hoverinfo": "none",
         "line": {
          "color": "#c762d4",
          "width": 5
         },
         "mode": "lines",
         "type": "scatter",
         "x": [
          6,
          6.5,
          null
         ],
         "y": [
          2.598076211353316,
          3.4641016151377544,
          null
         ]
        },
        {
         "hoverinfo": "none",
         "line": {
          "color": "#c762d4",
          "width": 5
         },
         "mode": "lines",
         "type": "scatter",
         "x": [
          6.5,
          6,
          null
         ],
         "y": [
          3.4641016151377544,
          4.330127018922193,
          null
         ]
        },
        {
         "hoverinfo": "none",
         "line": {
          "color": "#c762d4",
          "width": 5
         },
         "mode": "lines",
         "type": "scatter",
         "x": [
          6.5,
          7.5,
          null
         ],
         "y": [
          3.4641016151377544,
          3.4641016151377544,
          null
         ]
        },
        {
         "hoverinfo": "none",
         "line": {
          "color": "#c762d4",
          "width": 5
         },
         "mode": "lines",
         "type": "scatter",
         "x": [
          6,
          6.5,
          null
         ],
         "y": [
          4.330127018922193,
          5.196152422706632,
          null
         ]
        },
        {
         "hoverinfo": "none",
         "line": {
          "color": "#c762d4",
          "width": 5
         },
         "mode": "lines",
         "type": "scatter",
         "x": [
          6.5,
          6,
          null
         ],
         "y": [
          5.196152422706632,
          6.06217782649107,
          null
         ]
        },
        {
         "hoverinfo": "none",
         "line": {
          "color": "#c762d4",
          "width": 5
         },
         "mode": "lines",
         "type": "scatter",
         "x": [
          6.5,
          7.5,
          null
         ],
         "y": [
          5.196152422706632,
          5.196152422706632,
          null
         ]
        },
        {
         "hoverinfo": "none",
         "line": {
          "color": "#c762d4",
          "width": 5
         },
         "mode": "lines",
         "type": "scatter",
         "x": [
          6,
          6.5,
          null
         ],
         "y": [
          6.06217782649107,
          6.928203230275509,
          null
         ]
        },
        {
         "hoverinfo": "none",
         "line": {
          "color": "#c762d4",
          "width": 5
         },
         "mode": "lines",
         "type": "scatter",
         "x": [
          6.5,
          6,
          null
         ],
         "y": [
          6.928203230275509,
          7.794228634059947,
          null
         ]
        },
        {
         "hoverinfo": "none",
         "line": {
          "color": "#c762d4",
          "width": 5
         },
         "mode": "lines",
         "type": "scatter",
         "x": [
          6.5,
          7.5,
          null
         ],
         "y": [
          6.928203230275509,
          6.928203230275509,
          null
         ]
        },
        {
         "hoverinfo": "none",
         "line": {
          "color": "#c762d4",
          "width": 5
         },
         "mode": "lines",
         "type": "scatter",
         "x": [
          6,
          6.5,
          null
         ],
         "y": [
          7.794228634059947,
          8.660254037844386,
          null
         ]
        },
        {
         "hoverinfo": "none",
         "line": {
          "color": "#c762d4",
          "width": 5
         },
         "mode": "lines",
         "type": "scatter",
         "x": [
          6.5,
          6,
          null
         ],
         "y": [
          8.660254037844386,
          9.526279441628825,
          null
         ]
        },
        {
         "hoverinfo": "none",
         "line": {
          "color": "#c762d4",
          "width": 5
         },
         "mode": "lines",
         "type": "scatter",
         "x": [
          6.5,
          7.5,
          null
         ],
         "y": [
          8.660254037844386,
          8.660254037844386,
          null
         ]
        },
        {
         "hoverinfo": "none",
         "line": {
          "color": "#c762d4",
          "width": 5
         },
         "mode": "lines",
         "type": "scatter",
         "x": [
          6,
          6.5,
          null
         ],
         "y": [
          9.526279441628825,
          10.392304845413264,
          null
         ]
        },
        {
         "hoverinfo": "none",
         "line": {
          "color": "#c762d4",
          "width": 5
         },
         "mode": "lines",
         "type": "scatter",
         "x": [
          6.5,
          6,
          null
         ],
         "y": [
          10.392304845413264,
          11.258330249197702,
          null
         ]
        },
        {
         "hoverinfo": "none",
         "line": {
          "color": "#c762d4",
          "width": 5
         },
         "mode": "lines",
         "type": "scatter",
         "x": [
          6.5,
          7.5,
          null
         ],
         "y": [
          10.392304845413264,
          10.392304845413264,
          null
         ]
        },
        {
         "hoverinfo": "none",
         "line": {
          "color": "#c762d4",
          "width": 5
         },
         "mode": "lines",
         "type": "scatter",
         "x": [
          6,
          6.5,
          null
         ],
         "y": [
          11.258330249197702,
          12.12435565298214,
          null
         ]
        },
        {
         "hoverinfo": "none",
         "line": {
          "color": "#c762d4",
          "width": 5
         },
         "mode": "lines",
         "type": "scatter",
         "x": [
          6.5,
          6,
          null
         ],
         "y": [
          12.12435565298214,
          12.990381056766578,
          null
         ]
        },
        {
         "hoverinfo": "none",
         "line": {
          "color": "#c762d4",
          "width": 5
         },
         "mode": "lines",
         "type": "scatter",
         "x": [
          6.5,
          7.5,
          null
         ],
         "y": [
          12.12435565298214,
          12.12435565298214,
          null
         ]
        },
        {
         "hoverinfo": "none",
         "line": {
          "color": "#c762d4",
          "width": 5
         },
         "mode": "lines",
         "type": "scatter",
         "x": [
          7.5,
          8,
          null
         ],
         "y": [
          0,
          0.8660254037844386,
          null
         ]
        },
        {
         "hoverinfo": "none",
         "line": {
          "color": "#c762d4",
          "width": 5
         },
         "mode": "lines",
         "type": "scatter",
         "x": [
          8,
          7.5,
          null
         ],
         "y": [
          0.8660254037844386,
          1.7320508075688772,
          null
         ]
        },
        {
         "hoverinfo": "none",
         "line": {
          "color": "#c762d4",
          "width": 5
         },
         "mode": "lines",
         "type": "scatter",
         "x": [
          8,
          9,
          null
         ],
         "y": [
          0.8660254037844386,
          0.8660254037844386,
          null
         ]
        },
        {
         "hoverinfo": "none",
         "line": {
          "color": "#c762d4",
          "width": 5
         },
         "mode": "lines",
         "type": "scatter",
         "x": [
          7.5,
          8,
          null
         ],
         "y": [
          1.7320508075688772,
          2.598076211353316,
          null
         ]
        },
        {
         "hoverinfo": "none",
         "line": {
          "color": "#c762d4",
          "width": 5
         },
         "mode": "lines",
         "type": "scatter",
         "x": [
          8,
          7.5,
          null
         ],
         "y": [
          2.598076211353316,
          3.4641016151377544,
          null
         ]
        },
        {
         "hoverinfo": "none",
         "line": {
          "color": "#c762d4",
          "width": 5
         },
         "mode": "lines",
         "type": "scatter",
         "x": [
          8,
          9,
          null
         ],
         "y": [
          2.598076211353316,
          2.598076211353316,
          null
         ]
        },
        {
         "hoverinfo": "none",
         "line": {
          "color": "#c762d4",
          "width": 5
         },
         "mode": "lines",
         "type": "scatter",
         "x": [
          7.5,
          8,
          null
         ],
         "y": [
          3.4641016151377544,
          4.330127018922193,
          null
         ]
        },
        {
         "hoverinfo": "none",
         "line": {
          "color": "#c762d4",
          "width": 5
         },
         "mode": "lines",
         "type": "scatter",
         "x": [
          8,
          7.5,
          null
         ],
         "y": [
          4.330127018922193,
          5.196152422706632,
          null
         ]
        },
        {
         "hoverinfo": "none",
         "line": {
          "color": "#c762d4",
          "width": 5
         },
         "mode": "lines",
         "type": "scatter",
         "x": [
          8,
          9,
          null
         ],
         "y": [
          4.330127018922193,
          4.330127018922193,
          null
         ]
        },
        {
         "hoverinfo": "none",
         "line": {
          "color": "#c762d4",
          "width": 5
         },
         "mode": "lines",
         "type": "scatter",
         "x": [
          7.5,
          8,
          null
         ],
         "y": [
          5.196152422706632,
          6.06217782649107,
          null
         ]
        },
        {
         "hoverinfo": "none",
         "line": {
          "color": "#c762d4",
          "width": 5
         },
         "mode": "lines",
         "type": "scatter",
         "x": [
          8,
          7.5,
          null
         ],
         "y": [
          6.06217782649107,
          6.928203230275509,
          null
         ]
        },
        {
         "hoverinfo": "none",
         "line": {
          "color": "#c762d4",
          "width": 5
         },
         "mode": "lines",
         "type": "scatter",
         "x": [
          8,
          9,
          null
         ],
         "y": [
          6.06217782649107,
          6.06217782649107,
          null
         ]
        },
        {
         "hoverinfo": "none",
         "line": {
          "color": "#c762d4",
          "width": 5
         },
         "mode": "lines",
         "type": "scatter",
         "x": [
          7.5,
          8,
          null
         ],
         "y": [
          6.928203230275509,
          7.794228634059947,
          null
         ]
        },
        {
         "hoverinfo": "none",
         "line": {
          "color": "#c762d4",
          "width": 5
         },
         "mode": "lines",
         "type": "scatter",
         "x": [
          8,
          7.5,
          null
         ],
         "y": [
          7.794228634059947,
          8.660254037844386,
          null
         ]
        },
        {
         "hoverinfo": "none",
         "line": {
          "color": "#c762d4",
          "width": 5
         },
         "mode": "lines",
         "type": "scatter",
         "x": [
          8,
          9,
          null
         ],
         "y": [
          7.794228634059947,
          7.794228634059947,
          null
         ]
        },
        {
         "hoverinfo": "none",
         "line": {
          "color": "#c762d4",
          "width": 5
         },
         "mode": "lines",
         "type": "scatter",
         "x": [
          7.5,
          8,
          null
         ],
         "y": [
          8.660254037844386,
          9.526279441628825,
          null
         ]
        },
        {
         "hoverinfo": "none",
         "line": {
          "color": "#c762d4",
          "width": 5
         },
         "mode": "lines",
         "type": "scatter",
         "x": [
          8,
          7.5,
          null
         ],
         "y": [
          9.526279441628825,
          10.392304845413264,
          null
         ]
        },
        {
         "hoverinfo": "none",
         "line": {
          "color": "#c762d4",
          "width": 5
         },
         "mode": "lines",
         "type": "scatter",
         "x": [
          8,
          9,
          null
         ],
         "y": [
          9.526279441628825,
          9.526279441628825,
          null
         ]
        },
        {
         "hoverinfo": "none",
         "line": {
          "color": "#c762d4",
          "width": 5
         },
         "mode": "lines",
         "type": "scatter",
         "x": [
          7.5,
          8,
          null
         ],
         "y": [
          10.392304845413264,
          11.258330249197702,
          null
         ]
        },
        {
         "hoverinfo": "none",
         "line": {
          "color": "#c762d4",
          "width": 5
         },
         "mode": "lines",
         "type": "scatter",
         "x": [
          8,
          7.5,
          null
         ],
         "y": [
          11.258330249197702,
          12.12435565298214,
          null
         ]
        },
        {
         "hoverinfo": "none",
         "line": {
          "color": "#c762d4",
          "width": 5
         },
         "mode": "lines",
         "type": "scatter",
         "x": [
          8,
          9,
          null
         ],
         "y": [
          11.258330249197702,
          11.258330249197702,
          null
         ]
        },
        {
         "hoverinfo": "none",
         "line": {
          "color": "#c762d4",
          "width": 5
         },
         "mode": "lines",
         "type": "scatter",
         "x": [
          7.5,
          8,
          null
         ],
         "y": [
          12.12435565298214,
          12.990381056766578,
          null
         ]
        },
        {
         "hoverinfo": "none",
         "line": {
          "color": "#c762d4",
          "width": 5
         },
         "mode": "lines",
         "type": "scatter",
         "x": [
          8,
          9,
          null
         ],
         "y": [
          12.990381056766578,
          12.990381056766578,
          null
         ]
        },
        {
         "hoverinfo": "none",
         "line": {
          "color": "#c762d4",
          "width": 5
         },
         "mode": "lines",
         "type": "scatter",
         "x": [
          9,
          9.5,
          null
         ],
         "y": [
          0.8660254037844386,
          1.7320508075688772,
          null
         ]
        },
        {
         "hoverinfo": "none",
         "line": {
          "color": "#c762d4",
          "width": 5
         },
         "mode": "lines",
         "type": "scatter",
         "x": [
          9.5,
          9,
          null
         ],
         "y": [
          1.7320508075688772,
          2.598076211353316,
          null
         ]
        },
        {
         "hoverinfo": "none",
         "line": {
          "color": "#c762d4",
          "width": 5
         },
         "mode": "lines",
         "type": "scatter",
         "x": [
          9,
          9.5,
          null
         ],
         "y": [
          2.598076211353316,
          3.4641016151377544,
          null
         ]
        },
        {
         "hoverinfo": "none",
         "line": {
          "color": "#c762d4",
          "width": 5
         },
         "mode": "lines",
         "type": "scatter",
         "x": [
          9.5,
          9,
          null
         ],
         "y": [
          3.4641016151377544,
          4.330127018922193,
          null
         ]
        },
        {
         "hoverinfo": "none",
         "line": {
          "color": "#c762d4",
          "width": 5
         },
         "mode": "lines",
         "type": "scatter",
         "x": [
          9,
          9.5,
          null
         ],
         "y": [
          4.330127018922193,
          5.196152422706632,
          null
         ]
        },
        {
         "hoverinfo": "none",
         "line": {
          "color": "#c762d4",
          "width": 5
         },
         "mode": "lines",
         "type": "scatter",
         "x": [
          9.5,
          9,
          null
         ],
         "y": [
          5.196152422706632,
          6.06217782649107,
          null
         ]
        },
        {
         "hoverinfo": "none",
         "line": {
          "color": "#c762d4",
          "width": 5
         },
         "mode": "lines",
         "type": "scatter",
         "x": [
          9,
          9.5,
          null
         ],
         "y": [
          6.06217782649107,
          6.928203230275509,
          null
         ]
        },
        {
         "hoverinfo": "none",
         "line": {
          "color": "#c762d4",
          "width": 5
         },
         "mode": "lines",
         "type": "scatter",
         "x": [
          9.5,
          9,
          null
         ],
         "y": [
          6.928203230275509,
          7.794228634059947,
          null
         ]
        },
        {
         "hoverinfo": "none",
         "line": {
          "color": "#c762d4",
          "width": 5
         },
         "mode": "lines",
         "type": "scatter",
         "x": [
          9,
          9.5,
          null
         ],
         "y": [
          7.794228634059947,
          8.660254037844386,
          null
         ]
        },
        {
         "hoverinfo": "none",
         "line": {
          "color": "#c762d4",
          "width": 5
         },
         "mode": "lines",
         "type": "scatter",
         "x": [
          9.5,
          9,
          null
         ],
         "y": [
          8.660254037844386,
          9.526279441628825,
          null
         ]
        },
        {
         "hoverinfo": "none",
         "line": {
          "color": "#c762d4",
          "width": 5
         },
         "mode": "lines",
         "type": "scatter",
         "x": [
          9,
          9.5,
          null
         ],
         "y": [
          9.526279441628825,
          10.392304845413264,
          null
         ]
        },
        {
         "hoverinfo": "none",
         "line": {
          "color": "#c762d4",
          "width": 5
         },
         "mode": "lines",
         "type": "scatter",
         "x": [
          9.5,
          9,
          null
         ],
         "y": [
          10.392304845413264,
          11.258330249197702,
          null
         ]
        },
        {
         "hoverinfo": "none",
         "line": {
          "color": "#c762d4",
          "width": 5
         },
         "mode": "lines",
         "type": "scatter",
         "x": [
          9,
          9.5,
          null
         ],
         "y": [
          11.258330249197702,
          12.12435565298214,
          null
         ]
        },
        {
         "hoverinfo": "none",
         "line": {
          "color": "#c762d4",
          "width": 5
         },
         "mode": "lines",
         "type": "scatter",
         "x": [
          9.5,
          9,
          null
         ],
         "y": [
          12.12435565298214,
          12.990381056766578,
          null
         ]
        },
        {
         "hoverinfo": "text",
         "marker": {
          "color": "#c762d4",
          "opacity": 0
         },
         "mode": "markers",
         "text": [
          "label: (0, 1)<br>conductivity: 0.5618994323594243<br>flow_rate: 0.0<br>",
          "label: (0, 15)<br>conductivity: 0.8343569309956945<br>flow_rate: 0.0<br>",
          "label: (1, 2)<br>conductivity: 0.6811656490461058<br>flow_rate: 0.0<br>",
          "label: (2, 3)<br>conductivity: 0.9592645070260983<br>flow_rate: 0.0<br>",
          "label: (2, 17)<br>conductivity: 0.7168915166154671<br>flow_rate: 0.0<br>",
          "label: (3, 4)<br>conductivity: 0.6874630119303218<br>flow_rate: 0.0<br>",
          "label: (4, 5)<br>conductivity: 0.9420842856004411<br>flow_rate: 0.0<br>",
          "label: (4, 19)<br>conductivity: 0.6135298341524575<br>flow_rate: 0.0<br>",
          "label: (5, 6)<br>conductivity: 0.8732875291193917<br>flow_rate: 0.0<br>",
          "label: (6, 7)<br>conductivity: 0.9224420616000886<br>flow_rate: 0.0<br>",
          "label: (6, 21)<br>conductivity: 0.7919857504213655<br>flow_rate: 0.0<br>",
          "label: (7, 8)<br>conductivity: 0.5336082156111601<br>flow_rate: 0.0<br>",
          "label: (8, 9)<br>conductivity: 0.6203849041350293<br>flow_rate: 0.0<br>",
          "label: (8, 23)<br>conductivity: 0.7684732892422071<br>flow_rate: 0.0<br>",
          "label: (9, 10)<br>conductivity: 0.5769813937767279<br>flow_rate: 0.0<br>",
          "label: (10, 11)<br>conductivity: 0.6825922713721293<br>flow_rate: 0.0<br>",
          "label: (10, 25)<br>conductivity: 0.5286048555231516<br>flow_rate: 0.0<br>",
          "label: (11, 12)<br>conductivity: 0.7864512203597501<br>flow_rate: 0.0<br>",
          "label: (12, 13)<br>conductivity: 0.6542299845386835<br>flow_rate: 0.0<br>",
          "label: (12, 27)<br>conductivity: 0.960849375414604<br>flow_rate: 0.0<br>",
          "label: (13, 14)<br>conductivity: 0.5616823769471788<br>flow_rate: 0.0<br>",
          "label: (14, 29)<br>conductivity: 0.5544077549972688<br>flow_rate: 0.0<br>",
          "label: (15, 16)<br>conductivity: 0.9320608869791536<br>flow_rate: 0.0<br>",
          "label: (16, 17)<br>conductivity: 0.652534863777452<br>flow_rate: 0.0<br>",
          "label: (16, 32)<br>conductivity: 0.7204293158429245<br>flow_rate: 0.0<br>",
          "label: (17, 18)<br>conductivity: 0.5677632853981253<br>flow_rate: 0.0<br>",
          "label: (18, 19)<br>conductivity: 0.6986649477364837<br>flow_rate: 0.0<br>",
          "label: (18, 34)<br>conductivity: 0.893407221805431<br>flow_rate: 0.0<br>",
          "label: (19, 20)<br>conductivity: 0.607059930543099<br>flow_rate: 0.0<br>",
          "label: (20, 21)<br>conductivity: 0.572261540774396<br>flow_rate: 0.0<br>",
          "label: (20, 36)<br>conductivity: 0.7448755817981578<br>flow_rate: 0.0<br>",
          "label: (21, 22)<br>conductivity: 0.9883758640997817<br>flow_rate: 0.0<br>",
          "label: (22, 23)<br>conductivity: 0.7692209773347365<br>flow_rate: 0.0<br>",
          "label: (22, 38)<br>conductivity: 0.8026552587746851<br>flow_rate: 0.0<br>",
          "label: (23, 24)<br>conductivity: 0.5784593774759441<br>flow_rate: 0.0<br>",
          "label: (24, 25)<br>conductivity: 0.9093874016110046<br>flow_rate: 0.0<br>",
          "label: (24, 40)<br>conductivity: 0.6466521297962364<br>flow_rate: 0.0<br>",
          "label: (25, 26)<br>conductivity: 0.9094754657650188<br>flow_rate: 0.0<br>",
          "label: (26, 27)<br>conductivity: 0.8742193312229368<br>flow_rate: 0.0<br>",
          "label: (26, 42)<br>conductivity: 0.7550153387550393<br>flow_rate: 0.0<br>",
          "label: (27, 28)<br>conductivity: 0.783868870970768<br>flow_rate: 0.0<br>",
          "label: (28, 29)<br>conductivity: 0.9837344265553759<br>flow_rate: 0.0<br>",
          "label: (28, 44)<br>conductivity: 0.5627589105492541<br>flow_rate: 0.0<br>",
          "label: (29, 30)<br>conductivity: 0.940229952691519<br>flow_rate: 0.0<br>",
          "label: (30, 46)<br>conductivity: 0.5768133828207298<br>flow_rate: 0.0<br>",
          "label: (31, 32)<br>conductivity: 0.9995059990500142<br>flow_rate: 0.0<br>",
          "label: (31, 47)<br>conductivity: 0.9454319678743864<br>flow_rate: 0.0<br>",
          "label: (32, 33)<br>conductivity: 0.7762914750598492<br>flow_rate: 0.0<br>",
          "label: (33, 34)<br>conductivity: 0.8580673808081859<br>flow_rate: 0.0<br>",
          "label: (33, 49)<br>conductivity: 0.5311661814056245<br>flow_rate: 0.0<br>",
          "label: (34, 35)<br>conductivity: 0.9893207843859566<br>flow_rate: 0.0<br>",
          "label: (35, 36)<br>conductivity: 0.8163949338561609<br>flow_rate: 0.0<br>",
          "label: (35, 51)<br>conductivity: 0.7999254344685834<br>flow_rate: 0.0<br>",
          "label: (36, 37)<br>conductivity: 0.9430859326122527<br>flow_rate: 0.0<br>",
          "label: (37, 38)<br>conductivity: 0.8657046040801867<br>flow_rate: 0.0<br>",
          "label: (37, 53)<br>conductivity: 0.622992505081634<br>flow_rate: 0.0<br>",
          "label: (38, 39)<br>conductivity: 0.7088069768977148<br>flow_rate: 0.0<br>",
          "label: (39, 40)<br>conductivity: 0.7961221234705818<br>flow_rate: 0.0<br>",
          "label: (39, 55)<br>conductivity: 0.7285508136643133<br>flow_rate: 0.0<br>",
          "label: (40, 41)<br>conductivity: 0.5584819913461514<br>flow_rate: 0.0<br>",
          "label: (41, 42)<br>conductivity: 0.6554511376816836<br>flow_rate: 0.0<br>",
          "label: (41, 57)<br>conductivity: 0.6353526714010396<br>flow_rate: 0.0<br>",
          "label: (42, 43)<br>conductivity: 0.5257635564352956<br>flow_rate: 0.0<br>",
          "label: (43, 44)<br>conductivity: 0.8627888374935038<br>flow_rate: 0.0<br>",
          "label: (43, 59)<br>conductivity: 0.749844029444805<br>flow_rate: 0.0<br>",
          "label: (44, 45)<br>conductivity: 0.6809394658140915<br>flow_rate: 0.0<br>",
          "label: (45, 46)<br>conductivity: 0.9189136921209107<br>flow_rate: 0.0<br>",
          "label: (45, 61)<br>conductivity: 0.6306824945214173<br>flow_rate: 0.0<br>",
          "label: (47, 48)<br>conductivity: 0.7610745552658635<br>flow_rate: 0.0<br>",
          "label: (48, 49)<br>conductivity: 0.6020226105440363<br>flow_rate: 0.0<br>",
          "label: (48, 64)<br>conductivity: 0.9420788836859113<br>flow_rate: 0.0<br>",
          "label: (49, 50)<br>conductivity: 0.7706990860177523<br>flow_rate: 0.0<br>",
          "label: (50, 51)<br>conductivity: 0.6075079502539329<br>flow_rate: 0.0<br>",
          "label: (50, 66)<br>conductivity: 0.519543973177232<br>flow_rate: 0.0<br>",
          "label: (51, 52)<br>conductivity: 0.5418835493487302<br>flow_rate: 0.0<br>",
          "label: (52, 53)<br>conductivity: 0.9179449057267591<br>flow_rate: 0.0<br>",
          "label: (52, 68)<br>conductivity: 0.9038345388357023<br>flow_rate: 0.0<br>",
          "label: (53, 54)<br>conductivity: 0.633356574478439<br>flow_rate: 0.0<br>",
          "label: (54, 55)<br>conductivity: 0.7073791237505074<br>flow_rate: 0.0<br>",
          "label: (54, 70)<br>conductivity: 0.5353696623627886<br>flow_rate: 0.0<br>",
          "label: (55, 56)<br>conductivity: 0.7266663630442558<br>flow_rate: 0.0<br>",
          "label: (56, 57)<br>conductivity: 0.5408321198391908<br>flow_rate: 0.0<br>",
          "label: (56, 72)<br>conductivity: 0.7566606588064457<br>flow_rate: 0.0<br>",
          "label: (57, 58)<br>conductivity: 0.8092856435722423<br>flow_rate: 0.0<br>",
          "label: (58, 59)<br>conductivity: 0.7176286907196014<br>flow_rate: 0.0<br>",
          "label: (58, 74)<br>conductivity: 0.6670815185210881<br>flow_rate: 0.0<br>",
          "label: (59, 60)<br>conductivity: 0.6727364147668766<br>flow_rate: 0.0<br>",
          "label: (60, 61)<br>conductivity: 0.6092074336799478<br>flow_rate: 0.0<br>",
          "label: (60, 76)<br>conductivity: 0.9390781607767336<br>flow_rate: 0.0<br>",
          "label: (61, 62)<br>conductivity: 0.9129418887061158<br>flow_rate: 0.0<br>",
          "label: (62, 78)<br>conductivity: 0.740517116637206<br>flow_rate: 0.0<br>",
          "label: (63, 64)<br>conductivity: 0.9914494829695897<br>flow_rate: 0.0<br>",
          "label: (63, 79)<br>conductivity: 0.8693329381838897<br>flow_rate: 0.0<br>",
          "label: (64, 65)<br>conductivity: 0.7820479589581232<br>flow_rate: 0.0<br>",
          "label: (65, 66)<br>conductivity: 0.8747886483534031<br>flow_rate: 0.0<br>",
          "label: (65, 81)<br>conductivity: 0.8850092501202468<br>flow_rate: 0.0<br>",
          "label: (66, 67)<br>conductivity: 0.8763605085620936<br>flow_rate: 0.0<br>",
          "label: (67, 68)<br>conductivity: 0.7617151662324101<br>flow_rate: 0.0<br>",
          "label: (67, 83)<br>conductivity: 0.920908042684055<br>flow_rate: 0.0<br>",
          "label: (68, 69)<br>conductivity: 0.8503865191238242<br>flow_rate: 0.0<br>",
          "label: (69, 70)<br>conductivity: 0.9398519785963755<br>flow_rate: 0.0<br>",
          "label: (69, 85)<br>conductivity: 0.8117303154051814<br>flow_rate: 0.0<br>",
          "label: (70, 71)<br>conductivity: 0.9769609088597457<br>flow_rate: 0.0<br>",
          "label: (71, 72)<br>conductivity: 0.9191337106872723<br>flow_rate: 0.0<br>",
          "label: (71, 87)<br>conductivity: 0.532814945461394<br>flow_rate: 0.0<br>",
          "label: (72, 73)<br>conductivity: 0.5351792878435531<br>flow_rate: 0.0<br>",
          "label: (73, 74)<br>conductivity: 0.900059956487125<br>flow_rate: 0.0<br>",
          "label: (73, 89)<br>conductivity: 0.6143572642505242<br>flow_rate: 0.0<br>",
          "label: (74, 75)<br>conductivity: 0.6497614256933646<br>flow_rate: 0.0<br>",
          "label: (75, 76)<br>conductivity: 0.7925919121639124<br>flow_rate: 0.0<br>",
          "label: (75, 91)<br>conductivity: 0.6439924120707499<br>flow_rate: 0.0<br>",
          "label: (76, 77)<br>conductivity: 0.671540079440661<br>flow_rate: 0.0<br>",
          "label: (77, 78)<br>conductivity: 0.6047992085302104<br>flow_rate: 0.0<br>",
          "label: (77, 93)<br>conductivity: 0.5594143195677873<br>flow_rate: 0.0<br>",
          "label: (79, 80)<br>conductivity: 0.9241047885395118<br>flow_rate: 0.0<br>",
          "label: (80, 81)<br>conductivity: 0.8819137964934056<br>flow_rate: 0.0<br>",
          "label: (80, 95)<br>conductivity: 0.5996978666388015<br>flow_rate: 0.0<br>",
          "label: (81, 82)<br>conductivity: 0.8590414531703556<br>flow_rate: 0.0<br>",
          "label: (82, 83)<br>conductivity: 0.5817390922677467<br>flow_rate: 0.0<br>",
          "label: (82, 97)<br>conductivity: 0.59075830127159<br>flow_rate: 0.0<br>",
          "label: (83, 84)<br>conductivity: 0.7954301187323857<br>flow_rate: 0.0<br>",
          "label: (84, 85)<br>conductivity: 0.6101676450449163<br>flow_rate: 0.0<br>",
          "label: (84, 99)<br>conductivity: 0.8042132579851358<br>flow_rate: 0.0<br>",
          "label: (85, 86)<br>conductivity: 0.9125136961944385<br>flow_rate: 0.0<br>",
          "label: (86, 87)<br>conductivity: 0.6509363869173399<br>flow_rate: 0.0<br>",
          "label: (86, 101)<br>conductivity: 0.7803073618826799<br>flow_rate: 0.0<br>",
          "label: (87, 88)<br>conductivity: 0.5791715419817793<br>flow_rate: 0.0<br>",
          "label: (88, 89)<br>conductivity: 0.834322449738331<br>flow_rate: 0.0<br>",
          "label: (88, 103)<br>conductivity: 0.8911300062628875<br>flow_rate: 0.0<br>",
          "label: (89, 90)<br>conductivity: 0.5288282913256603<br>flow_rate: 0.0<br>",
          "label: (90, 91)<br>conductivity: 0.5302377437955947<br>flow_rate: 0.0<br>",
          "label: (90, 105)<br>conductivity: 0.5432633274338539<br>flow_rate: 0.0<br>",
          "label: (91, 92)<br>conductivity: 0.538141129297053<br>flow_rate: 0.0<br>",
          "label: (92, 93)<br>conductivity: 0.9910621717082522<br>flow_rate: 0.0<br>",
          "label: (92, 107)<br>conductivity: 0.6008087461667029<br>flow_rate: 0.0<br>",
          "label: (93, 94)<br>conductivity: 0.6308518174315014<br>flow_rate: 0.0<br>",
          "label: (94, 109)<br>conductivity: 0.6332316847465771<br>flow_rate: 0.0<br>",
          "label: (95, 96)<br>conductivity: 0.6492552022694575<br>flow_rate: 0.0<br>",
          "label: (96, 97)<br>conductivity: 0.5450751981956958<br>flow_rate: 0.0<br>",
          "label: (97, 98)<br>conductivity: 0.8430634490387079<br>flow_rate: 0.0<br>",
          "label: (98, 99)<br>conductivity: 0.5073819259736625<br>flow_rate: 0.0<br>",
          "label: (99, 100)<br>conductivity: 0.99507019531789<br>flow_rate: 0.0<br>",
          "label: (100, 101)<br>conductivity: 0.5420748494210934<br>flow_rate: 0.0<br>",
          "label: (101, 102)<br>conductivity: 0.5952770406070662<br>flow_rate: 0.0<br>",
          "label: (102, 103)<br>conductivity: 0.7053737748798107<br>flow_rate: 0.0<br>",
          "label: (103, 104)<br>conductivity: 0.5828620084523711<br>flow_rate: 0.0<br>",
          "label: (104, 105)<br>conductivity: 0.9139847870176934<br>flow_rate: 0.0<br>",
          "label: (105, 106)<br>conductivity: 0.8745002249922582<br>flow_rate: 0.0<br>",
          "label: (106, 107)<br>conductivity: 0.5988155826368676<br>flow_rate: 0.0<br>",
          "label: (107, 108)<br>conductivity: 0.8744550689712058<br>flow_rate: 0.0<br>",
          "label: (108, 109)<br>conductivity: 0.9550073866806521<br>flow_rate: 0.0<br>"
         ],
         "type": "scatter",
         "x": [
          0.25,
          1,
          0.25,
          0.25,
          1,
          0.25,
          0.25,
          1,
          0.25,
          0.25,
          1,
          0.25,
          0.25,
          1,
          0.25,
          0.25,
          1,
          0.25,
          0.25,
          1,
          0.25,
          1,
          1.75,
          1.75,
          2.5,
          1.75,
          1.75,
          2.5,
          1.75,
          1.75,
          2.5,
          1.75,
          1.75,
          2.5,
          1.75,
          1.75,
          2.5,
          1.75,
          1.75,
          2.5,
          1.75,
          1.75,
          2.5,
          1.75,
          2.5,
          3.25,
          4,
          3.25,
          3.25,
          4,
          3.25,
          3.25,
          4,
          3.25,
          3.25,
          4,
          3.25,
          3.25,
          4,
          3.25,
          3.25,
          4,
          3.25,
          3.25,
          4,
          3.25,
          3.25,
          4,
          4.75,
          4.75,
          5.5,
          4.75,
          4.75,
          5.5,
          4.75,
          4.75,
          5.5,
          4.75,
          4.75,
          5.5,
          4.75,
          4.75,
          5.5,
          4.75,
          4.75,
          5.5,
          4.75,
          4.75,
          5.5,
          4.75,
          5.5,
          6.25,
          7,
          6.25,
          6.25,
          7,
          6.25,
          6.25,
          7,
          6.25,
          6.25,
          7,
          6.25,
          6.25,
          7,
          6.25,
          6.25,
          7,
          6.25,
          6.25,
          7,
          6.25,
          6.25,
          7,
          7.75,
          7.75,
          8.5,
          7.75,
          7.75,
          8.5,
          7.75,
          7.75,
          8.5,
          7.75,
          7.75,
          8.5,
          7.75,
          7.75,
          8.5,
          7.75,
          7.75,
          8.5,
          7.75,
          7.75,
          8.5,
          7.75,
          8.5,
          9.25,
          9.25,
          9.25,
          9.25,
          9.25,
          9.25,
          9.25,
          9.25,
          9.25,
          9.25,
          9.25,
          9.25,
          9.25,
          9.25
         ],
         "y": [
          0.4330127018922193,
          0,
          1.299038105676658,
          2.1650635094610964,
          1.7320508075688772,
          3.031088913245535,
          3.8971143170299736,
          3.4641016151377544,
          4.763139720814412,
          5.629165124598851,
          5.196152422706632,
          6.49519052838329,
          7.3612159321677275,
          6.928203230275509,
          8.227241335952167,
          9.093266739736606,
          8.660254037844386,
          9.959292143521044,
          10.825317547305483,
          10.392304845413264,
          11.691342951089922,
          12.12435565298214,
          0.4330127018922193,
          1.299038105676658,
          0.8660254037844386,
          2.1650635094610964,
          3.031088913245535,
          2.598076211353316,
          3.8971143170299736,
          4.763139720814412,
          4.330127018922193,
          5.629165124598851,
          6.49519052838329,
          6.06217782649107,
          7.3612159321677275,
          8.227241335952167,
          7.794228634059947,
          9.093266739736606,
          9.959292143521044,
          9.526279441628825,
          10.825317547305483,
          11.691342951089922,
          11.258330249197702,
          12.55736835487436,
          12.990381056766578,
          0.4330127018922193,
          0,
          1.299038105676658,
          2.1650635094610964,
          1.7320508075688772,
          3.031088913245535,
          3.8971143170299736,
          3.4641016151377544,
          4.763139720814412,
          5.629165124598851,
          5.196152422706632,
          6.49519052838329,
          7.3612159321677275,
          6.928203230275509,
          8.227241335952167,
          9.093266739736606,
          8.660254037844386,
          9.959292143521044,
          10.825317547305483,
          10.392304845413264,
          11.691342951089922,
          12.55736835487436,
          12.12435565298214,
          0.4330127018922193,
          1.299038105676658,
          0.8660254037844386,
          2.1650635094610964,
          3.031088913245535,
          2.598076211353316,
          3.8971143170299736,
          4.763139720814412,
          4.330127018922193,
          5.629165124598851,
          6.49519052838329,
          6.06217782649107,
          7.3612159321677275,
          8.227241335952167,
          7.794228634059947,
          9.093266739736606,
          9.959292143521044,
          9.526279441628825,
          10.825317547305483,
          11.691342951089922,
          11.258330249197702,
          12.55736835487436,
          12.990381056766578,
          0.4330127018922193,
          0,
          1.299038105676658,
          2.1650635094610964,
          1.7320508075688772,
          3.031088913245535,
          3.8971143170299736,
          3.4641016151377544,
          4.763139720814412,
          5.629165124598851,
          5.196152422706632,
          6.49519052838329,
          7.3612159321677275,
          6.928203230275509,
          8.227241335952167,
          9.093266739736606,
          8.660254037844386,
          9.959292143521044,
          10.825317547305483,
          10.392304845413264,
          11.691342951089922,
          12.55736835487436,
          12.12435565298214,
          0.4330127018922193,
          1.299038105676658,
          0.8660254037844386,
          2.1650635094610964,
          3.031088913245535,
          2.598076211353316,
          3.8971143170299736,
          4.763139720814412,
          4.330127018922193,
          5.629165124598851,
          6.49519052838329,
          6.06217782649107,
          7.3612159321677275,
          8.227241335952167,
          7.794228634059947,
          9.093266739736606,
          9.959292143521044,
          9.526279441628825,
          10.825317547305483,
          11.691342951089922,
          11.258330249197702,
          12.55736835487436,
          12.990381056766578,
          1.299038105676658,
          2.1650635094610964,
          3.031088913245535,
          3.8971143170299736,
          4.763139720814412,
          5.629165124598851,
          6.49519052838329,
          7.3612159321677275,
          8.227241335952167,
          9.093266739736606,
          9.959292143521044,
          10.825317547305483,
          11.691342951089922,
          12.55736835487436
         ]
        }
       ],
       "layout": {
        "showlegend": false,
        "template": {
         "data": {
          "bar": [
           {
            "error_x": {
             "color": "#2a3f5f"
            },
            "error_y": {
             "color": "#2a3f5f"
            },
            "marker": {
             "line": {
              "color": "#E5ECF6",
              "width": 0.5
             },
             "pattern": {
              "fillmode": "overlay",
              "size": 10,
              "solidity": 0.2
             }
            },
            "type": "bar"
           }
          ],
          "barpolar": [
           {
            "marker": {
             "line": {
              "color": "#E5ECF6",
              "width": 0.5
             },
             "pattern": {
              "fillmode": "overlay",
              "size": 10,
              "solidity": 0.2
             }
            },
            "type": "barpolar"
           }
          ],
          "carpet": [
           {
            "aaxis": {
             "endlinecolor": "#2a3f5f",
             "gridcolor": "white",
             "linecolor": "white",
             "minorgridcolor": "white",
             "startlinecolor": "#2a3f5f"
            },
            "baxis": {
             "endlinecolor": "#2a3f5f",
             "gridcolor": "white",
             "linecolor": "white",
             "minorgridcolor": "white",
             "startlinecolor": "#2a3f5f"
            },
            "type": "carpet"
           }
          ],
          "choropleth": [
           {
            "colorbar": {
             "outlinewidth": 0,
             "ticks": ""
            },
            "type": "choropleth"
           }
          ],
          "contour": [
           {
            "colorbar": {
             "outlinewidth": 0,
             "ticks": ""
            },
            "colorscale": [
             [
              0,
              "#0d0887"
             ],
             [
              0.1111111111111111,
              "#46039f"
             ],
             [
              0.2222222222222222,
              "#7201a8"
             ],
             [
              0.3333333333333333,
              "#9c179e"
             ],
             [
              0.4444444444444444,
              "#bd3786"
             ],
             [
              0.5555555555555556,
              "#d8576b"
             ],
             [
              0.6666666666666666,
              "#ed7953"
             ],
             [
              0.7777777777777778,
              "#fb9f3a"
             ],
             [
              0.8888888888888888,
              "#fdca26"
             ],
             [
              1,
              "#f0f921"
             ]
            ],
            "type": "contour"
           }
          ],
          "contourcarpet": [
           {
            "colorbar": {
             "outlinewidth": 0,
             "ticks": ""
            },
            "type": "contourcarpet"
           }
          ],
          "heatmap": [
           {
            "colorbar": {
             "outlinewidth": 0,
             "ticks": ""
            },
            "colorscale": [
             [
              0,
              "#0d0887"
             ],
             [
              0.1111111111111111,
              "#46039f"
             ],
             [
              0.2222222222222222,
              "#7201a8"
             ],
             [
              0.3333333333333333,
              "#9c179e"
             ],
             [
              0.4444444444444444,
              "#bd3786"
             ],
             [
              0.5555555555555556,
              "#d8576b"
             ],
             [
              0.6666666666666666,
              "#ed7953"
             ],
             [
              0.7777777777777778,
              "#fb9f3a"
             ],
             [
              0.8888888888888888,
              "#fdca26"
             ],
             [
              1,
              "#f0f921"
             ]
            ],
            "type": "heatmap"
           }
          ],
          "heatmapgl": [
           {
            "colorbar": {
             "outlinewidth": 0,
             "ticks": ""
            },
            "colorscale": [
             [
              0,
              "#0d0887"
             ],
             [
              0.1111111111111111,
              "#46039f"
             ],
             [
              0.2222222222222222,
              "#7201a8"
             ],
             [
              0.3333333333333333,
              "#9c179e"
             ],
             [
              0.4444444444444444,
              "#bd3786"
             ],
             [
              0.5555555555555556,
              "#d8576b"
             ],
             [
              0.6666666666666666,
              "#ed7953"
             ],
             [
              0.7777777777777778,
              "#fb9f3a"
             ],
             [
              0.8888888888888888,
              "#fdca26"
             ],
             [
              1,
              "#f0f921"
             ]
            ],
            "type": "heatmapgl"
           }
          ],
          "histogram": [
           {
            "marker": {
             "pattern": {
              "fillmode": "overlay",
              "size": 10,
              "solidity": 0.2
             }
            },
            "type": "histogram"
           }
          ],
          "histogram2d": [
           {
            "colorbar": {
             "outlinewidth": 0,
             "ticks": ""
            },
            "colorscale": [
             [
              0,
              "#0d0887"
             ],
             [
              0.1111111111111111,
              "#46039f"
             ],
             [
              0.2222222222222222,
              "#7201a8"
             ],
             [
              0.3333333333333333,
              "#9c179e"
             ],
             [
              0.4444444444444444,
              "#bd3786"
             ],
             [
              0.5555555555555556,
              "#d8576b"
             ],
             [
              0.6666666666666666,
              "#ed7953"
             ],
             [
              0.7777777777777778,
              "#fb9f3a"
             ],
             [
              0.8888888888888888,
              "#fdca26"
             ],
             [
              1,
              "#f0f921"
             ]
            ],
            "type": "histogram2d"
           }
          ],
          "histogram2dcontour": [
           {
            "colorbar": {
             "outlinewidth": 0,
             "ticks": ""
            },
            "colorscale": [
             [
              0,
              "#0d0887"
             ],
             [
              0.1111111111111111,
              "#46039f"
             ],
             [
              0.2222222222222222,
              "#7201a8"
             ],
             [
              0.3333333333333333,
              "#9c179e"
             ],
             [
              0.4444444444444444,
              "#bd3786"
             ],
             [
              0.5555555555555556,
              "#d8576b"
             ],
             [
              0.6666666666666666,
              "#ed7953"
             ],
             [
              0.7777777777777778,
              "#fb9f3a"
             ],
             [
              0.8888888888888888,
              "#fdca26"
             ],
             [
              1,
              "#f0f921"
             ]
            ],
            "type": "histogram2dcontour"
           }
          ],
          "mesh3d": [
           {
            "colorbar": {
             "outlinewidth": 0,
             "ticks": ""
            },
            "type": "mesh3d"
           }
          ],
          "parcoords": [
           {
            "line": {
             "colorbar": {
              "outlinewidth": 0,
              "ticks": ""
             }
            },
            "type": "parcoords"
           }
          ],
          "pie": [
           {
            "automargin": true,
            "type": "pie"
           }
          ],
          "scatter": [
           {
            "marker": {
             "colorbar": {
              "outlinewidth": 0,
              "ticks": ""
             }
            },
            "type": "scatter"
           }
          ],
          "scatter3d": [
           {
            "line": {
             "colorbar": {
              "outlinewidth": 0,
              "ticks": ""
             }
            },
            "marker": {
             "colorbar": {
              "outlinewidth": 0,
              "ticks": ""
             }
            },
            "type": "scatter3d"
           }
          ],
          "scattercarpet": [
           {
            "marker": {
             "colorbar": {
              "outlinewidth": 0,
              "ticks": ""
             }
            },
            "type": "scattercarpet"
           }
          ],
          "scattergeo": [
           {
            "marker": {
             "colorbar": {
              "outlinewidth": 0,
              "ticks": ""
             }
            },
            "type": "scattergeo"
           }
          ],
          "scattergl": [
           {
            "marker": {
             "colorbar": {
              "outlinewidth": 0,
              "ticks": ""
             }
            },
            "type": "scattergl"
           }
          ],
          "scattermapbox": [
           {
            "marker": {
             "colorbar": {
              "outlinewidth": 0,
              "ticks": ""
             }
            },
            "type": "scattermapbox"
           }
          ],
          "scatterpolar": [
           {
            "marker": {
             "colorbar": {
              "outlinewidth": 0,
              "ticks": ""
             }
            },
            "type": "scatterpolar"
           }
          ],
          "scatterpolargl": [
           {
            "marker": {
             "colorbar": {
              "outlinewidth": 0,
              "ticks": ""
             }
            },
            "type": "scatterpolargl"
           }
          ],
          "scatterternary": [
           {
            "marker": {
             "colorbar": {
              "outlinewidth": 0,
              "ticks": ""
             }
            },
            "type": "scatterternary"
           }
          ],
          "surface": [
           {
            "colorbar": {
             "outlinewidth": 0,
             "ticks": ""
            },
            "colorscale": [
             [
              0,
              "#0d0887"
             ],
             [
              0.1111111111111111,
              "#46039f"
             ],
             [
              0.2222222222222222,
              "#7201a8"
             ],
             [
              0.3333333333333333,
              "#9c179e"
             ],
             [
              0.4444444444444444,
              "#bd3786"
             ],
             [
              0.5555555555555556,
              "#d8576b"
             ],
             [
              0.6666666666666666,
              "#ed7953"
             ],
             [
              0.7777777777777778,
              "#fb9f3a"
             ],
             [
              0.8888888888888888,
              "#fdca26"
             ],
             [
              1,
              "#f0f921"
             ]
            ],
            "type": "surface"
           }
          ],
          "table": [
           {
            "cells": {
             "fill": {
              "color": "#EBF0F8"
             },
             "line": {
              "color": "white"
             }
            },
            "header": {
             "fill": {
              "color": "#C8D4E3"
             },
             "line": {
              "color": "white"
             }
            },
            "type": "table"
           }
          ]
         },
         "layout": {
          "annotationdefaults": {
           "arrowcolor": "#2a3f5f",
           "arrowhead": 0,
           "arrowwidth": 1
          },
          "autotypenumbers": "strict",
          "coloraxis": {
           "colorbar": {
            "outlinewidth": 0,
            "ticks": ""
           }
          },
          "colorscale": {
           "diverging": [
            [
             0,
             "#8e0152"
            ],
            [
             0.1,
             "#c51b7d"
            ],
            [
             0.2,
             "#de77ae"
            ],
            [
             0.3,
             "#f1b6da"
            ],
            [
             0.4,
             "#fde0ef"
            ],
            [
             0.5,
             "#f7f7f7"
            ],
            [
             0.6,
             "#e6f5d0"
            ],
            [
             0.7,
             "#b8e186"
            ],
            [
             0.8,
             "#7fbc41"
            ],
            [
             0.9,
             "#4d9221"
            ],
            [
             1,
             "#276419"
            ]
           ],
           "sequential": [
            [
             0,
             "#0d0887"
            ],
            [
             0.1111111111111111,
             "#46039f"
            ],
            [
             0.2222222222222222,
             "#7201a8"
            ],
            [
             0.3333333333333333,
             "#9c179e"
            ],
            [
             0.4444444444444444,
             "#bd3786"
            ],
            [
             0.5555555555555556,
             "#d8576b"
            ],
            [
             0.6666666666666666,
             "#ed7953"
            ],
            [
             0.7777777777777778,
             "#fb9f3a"
            ],
            [
             0.8888888888888888,
             "#fdca26"
            ],
            [
             1,
             "#f0f921"
            ]
           ],
           "sequentialminus": [
            [
             0,
             "#0d0887"
            ],
            [
             0.1111111111111111,
             "#46039f"
            ],
            [
             0.2222222222222222,
             "#7201a8"
            ],
            [
             0.3333333333333333,
             "#9c179e"
            ],
            [
             0.4444444444444444,
             "#bd3786"
            ],
            [
             0.5555555555555556,
             "#d8576b"
            ],
            [
             0.6666666666666666,
             "#ed7953"
            ],
            [
             0.7777777777777778,
             "#fb9f3a"
            ],
            [
             0.8888888888888888,
             "#fdca26"
            ],
            [
             1,
             "#f0f921"
            ]
           ]
          },
          "colorway": [
           "#636efa",
           "#EF553B",
           "#00cc96",
           "#ab63fa",
           "#FFA15A",
           "#19d3f3",
           "#FF6692",
           "#B6E880",
           "#FF97FF",
           "#FECB52"
          ],
          "font": {
           "color": "#2a3f5f"
          },
          "geo": {
           "bgcolor": "white",
           "lakecolor": "white",
           "landcolor": "#E5ECF6",
           "showlakes": true,
           "showland": true,
           "subunitcolor": "white"
          },
          "hoverlabel": {
           "align": "left"
          },
          "hovermode": "closest",
          "mapbox": {
           "style": "light"
          },
          "paper_bgcolor": "white",
          "plot_bgcolor": "#E5ECF6",
          "polar": {
           "angularaxis": {
            "gridcolor": "white",
            "linecolor": "white",
            "ticks": ""
           },
           "bgcolor": "#E5ECF6",
           "radialaxis": {
            "gridcolor": "white",
            "linecolor": "white",
            "ticks": ""
           }
          },
          "scene": {
           "xaxis": {
            "backgroundcolor": "#E5ECF6",
            "gridcolor": "white",
            "gridwidth": 2,
            "linecolor": "white",
            "showbackground": true,
            "ticks": "",
            "zerolinecolor": "white"
           },
           "yaxis": {
            "backgroundcolor": "#E5ECF6",
            "gridcolor": "white",
            "gridwidth": 2,
            "linecolor": "white",
            "showbackground": true,
            "ticks": "",
            "zerolinecolor": "white"
           },
           "zaxis": {
            "backgroundcolor": "#E5ECF6",
            "gridcolor": "white",
            "gridwidth": 2,
            "linecolor": "white",
            "showbackground": true,
            "ticks": "",
            "zerolinecolor": "white"
           }
          },
          "shapedefaults": {
           "line": {
            "color": "#2a3f5f"
           }
          },
          "ternary": {
           "aaxis": {
            "gridcolor": "white",
            "linecolor": "white",
            "ticks": ""
           },
           "baxis": {
            "gridcolor": "white",
            "linecolor": "white",
            "ticks": ""
           },
           "bgcolor": "#E5ECF6",
           "caxis": {
            "gridcolor": "white",
            "linecolor": "white",
            "ticks": ""
           }
          },
          "title": {
           "x": 0.05
          },
          "xaxis": {
           "automargin": true,
           "gridcolor": "white",
           "linecolor": "white",
           "ticks": "",
           "title": {
            "standoff": 15
           },
           "zerolinecolor": "white",
           "zerolinewidth": 2
          },
          "yaxis": {
           "automargin": true,
           "gridcolor": "white",
           "linecolor": "white",
           "ticks": "",
           "title": {
            "standoff": 15
           },
           "zerolinecolor": "white",
           "zerolinewidth": 2
          }
         }
        }
       }
      },
      "text/html": [
       "<div>                            <div id=\"d00ad913-e523-4c68-a321-9d8cd19f39a9\" class=\"plotly-graph-div\" style=\"height:525px; width:100%;\"></div>            <script type=\"text/javascript\">                require([\"plotly\"], function(Plotly) {                    window.PLOTLYENV=window.PLOTLYENV || {};                                    if (document.getElementById(\"d00ad913-e523-4c68-a321-9d8cd19f39a9\")) {                    Plotly.newPlot(                        \"d00ad913-e523-4c68-a321-9d8cd19f39a9\",                        [{\"hoverinfo\":\"text\",\"hovertext\":[\"label: 0<br>source: 0.0<br>\",\"label: 1<br>source: -1.0<br>\",\"label: 2<br>source: 0.0<br>\",\"label: 3<br>source: -1.0<br>\",\"label: 4<br>source: 0.0<br>\",\"label: 5<br>source: -1.0<br>\",\"label: 6<br>source: 0.0<br>\",\"label: 7<br>source: -1.0<br>\",\"label: 8<br>source: 0.0<br>\",\"label: 9<br>source: -1.0<br>\",\"label: 10<br>source: 0.0<br>\",\"label: 11<br>source: -1.0<br>\",\"label: 12<br>source: 0.0<br>\",\"label: 13<br>source: -1.0<br>\",\"label: 14<br>source: 0.0<br>\",\"label: 15<br>source: 0.0<br>\",\"label: 16<br>source: 0.0<br>\",\"label: 17<br>source: 0.0<br>\",\"label: 18<br>source: 0.0<br>\",\"label: 19<br>source: 0.0<br>\",\"label: 20<br>source: 0.0<br>\",\"label: 21<br>source: 0.0<br>\",\"label: 22<br>source: 0.0<br>\",\"label: 23<br>source: 0.0<br>\",\"label: 24<br>source: 0.0<br>\",\"label: 25<br>source: 0.0<br>\",\"label: 26<br>source: 0.0<br>\",\"label: 27<br>source: 0.0<br>\",\"label: 28<br>source: 0.0<br>\",\"label: 29<br>source: 0.0<br>\",\"label: 30<br>source: 0.0<br>\",\"label: 31<br>source: 0.0<br>\",\"label: 32<br>source: 0.0<br>\",\"label: 33<br>source: 0.0<br>\",\"label: 34<br>source: 0.0<br>\",\"label: 35<br>source: 0.0<br>\",\"label: 36<br>source: 0.0<br>\",\"label: 37<br>source: 0.0<br>\",\"label: 38<br>source: 0.0<br>\",\"label: 39<br>source: 0.0<br>\",\"label: 40<br>source: 0.0<br>\",\"label: 41<br>source: 0.0<br>\",\"label: 42<br>source: 0.0<br>\",\"label: 43<br>source: 0.0<br>\",\"label: 44<br>source: 0.0<br>\",\"label: 45<br>source: 0.0<br>\",\"label: 46<br>source: 0.0<br>\",\"label: 47<br>source: 0.0<br>\",\"label: 48<br>source: 0.0<br>\",\"label: 49<br>source: 0.0<br>\",\"label: 50<br>source: 0.0<br>\",\"label: 51<br>source: 0.0<br>\",\"label: 52<br>source: 0.0<br>\",\"label: 53<br>source: 0.0<br>\",\"label: 54<br>source: 0.0<br>\",\"label: 55<br>source: 0.0<br>\",\"label: 56<br>source: 0.0<br>\",\"label: 57<br>source: 0.0<br>\",\"label: 58<br>source: 0.0<br>\",\"label: 59<br>source: 0.0<br>\",\"label: 60<br>source: 0.0<br>\",\"label: 61<br>source: 0.0<br>\",\"label: 62<br>source: 0.0<br>\",\"label: 63<br>source: 0.0<br>\",\"label: 64<br>source: 0.0<br>\",\"label: 65<br>source: 0.0<br>\",\"label: 66<br>source: 0.0<br>\",\"label: 67<br>source: 0.0<br>\",\"label: 68<br>source: 0.0<br>\",\"label: 69<br>source: 0.0<br>\",\"label: 70<br>source: 0.0<br>\",\"label: 71<br>source: 0.0<br>\",\"label: 72<br>source: 0.0<br>\",\"label: 73<br>source: 0.0<br>\",\"label: 74<br>source: 0.0<br>\",\"label: 75<br>source: 0.0<br>\",\"label: 76<br>source: 0.0<br>\",\"label: 77<br>source: 0.0<br>\",\"label: 78<br>source: 0.0<br>\",\"label: 79<br>source: 0.0<br>\",\"label: 80<br>source: 0.0<br>\",\"label: 81<br>source: 0.0<br>\",\"label: 82<br>source: 0.0<br>\",\"label: 83<br>source: 0.0<br>\",\"label: 84<br>source: 0.0<br>\",\"label: 85<br>source: 0.0<br>\",\"label: 86<br>source: 0.0<br>\",\"label: 87<br>source: 0.0<br>\",\"label: 88<br>source: 0.0<br>\",\"label: 89<br>source: 0.0<br>\",\"label: 90<br>source: 0.0<br>\",\"label: 91<br>source: 0.0<br>\",\"label: 92<br>source: 0.0<br>\",\"label: 93<br>source: 0.0<br>\",\"label: 94<br>source: 0.0<br>\",\"label: 95<br>source: 0.0<br>\",\"label: 96<br>source: 1.0<br>\",\"label: 97<br>source: 0.0<br>\",\"label: 98<br>source: 1.0<br>\",\"label: 99<br>source: 0.0<br>\",\"label: 100<br>source: 1.0<br>\",\"label: 101<br>source: 0.0<br>\",\"label: 102<br>source: 1.0<br>\",\"label: 103<br>source: 0.0<br>\",\"label: 104<br>source: 1.0<br>\",\"label: 105<br>source: 0.0<br>\",\"label: 106<br>source: 1.0<br>\",\"label: 107<br>source: 0.0<br>\",\"label: 108<br>source: 1.0<br>\",\"label: 109<br>source: 0.0<br>\"],\"marker\":{\"color\":\"#a845b5\",\"line\":{\"width\":2},\"size\":2},\"mode\":\"markers\",\"type\":\"scatter\",\"x\":[0.5,0.0,0.5,0.0,0.5,0.0,0.5,0.0,0.5,0.0,0.5,0.0,0.5,0.0,0.5,1.5,2.0,1.5,2.0,1.5,2.0,1.5,2.0,1.5,2.0,1.5,2.0,1.5,2.0,1.5,2.0,3.5,3.0,3.5,3.0,3.5,3.0,3.5,3.0,3.5,3.0,3.5,3.0,3.5,3.0,3.5,3.0,4.5,5.0,4.5,5.0,4.5,5.0,4.5,5.0,4.5,5.0,4.5,5.0,4.5,5.0,4.5,5.0,6.5,6.0,6.5,6.0,6.5,6.0,6.5,6.0,6.5,6.0,6.5,6.0,6.5,6.0,6.5,6.0,7.5,8.0,7.5,8.0,7.5,8.0,7.5,8.0,7.5,8.0,7.5,8.0,7.5,8.0,7.5,8.0,9.0,9.5,9.0,9.5,9.0,9.5,9.0,9.5,9.0,9.5,9.0,9.5,9.0,9.5,9.0],\"y\":[0.0,0.8660254037844386,1.7320508075688772,2.598076211353316,3.4641016151377544,4.330127018922193,5.196152422706632,6.06217782649107,6.928203230275509,7.794228634059947,8.660254037844386,9.526279441628825,10.392304845413264,11.258330249197702,12.12435565298214,0.0,0.8660254037844386,1.7320508075688772,2.598076211353316,3.4641016151377544,4.330127018922193,5.196152422706632,6.06217782649107,6.928203230275509,7.794228634059947,8.660254037844386,9.526279441628825,10.392304845413264,11.258330249197702,12.12435565298214,12.990381056766578,0.0,0.8660254037844386,1.7320508075688772,2.598076211353316,3.4641016151377544,4.330127018922193,5.196152422706632,6.06217782649107,6.928203230275509,7.794228634059947,8.660254037844386,9.526279441628825,10.392304845413264,11.258330249197702,12.12435565298214,12.990381056766578,0.0,0.8660254037844386,1.7320508075688772,2.598076211353316,3.4641016151377544,4.330127018922193,5.196152422706632,6.06217782649107,6.928203230275509,7.794228634059947,8.660254037844386,9.526279441628825,10.392304845413264,11.258330249197702,12.12435565298214,12.990381056766578,0.0,0.8660254037844386,1.7320508075688772,2.598076211353316,3.4641016151377544,4.330127018922193,5.196152422706632,6.06217782649107,6.928203230275509,7.794228634059947,8.660254037844386,9.526279441628825,10.392304845413264,11.258330249197702,12.12435565298214,12.990381056766578,0.0,0.8660254037844386,1.7320508075688772,2.598076211353316,3.4641016151377544,4.330127018922193,5.196152422706632,6.06217782649107,6.928203230275509,7.794228634059947,8.660254037844386,9.526279441628825,10.392304845413264,11.258330249197702,12.12435565298214,12.990381056766578,0.8660254037844386,1.7320508075688772,2.598076211353316,3.4641016151377544,4.330127018922193,5.196152422706632,6.06217782649107,6.928203230275509,7.794228634059947,8.660254037844386,9.526279441628825,10.392304845413264,11.258330249197702,12.12435565298214,12.990381056766578]},{\"hoverinfo\":\"none\",\"line\":{\"color\":\"#c762d4\",\"width\":5},\"mode\":\"lines\",\"type\":\"scatter\",\"x\":[0.5,0.0,null],\"y\":[0.0,0.8660254037844386,null]},{\"hoverinfo\":\"none\",\"line\":{\"color\":\"#c762d4\",\"width\":5},\"mode\":\"lines\",\"type\":\"scatter\",\"x\":[0.5,1.5,null],\"y\":[0.0,0.0,null]},{\"hoverinfo\":\"none\",\"line\":{\"color\":\"#c762d4\",\"width\":5},\"mode\":\"lines\",\"type\":\"scatter\",\"x\":[0.0,0.5,null],\"y\":[0.8660254037844386,1.7320508075688772,null]},{\"hoverinfo\":\"none\",\"line\":{\"color\":\"#c762d4\",\"width\":5},\"mode\":\"lines\",\"type\":\"scatter\",\"x\":[0.5,0.0,null],\"y\":[1.7320508075688772,2.598076211353316,null]},{\"hoverinfo\":\"none\",\"line\":{\"color\":\"#c762d4\",\"width\":5},\"mode\":\"lines\",\"type\":\"scatter\",\"x\":[0.5,1.5,null],\"y\":[1.7320508075688772,1.7320508075688772,null]},{\"hoverinfo\":\"none\",\"line\":{\"color\":\"#c762d4\",\"width\":5},\"mode\":\"lines\",\"type\":\"scatter\",\"x\":[0.0,0.5,null],\"y\":[2.598076211353316,3.4641016151377544,null]},{\"hoverinfo\":\"none\",\"line\":{\"color\":\"#c762d4\",\"width\":5},\"mode\":\"lines\",\"type\":\"scatter\",\"x\":[0.5,0.0,null],\"y\":[3.4641016151377544,4.330127018922193,null]},{\"hoverinfo\":\"none\",\"line\":{\"color\":\"#c762d4\",\"width\":5},\"mode\":\"lines\",\"type\":\"scatter\",\"x\":[0.5,1.5,null],\"y\":[3.4641016151377544,3.4641016151377544,null]},{\"hoverinfo\":\"none\",\"line\":{\"color\":\"#c762d4\",\"width\":5},\"mode\":\"lines\",\"type\":\"scatter\",\"x\":[0.0,0.5,null],\"y\":[4.330127018922193,5.196152422706632,null]},{\"hoverinfo\":\"none\",\"line\":{\"color\":\"#c762d4\",\"width\":5},\"mode\":\"lines\",\"type\":\"scatter\",\"x\":[0.5,0.0,null],\"y\":[5.196152422706632,6.06217782649107,null]},{\"hoverinfo\":\"none\",\"line\":{\"color\":\"#c762d4\",\"width\":5},\"mode\":\"lines\",\"type\":\"scatter\",\"x\":[0.5,1.5,null],\"y\":[5.196152422706632,5.196152422706632,null]},{\"hoverinfo\":\"none\",\"line\":{\"color\":\"#c762d4\",\"width\":5},\"mode\":\"lines\",\"type\":\"scatter\",\"x\":[0.0,0.5,null],\"y\":[6.06217782649107,6.928203230275509,null]},{\"hoverinfo\":\"none\",\"line\":{\"color\":\"#c762d4\",\"width\":5},\"mode\":\"lines\",\"type\":\"scatter\",\"x\":[0.5,0.0,null],\"y\":[6.928203230275509,7.794228634059947,null]},{\"hoverinfo\":\"none\",\"line\":{\"color\":\"#c762d4\",\"width\":5},\"mode\":\"lines\",\"type\":\"scatter\",\"x\":[0.5,1.5,null],\"y\":[6.928203230275509,6.928203230275509,null]},{\"hoverinfo\":\"none\",\"line\":{\"color\":\"#c762d4\",\"width\":5},\"mode\":\"lines\",\"type\":\"scatter\",\"x\":[0.0,0.5,null],\"y\":[7.794228634059947,8.660254037844386,null]},{\"hoverinfo\":\"none\",\"line\":{\"color\":\"#c762d4\",\"width\":5},\"mode\":\"lines\",\"type\":\"scatter\",\"x\":[0.5,0.0,null],\"y\":[8.660254037844386,9.526279441628825,null]},{\"hoverinfo\":\"none\",\"line\":{\"color\":\"#c762d4\",\"width\":5},\"mode\":\"lines\",\"type\":\"scatter\",\"x\":[0.5,1.5,null],\"y\":[8.660254037844386,8.660254037844386,null]},{\"hoverinfo\":\"none\",\"line\":{\"color\":\"#c762d4\",\"width\":5},\"mode\":\"lines\",\"type\":\"scatter\",\"x\":[0.0,0.5,null],\"y\":[9.526279441628825,10.392304845413264,null]},{\"hoverinfo\":\"none\",\"line\":{\"color\":\"#c762d4\",\"width\":5},\"mode\":\"lines\",\"type\":\"scatter\",\"x\":[0.5,0.0,null],\"y\":[10.392304845413264,11.258330249197702,null]},{\"hoverinfo\":\"none\",\"line\":{\"color\":\"#c762d4\",\"width\":5},\"mode\":\"lines\",\"type\":\"scatter\",\"x\":[0.5,1.5,null],\"y\":[10.392304845413264,10.392304845413264,null]},{\"hoverinfo\":\"none\",\"line\":{\"color\":\"#c762d4\",\"width\":5},\"mode\":\"lines\",\"type\":\"scatter\",\"x\":[0.0,0.5,null],\"y\":[11.258330249197702,12.12435565298214,null]},{\"hoverinfo\":\"none\",\"line\":{\"color\":\"#c762d4\",\"width\":5},\"mode\":\"lines\",\"type\":\"scatter\",\"x\":[0.5,1.5,null],\"y\":[12.12435565298214,12.12435565298214,null]},{\"hoverinfo\":\"none\",\"line\":{\"color\":\"#c762d4\",\"width\":5},\"mode\":\"lines\",\"type\":\"scatter\",\"x\":[1.5,2.0,null],\"y\":[0.0,0.8660254037844386,null]},{\"hoverinfo\":\"none\",\"line\":{\"color\":\"#c762d4\",\"width\":5},\"mode\":\"lines\",\"type\":\"scatter\",\"x\":[2.0,1.5,null],\"y\":[0.8660254037844386,1.7320508075688772,null]},{\"hoverinfo\":\"none\",\"line\":{\"color\":\"#c762d4\",\"width\":5},\"mode\":\"lines\",\"type\":\"scatter\",\"x\":[2.0,3.0,null],\"y\":[0.8660254037844386,0.8660254037844386,null]},{\"hoverinfo\":\"none\",\"line\":{\"color\":\"#c762d4\",\"width\":5},\"mode\":\"lines\",\"type\":\"scatter\",\"x\":[1.5,2.0,null],\"y\":[1.7320508075688772,2.598076211353316,null]},{\"hoverinfo\":\"none\",\"line\":{\"color\":\"#c762d4\",\"width\":5},\"mode\":\"lines\",\"type\":\"scatter\",\"x\":[2.0,1.5,null],\"y\":[2.598076211353316,3.4641016151377544,null]},{\"hoverinfo\":\"none\",\"line\":{\"color\":\"#c762d4\",\"width\":5},\"mode\":\"lines\",\"type\":\"scatter\",\"x\":[2.0,3.0,null],\"y\":[2.598076211353316,2.598076211353316,null]},{\"hoverinfo\":\"none\",\"line\":{\"color\":\"#c762d4\",\"width\":5},\"mode\":\"lines\",\"type\":\"scatter\",\"x\":[1.5,2.0,null],\"y\":[3.4641016151377544,4.330127018922193,null]},{\"hoverinfo\":\"none\",\"line\":{\"color\":\"#c762d4\",\"width\":5},\"mode\":\"lines\",\"type\":\"scatter\",\"x\":[2.0,1.5,null],\"y\":[4.330127018922193,5.196152422706632,null]},{\"hoverinfo\":\"none\",\"line\":{\"color\":\"#c762d4\",\"width\":5},\"mode\":\"lines\",\"type\":\"scatter\",\"x\":[2.0,3.0,null],\"y\":[4.330127018922193,4.330127018922193,null]},{\"hoverinfo\":\"none\",\"line\":{\"color\":\"#c762d4\",\"width\":5},\"mode\":\"lines\",\"type\":\"scatter\",\"x\":[1.5,2.0,null],\"y\":[5.196152422706632,6.06217782649107,null]},{\"hoverinfo\":\"none\",\"line\":{\"color\":\"#c762d4\",\"width\":5},\"mode\":\"lines\",\"type\":\"scatter\",\"x\":[2.0,1.5,null],\"y\":[6.06217782649107,6.928203230275509,null]},{\"hoverinfo\":\"none\",\"line\":{\"color\":\"#c762d4\",\"width\":5},\"mode\":\"lines\",\"type\":\"scatter\",\"x\":[2.0,3.0,null],\"y\":[6.06217782649107,6.06217782649107,null]},{\"hoverinfo\":\"none\",\"line\":{\"color\":\"#c762d4\",\"width\":5},\"mode\":\"lines\",\"type\":\"scatter\",\"x\":[1.5,2.0,null],\"y\":[6.928203230275509,7.794228634059947,null]},{\"hoverinfo\":\"none\",\"line\":{\"color\":\"#c762d4\",\"width\":5},\"mode\":\"lines\",\"type\":\"scatter\",\"x\":[2.0,1.5,null],\"y\":[7.794228634059947,8.660254037844386,null]},{\"hoverinfo\":\"none\",\"line\":{\"color\":\"#c762d4\",\"width\":5},\"mode\":\"lines\",\"type\":\"scatter\",\"x\":[2.0,3.0,null],\"y\":[7.794228634059947,7.794228634059947,null]},{\"hoverinfo\":\"none\",\"line\":{\"color\":\"#c762d4\",\"width\":5},\"mode\":\"lines\",\"type\":\"scatter\",\"x\":[1.5,2.0,null],\"y\":[8.660254037844386,9.526279441628825,null]},{\"hoverinfo\":\"none\",\"line\":{\"color\":\"#c762d4\",\"width\":5},\"mode\":\"lines\",\"type\":\"scatter\",\"x\":[2.0,1.5,null],\"y\":[9.526279441628825,10.392304845413264,null]},{\"hoverinfo\":\"none\",\"line\":{\"color\":\"#c762d4\",\"width\":5},\"mode\":\"lines\",\"type\":\"scatter\",\"x\":[2.0,3.0,null],\"y\":[9.526279441628825,9.526279441628825,null]},{\"hoverinfo\":\"none\",\"line\":{\"color\":\"#c762d4\",\"width\":5},\"mode\":\"lines\",\"type\":\"scatter\",\"x\":[1.5,2.0,null],\"y\":[10.392304845413264,11.258330249197702,null]},{\"hoverinfo\":\"none\",\"line\":{\"color\":\"#c762d4\",\"width\":5},\"mode\":\"lines\",\"type\":\"scatter\",\"x\":[2.0,1.5,null],\"y\":[11.258330249197702,12.12435565298214,null]},{\"hoverinfo\":\"none\",\"line\":{\"color\":\"#c762d4\",\"width\":5},\"mode\":\"lines\",\"type\":\"scatter\",\"x\":[2.0,3.0,null],\"y\":[11.258330249197702,11.258330249197702,null]},{\"hoverinfo\":\"none\",\"line\":{\"color\":\"#c762d4\",\"width\":5},\"mode\":\"lines\",\"type\":\"scatter\",\"x\":[1.5,2.0,null],\"y\":[12.12435565298214,12.990381056766578,null]},{\"hoverinfo\":\"none\",\"line\":{\"color\":\"#c762d4\",\"width\":5},\"mode\":\"lines\",\"type\":\"scatter\",\"x\":[2.0,3.0,null],\"y\":[12.990381056766578,12.990381056766578,null]},{\"hoverinfo\":\"none\",\"line\":{\"color\":\"#c762d4\",\"width\":5},\"mode\":\"lines\",\"type\":\"scatter\",\"x\":[3.5,3.0,null],\"y\":[0.0,0.8660254037844386,null]},{\"hoverinfo\":\"none\",\"line\":{\"color\":\"#c762d4\",\"width\":5},\"mode\":\"lines\",\"type\":\"scatter\",\"x\":[3.5,4.5,null],\"y\":[0.0,0.0,null]},{\"hoverinfo\":\"none\",\"line\":{\"color\":\"#c762d4\",\"width\":5},\"mode\":\"lines\",\"type\":\"scatter\",\"x\":[3.0,3.5,null],\"y\":[0.8660254037844386,1.7320508075688772,null]},{\"hoverinfo\":\"none\",\"line\":{\"color\":\"#c762d4\",\"width\":5},\"mode\":\"lines\",\"type\":\"scatter\",\"x\":[3.5,3.0,null],\"y\":[1.7320508075688772,2.598076211353316,null]},{\"hoverinfo\":\"none\",\"line\":{\"color\":\"#c762d4\",\"width\":5},\"mode\":\"lines\",\"type\":\"scatter\",\"x\":[3.5,4.5,null],\"y\":[1.7320508075688772,1.7320508075688772,null]},{\"hoverinfo\":\"none\",\"line\":{\"color\":\"#c762d4\",\"width\":5},\"mode\":\"lines\",\"type\":\"scatter\",\"x\":[3.0,3.5,null],\"y\":[2.598076211353316,3.4641016151377544,null]},{\"hoverinfo\":\"none\",\"line\":{\"color\":\"#c762d4\",\"width\":5},\"mode\":\"lines\",\"type\":\"scatter\",\"x\":[3.5,3.0,null],\"y\":[3.4641016151377544,4.330127018922193,null]},{\"hoverinfo\":\"none\",\"line\":{\"color\":\"#c762d4\",\"width\":5},\"mode\":\"lines\",\"type\":\"scatter\",\"x\":[3.5,4.5,null],\"y\":[3.4641016151377544,3.4641016151377544,null]},{\"hoverinfo\":\"none\",\"line\":{\"color\":\"#c762d4\",\"width\":5},\"mode\":\"lines\",\"type\":\"scatter\",\"x\":[3.0,3.5,null],\"y\":[4.330127018922193,5.196152422706632,null]},{\"hoverinfo\":\"none\",\"line\":{\"color\":\"#c762d4\",\"width\":5},\"mode\":\"lines\",\"type\":\"scatter\",\"x\":[3.5,3.0,null],\"y\":[5.196152422706632,6.06217782649107,null]},{\"hoverinfo\":\"none\",\"line\":{\"color\":\"#c762d4\",\"width\":5},\"mode\":\"lines\",\"type\":\"scatter\",\"x\":[3.5,4.5,null],\"y\":[5.196152422706632,5.196152422706632,null]},{\"hoverinfo\":\"none\",\"line\":{\"color\":\"#c762d4\",\"width\":5},\"mode\":\"lines\",\"type\":\"scatter\",\"x\":[3.0,3.5,null],\"y\":[6.06217782649107,6.928203230275509,null]},{\"hoverinfo\":\"none\",\"line\":{\"color\":\"#c762d4\",\"width\":5},\"mode\":\"lines\",\"type\":\"scatter\",\"x\":[3.5,3.0,null],\"y\":[6.928203230275509,7.794228634059947,null]},{\"hoverinfo\":\"none\",\"line\":{\"color\":\"#c762d4\",\"width\":5},\"mode\":\"lines\",\"type\":\"scatter\",\"x\":[3.5,4.5,null],\"y\":[6.928203230275509,6.928203230275509,null]},{\"hoverinfo\":\"none\",\"line\":{\"color\":\"#c762d4\",\"width\":5},\"mode\":\"lines\",\"type\":\"scatter\",\"x\":[3.0,3.5,null],\"y\":[7.794228634059947,8.660254037844386,null]},{\"hoverinfo\":\"none\",\"line\":{\"color\":\"#c762d4\",\"width\":5},\"mode\":\"lines\",\"type\":\"scatter\",\"x\":[3.5,3.0,null],\"y\":[8.660254037844386,9.526279441628825,null]},{\"hoverinfo\":\"none\",\"line\":{\"color\":\"#c762d4\",\"width\":5},\"mode\":\"lines\",\"type\":\"scatter\",\"x\":[3.5,4.5,null],\"y\":[8.660254037844386,8.660254037844386,null]},{\"hoverinfo\":\"none\",\"line\":{\"color\":\"#c762d4\",\"width\":5},\"mode\":\"lines\",\"type\":\"scatter\",\"x\":[3.0,3.5,null],\"y\":[9.526279441628825,10.392304845413264,null]},{\"hoverinfo\":\"none\",\"line\":{\"color\":\"#c762d4\",\"width\":5},\"mode\":\"lines\",\"type\":\"scatter\",\"x\":[3.5,3.0,null],\"y\":[10.392304845413264,11.258330249197702,null]},{\"hoverinfo\":\"none\",\"line\":{\"color\":\"#c762d4\",\"width\":5},\"mode\":\"lines\",\"type\":\"scatter\",\"x\":[3.5,4.5,null],\"y\":[10.392304845413264,10.392304845413264,null]},{\"hoverinfo\":\"none\",\"line\":{\"color\":\"#c762d4\",\"width\":5},\"mode\":\"lines\",\"type\":\"scatter\",\"x\":[3.0,3.5,null],\"y\":[11.258330249197702,12.12435565298214,null]},{\"hoverinfo\":\"none\",\"line\":{\"color\":\"#c762d4\",\"width\":5},\"mode\":\"lines\",\"type\":\"scatter\",\"x\":[3.5,3.0,null],\"y\":[12.12435565298214,12.990381056766578,null]},{\"hoverinfo\":\"none\",\"line\":{\"color\":\"#c762d4\",\"width\":5},\"mode\":\"lines\",\"type\":\"scatter\",\"x\":[3.5,4.5,null],\"y\":[12.12435565298214,12.12435565298214,null]},{\"hoverinfo\":\"none\",\"line\":{\"color\":\"#c762d4\",\"width\":5},\"mode\":\"lines\",\"type\":\"scatter\",\"x\":[4.5,5.0,null],\"y\":[0.0,0.8660254037844386,null]},{\"hoverinfo\":\"none\",\"line\":{\"color\":\"#c762d4\",\"width\":5},\"mode\":\"lines\",\"type\":\"scatter\",\"x\":[5.0,4.5,null],\"y\":[0.8660254037844386,1.7320508075688772,null]},{\"hoverinfo\":\"none\",\"line\":{\"color\":\"#c762d4\",\"width\":5},\"mode\":\"lines\",\"type\":\"scatter\",\"x\":[5.0,6.0,null],\"y\":[0.8660254037844386,0.8660254037844386,null]},{\"hoverinfo\":\"none\",\"line\":{\"color\":\"#c762d4\",\"width\":5},\"mode\":\"lines\",\"type\":\"scatter\",\"x\":[4.5,5.0,null],\"y\":[1.7320508075688772,2.598076211353316,null]},{\"hoverinfo\":\"none\",\"line\":{\"color\":\"#c762d4\",\"width\":5},\"mode\":\"lines\",\"type\":\"scatter\",\"x\":[5.0,4.5,null],\"y\":[2.598076211353316,3.4641016151377544,null]},{\"hoverinfo\":\"none\",\"line\":{\"color\":\"#c762d4\",\"width\":5},\"mode\":\"lines\",\"type\":\"scatter\",\"x\":[5.0,6.0,null],\"y\":[2.598076211353316,2.598076211353316,null]},{\"hoverinfo\":\"none\",\"line\":{\"color\":\"#c762d4\",\"width\":5},\"mode\":\"lines\",\"type\":\"scatter\",\"x\":[4.5,5.0,null],\"y\":[3.4641016151377544,4.330127018922193,null]},{\"hoverinfo\":\"none\",\"line\":{\"color\":\"#c762d4\",\"width\":5},\"mode\":\"lines\",\"type\":\"scatter\",\"x\":[5.0,4.5,null],\"y\":[4.330127018922193,5.196152422706632,null]},{\"hoverinfo\":\"none\",\"line\":{\"color\":\"#c762d4\",\"width\":5},\"mode\":\"lines\",\"type\":\"scatter\",\"x\":[5.0,6.0,null],\"y\":[4.330127018922193,4.330127018922193,null]},{\"hoverinfo\":\"none\",\"line\":{\"color\":\"#c762d4\",\"width\":5},\"mode\":\"lines\",\"type\":\"scatter\",\"x\":[4.5,5.0,null],\"y\":[5.196152422706632,6.06217782649107,null]},{\"hoverinfo\":\"none\",\"line\":{\"color\":\"#c762d4\",\"width\":5},\"mode\":\"lines\",\"type\":\"scatter\",\"x\":[5.0,4.5,null],\"y\":[6.06217782649107,6.928203230275509,null]},{\"hoverinfo\":\"none\",\"line\":{\"color\":\"#c762d4\",\"width\":5},\"mode\":\"lines\",\"type\":\"scatter\",\"x\":[5.0,6.0,null],\"y\":[6.06217782649107,6.06217782649107,null]},{\"hoverinfo\":\"none\",\"line\":{\"color\":\"#c762d4\",\"width\":5},\"mode\":\"lines\",\"type\":\"scatter\",\"x\":[4.5,5.0,null],\"y\":[6.928203230275509,7.794228634059947,null]},{\"hoverinfo\":\"none\",\"line\":{\"color\":\"#c762d4\",\"width\":5},\"mode\":\"lines\",\"type\":\"scatter\",\"x\":[5.0,4.5,null],\"y\":[7.794228634059947,8.660254037844386,null]},{\"hoverinfo\":\"none\",\"line\":{\"color\":\"#c762d4\",\"width\":5},\"mode\":\"lines\",\"type\":\"scatter\",\"x\":[5.0,6.0,null],\"y\":[7.794228634059947,7.794228634059947,null]},{\"hoverinfo\":\"none\",\"line\":{\"color\":\"#c762d4\",\"width\":5},\"mode\":\"lines\",\"type\":\"scatter\",\"x\":[4.5,5.0,null],\"y\":[8.660254037844386,9.526279441628825,null]},{\"hoverinfo\":\"none\",\"line\":{\"color\":\"#c762d4\",\"width\":5},\"mode\":\"lines\",\"type\":\"scatter\",\"x\":[5.0,4.5,null],\"y\":[9.526279441628825,10.392304845413264,null]},{\"hoverinfo\":\"none\",\"line\":{\"color\":\"#c762d4\",\"width\":5},\"mode\":\"lines\",\"type\":\"scatter\",\"x\":[5.0,6.0,null],\"y\":[9.526279441628825,9.526279441628825,null]},{\"hoverinfo\":\"none\",\"line\":{\"color\":\"#c762d4\",\"width\":5},\"mode\":\"lines\",\"type\":\"scatter\",\"x\":[4.5,5.0,null],\"y\":[10.392304845413264,11.258330249197702,null]},{\"hoverinfo\":\"none\",\"line\":{\"color\":\"#c762d4\",\"width\":5},\"mode\":\"lines\",\"type\":\"scatter\",\"x\":[5.0,4.5,null],\"y\":[11.258330249197702,12.12435565298214,null]},{\"hoverinfo\":\"none\",\"line\":{\"color\":\"#c762d4\",\"width\":5},\"mode\":\"lines\",\"type\":\"scatter\",\"x\":[5.0,6.0,null],\"y\":[11.258330249197702,11.258330249197702,null]},{\"hoverinfo\":\"none\",\"line\":{\"color\":\"#c762d4\",\"width\":5},\"mode\":\"lines\",\"type\":\"scatter\",\"x\":[4.5,5.0,null],\"y\":[12.12435565298214,12.990381056766578,null]},{\"hoverinfo\":\"none\",\"line\":{\"color\":\"#c762d4\",\"width\":5},\"mode\":\"lines\",\"type\":\"scatter\",\"x\":[5.0,6.0,null],\"y\":[12.990381056766578,12.990381056766578,null]},{\"hoverinfo\":\"none\",\"line\":{\"color\":\"#c762d4\",\"width\":5},\"mode\":\"lines\",\"type\":\"scatter\",\"x\":[6.5,6.0,null],\"y\":[0.0,0.8660254037844386,null]},{\"hoverinfo\":\"none\",\"line\":{\"color\":\"#c762d4\",\"width\":5},\"mode\":\"lines\",\"type\":\"scatter\",\"x\":[6.5,7.5,null],\"y\":[0.0,0.0,null]},{\"hoverinfo\":\"none\",\"line\":{\"color\":\"#c762d4\",\"width\":5},\"mode\":\"lines\",\"type\":\"scatter\",\"x\":[6.0,6.5,null],\"y\":[0.8660254037844386,1.7320508075688772,null]},{\"hoverinfo\":\"none\",\"line\":{\"color\":\"#c762d4\",\"width\":5},\"mode\":\"lines\",\"type\":\"scatter\",\"x\":[6.5,6.0,null],\"y\":[1.7320508075688772,2.598076211353316,null]},{\"hoverinfo\":\"none\",\"line\":{\"color\":\"#c762d4\",\"width\":5},\"mode\":\"lines\",\"type\":\"scatter\",\"x\":[6.5,7.5,null],\"y\":[1.7320508075688772,1.7320508075688772,null]},{\"hoverinfo\":\"none\",\"line\":{\"color\":\"#c762d4\",\"width\":5},\"mode\":\"lines\",\"type\":\"scatter\",\"x\":[6.0,6.5,null],\"y\":[2.598076211353316,3.4641016151377544,null]},{\"hoverinfo\":\"none\",\"line\":{\"color\":\"#c762d4\",\"width\":5},\"mode\":\"lines\",\"type\":\"scatter\",\"x\":[6.5,6.0,null],\"y\":[3.4641016151377544,4.330127018922193,null]},{\"hoverinfo\":\"none\",\"line\":{\"color\":\"#c762d4\",\"width\":5},\"mode\":\"lines\",\"type\":\"scatter\",\"x\":[6.5,7.5,null],\"y\":[3.4641016151377544,3.4641016151377544,null]},{\"hoverinfo\":\"none\",\"line\":{\"color\":\"#c762d4\",\"width\":5},\"mode\":\"lines\",\"type\":\"scatter\",\"x\":[6.0,6.5,null],\"y\":[4.330127018922193,5.196152422706632,null]},{\"hoverinfo\":\"none\",\"line\":{\"color\":\"#c762d4\",\"width\":5},\"mode\":\"lines\",\"type\":\"scatter\",\"x\":[6.5,6.0,null],\"y\":[5.196152422706632,6.06217782649107,null]},{\"hoverinfo\":\"none\",\"line\":{\"color\":\"#c762d4\",\"width\":5},\"mode\":\"lines\",\"type\":\"scatter\",\"x\":[6.5,7.5,null],\"y\":[5.196152422706632,5.196152422706632,null]},{\"hoverinfo\":\"none\",\"line\":{\"color\":\"#c762d4\",\"width\":5},\"mode\":\"lines\",\"type\":\"scatter\",\"x\":[6.0,6.5,null],\"y\":[6.06217782649107,6.928203230275509,null]},{\"hoverinfo\":\"none\",\"line\":{\"color\":\"#c762d4\",\"width\":5},\"mode\":\"lines\",\"type\":\"scatter\",\"x\":[6.5,6.0,null],\"y\":[6.928203230275509,7.794228634059947,null]},{\"hoverinfo\":\"none\",\"line\":{\"color\":\"#c762d4\",\"width\":5},\"mode\":\"lines\",\"type\":\"scatter\",\"x\":[6.5,7.5,null],\"y\":[6.928203230275509,6.928203230275509,null]},{\"hoverinfo\":\"none\",\"line\":{\"color\":\"#c762d4\",\"width\":5},\"mode\":\"lines\",\"type\":\"scatter\",\"x\":[6.0,6.5,null],\"y\":[7.794228634059947,8.660254037844386,null]},{\"hoverinfo\":\"none\",\"line\":{\"color\":\"#c762d4\",\"width\":5},\"mode\":\"lines\",\"type\":\"scatter\",\"x\":[6.5,6.0,null],\"y\":[8.660254037844386,9.526279441628825,null]},{\"hoverinfo\":\"none\",\"line\":{\"color\":\"#c762d4\",\"width\":5},\"mode\":\"lines\",\"type\":\"scatter\",\"x\":[6.5,7.5,null],\"y\":[8.660254037844386,8.660254037844386,null]},{\"hoverinfo\":\"none\",\"line\":{\"color\":\"#c762d4\",\"width\":5},\"mode\":\"lines\",\"type\":\"scatter\",\"x\":[6.0,6.5,null],\"y\":[9.526279441628825,10.392304845413264,null]},{\"hoverinfo\":\"none\",\"line\":{\"color\":\"#c762d4\",\"width\":5},\"mode\":\"lines\",\"type\":\"scatter\",\"x\":[6.5,6.0,null],\"y\":[10.392304845413264,11.258330249197702,null]},{\"hoverinfo\":\"none\",\"line\":{\"color\":\"#c762d4\",\"width\":5},\"mode\":\"lines\",\"type\":\"scatter\",\"x\":[6.5,7.5,null],\"y\":[10.392304845413264,10.392304845413264,null]},{\"hoverinfo\":\"none\",\"line\":{\"color\":\"#c762d4\",\"width\":5},\"mode\":\"lines\",\"type\":\"scatter\",\"x\":[6.0,6.5,null],\"y\":[11.258330249197702,12.12435565298214,null]},{\"hoverinfo\":\"none\",\"line\":{\"color\":\"#c762d4\",\"width\":5},\"mode\":\"lines\",\"type\":\"scatter\",\"x\":[6.5,6.0,null],\"y\":[12.12435565298214,12.990381056766578,null]},{\"hoverinfo\":\"none\",\"line\":{\"color\":\"#c762d4\",\"width\":5},\"mode\":\"lines\",\"type\":\"scatter\",\"x\":[6.5,7.5,null],\"y\":[12.12435565298214,12.12435565298214,null]},{\"hoverinfo\":\"none\",\"line\":{\"color\":\"#c762d4\",\"width\":5},\"mode\":\"lines\",\"type\":\"scatter\",\"x\":[7.5,8.0,null],\"y\":[0.0,0.8660254037844386,null]},{\"hoverinfo\":\"none\",\"line\":{\"color\":\"#c762d4\",\"width\":5},\"mode\":\"lines\",\"type\":\"scatter\",\"x\":[8.0,7.5,null],\"y\":[0.8660254037844386,1.7320508075688772,null]},{\"hoverinfo\":\"none\",\"line\":{\"color\":\"#c762d4\",\"width\":5},\"mode\":\"lines\",\"type\":\"scatter\",\"x\":[8.0,9.0,null],\"y\":[0.8660254037844386,0.8660254037844386,null]},{\"hoverinfo\":\"none\",\"line\":{\"color\":\"#c762d4\",\"width\":5},\"mode\":\"lines\",\"type\":\"scatter\",\"x\":[7.5,8.0,null],\"y\":[1.7320508075688772,2.598076211353316,null]},{\"hoverinfo\":\"none\",\"line\":{\"color\":\"#c762d4\",\"width\":5},\"mode\":\"lines\",\"type\":\"scatter\",\"x\":[8.0,7.5,null],\"y\":[2.598076211353316,3.4641016151377544,null]},{\"hoverinfo\":\"none\",\"line\":{\"color\":\"#c762d4\",\"width\":5},\"mode\":\"lines\",\"type\":\"scatter\",\"x\":[8.0,9.0,null],\"y\":[2.598076211353316,2.598076211353316,null]},{\"hoverinfo\":\"none\",\"line\":{\"color\":\"#c762d4\",\"width\":5},\"mode\":\"lines\",\"type\":\"scatter\",\"x\":[7.5,8.0,null],\"y\":[3.4641016151377544,4.330127018922193,null]},{\"hoverinfo\":\"none\",\"line\":{\"color\":\"#c762d4\",\"width\":5},\"mode\":\"lines\",\"type\":\"scatter\",\"x\":[8.0,7.5,null],\"y\":[4.330127018922193,5.196152422706632,null]},{\"hoverinfo\":\"none\",\"line\":{\"color\":\"#c762d4\",\"width\":5},\"mode\":\"lines\",\"type\":\"scatter\",\"x\":[8.0,9.0,null],\"y\":[4.330127018922193,4.330127018922193,null]},{\"hoverinfo\":\"none\",\"line\":{\"color\":\"#c762d4\",\"width\":5},\"mode\":\"lines\",\"type\":\"scatter\",\"x\":[7.5,8.0,null],\"y\":[5.196152422706632,6.06217782649107,null]},{\"hoverinfo\":\"none\",\"line\":{\"color\":\"#c762d4\",\"width\":5},\"mode\":\"lines\",\"type\":\"scatter\",\"x\":[8.0,7.5,null],\"y\":[6.06217782649107,6.928203230275509,null]},{\"hoverinfo\":\"none\",\"line\":{\"color\":\"#c762d4\",\"width\":5},\"mode\":\"lines\",\"type\":\"scatter\",\"x\":[8.0,9.0,null],\"y\":[6.06217782649107,6.06217782649107,null]},{\"hoverinfo\":\"none\",\"line\":{\"color\":\"#c762d4\",\"width\":5},\"mode\":\"lines\",\"type\":\"scatter\",\"x\":[7.5,8.0,null],\"y\":[6.928203230275509,7.794228634059947,null]},{\"hoverinfo\":\"none\",\"line\":{\"color\":\"#c762d4\",\"width\":5},\"mode\":\"lines\",\"type\":\"scatter\",\"x\":[8.0,7.5,null],\"y\":[7.794228634059947,8.660254037844386,null]},{\"hoverinfo\":\"none\",\"line\":{\"color\":\"#c762d4\",\"width\":5},\"mode\":\"lines\",\"type\":\"scatter\",\"x\":[8.0,9.0,null],\"y\":[7.794228634059947,7.794228634059947,null]},{\"hoverinfo\":\"none\",\"line\":{\"color\":\"#c762d4\",\"width\":5},\"mode\":\"lines\",\"type\":\"scatter\",\"x\":[7.5,8.0,null],\"y\":[8.660254037844386,9.526279441628825,null]},{\"hoverinfo\":\"none\",\"line\":{\"color\":\"#c762d4\",\"width\":5},\"mode\":\"lines\",\"type\":\"scatter\",\"x\":[8.0,7.5,null],\"y\":[9.526279441628825,10.392304845413264,null]},{\"hoverinfo\":\"none\",\"line\":{\"color\":\"#c762d4\",\"width\":5},\"mode\":\"lines\",\"type\":\"scatter\",\"x\":[8.0,9.0,null],\"y\":[9.526279441628825,9.526279441628825,null]},{\"hoverinfo\":\"none\",\"line\":{\"color\":\"#c762d4\",\"width\":5},\"mode\":\"lines\",\"type\":\"scatter\",\"x\":[7.5,8.0,null],\"y\":[10.392304845413264,11.258330249197702,null]},{\"hoverinfo\":\"none\",\"line\":{\"color\":\"#c762d4\",\"width\":5},\"mode\":\"lines\",\"type\":\"scatter\",\"x\":[8.0,7.5,null],\"y\":[11.258330249197702,12.12435565298214,null]},{\"hoverinfo\":\"none\",\"line\":{\"color\":\"#c762d4\",\"width\":5},\"mode\":\"lines\",\"type\":\"scatter\",\"x\":[8.0,9.0,null],\"y\":[11.258330249197702,11.258330249197702,null]},{\"hoverinfo\":\"none\",\"line\":{\"color\":\"#c762d4\",\"width\":5},\"mode\":\"lines\",\"type\":\"scatter\",\"x\":[7.5,8.0,null],\"y\":[12.12435565298214,12.990381056766578,null]},{\"hoverinfo\":\"none\",\"line\":{\"color\":\"#c762d4\",\"width\":5},\"mode\":\"lines\",\"type\":\"scatter\",\"x\":[8.0,9.0,null],\"y\":[12.990381056766578,12.990381056766578,null]},{\"hoverinfo\":\"none\",\"line\":{\"color\":\"#c762d4\",\"width\":5},\"mode\":\"lines\",\"type\":\"scatter\",\"x\":[9.0,9.5,null],\"y\":[0.8660254037844386,1.7320508075688772,null]},{\"hoverinfo\":\"none\",\"line\":{\"color\":\"#c762d4\",\"width\":5},\"mode\":\"lines\",\"type\":\"scatter\",\"x\":[9.5,9.0,null],\"y\":[1.7320508075688772,2.598076211353316,null]},{\"hoverinfo\":\"none\",\"line\":{\"color\":\"#c762d4\",\"width\":5},\"mode\":\"lines\",\"type\":\"scatter\",\"x\":[9.0,9.5,null],\"y\":[2.598076211353316,3.4641016151377544,null]},{\"hoverinfo\":\"none\",\"line\":{\"color\":\"#c762d4\",\"width\":5},\"mode\":\"lines\",\"type\":\"scatter\",\"x\":[9.5,9.0,null],\"y\":[3.4641016151377544,4.330127018922193,null]},{\"hoverinfo\":\"none\",\"line\":{\"color\":\"#c762d4\",\"width\":5},\"mode\":\"lines\",\"type\":\"scatter\",\"x\":[9.0,9.5,null],\"y\":[4.330127018922193,5.196152422706632,null]},{\"hoverinfo\":\"none\",\"line\":{\"color\":\"#c762d4\",\"width\":5},\"mode\":\"lines\",\"type\":\"scatter\",\"x\":[9.5,9.0,null],\"y\":[5.196152422706632,6.06217782649107,null]},{\"hoverinfo\":\"none\",\"line\":{\"color\":\"#c762d4\",\"width\":5},\"mode\":\"lines\",\"type\":\"scatter\",\"x\":[9.0,9.5,null],\"y\":[6.06217782649107,6.928203230275509,null]},{\"hoverinfo\":\"none\",\"line\":{\"color\":\"#c762d4\",\"width\":5},\"mode\":\"lines\",\"type\":\"scatter\",\"x\":[9.5,9.0,null],\"y\":[6.928203230275509,7.794228634059947,null]},{\"hoverinfo\":\"none\",\"line\":{\"color\":\"#c762d4\",\"width\":5},\"mode\":\"lines\",\"type\":\"scatter\",\"x\":[9.0,9.5,null],\"y\":[7.794228634059947,8.660254037844386,null]},{\"hoverinfo\":\"none\",\"line\":{\"color\":\"#c762d4\",\"width\":5},\"mode\":\"lines\",\"type\":\"scatter\",\"x\":[9.5,9.0,null],\"y\":[8.660254037844386,9.526279441628825,null]},{\"hoverinfo\":\"none\",\"line\":{\"color\":\"#c762d4\",\"width\":5},\"mode\":\"lines\",\"type\":\"scatter\",\"x\":[9.0,9.5,null],\"y\":[9.526279441628825,10.392304845413264,null]},{\"hoverinfo\":\"none\",\"line\":{\"color\":\"#c762d4\",\"width\":5},\"mode\":\"lines\",\"type\":\"scatter\",\"x\":[9.5,9.0,null],\"y\":[10.392304845413264,11.258330249197702,null]},{\"hoverinfo\":\"none\",\"line\":{\"color\":\"#c762d4\",\"width\":5},\"mode\":\"lines\",\"type\":\"scatter\",\"x\":[9.0,9.5,null],\"y\":[11.258330249197702,12.12435565298214,null]},{\"hoverinfo\":\"none\",\"line\":{\"color\":\"#c762d4\",\"width\":5},\"mode\":\"lines\",\"type\":\"scatter\",\"x\":[9.5,9.0,null],\"y\":[12.12435565298214,12.990381056766578,null]},{\"hoverinfo\":\"text\",\"marker\":{\"color\":\"#c762d4\",\"opacity\":0},\"mode\":\"markers\",\"text\":[\"label: (0, 1)<br>conductivity: 0.5618994323594243<br>flow_rate: 0.0<br>\",\"label: (0, 15)<br>conductivity: 0.8343569309956945<br>flow_rate: 0.0<br>\",\"label: (1, 2)<br>conductivity: 0.6811656490461058<br>flow_rate: 0.0<br>\",\"label: (2, 3)<br>conductivity: 0.9592645070260983<br>flow_rate: 0.0<br>\",\"label: (2, 17)<br>conductivity: 0.7168915166154671<br>flow_rate: 0.0<br>\",\"label: (3, 4)<br>conductivity: 0.6874630119303218<br>flow_rate: 0.0<br>\",\"label: (4, 5)<br>conductivity: 0.9420842856004411<br>flow_rate: 0.0<br>\",\"label: (4, 19)<br>conductivity: 0.6135298341524575<br>flow_rate: 0.0<br>\",\"label: (5, 6)<br>conductivity: 0.8732875291193917<br>flow_rate: 0.0<br>\",\"label: (6, 7)<br>conductivity: 0.9224420616000886<br>flow_rate: 0.0<br>\",\"label: (6, 21)<br>conductivity: 0.7919857504213655<br>flow_rate: 0.0<br>\",\"label: (7, 8)<br>conductivity: 0.5336082156111601<br>flow_rate: 0.0<br>\",\"label: (8, 9)<br>conductivity: 0.6203849041350293<br>flow_rate: 0.0<br>\",\"label: (8, 23)<br>conductivity: 0.7684732892422071<br>flow_rate: 0.0<br>\",\"label: (9, 10)<br>conductivity: 0.5769813937767279<br>flow_rate: 0.0<br>\",\"label: (10, 11)<br>conductivity: 0.6825922713721293<br>flow_rate: 0.0<br>\",\"label: (10, 25)<br>conductivity: 0.5286048555231516<br>flow_rate: 0.0<br>\",\"label: (11, 12)<br>conductivity: 0.7864512203597501<br>flow_rate: 0.0<br>\",\"label: (12, 13)<br>conductivity: 0.6542299845386835<br>flow_rate: 0.0<br>\",\"label: (12, 27)<br>conductivity: 0.960849375414604<br>flow_rate: 0.0<br>\",\"label: (13, 14)<br>conductivity: 0.5616823769471788<br>flow_rate: 0.0<br>\",\"label: (14, 29)<br>conductivity: 0.5544077549972688<br>flow_rate: 0.0<br>\",\"label: (15, 16)<br>conductivity: 0.9320608869791536<br>flow_rate: 0.0<br>\",\"label: (16, 17)<br>conductivity: 0.652534863777452<br>flow_rate: 0.0<br>\",\"label: (16, 32)<br>conductivity: 0.7204293158429245<br>flow_rate: 0.0<br>\",\"label: (17, 18)<br>conductivity: 0.5677632853981253<br>flow_rate: 0.0<br>\",\"label: (18, 19)<br>conductivity: 0.6986649477364837<br>flow_rate: 0.0<br>\",\"label: (18, 34)<br>conductivity: 0.893407221805431<br>flow_rate: 0.0<br>\",\"label: (19, 20)<br>conductivity: 0.607059930543099<br>flow_rate: 0.0<br>\",\"label: (20, 21)<br>conductivity: 0.572261540774396<br>flow_rate: 0.0<br>\",\"label: (20, 36)<br>conductivity: 0.7448755817981578<br>flow_rate: 0.0<br>\",\"label: (21, 22)<br>conductivity: 0.9883758640997817<br>flow_rate: 0.0<br>\",\"label: (22, 23)<br>conductivity: 0.7692209773347365<br>flow_rate: 0.0<br>\",\"label: (22, 38)<br>conductivity: 0.8026552587746851<br>flow_rate: 0.0<br>\",\"label: (23, 24)<br>conductivity: 0.5784593774759441<br>flow_rate: 0.0<br>\",\"label: (24, 25)<br>conductivity: 0.9093874016110046<br>flow_rate: 0.0<br>\",\"label: (24, 40)<br>conductivity: 0.6466521297962364<br>flow_rate: 0.0<br>\",\"label: (25, 26)<br>conductivity: 0.9094754657650188<br>flow_rate: 0.0<br>\",\"label: (26, 27)<br>conductivity: 0.8742193312229368<br>flow_rate: 0.0<br>\",\"label: (26, 42)<br>conductivity: 0.7550153387550393<br>flow_rate: 0.0<br>\",\"label: (27, 28)<br>conductivity: 0.783868870970768<br>flow_rate: 0.0<br>\",\"label: (28, 29)<br>conductivity: 0.9837344265553759<br>flow_rate: 0.0<br>\",\"label: (28, 44)<br>conductivity: 0.5627589105492541<br>flow_rate: 0.0<br>\",\"label: (29, 30)<br>conductivity: 0.940229952691519<br>flow_rate: 0.0<br>\",\"label: (30, 46)<br>conductivity: 0.5768133828207298<br>flow_rate: 0.0<br>\",\"label: (31, 32)<br>conductivity: 0.9995059990500142<br>flow_rate: 0.0<br>\",\"label: (31, 47)<br>conductivity: 0.9454319678743864<br>flow_rate: 0.0<br>\",\"label: (32, 33)<br>conductivity: 0.7762914750598492<br>flow_rate: 0.0<br>\",\"label: (33, 34)<br>conductivity: 0.8580673808081859<br>flow_rate: 0.0<br>\",\"label: (33, 49)<br>conductivity: 0.5311661814056245<br>flow_rate: 0.0<br>\",\"label: (34, 35)<br>conductivity: 0.9893207843859566<br>flow_rate: 0.0<br>\",\"label: (35, 36)<br>conductivity: 0.8163949338561609<br>flow_rate: 0.0<br>\",\"label: (35, 51)<br>conductivity: 0.7999254344685834<br>flow_rate: 0.0<br>\",\"label: (36, 37)<br>conductivity: 0.9430859326122527<br>flow_rate: 0.0<br>\",\"label: (37, 38)<br>conductivity: 0.8657046040801867<br>flow_rate: 0.0<br>\",\"label: (37, 53)<br>conductivity: 0.622992505081634<br>flow_rate: 0.0<br>\",\"label: (38, 39)<br>conductivity: 0.7088069768977148<br>flow_rate: 0.0<br>\",\"label: (39, 40)<br>conductivity: 0.7961221234705818<br>flow_rate: 0.0<br>\",\"label: (39, 55)<br>conductivity: 0.7285508136643133<br>flow_rate: 0.0<br>\",\"label: (40, 41)<br>conductivity: 0.5584819913461514<br>flow_rate: 0.0<br>\",\"label: (41, 42)<br>conductivity: 0.6554511376816836<br>flow_rate: 0.0<br>\",\"label: (41, 57)<br>conductivity: 0.6353526714010396<br>flow_rate: 0.0<br>\",\"label: (42, 43)<br>conductivity: 0.5257635564352956<br>flow_rate: 0.0<br>\",\"label: (43, 44)<br>conductivity: 0.8627888374935038<br>flow_rate: 0.0<br>\",\"label: (43, 59)<br>conductivity: 0.749844029444805<br>flow_rate: 0.0<br>\",\"label: (44, 45)<br>conductivity: 0.6809394658140915<br>flow_rate: 0.0<br>\",\"label: (45, 46)<br>conductivity: 0.9189136921209107<br>flow_rate: 0.0<br>\",\"label: (45, 61)<br>conductivity: 0.6306824945214173<br>flow_rate: 0.0<br>\",\"label: (47, 48)<br>conductivity: 0.7610745552658635<br>flow_rate: 0.0<br>\",\"label: (48, 49)<br>conductivity: 0.6020226105440363<br>flow_rate: 0.0<br>\",\"label: (48, 64)<br>conductivity: 0.9420788836859113<br>flow_rate: 0.0<br>\",\"label: (49, 50)<br>conductivity: 0.7706990860177523<br>flow_rate: 0.0<br>\",\"label: (50, 51)<br>conductivity: 0.6075079502539329<br>flow_rate: 0.0<br>\",\"label: (50, 66)<br>conductivity: 0.519543973177232<br>flow_rate: 0.0<br>\",\"label: (51, 52)<br>conductivity: 0.5418835493487302<br>flow_rate: 0.0<br>\",\"label: (52, 53)<br>conductivity: 0.9179449057267591<br>flow_rate: 0.0<br>\",\"label: (52, 68)<br>conductivity: 0.9038345388357023<br>flow_rate: 0.0<br>\",\"label: (53, 54)<br>conductivity: 0.633356574478439<br>flow_rate: 0.0<br>\",\"label: (54, 55)<br>conductivity: 0.7073791237505074<br>flow_rate: 0.0<br>\",\"label: (54, 70)<br>conductivity: 0.5353696623627886<br>flow_rate: 0.0<br>\",\"label: (55, 56)<br>conductivity: 0.7266663630442558<br>flow_rate: 0.0<br>\",\"label: (56, 57)<br>conductivity: 0.5408321198391908<br>flow_rate: 0.0<br>\",\"label: (56, 72)<br>conductivity: 0.7566606588064457<br>flow_rate: 0.0<br>\",\"label: (57, 58)<br>conductivity: 0.8092856435722423<br>flow_rate: 0.0<br>\",\"label: (58, 59)<br>conductivity: 0.7176286907196014<br>flow_rate: 0.0<br>\",\"label: (58, 74)<br>conductivity: 0.6670815185210881<br>flow_rate: 0.0<br>\",\"label: (59, 60)<br>conductivity: 0.6727364147668766<br>flow_rate: 0.0<br>\",\"label: (60, 61)<br>conductivity: 0.6092074336799478<br>flow_rate: 0.0<br>\",\"label: (60, 76)<br>conductivity: 0.9390781607767336<br>flow_rate: 0.0<br>\",\"label: (61, 62)<br>conductivity: 0.9129418887061158<br>flow_rate: 0.0<br>\",\"label: (62, 78)<br>conductivity: 0.740517116637206<br>flow_rate: 0.0<br>\",\"label: (63, 64)<br>conductivity: 0.9914494829695897<br>flow_rate: 0.0<br>\",\"label: (63, 79)<br>conductivity: 0.8693329381838897<br>flow_rate: 0.0<br>\",\"label: (64, 65)<br>conductivity: 0.7820479589581232<br>flow_rate: 0.0<br>\",\"label: (65, 66)<br>conductivity: 0.8747886483534031<br>flow_rate: 0.0<br>\",\"label: (65, 81)<br>conductivity: 0.8850092501202468<br>flow_rate: 0.0<br>\",\"label: (66, 67)<br>conductivity: 0.8763605085620936<br>flow_rate: 0.0<br>\",\"label: (67, 68)<br>conductivity: 0.7617151662324101<br>flow_rate: 0.0<br>\",\"label: (67, 83)<br>conductivity: 0.920908042684055<br>flow_rate: 0.0<br>\",\"label: (68, 69)<br>conductivity: 0.8503865191238242<br>flow_rate: 0.0<br>\",\"label: (69, 70)<br>conductivity: 0.9398519785963755<br>flow_rate: 0.0<br>\",\"label: (69, 85)<br>conductivity: 0.8117303154051814<br>flow_rate: 0.0<br>\",\"label: (70, 71)<br>conductivity: 0.9769609088597457<br>flow_rate: 0.0<br>\",\"label: (71, 72)<br>conductivity: 0.9191337106872723<br>flow_rate: 0.0<br>\",\"label: (71, 87)<br>conductivity: 0.532814945461394<br>flow_rate: 0.0<br>\",\"label: (72, 73)<br>conductivity: 0.5351792878435531<br>flow_rate: 0.0<br>\",\"label: (73, 74)<br>conductivity: 0.900059956487125<br>flow_rate: 0.0<br>\",\"label: (73, 89)<br>conductivity: 0.6143572642505242<br>flow_rate: 0.0<br>\",\"label: (74, 75)<br>conductivity: 0.6497614256933646<br>flow_rate: 0.0<br>\",\"label: (75, 76)<br>conductivity: 0.7925919121639124<br>flow_rate: 0.0<br>\",\"label: (75, 91)<br>conductivity: 0.6439924120707499<br>flow_rate: 0.0<br>\",\"label: (76, 77)<br>conductivity: 0.671540079440661<br>flow_rate: 0.0<br>\",\"label: (77, 78)<br>conductivity: 0.6047992085302104<br>flow_rate: 0.0<br>\",\"label: (77, 93)<br>conductivity: 0.5594143195677873<br>flow_rate: 0.0<br>\",\"label: (79, 80)<br>conductivity: 0.9241047885395118<br>flow_rate: 0.0<br>\",\"label: (80, 81)<br>conductivity: 0.8819137964934056<br>flow_rate: 0.0<br>\",\"label: (80, 95)<br>conductivity: 0.5996978666388015<br>flow_rate: 0.0<br>\",\"label: (81, 82)<br>conductivity: 0.8590414531703556<br>flow_rate: 0.0<br>\",\"label: (82, 83)<br>conductivity: 0.5817390922677467<br>flow_rate: 0.0<br>\",\"label: (82, 97)<br>conductivity: 0.59075830127159<br>flow_rate: 0.0<br>\",\"label: (83, 84)<br>conductivity: 0.7954301187323857<br>flow_rate: 0.0<br>\",\"label: (84, 85)<br>conductivity: 0.6101676450449163<br>flow_rate: 0.0<br>\",\"label: (84, 99)<br>conductivity: 0.8042132579851358<br>flow_rate: 0.0<br>\",\"label: (85, 86)<br>conductivity: 0.9125136961944385<br>flow_rate: 0.0<br>\",\"label: (86, 87)<br>conductivity: 0.6509363869173399<br>flow_rate: 0.0<br>\",\"label: (86, 101)<br>conductivity: 0.7803073618826799<br>flow_rate: 0.0<br>\",\"label: (87, 88)<br>conductivity: 0.5791715419817793<br>flow_rate: 0.0<br>\",\"label: (88, 89)<br>conductivity: 0.834322449738331<br>flow_rate: 0.0<br>\",\"label: (88, 103)<br>conductivity: 0.8911300062628875<br>flow_rate: 0.0<br>\",\"label: (89, 90)<br>conductivity: 0.5288282913256603<br>flow_rate: 0.0<br>\",\"label: (90, 91)<br>conductivity: 0.5302377437955947<br>flow_rate: 0.0<br>\",\"label: (90, 105)<br>conductivity: 0.5432633274338539<br>flow_rate: 0.0<br>\",\"label: (91, 92)<br>conductivity: 0.538141129297053<br>flow_rate: 0.0<br>\",\"label: (92, 93)<br>conductivity: 0.9910621717082522<br>flow_rate: 0.0<br>\",\"label: (92, 107)<br>conductivity: 0.6008087461667029<br>flow_rate: 0.0<br>\",\"label: (93, 94)<br>conductivity: 0.6308518174315014<br>flow_rate: 0.0<br>\",\"label: (94, 109)<br>conductivity: 0.6332316847465771<br>flow_rate: 0.0<br>\",\"label: (95, 96)<br>conductivity: 0.6492552022694575<br>flow_rate: 0.0<br>\",\"label: (96, 97)<br>conductivity: 0.5450751981956958<br>flow_rate: 0.0<br>\",\"label: (97, 98)<br>conductivity: 0.8430634490387079<br>flow_rate: 0.0<br>\",\"label: (98, 99)<br>conductivity: 0.5073819259736625<br>flow_rate: 0.0<br>\",\"label: (99, 100)<br>conductivity: 0.99507019531789<br>flow_rate: 0.0<br>\",\"label: (100, 101)<br>conductivity: 0.5420748494210934<br>flow_rate: 0.0<br>\",\"label: (101, 102)<br>conductivity: 0.5952770406070662<br>flow_rate: 0.0<br>\",\"label: (102, 103)<br>conductivity: 0.7053737748798107<br>flow_rate: 0.0<br>\",\"label: (103, 104)<br>conductivity: 0.5828620084523711<br>flow_rate: 0.0<br>\",\"label: (104, 105)<br>conductivity: 0.9139847870176934<br>flow_rate: 0.0<br>\",\"label: (105, 106)<br>conductivity: 0.8745002249922582<br>flow_rate: 0.0<br>\",\"label: (106, 107)<br>conductivity: 0.5988155826368676<br>flow_rate: 0.0<br>\",\"label: (107, 108)<br>conductivity: 0.8744550689712058<br>flow_rate: 0.0<br>\",\"label: (108, 109)<br>conductivity: 0.9550073866806521<br>flow_rate: 0.0<br>\"],\"type\":\"scatter\",\"x\":[0.25,1.0,0.25,0.25,1.0,0.25,0.25,1.0,0.25,0.25,1.0,0.25,0.25,1.0,0.25,0.25,1.0,0.25,0.25,1.0,0.25,1.0,1.75,1.75,2.5,1.75,1.75,2.5,1.75,1.75,2.5,1.75,1.75,2.5,1.75,1.75,2.5,1.75,1.75,2.5,1.75,1.75,2.5,1.75,2.5,3.25,4.0,3.25,3.25,4.0,3.25,3.25,4.0,3.25,3.25,4.0,3.25,3.25,4.0,3.25,3.25,4.0,3.25,3.25,4.0,3.25,3.25,4.0,4.75,4.75,5.5,4.75,4.75,5.5,4.75,4.75,5.5,4.75,4.75,5.5,4.75,4.75,5.5,4.75,4.75,5.5,4.75,4.75,5.5,4.75,5.5,6.25,7.0,6.25,6.25,7.0,6.25,6.25,7.0,6.25,6.25,7.0,6.25,6.25,7.0,6.25,6.25,7.0,6.25,6.25,7.0,6.25,6.25,7.0,7.75,7.75,8.5,7.75,7.75,8.5,7.75,7.75,8.5,7.75,7.75,8.5,7.75,7.75,8.5,7.75,7.75,8.5,7.75,7.75,8.5,7.75,8.5,9.25,9.25,9.25,9.25,9.25,9.25,9.25,9.25,9.25,9.25,9.25,9.25,9.25,9.25],\"y\":[0.4330127018922193,0.0,1.299038105676658,2.1650635094610964,1.7320508075688772,3.031088913245535,3.8971143170299736,3.4641016151377544,4.763139720814412,5.629165124598851,5.196152422706632,6.49519052838329,7.3612159321677275,6.928203230275509,8.227241335952167,9.093266739736606,8.660254037844386,9.959292143521044,10.825317547305483,10.392304845413264,11.691342951089922,12.12435565298214,0.4330127018922193,1.299038105676658,0.8660254037844386,2.1650635094610964,3.031088913245535,2.598076211353316,3.8971143170299736,4.763139720814412,4.330127018922193,5.629165124598851,6.49519052838329,6.06217782649107,7.3612159321677275,8.227241335952167,7.794228634059947,9.093266739736606,9.959292143521044,9.526279441628825,10.825317547305483,11.691342951089922,11.258330249197702,12.55736835487436,12.990381056766578,0.4330127018922193,0.0,1.299038105676658,2.1650635094610964,1.7320508075688772,3.031088913245535,3.8971143170299736,3.4641016151377544,4.763139720814412,5.629165124598851,5.196152422706632,6.49519052838329,7.3612159321677275,6.928203230275509,8.227241335952167,9.093266739736606,8.660254037844386,9.959292143521044,10.825317547305483,10.392304845413264,11.691342951089922,12.55736835487436,12.12435565298214,0.4330127018922193,1.299038105676658,0.8660254037844386,2.1650635094610964,3.031088913245535,2.598076211353316,3.8971143170299736,4.763139720814412,4.330127018922193,5.629165124598851,6.49519052838329,6.06217782649107,7.3612159321677275,8.227241335952167,7.794228634059947,9.093266739736606,9.959292143521044,9.526279441628825,10.825317547305483,11.691342951089922,11.258330249197702,12.55736835487436,12.990381056766578,0.4330127018922193,0.0,1.299038105676658,2.1650635094610964,1.7320508075688772,3.031088913245535,3.8971143170299736,3.4641016151377544,4.763139720814412,5.629165124598851,5.196152422706632,6.49519052838329,7.3612159321677275,6.928203230275509,8.227241335952167,9.093266739736606,8.660254037844386,9.959292143521044,10.825317547305483,10.392304845413264,11.691342951089922,12.55736835487436,12.12435565298214,0.4330127018922193,1.299038105676658,0.8660254037844386,2.1650635094610964,3.031088913245535,2.598076211353316,3.8971143170299736,4.763139720814412,4.330127018922193,5.629165124598851,6.49519052838329,6.06217782649107,7.3612159321677275,8.227241335952167,7.794228634059947,9.093266739736606,9.959292143521044,9.526279441628825,10.825317547305483,11.691342951089922,11.258330249197702,12.55736835487436,12.990381056766578,1.299038105676658,2.1650635094610964,3.031088913245535,3.8971143170299736,4.763139720814412,5.629165124598851,6.49519052838329,7.3612159321677275,8.227241335952167,9.093266739736606,9.959292143521044,10.825317547305483,11.691342951089922,12.55736835487436]}],                        {\"showlegend\":false,\"template\":{\"data\":{\"bar\":[{\"error_x\":{\"color\":\"#2a3f5f\"},\"error_y\":{\"color\":\"#2a3f5f\"},\"marker\":{\"line\":{\"color\":\"#E5ECF6\",\"width\":0.5},\"pattern\":{\"fillmode\":\"overlay\",\"size\":10,\"solidity\":0.2}},\"type\":\"bar\"}],\"barpolar\":[{\"marker\":{\"line\":{\"color\":\"#E5ECF6\",\"width\":0.5},\"pattern\":{\"fillmode\":\"overlay\",\"size\":10,\"solidity\":0.2}},\"type\":\"barpolar\"}],\"carpet\":[{\"aaxis\":{\"endlinecolor\":\"#2a3f5f\",\"gridcolor\":\"white\",\"linecolor\":\"white\",\"minorgridcolor\":\"white\",\"startlinecolor\":\"#2a3f5f\"},\"baxis\":{\"endlinecolor\":\"#2a3f5f\",\"gridcolor\":\"white\",\"linecolor\":\"white\",\"minorgridcolor\":\"white\",\"startlinecolor\":\"#2a3f5f\"},\"type\":\"carpet\"}],\"choropleth\":[{\"colorbar\":{\"outlinewidth\":0,\"ticks\":\"\"},\"type\":\"choropleth\"}],\"contour\":[{\"colorbar\":{\"outlinewidth\":0,\"ticks\":\"\"},\"colorscale\":[[0.0,\"#0d0887\"],[0.1111111111111111,\"#46039f\"],[0.2222222222222222,\"#7201a8\"],[0.3333333333333333,\"#9c179e\"],[0.4444444444444444,\"#bd3786\"],[0.5555555555555556,\"#d8576b\"],[0.6666666666666666,\"#ed7953\"],[0.7777777777777778,\"#fb9f3a\"],[0.8888888888888888,\"#fdca26\"],[1.0,\"#f0f921\"]],\"type\":\"contour\"}],\"contourcarpet\":[{\"colorbar\":{\"outlinewidth\":0,\"ticks\":\"\"},\"type\":\"contourcarpet\"}],\"heatmap\":[{\"colorbar\":{\"outlinewidth\":0,\"ticks\":\"\"},\"colorscale\":[[0.0,\"#0d0887\"],[0.1111111111111111,\"#46039f\"],[0.2222222222222222,\"#7201a8\"],[0.3333333333333333,\"#9c179e\"],[0.4444444444444444,\"#bd3786\"],[0.5555555555555556,\"#d8576b\"],[0.6666666666666666,\"#ed7953\"],[0.7777777777777778,\"#fb9f3a\"],[0.8888888888888888,\"#fdca26\"],[1.0,\"#f0f921\"]],\"type\":\"heatmap\"}],\"heatmapgl\":[{\"colorbar\":{\"outlinewidth\":0,\"ticks\":\"\"},\"colorscale\":[[0.0,\"#0d0887\"],[0.1111111111111111,\"#46039f\"],[0.2222222222222222,\"#7201a8\"],[0.3333333333333333,\"#9c179e\"],[0.4444444444444444,\"#bd3786\"],[0.5555555555555556,\"#d8576b\"],[0.6666666666666666,\"#ed7953\"],[0.7777777777777778,\"#fb9f3a\"],[0.8888888888888888,\"#fdca26\"],[1.0,\"#f0f921\"]],\"type\":\"heatmapgl\"}],\"histogram\":[{\"marker\":{\"pattern\":{\"fillmode\":\"overlay\",\"size\":10,\"solidity\":0.2}},\"type\":\"histogram\"}],\"histogram2d\":[{\"colorbar\":{\"outlinewidth\":0,\"ticks\":\"\"},\"colorscale\":[[0.0,\"#0d0887\"],[0.1111111111111111,\"#46039f\"],[0.2222222222222222,\"#7201a8\"],[0.3333333333333333,\"#9c179e\"],[0.4444444444444444,\"#bd3786\"],[0.5555555555555556,\"#d8576b\"],[0.6666666666666666,\"#ed7953\"],[0.7777777777777778,\"#fb9f3a\"],[0.8888888888888888,\"#fdca26\"],[1.0,\"#f0f921\"]],\"type\":\"histogram2d\"}],\"histogram2dcontour\":[{\"colorbar\":{\"outlinewidth\":0,\"ticks\":\"\"},\"colorscale\":[[0.0,\"#0d0887\"],[0.1111111111111111,\"#46039f\"],[0.2222222222222222,\"#7201a8\"],[0.3333333333333333,\"#9c179e\"],[0.4444444444444444,\"#bd3786\"],[0.5555555555555556,\"#d8576b\"],[0.6666666666666666,\"#ed7953\"],[0.7777777777777778,\"#fb9f3a\"],[0.8888888888888888,\"#fdca26\"],[1.0,\"#f0f921\"]],\"type\":\"histogram2dcontour\"}],\"mesh3d\":[{\"colorbar\":{\"outlinewidth\":0,\"ticks\":\"\"},\"type\":\"mesh3d\"}],\"parcoords\":[{\"line\":{\"colorbar\":{\"outlinewidth\":0,\"ticks\":\"\"}},\"type\":\"parcoords\"}],\"pie\":[{\"automargin\":true,\"type\":\"pie\"}],\"scatter\":[{\"marker\":{\"colorbar\":{\"outlinewidth\":0,\"ticks\":\"\"}},\"type\":\"scatter\"}],\"scatter3d\":[{\"line\":{\"colorbar\":{\"outlinewidth\":0,\"ticks\":\"\"}},\"marker\":{\"colorbar\":{\"outlinewidth\":0,\"ticks\":\"\"}},\"type\":\"scatter3d\"}],\"scattercarpet\":[{\"marker\":{\"colorbar\":{\"outlinewidth\":0,\"ticks\":\"\"}},\"type\":\"scattercarpet\"}],\"scattergeo\":[{\"marker\":{\"colorbar\":{\"outlinewidth\":0,\"ticks\":\"\"}},\"type\":\"scattergeo\"}],\"scattergl\":[{\"marker\":{\"colorbar\":{\"outlinewidth\":0,\"ticks\":\"\"}},\"type\":\"scattergl\"}],\"scattermapbox\":[{\"marker\":{\"colorbar\":{\"outlinewidth\":0,\"ticks\":\"\"}},\"type\":\"scattermapbox\"}],\"scatterpolar\":[{\"marker\":{\"colorbar\":{\"outlinewidth\":0,\"ticks\":\"\"}},\"type\":\"scatterpolar\"}],\"scatterpolargl\":[{\"marker\":{\"colorbar\":{\"outlinewidth\":0,\"ticks\":\"\"}},\"type\":\"scatterpolargl\"}],\"scatterternary\":[{\"marker\":{\"colorbar\":{\"outlinewidth\":0,\"ticks\":\"\"}},\"type\":\"scatterternary\"}],\"surface\":[{\"colorbar\":{\"outlinewidth\":0,\"ticks\":\"\"},\"colorscale\":[[0.0,\"#0d0887\"],[0.1111111111111111,\"#46039f\"],[0.2222222222222222,\"#7201a8\"],[0.3333333333333333,\"#9c179e\"],[0.4444444444444444,\"#bd3786\"],[0.5555555555555556,\"#d8576b\"],[0.6666666666666666,\"#ed7953\"],[0.7777777777777778,\"#fb9f3a\"],[0.8888888888888888,\"#fdca26\"],[1.0,\"#f0f921\"]],\"type\":\"surface\"}],\"table\":[{\"cells\":{\"fill\":{\"color\":\"#EBF0F8\"},\"line\":{\"color\":\"white\"}},\"header\":{\"fill\":{\"color\":\"#C8D4E3\"},\"line\":{\"color\":\"white\"}},\"type\":\"table\"}]},\"layout\":{\"annotationdefaults\":{\"arrowcolor\":\"#2a3f5f\",\"arrowhead\":0,\"arrowwidth\":1},\"autotypenumbers\":\"strict\",\"coloraxis\":{\"colorbar\":{\"outlinewidth\":0,\"ticks\":\"\"}},\"colorscale\":{\"diverging\":[[0,\"#8e0152\"],[0.1,\"#c51b7d\"],[0.2,\"#de77ae\"],[0.3,\"#f1b6da\"],[0.4,\"#fde0ef\"],[0.5,\"#f7f7f7\"],[0.6,\"#e6f5d0\"],[0.7,\"#b8e186\"],[0.8,\"#7fbc41\"],[0.9,\"#4d9221\"],[1,\"#276419\"]],\"sequential\":[[0.0,\"#0d0887\"],[0.1111111111111111,\"#46039f\"],[0.2222222222222222,\"#7201a8\"],[0.3333333333333333,\"#9c179e\"],[0.4444444444444444,\"#bd3786\"],[0.5555555555555556,\"#d8576b\"],[0.6666666666666666,\"#ed7953\"],[0.7777777777777778,\"#fb9f3a\"],[0.8888888888888888,\"#fdca26\"],[1.0,\"#f0f921\"]],\"sequentialminus\":[[0.0,\"#0d0887\"],[0.1111111111111111,\"#46039f\"],[0.2222222222222222,\"#7201a8\"],[0.3333333333333333,\"#9c179e\"],[0.4444444444444444,\"#bd3786\"],[0.5555555555555556,\"#d8576b\"],[0.6666666666666666,\"#ed7953\"],[0.7777777777777778,\"#fb9f3a\"],[0.8888888888888888,\"#fdca26\"],[1.0,\"#f0f921\"]]},\"colorway\":[\"#636efa\",\"#EF553B\",\"#00cc96\",\"#ab63fa\",\"#FFA15A\",\"#19d3f3\",\"#FF6692\",\"#B6E880\",\"#FF97FF\",\"#FECB52\"],\"font\":{\"color\":\"#2a3f5f\"},\"geo\":{\"bgcolor\":\"white\",\"lakecolor\":\"white\",\"landcolor\":\"#E5ECF6\",\"showlakes\":true,\"showland\":true,\"subunitcolor\":\"white\"},\"hoverlabel\":{\"align\":\"left\"},\"hovermode\":\"closest\",\"mapbox\":{\"style\":\"light\"},\"paper_bgcolor\":\"white\",\"plot_bgcolor\":\"#E5ECF6\",\"polar\":{\"angularaxis\":{\"gridcolor\":\"white\",\"linecolor\":\"white\",\"ticks\":\"\"},\"bgcolor\":\"#E5ECF6\",\"radialaxis\":{\"gridcolor\":\"white\",\"linecolor\":\"white\",\"ticks\":\"\"}},\"scene\":{\"xaxis\":{\"backgroundcolor\":\"#E5ECF6\",\"gridcolor\":\"white\",\"gridwidth\":2,\"linecolor\":\"white\",\"showbackground\":true,\"ticks\":\"\",\"zerolinecolor\":\"white\"},\"yaxis\":{\"backgroundcolor\":\"#E5ECF6\",\"gridcolor\":\"white\",\"gridwidth\":2,\"linecolor\":\"white\",\"showbackground\":true,\"ticks\":\"\",\"zerolinecolor\":\"white\"},\"zaxis\":{\"backgroundcolor\":\"#E5ECF6\",\"gridcolor\":\"white\",\"gridwidth\":2,\"linecolor\":\"white\",\"showbackground\":true,\"ticks\":\"\",\"zerolinecolor\":\"white\"}},\"shapedefaults\":{\"line\":{\"color\":\"#2a3f5f\"}},\"ternary\":{\"aaxis\":{\"gridcolor\":\"white\",\"linecolor\":\"white\",\"ticks\":\"\"},\"baxis\":{\"gridcolor\":\"white\",\"linecolor\":\"white\",\"ticks\":\"\"},\"bgcolor\":\"#E5ECF6\",\"caxis\":{\"gridcolor\":\"white\",\"linecolor\":\"white\",\"ticks\":\"\"}},\"title\":{\"x\":0.05},\"xaxis\":{\"automargin\":true,\"gridcolor\":\"white\",\"linecolor\":\"white\",\"ticks\":\"\",\"title\":{\"standoff\":15},\"zerolinecolor\":\"white\",\"zerolinewidth\":2},\"yaxis\":{\"automargin\":true,\"gridcolor\":\"white\",\"linecolor\":\"white\",\"ticks\":\"\",\"title\":{\"standoff\":15},\"zerolinecolor\":\"white\",\"zerolinewidth\":2}}}},                        {\"responsive\": true}                    ).then(function(){\n",
       "                            \n",
       "var gd = document.getElementById('d00ad913-e523-4c68-a321-9d8cd19f39a9');\n",
       "var x = new MutationObserver(function (mutations, observer) {{\n",
       "        var display = window.getComputedStyle(gd).display;\n",
       "        if (!display || display === 'none') {{\n",
       "            console.log([gd, 'removed!']);\n",
       "            Plotly.purge(gd);\n",
       "            observer.disconnect();\n",
       "        }}\n",
       "}});\n",
       "\n",
       "// Listen for the removal of the full notebook cells\n",
       "var notebookContainer = gd.closest('#notebook-container');\n",
       "if (notebookContainer) {{\n",
       "    x.observe(notebookContainer, {childList: true});\n",
       "}}\n",
       "\n",
       "// Listen for the clearing of the current output cell\n",
       "var outputEl = gd.closest('.output');\n",
       "if (outputEl) {{\n",
       "    x.observe(outputEl, {childList: true});\n",
       "}}\n",
       "\n",
       "                        })                };                });            </script>        </div>"
      ]
     },
     "metadata": {},
     "output_type": "display_data"
    }
   ],
   "source": [
    "# #initialize circuit+flow pattern\n",
    "cfp={\n",
    "    'type': 'hexagonal',\n",
    "    'periods': 3,\n",
    "    'source':'dipole_border',\n",
    "    'plexus':'default',\n",
    "}\n",
    "flow=gfm.initialize_flow_on_crystal(cfp)\n",
    "flow.circuit.nodes['label'] = [n for n in flow.circuit.G.nodes()]\n",
    "flow.circuit.edges['label'] = [e for e in flow.circuit.G.edges()]\n",
    "\n",
    "# set model and model parameters\n",
    "mp={\n",
    "    'alpha_0':1,\n",
    "    'alpha_1':1.\n",
    "}\n",
    "murray=gfm.init(model='murray',pars=mp)\n",
    "\n",
    "# initialize dynamic system and set integration parameters\n",
    "morpheus=gi.morph_dynamic(flow=flow,model=murray)   \n",
    "sp={\n",
    "    't0': 0.,\n",
    "    't1': 5.5,\n",
    "    'x0': np.power(morpheus.flow.circuit.edges['conductivity']/morpheus.flow.circuit.scales['conductance'],0.25),\n",
    "}\n",
    "\n",
    "# plot initial network with data of choice\n",
    "flow.circuit.draw_weight_scaling=2.\n",
    "fig=flow.circuit.plot_circuit()\n",
    "fig.show()"
   ]
  },
  {
   "cell_type": "code",
   "execution_count": 8,
   "metadata": {},
   "outputs": [],
   "source": [
    "# numerically evaluate the system\n",
    "nsol=morpheus.nsolve(murray.calc_update_stimuli,(sp['t0'],sp['t1']),sp['x0'], **murray.solver_options)\n",
    "murray.jac=False\n",
    "cost=[murray.calc_cost_stimuli(t,y,*murray.solver_options['args']) for t,y in zip(nsol.t,nsol.y.transpose())]"
   ]
  },
  {
   "cell_type": "code",
   "execution_count": 9,
   "metadata": {},
   "outputs": [
    {
     "data": {
      "image/png": "[encoded data removed]",
      "text/plain": [
       "<Figure size 864x432 with 2 Axes>"
      ]
     },
     "metadata": {
      "needs_background": "light"
     },
     "output_type": "display_data"
    }
   ],
   "source": [
    "# # plot dynamic data such as radii and costs\n",
    "import matplotlib.pyplot as plt\n",
    "fig,axs=plt.subplots(2,1,figsize=(12,6),sharex=True)\n",
    "axs[0].plot(nsol.t,nsol.y.transpose(),alpha=0.1,color='b')\n",
    "axs[1].plot(nsol.t,cost,alpha=0.2,color='b')\n",
    "\n",
    "for i in range(2):\n",
    "    axs[i].grid(True)\n",
    "    \n",
    "axs[1].set_xlabel(r'time $t$')\n",
    "axs[0].set_ylabel(r'radii $r$')\n",
    "axs[1].set_ylabel(r'metabolic cost $\\Gamma$')\n",
    "plt.show()"
   ]
  },
  {
   "cell_type": "code",
   "execution_count": 10,
   "metadata": {
    "scrolled": false
   },
   "outputs": [
    {
     "data": {
      "application/vnd.plotly.v1+json": {
       "config": {
        "plotlyServerURL": "https://plot.ly"
       },
       "data": [
        {
         "hoverinfo": "text",
         "hovertext": [
          "label: 0<br>source: 0.0<br>",
          "label: 1<br>source: -1.0<br>",
          "label: 2<br>source: 0.0<br>",
          "label: 3<br>source: -1.0<br>",
          "label: 4<br>source: 0.0<br>",
          "label: 5<br>source: -1.0<br>",
          "label: 6<br>source: 0.0<br>",
          "label: 7<br>source: -1.0<br>",
          "label: 8<br>source: 0.0<br>",
          "label: 9<br>source: -1.0<br>",
          "label: 10<br>source: 0.0<br>",
          "label: 11<br>source: -1.0<br>",
          "label: 12<br>source: 0.0<br>",
          "label: 13<br>source: -1.0<br>",
          "label: 14<br>source: 0.0<br>",
          "label: 15<br>source: 0.0<br>",
          "label: 16<br>source: 0.0<br>",
          "label: 17<br>source: 0.0<br>",
          "label: 18<br>source: 0.0<br>",
          "label: 19<br>source: 0.0<br>",
          "label: 20<br>source: 0.0<br>",
          "label: 21<br>source: 0.0<br>",
          "label: 22<br>source: 0.0<br>",
          "label: 23<br>source: 0.0<br>",
          "label: 24<br>source: 0.0<br>",
          "label: 25<br>source: 0.0<br>",
          "label: 26<br>source: 0.0<br>",
          "label: 27<br>source: 0.0<br>",
          "label: 28<br>source: 0.0<br>",
          "label: 29<br>source: 0.0<br>",
          "label: 30<br>source: 0.0<br>",
          "label: 31<br>source: 0.0<br>",
          "label: 32<br>source: 0.0<br>",
          "label: 33<br>source: 0.0<br>",
          "label: 34<br>source: 0.0<br>",
          "label: 35<br>source: 0.0<br>",
          "label: 36<br>source: 0.0<br>",
          "label: 37<br>source: 0.0<br>",
          "label: 38<br>source: 0.0<br>",
          "label: 39<br>source: 0.0<br>",
          "label: 40<br>source: 0.0<br>",
          "label: 41<br>source: 0.0<br>",
          "label: 42<br>source: 0.0<br>",
          "label: 43<br>source: 0.0<br>",
          "label: 44<br>source: 0.0<br>",
          "label: 45<br>source: 0.0<br>",
          "label: 46<br>source: 0.0<br>",
          "label: 47<br>source: 0.0<br>",
          "label: 48<br>source: 0.0<br>",
          "label: 49<br>source: 0.0<br>",
          "label: 50<br>source: 0.0<br>",
          "label: 51<br>source: 0.0<br>",
          "label: 52<br>source: 0.0<br>",
          "label: 53<br>source: 0.0<br>",
          "label: 54<br>source: 0.0<br>",
          "label: 55<br>source: 0.0<br>",
          "label: 56<br>source: 0.0<br>",
          "label: 57<br>source: 0.0<br>",
          "label: 58<br>source: 0.0<br>",
          "label: 59<br>source: 0.0<br>",
          "label: 60<br>source: 0.0<br>",
          "label: 61<br>source: 0.0<br>",
          "label: 62<br>source: 0.0<br>",
          "label: 63<br>source: 0.0<br>",
          "label: 64<br>source: 0.0<br>",
          "label: 65<br>source: 0.0<br>",
          "label: 66<br>source: 0.0<br>",
          "label: 67<br>source: 0.0<br>",
          "label: 68<br>source: 0.0<br>",
          "label: 69<br>source: 0.0<br>",
          "label: 70<br>source: 0.0<br>",
          "label: 71<br>source: 0.0<br>",
          "label: 72<br>source: 0.0<br>",
          "label: 73<br>source: 0.0<br>",
          "label: 74<br>source: 0.0<br>",
          "label: 75<br>source: 0.0<br>",
          "label: 76<br>source: 0.0<br>",
          "label: 77<br>source: 0.0<br>",
          "label: 78<br>source: 0.0<br>",
          "label: 79<br>source: 0.0<br>",
          "label: 80<br>source: 0.0<br>",
          "label: 81<br>source: 0.0<br>",
          "label: 82<br>source: 0.0<br>",
          "label: 83<br>source: 0.0<br>",
          "label: 84<br>source: 0.0<br>",
          "label: 85<br>source: 0.0<br>",
          "label: 86<br>source: 0.0<br>",
          "label: 87<br>source: 0.0<br>",
          "label: 88<br>source: 0.0<br>",
          "label: 89<br>source: 0.0<br>",
          "label: 90<br>source: 0.0<br>",
          "label: 91<br>source: 0.0<br>",
          "label: 92<br>source: 0.0<br>",
          "label: 93<br>source: 0.0<br>",
          "label: 94<br>source: 0.0<br>",
          "label: 95<br>source: 0.0<br>",
          "label: 96<br>source: 1.0<br>",
          "label: 97<br>source: 0.0<br>",
          "label: 98<br>source: 1.0<br>",
          "label: 99<br>source: 0.0<br>",
          "label: 100<br>source: 1.0<br>",
          "label: 101<br>source: 0.0<br>",
          "label: 102<br>source: 1.0<br>",
          "label: 103<br>source: 0.0<br>",
          "label: 104<br>source: 1.0<br>",
          "label: 105<br>source: 0.0<br>",
          "label: 106<br>source: 1.0<br>",
          "label: 107<br>source: 0.0<br>",
          "label: 108<br>source: 1.0<br>",
          "label: 109<br>source: 0.0<br>"
         ],
         "marker": {
          "color": "#a845b5",
          "line": {
           "width": 2
          },
          "size": 2
         },
         "mode": "markers",
         "type": "scatter",
         "x": [
          0.5,
          0,
          0.5,
          0,
          0.5,
          0,
          0.5,
          0,
          0.5,
          0,
          0.5,
          0,
          0.5,
          0,
          0.5,
          1.5,
          2,
          1.5,
          2,
          1.5,
          2,
          1.5,
          2,
          1.5,
          2,
          1.5,
          2,
          1.5,
          2,
          1.5,
          2,
          3.5,
          3,
          3.5,
          3,
          3.5,
          3,
          3.5,
          3,
          3.5,
          3,
          3.5,
          3,
          3.5,
          3,
          3.5,
          3,
          4.5,
          5,
          4.5,
          5,
          4.5,
          5,
          4.5,
          5,
          4.5,
          5,
          4.5,
          5,
          4.5,
          5,
          4.5,
          5,
          6.5,
          6,
          6.5,
          6,
          6.5,
          6,
          6.5,
          6,
          6.5,
          6,
          6.5,
          6,
          6.5,
          6,
          6.5,
          6,
          7.5,
          8,
          7.5,
          8,
          7.5,
          8,
          7.5,
          8,
          7.5,
          8,
          7.5,
          8,
          7.5,
          8,
          7.5,
          8,
          9,
          9.5,
          9,
          9.5,
          9,
          9.5,
          9,
          9.5,
          9,
          9.5,
          9,
          9.5,
          9,
          9.5,
          9
         ],
         "y": [
          0,
          0.8660254037844386,
          1.7320508075688772,
          2.598076211353316,
          3.4641016151377544,
          4.330127018922193,
          5.196152422706632,
          6.06217782649107,
          6.928203230275509,
          7.794228634059947,
          8.660254037844386,
          9.526279441628825,
          10.392304845413264,
          11.258330249197702,
          12.12435565298214,
          0,
          0.8660254037844386,
          1.7320508075688772,
          2.598076211353316,
          3.4641016151377544,
          4.330127018922193,
          5.196152422706632,
          6.06217782649107,
          6.928203230275509,
          7.794228634059947,
          8.660254037844386,
          9.526279441628825,
          10.392304845413264,
          11.258330249197702,
          12.12435565298214,
          12.990381056766578,
          0,
          0.8660254037844386,
          1.7320508075688772,
          2.598076211353316,
          3.4641016151377544,
          4.330127018922193,
          5.196152422706632,
          6.06217782649107,
          6.928203230275509,
          7.794228634059947,
          8.660254037844386,
          9.526279441628825,
          10.392304845413264,
          11.258330249197702,
          12.12435565298214,
          12.990381056766578,
          0,
          0.8660254037844386,
          1.7320508075688772,
          2.598076211353316,
          3.4641016151377544,
          4.330127018922193,
          5.196152422706632,
          6.06217782649107,
          6.928203230275509,
          7.794228634059947,
          8.660254037844386,
          9.526279441628825,
          10.392304845413264,
          11.258330249197702,
          12.12435565298214,
          12.990381056766578,
          0,
          0.8660254037844386,
          1.7320508075688772,
          2.598076211353316,
          3.4641016151377544,
          4.330127018922193,
          5.196152422706632,
          6.06217782649107,
          6.928203230275509,
          7.794228634059947,
          8.660254037844386,
          9.526279441628825,
          10.392304845413264,
          11.258330249197702,
          12.12435565298214,
          12.990381056766578,
          0,
          0.8660254037844386,
          1.7320508075688772,
          2.598076211353316,
          3.4641016151377544,
          4.330127018922193,
          5.196152422706632,
          6.06217782649107,
          6.928203230275509,
          7.794228634059947,
          8.660254037844386,
          9.526279441628825,
          10.392304845413264,
          11.258330249197702,
          12.12435565298214,
          12.990381056766578,
          0.8660254037844386,
          1.7320508075688772,
          2.598076211353316,
          3.4641016151377544,
          4.330127018922193,
          5.196152422706632,
          6.06217782649107,
          6.928203230275509,
          7.794228634059947,
          8.660254037844386,
          9.526279441628825,
          10.392304845413264,
          11.258330249197702,
          12.12435565298214,
          12.990381056766578
         ]
        },
        {
         "hoverinfo": "none",
         "line": {
          "color": "#c762d4",
          "width": 1.122461926857865
         },
         "mode": "lines",
         "type": "scatter",
         "x": [
          0.5,
          0,
          null
         ],
         "y": [
          0,
          0.8660254037844386,
          null
         ]
        },
        {
         "hoverinfo": "none",
         "line": {
          "color": "#c762d4",
          "width": 1.1224619268606013
         },
         "mode": "lines",
         "type": "scatter",
         "x": [
          0.5,
          1.5,
          null
         ],
         "y": [
          0,
          0,
          null
         ]
        },
        {
         "hoverinfo": "none",
         "line": {
          "color": "#c762d4",
          "width": 4.644858017554543e-05
         },
         "mode": "lines",
         "type": "scatter",
         "x": [
          0,
          0.5,
          null
         ],
         "y": [
          0.8660254037844386,
          1.7320508075688772,
          null
         ]
        },
        {
         "hoverinfo": "none",
         "line": {
          "color": "#c762d4",
          "width": 1.1224618126752335
         },
         "mode": "lines",
         "type": "scatter",
         "x": [
          0.5,
          0,
          null
         ],
         "y": [
          1.7320508075688772,
          2.598076211353316,
          null
         ]
        },
        {
         "hoverinfo": "none",
         "line": {
          "color": "#c762d4",
          "width": 1.1224619347883682
         },
         "mode": "lines",
         "type": "scatter",
         "x": [
          0.5,
          1.5,
          null
         ],
         "y": [
          1.7320508075688772,
          1.7320508075688772,
          null
         ]
        },
        {
         "hoverinfo": "none",
         "line": {
          "color": "#c762d4",
          "width": 5.367681193433859e-05
         },
         "mode": "lines",
         "type": "scatter",
         "x": [
          0,
          0.5,
          null
         ],
         "y": [
          2.598076211353316,
          3.4641016151377544,
          null
         ]
        },
        {
         "hoverinfo": "none",
         "line": {
          "color": "#c762d4",
          "width": 6.932435670193108e-05
         },
         "mode": "lines",
         "type": "scatter",
         "x": [
          0.5,
          0,
          null
         ],
         "y": [
          3.4641016151377544,
          4.330127018922193,
          null
         ]
        },
        {
         "hoverinfo": "none",
         "line": {
          "color": "#c762d4",
          "width": 7.86781325723064e-05
         },
         "mode": "lines",
         "type": "scatter",
         "x": [
          0.5,
          1.5,
          null
         ],
         "y": [
          3.4641016151377544,
          3.4641016151377544,
          null
         ]
        },
        {
         "hoverinfo": "none",
         "line": {
          "color": "#c762d4",
          "width": 1.122461581017808
         },
         "mode": "lines",
         "type": "scatter",
         "x": [
          0,
          0.5,
          null
         ],
         "y": [
          4.330127018922193,
          5.196152422706632,
          null
         ]
        },
        {
         "hoverinfo": "none",
         "line": {
          "color": "#c762d4",
          "width": 1.1224620429811933
         },
         "mode": "lines",
         "type": "scatter",
         "x": [
          0.5,
          0,
          null
         ],
         "y": [
          5.196152422706632,
          6.06217782649107,
          null
         ]
        },
        {
         "hoverinfo": "none",
         "line": {
          "color": "#c762d4",
          "width": 1.4142132657517792
         },
         "mode": "lines",
         "type": "scatter",
         "x": [
          0.5,
          1.5,
          null
         ],
         "y": [
          5.196152422706632,
          5.196152422706632,
          null
         ]
        },
        {
         "hoverinfo": "none",
         "line": {
          "color": "#c762d4",
          "width": 2.6446800747727955e-05
         },
         "mode": "lines",
         "type": "scatter",
         "x": [
          0,
          0.5,
          null
         ],
         "y": [
          6.06217782649107,
          6.928203230275509,
          null
         ]
        },
        {
         "hoverinfo": "none",
         "line": {
          "color": "#c762d4",
          "width": 1.1223062608394083
         },
         "mode": "lines",
         "type": "scatter",
         "x": [
          0.5,
          0,
          null
         ],
         "y": [
          6.928203230275509,
          7.794228634059947,
          null
         ]
        },
        {
         "hoverinfo": "none",
         "line": {
          "color": "#c762d4",
          "width": 1.1223062674195443
         },
         "mode": "lines",
         "type": "scatter",
         "x": [
          0.5,
          1.5,
          null
         ],
         "y": [
          6.928203230275509,
          6.928203230275509,
          null
         ]
        },
        {
         "hoverinfo": "none",
         "line": {
          "color": "#c762d4",
          "width": 0.00034697711025691405
         },
         "mode": "lines",
         "type": "scatter",
         "x": [
          0,
          0.5,
          null
         ],
         "y": [
          7.794228634059947,
          8.660254037844386,
          null
         ]
        },
        {
         "hoverinfo": "none",
         "line": {
          "color": "#c762d4",
          "width": 3.12722570774068e-05
         },
         "mode": "lines",
         "type": "scatter",
         "x": [
          0.5,
          0,
          null
         ],
         "y": [
          8.660254037844386,
          9.526279441628825,
          null
         ]
        },
        {
         "hoverinfo": "none",
         "line": {
          "color": "#c762d4",
          "width": 0.00034696927510465616
         },
         "mode": "lines",
         "type": "scatter",
         "x": [
          0.5,
          1.5,
          null
         ],
         "y": [
          8.660254037844386,
          8.660254037844386,
          null
         ]
        },
        {
         "hoverinfo": "none",
         "line": {
          "color": "#c762d4",
          "width": 1.1224620481294132
         },
         "mode": "lines",
         "type": "scatter",
         "x": [
          0,
          0.5,
          null
         ],
         "y": [
          9.526279441628825,
          10.392304845413264,
          null
         ]
        },
        {
         "hoverinfo": "none",
         "line": {
          "color": "#c762d4",
          "width": 1.1224608803350686
         },
         "mode": "lines",
         "type": "scatter",
         "x": [
          0.5,
          0,
          null
         ],
         "y": [
          10.392304845413264,
          11.258330249197702,
          null
         ]
        },
        {
         "hoverinfo": "none",
         "line": {
          "color": "#c762d4",
          "width": 1.4142128356391244
         },
         "mode": "lines",
         "type": "scatter",
         "x": [
          0.5,
          1.5,
          null
         ],
         "y": [
          10.392304845413264,
          10.392304845413264,
          null
         ]
        },
        {
         "hoverinfo": "none",
         "line": {
          "color": "#c762d4",
          "width": 8.983402501580603e-05
         },
         "mode": "lines",
         "type": "scatter",
         "x": [
          0,
          0.5,
          null
         ],
         "y": [
          11.258330249197702,
          12.12435565298214,
          null
         ]
        },
        {
         "hoverinfo": "none",
         "line": {
          "color": "#c762d4",
          "width": 8.983339279517672e-05
         },
         "mode": "lines",
         "type": "scatter",
         "x": [
          0.5,
          1.5,
          null
         ],
         "y": [
          12.12435565298214,
          12.12435565298214,
          null
         ]
        },
        {
         "hoverinfo": "none",
         "line": {
          "color": "#c762d4",
          "width": 1.1224619268616423
         },
         "mode": "lines",
         "type": "scatter",
         "x": [
          1.5,
          2,
          null
         ],
         "y": [
          0,
          0.8660254037844386,
          null
         ]
        },
        {
         "hoverinfo": "none",
         "line": {
          "color": "#c762d4",
          "width": 1.1224615739522956
         },
         "mode": "lines",
         "type": "scatter",
         "x": [
          2,
          1.5,
          null
         ],
         "y": [
          0.8660254037844386,
          1.7320508075688772,
          null
         ]
        },
        {
         "hoverinfo": "none",
         "line": {
          "color": "#c762d4",
          "width": 1.414213187833199
         },
         "mode": "lines",
         "type": "scatter",
         "x": [
          2,
          3,
          null
         ],
         "y": [
          0.8660254037844386,
          0.8660254037844386,
          null
         ]
        },
        {
         "hoverinfo": "none",
         "line": {
          "color": "#c762d4",
          "width": 6.38445030004554e-05
         },
         "mode": "lines",
         "type": "scatter",
         "x": [
          1.5,
          2,
          null
         ],
         "y": [
          1.7320508075688772,
          2.598076211353316,
          null
         ]
        },
        {
         "hoverinfo": "none",
         "line": {
          "color": "#c762d4",
          "width": 6.998320186321799e-05
         },
         "mode": "lines",
         "type": "scatter",
         "x": [
          2,
          1.5,
          null
         ],
         "y": [
          2.598076211353316,
          3.4641016151377544,
          null
         ]
        },
        {
         "hoverinfo": "none",
         "line": {
          "color": "#c762d4",
          "width": 8.444913690403094e-05
         },
         "mode": "lines",
         "type": "scatter",
         "x": [
          2,
          3,
          null
         ],
         "y": [
          2.598076211353316,
          2.598076211353316,
          null
         ]
        },
        {
         "hoverinfo": "none",
         "line": {
          "color": "#c762d4",
          "width": 5.262354005383175e-05
         },
         "mode": "lines",
         "type": "scatter",
         "x": [
          1.5,
          2,
          null
         ],
         "y": [
          3.4641016151377544,
          4.330127018922193,
          null
         ]
        },
        {
         "hoverinfo": "none",
         "line": {
          "color": "#c762d4",
          "width": 4.229426688429367e-05
         },
         "mode": "lines",
         "type": "scatter",
         "x": [
          2,
          1.5,
          null
         ],
         "y": [
          4.330127018922193,
          5.196152422706632,
          null
         ]
        },
        {
         "hoverinfo": "none",
         "line": {
          "color": "#c762d4",
          "width": 6.0207704888425334e-05
         },
         "mode": "lines",
         "type": "scatter",
         "x": [
          2,
          3,
          null
         ],
         "y": [
          4.330127018922193,
          4.330127018922193,
          null
         ]
        },
        {
         "hoverinfo": "none",
         "line": {
          "color": "#c762d4",
          "width": 1.4142132224001982
         },
         "mode": "lines",
         "type": "scatter",
         "x": [
          1.5,
          2,
          null
         ],
         "y": [
          5.196152422706632,
          6.06217782649107,
          null
         ]
        },
        {
         "hoverinfo": "none",
         "line": {
          "color": "#c762d4",
          "width": 1.1223061680042494
         },
         "mode": "lines",
         "type": "scatter",
         "x": [
          2,
          1.5,
          null
         ],
         "y": [
          6.06217782649107,
          6.928203230275509,
          null
         ]
        },
        {
         "hoverinfo": "none",
         "line": {
          "color": "#c762d4",
          "width": 1.6187943023922513
         },
         "mode": "lines",
         "type": "scatter",
         "x": [
          2,
          3,
          null
         ],
         "y": [
          6.06217782649107,
          6.06217782649107,
          null
         ]
        },
        {
         "hoverinfo": "none",
         "line": {
          "color": "#c762d4",
          "width": 4.333641488886423e-05
         },
         "mode": "lines",
         "type": "scatter",
         "x": [
          1.5,
          2,
          null
         ],
         "y": [
          6.928203230275509,
          7.794228634059947,
          null
         ]
        },
        {
         "hoverinfo": "none",
         "line": {
          "color": "#c762d4",
          "width": 7.902852691839591e-05
         },
         "mode": "lines",
         "type": "scatter",
         "x": [
          2,
          1.5,
          null
         ],
         "y": [
          7.794228634059947,
          8.660254037844386,
          null
         ]
        },
        {
         "hoverinfo": "none",
         "line": {
          "color": "#c762d4",
          "width": 8.286221596765783e-05
         },
         "mode": "lines",
         "type": "scatter",
         "x": [
          2,
          3,
          null
         ],
         "y": [
          7.794228634059947,
          7.794228634059947,
          null
         ]
        },
        {
         "hoverinfo": "none",
         "line": {
          "color": "#c762d4",
          "width": 0.0003462725775979272
         },
         "mode": "lines",
         "type": "scatter",
         "x": [
          1.5,
          2,
          null
         ],
         "y": [
          8.660254037844386,
          9.526279441628825,
          null
         ]
        },
        {
         "hoverinfo": "none",
         "line": {
          "color": "#c762d4",
          "width": 0.00011888536569279444
         },
         "mode": "lines",
         "type": "scatter",
         "x": [
          2,
          1.5,
          null
         ],
         "y": [
          9.526279441628825,
          10.392304845413264,
          null
         ]
        },
        {
         "hoverinfo": "none",
         "line": {
          "color": "#c762d4",
          "width": 0.0003472540675086269
         },
         "mode": "lines",
         "type": "scatter",
         "x": [
          2,
          3,
          null
         ],
         "y": [
          9.526279441628825,
          9.526279441628825,
          null
         ]
        },
        {
         "hoverinfo": "none",
         "line": {
          "color": "#c762d4",
          "width": 1.4142127243911242
         },
         "mode": "lines",
         "type": "scatter",
         "x": [
          1.5,
          2,
          null
         ],
         "y": [
          10.392304845413264,
          11.258330249197702,
          null
         ]
        },
        {
         "hoverinfo": "none",
         "line": {
          "color": "#c762d4",
          "width": 7.2717892566668e-05
         },
         "mode": "lines",
         "type": "scatter",
         "x": [
          2,
          1.5,
          null
         ],
         "y": [
          11.258330249197702,
          12.12435565298214,
          null
         ]
        },
        {
         "hoverinfo": "none",
         "line": {
          "color": "#c762d4",
          "width": 1.4142131609871411
         },
         "mode": "lines",
         "type": "scatter",
         "x": [
          2,
          3,
          null
         ],
         "y": [
          11.258330249197702,
          11.258330249197702,
          null
         ]
        },
        {
         "hoverinfo": "none",
         "line": {
          "color": "#c762d4",
          "width": 6.993170728710209e-05
         },
         "mode": "lines",
         "type": "scatter",
         "x": [
          1.5,
          2,
          null
         ],
         "y": [
          12.12435565298214,
          12.990381056766578,
          null
         ]
        },
        {
         "hoverinfo": "none",
         "line": {
          "color": "#c762d4",
          "width": 6.99304594437922e-05
         },
         "mode": "lines",
         "type": "scatter",
         "x": [
          2,
          3,
          null
         ],
         "y": [
          12.990381056766578,
          12.990381056766578,
          null
         ]
        },
        {
         "hoverinfo": "none",
         "line": {
          "color": "#c762d4",
          "width": 1.4142131708348742
         },
         "mode": "lines",
         "type": "scatter",
         "x": [
          3.5,
          3,
          null
         ],
         "y": [
          0,
          0.8660254037844386,
          null
         ]
        },
        {
         "hoverinfo": "none",
         "line": {
          "color": "#c762d4",
          "width": 1.4142131708346712
         },
         "mode": "lines",
         "type": "scatter",
         "x": [
          3.5,
          4.5,
          null
         ],
         "y": [
          0,
          0,
          null
         ]
        },
        {
         "hoverinfo": "none",
         "line": {
          "color": "#c762d4",
          "width": 3.3610609024479995e-05
         },
         "mode": "lines",
         "type": "scatter",
         "x": [
          3,
          3.5,
          null
         ],
         "y": [
          0.8660254037844386,
          1.7320508075688772,
          null
         ]
        },
        {
         "hoverinfo": "none",
         "line": {
          "color": "#c762d4",
          "width": 5.429385446326592e-05
         },
         "mode": "lines",
         "type": "scatter",
         "x": [
          3.5,
          3,
          null
         ],
         "y": [
          1.7320508075688772,
          2.598076211353316,
          null
         ]
        },
        {
         "hoverinfo": "none",
         "line": {
          "color": "#c762d4",
          "width": 5.782015197555029e-05
         },
         "mode": "lines",
         "type": "scatter",
         "x": [
          3.5,
          4.5,
          null
         ],
         "y": [
          1.7320508075688772,
          1.7320508075688772,
          null
         ]
        },
        {
         "hoverinfo": "none",
         "line": {
          "color": "#c762d4",
          "width": 7.632234168078622e-05
         },
         "mode": "lines",
         "type": "scatter",
         "x": [
          3,
          3.5,
          null
         ],
         "y": [
          2.598076211353316,
          3.4641016151377544,
          null
         ]
        },
        {
         "hoverinfo": "none",
         "line": {
          "color": "#c762d4",
          "width": 3.5307299237046965e-05
         },
         "mode": "lines",
         "type": "scatter",
         "x": [
          3.5,
          3,
          null
         ],
         "y": [
          3.4641016151377544,
          4.330127018922193,
          null
         ]
        },
        {
         "hoverinfo": "none",
         "line": {
          "color": "#c762d4",
          "width": 7.832693630423497e-05
         },
         "mode": "lines",
         "type": "scatter",
         "x": [
          3.5,
          4.5,
          null
         ],
         "y": [
          3.4641016151377544,
          3.4641016151377544,
          null
         ]
        },
        {
         "hoverinfo": "none",
         "line": {
          "color": "#c762d4",
          "width": 5.622738405577739e-05
         },
         "mode": "lines",
         "type": "scatter",
         "x": [
          3,
          3.5,
          null
         ],
         "y": [
          4.330127018922193,
          5.196152422706632,
          null
         ]
        },
        {
         "hoverinfo": "none",
         "line": {
          "color": "#c762d4",
          "width": 1.4142137989290857
         },
         "mode": "lines",
         "type": "scatter",
         "x": [
          3.5,
          3,
          null
         ],
         "y": [
          5.196152422706632,
          6.06217782649107,
          null
         ]
        },
        {
         "hoverinfo": "none",
         "line": {
          "color": "#c762d4",
          "width": 1.4142139369327422
         },
         "mode": "lines",
         "type": "scatter",
         "x": [
          3.5,
          4.5,
          null
         ],
         "y": [
          5.196152422706632,
          5.196152422706632,
          null
         ]
        },
        {
         "hoverinfo": "none",
         "line": {
          "color": "#c762d4",
          "width": 1.122305155733596
         },
         "mode": "lines",
         "type": "scatter",
         "x": [
          3,
          3.5,
          null
         ],
         "y": [
          6.06217782649107,
          6.928203230275509,
          null
         ]
        },
        {
         "hoverinfo": "none",
         "line": {
          "color": "#c762d4",
          "width": 7.071764323992655e-05
         },
         "mode": "lines",
         "type": "scatter",
         "x": [
          3.5,
          3,
          null
         ],
         "y": [
          6.928203230275509,
          7.794228634059947,
          null
         ]
        },
        {
         "hoverinfo": "none",
         "line": {
          "color": "#c762d4",
          "width": 1.1223059283142423
         },
         "mode": "lines",
         "type": "scatter",
         "x": [
          3.5,
          4.5,
          null
         ],
         "y": [
          6.928203230275509,
          6.928203230275509,
          null
         ]
        },
        {
         "hoverinfo": "none",
         "line": {
          "color": "#c762d4",
          "width": 6.051450448152445e-05
         },
         "mode": "lines",
         "type": "scatter",
         "x": [
          3,
          3.5,
          null
         ],
         "y": [
          7.794228634059947,
          8.660254037844386,
          null
         ]
        },
        {
         "hoverinfo": "none",
         "line": {
          "color": "#c762d4",
          "width": 0.00034657315093959283
         },
         "mode": "lines",
         "type": "scatter",
         "x": [
          3.5,
          3,
          null
         ],
         "y": [
          8.660254037844386,
          9.526279441628825,
          null
         ]
        },
        {
         "hoverinfo": "none",
         "line": {
          "color": "#c762d4",
          "width": 0.0003469056914433999
         },
         "mode": "lines",
         "type": "scatter",
         "x": [
          3.5,
          4.5,
          null
         ],
         "y": [
          8.660254037844386,
          8.660254037844386,
          null
         ]
        },
        {
         "hoverinfo": "none",
         "line": {
          "color": "#c762d4",
          "width": 7.623257296243754e-05
         },
         "mode": "lines",
         "type": "scatter",
         "x": [
          3,
          3.5,
          null
         ],
         "y": [
          9.526279441628825,
          10.392304845413264,
          null
         ]
        },
        {
         "hoverinfo": "none",
         "line": {
          "color": "#c762d4",
          "width": 1.4142129891656798
         },
         "mode": "lines",
         "type": "scatter",
         "x": [
          3.5,
          3,
          null
         ],
         "y": [
          10.392304845413264,
          11.258330249197702,
          null
         ]
        },
        {
         "hoverinfo": "none",
         "line": {
          "color": "#c762d4",
          "width": 1.4142135738105361
         },
         "mode": "lines",
         "type": "scatter",
         "x": [
          3.5,
          4.5,
          null
         ],
         "y": [
          10.392304845413264,
          10.392304845413264,
          null
         ]
        },
        {
         "hoverinfo": "none",
         "line": {
          "color": "#c762d4",
          "width": 5.788211041840272e-05
         },
         "mode": "lines",
         "type": "scatter",
         "x": [
          3,
          3.5,
          null
         ],
         "y": [
          11.258330249197702,
          12.12435565298214,
          null
         ]
        },
        {
         "hoverinfo": "none",
         "line": {
          "color": "#c762d4",
          "width": 6.993150204948157e-05
         },
         "mode": "lines",
         "type": "scatter",
         "x": [
          3.5,
          3,
          null
         ],
         "y": [
          12.12435565298214,
          12.990381056766578,
          null
         ]
        },
        {
         "hoverinfo": "none",
         "line": {
          "color": "#c762d4",
          "width": 8.114512335988634e-05
         },
         "mode": "lines",
         "type": "scatter",
         "x": [
          3.5,
          4.5,
          null
         ],
         "y": [
          12.12435565298214,
          12.12435565298214,
          null
         ]
        },
        {
         "hoverinfo": "none",
         "line": {
          "color": "#c762d4",
          "width": 1.4142131708336194
         },
         "mode": "lines",
         "type": "scatter",
         "x": [
          4.5,
          5,
          null
         ],
         "y": [
          0,
          0.8660254037844386,
          null
         ]
        },
        {
         "hoverinfo": "none",
         "line": {
          "color": "#c762d4",
          "width": 3.877837908052767e-05
         },
         "mode": "lines",
         "type": "scatter",
         "x": [
          5,
          4.5,
          null
         ],
         "y": [
          0.8660254037844386,
          1.7320508075688772,
          null
         ]
        },
        {
         "hoverinfo": "none",
         "line": {
          "color": "#c762d4",
          "width": 1.4142132090170891
         },
         "mode": "lines",
         "type": "scatter",
         "x": [
          5,
          6,
          null
         ],
         "y": [
          0.8660254037844386,
          0.8660254037844386,
          null
         ]
        },
        {
         "hoverinfo": "none",
         "line": {
          "color": "#c762d4",
          "width": 5.1395410899893014e-05
         },
         "mode": "lines",
         "type": "scatter",
         "x": [
          4.5,
          5,
          null
         ],
         "y": [
          1.7320508075688772,
          2.598076211353316,
          null
         ]
        },
        {
         "hoverinfo": "none",
         "line": {
          "color": "#c762d4",
          "width": 6.59898981591111e-05
         },
         "mode": "lines",
         "type": "scatter",
         "x": [
          5,
          4.5,
          null
         ],
         "y": [
          2.598076211353316,
          3.4641016151377544,
          null
         ]
        },
        {
         "hoverinfo": "none",
         "line": {
          "color": "#c762d4",
          "width": 7.490140243490206e-05
         },
         "mode": "lines",
         "type": "scatter",
         "x": [
          5,
          6,
          null
         ],
         "y": [
          2.598076211353316,
          2.598076211353316,
          null
         ]
        },
        {
         "hoverinfo": "none",
         "line": {
          "color": "#c762d4",
          "width": 5.795091363669424e-05
         },
         "mode": "lines",
         "type": "scatter",
         "x": [
          4.5,
          5,
          null
         ],
         "y": [
          3.4641016151377544,
          4.330127018922193,
          null
         ]
        },
        {
         "hoverinfo": "none",
         "line": {
          "color": "#c762d4",
          "width": 1.414213389868356
         },
         "mode": "lines",
         "type": "scatter",
         "x": [
          5,
          4.5,
          null
         ],
         "y": [
          4.330127018922193,
          5.196152422706632,
          null
         ]
        },
        {
         "hoverinfo": "none",
         "line": {
          "color": "#c762d4",
          "width": 1.414213553579482
         },
         "mode": "lines",
         "type": "scatter",
         "x": [
          5,
          6,
          null
         ],
         "y": [
          4.330127018922193,
          4.330127018922193,
          null
         ]
        },
        {
         "hoverinfo": "none",
         "line": {
          "color": "#c762d4",
          "width": 7.282261738897741e-05
         },
         "mode": "lines",
         "type": "scatter",
         "x": [
          4.5,
          5,
          null
         ],
         "y": [
          5.196152422706632,
          6.06217782649107,
          null
         ]
        },
        {
         "hoverinfo": "none",
         "line": {
          "color": "#c762d4",
          "width": 6.751335954676269e-05
         },
         "mode": "lines",
         "type": "scatter",
         "x": [
          5,
          4.5,
          null
         ],
         "y": [
          6.06217782649107,
          6.928203230275509,
          null
         ]
        },
        {
         "hoverinfo": "none",
         "line": {
          "color": "#c762d4",
          "width": 8.778787862953747e-05
         },
         "mode": "lines",
         "type": "scatter",
         "x": [
          5,
          6,
          null
         ],
         "y": [
          6.06217782649107,
          6.06217782649107,
          null
         ]
        },
        {
         "hoverinfo": "none",
         "line": {
          "color": "#c762d4",
          "width": 1.1223054228051161
         },
         "mode": "lines",
         "type": "scatter",
         "x": [
          4.5,
          5,
          null
         ],
         "y": [
          6.928203230275509,
          7.794228634059947,
          null
         ]
        },
        {
         "hoverinfo": "none",
         "line": {
          "color": "#c762d4",
          "width": 2.4999526436548175e-05
         },
         "mode": "lines",
         "type": "scatter",
         "x": [
          5,
          4.5,
          null
         ],
         "y": [
          7.794228634059947,
          8.660254037844386,
          null
         ]
        },
        {
         "hoverinfo": "none",
         "line": {
          "color": "#c762d4",
          "width": 1.1223054430598527
         },
         "mode": "lines",
         "type": "scatter",
         "x": [
          5,
          6,
          null
         ],
         "y": [
          7.794228634059947,
          7.794228634059947,
          null
         ]
        },
        {
         "hoverinfo": "none",
         "line": {
          "color": "#c762d4",
          "width": 0.00034689918065643975
         },
         "mode": "lines",
         "type": "scatter",
         "x": [
          4.5,
          5,
          null
         ],
         "y": [
          8.660254037844386,
          9.526279441628825,
          null
         ]
        },
        {
         "hoverinfo": "none",
         "line": {
          "color": "#c762d4",
          "width": 7.8582525518217e-05
         },
         "mode": "lines",
         "type": "scatter",
         "x": [
          5,
          4.5,
          null
         ],
         "y": [
          9.526279441628825,
          10.392304845413264,
          null
         ]
        },
        {
         "hoverinfo": "none",
         "line": {
          "color": "#c762d4",
          "width": 0.00034774756327043006
         },
         "mode": "lines",
         "type": "scatter",
         "x": [
          5,
          6,
          null
         ],
         "y": [
          9.526279441628825,
          9.526279441628825,
          null
         ]
        },
        {
         "hoverinfo": "none",
         "line": {
          "color": "#c762d4",
          "width": 1.4142129641081087
         },
         "mode": "lines",
         "type": "scatter",
         "x": [
          4.5,
          5,
          null
         ],
         "y": [
          10.392304845413264,
          11.258330249197702,
          null
         ]
        },
        {
         "hoverinfo": "none",
         "line": {
          "color": "#c762d4",
          "width": 4.161994787499023e-05
         },
         "mode": "lines",
         "type": "scatter",
         "x": [
          5,
          4.5,
          null
         ],
         "y": [
          11.258330249197702,
          12.12435565298214,
          null
         ]
        },
        {
         "hoverinfo": "none",
         "line": {
          "color": "#c762d4",
          "width": 1.4142130155615606
         },
         "mode": "lines",
         "type": "scatter",
         "x": [
          5,
          6,
          null
         ],
         "y": [
          11.258330249197702,
          11.258330249197702,
          null
         ]
        },
        {
         "hoverinfo": "none",
         "line": {
          "color": "#c762d4",
          "width": 7.77225447705639e-05
         },
         "mode": "lines",
         "type": "scatter",
         "x": [
          4.5,
          5,
          null
         ],
         "y": [
          12.12435565298214,
          12.990381056766578,
          null
         ]
        },
        {
         "hoverinfo": "none",
         "line": {
          "color": "#c762d4",
          "width": 7.772220150219354e-05
         },
         "mode": "lines",
         "type": "scatter",
         "x": [
          5,
          6,
          null
         ],
         "y": [
          12.990381056766578,
          12.990381056766578,
          null
         ]
        },
        {
         "hoverinfo": "none",
         "line": {
          "color": "#c762d4",
          "width": 1.1224606900075016
         },
         "mode": "lines",
         "type": "scatter",
         "x": [
          6.5,
          6,
          null
         ],
         "y": [
          0,
          0.8660254037844386,
          null
         ]
        },
        {
         "hoverinfo": "none",
         "line": {
          "color": "#c762d4",
          "width": 1.1224606900057492
         },
         "mode": "lines",
         "type": "scatter",
         "x": [
          6.5,
          7.5,
          null
         ],
         "y": [
          0,
          0,
          null
         ]
        },
        {
         "hoverinfo": "none",
         "line": {
          "color": "#c762d4",
          "width": 1.1224628486999357
         },
         "mode": "lines",
         "type": "scatter",
         "x": [
          6,
          6.5,
          null
         ],
         "y": [
          0.8660254037844386,
          1.7320508075688772,
          null
         ]
        },
        {
         "hoverinfo": "none",
         "line": {
          "color": "#c762d4",
          "width": 6.449497902139772e-05
         },
         "mode": "lines",
         "type": "scatter",
         "x": [
          6.5,
          6,
          null
         ],
         "y": [
          1.7320508075688772,
          2.598076211353316,
          null
         ]
        },
        {
         "hoverinfo": "none",
         "line": {
          "color": "#c762d4",
          "width": 1.1224632513448438
         },
         "mode": "lines",
         "type": "scatter",
         "x": [
          6.5,
          7.5,
          null
         ],
         "y": [
          1.7320508075688772,
          1.7320508075688772,
          null
         ]
        },
        {
         "hoverinfo": "none",
         "line": {
          "color": "#c762d4",
          "width": 5.3684094509693775e-05
         },
         "mode": "lines",
         "type": "scatter",
         "x": [
          6,
          6.5,
          null
         ],
         "y": [
          2.598076211353316,
          3.4641016151377544,
          null
         ]
        },
        {
         "hoverinfo": "none",
         "line": {
          "color": "#c762d4",
          "width": 1.122461875437588
         },
         "mode": "lines",
         "type": "scatter",
         "x": [
          6.5,
          6,
          null
         ],
         "y": [
          3.4641016151377544,
          4.330127018922193,
          null
         ]
        },
        {
         "hoverinfo": "none",
         "line": {
          "color": "#c762d4",
          "width": 1.1224620728850874
         },
         "mode": "lines",
         "type": "scatter",
         "x": [
          6.5,
          7.5,
          null
         ],
         "y": [
          3.4641016151377544,
          3.4641016151377544,
          null
         ]
        },
        {
         "hoverinfo": "none",
         "line": {
          "color": "#c762d4",
          "width": 1.1224622039936798
         },
         "mode": "lines",
         "type": "scatter",
         "x": [
          6,
          6.5,
          null
         ],
         "y": [
          4.330127018922193,
          5.196152422706632,
          null
         ]
        },
        {
         "hoverinfo": "none",
         "line": {
          "color": "#c762d4",
          "width": 4.044075605838408e-05
         },
         "mode": "lines",
         "type": "scatter",
         "x": [
          6.5,
          6,
          null
         ],
         "y": [
          5.196152422706632,
          6.06217782649107,
          null
         ]
        },
        {
         "hoverinfo": "none",
         "line": {
          "color": "#c762d4",
          "width": 1.1224621979250433
         },
         "mode": "lines",
         "type": "scatter",
         "x": [
          6.5,
          7.5,
          null
         ],
         "y": [
          5.196152422706632,
          5.196152422706632,
          null
         ]
        },
        {
         "hoverinfo": "none",
         "line": {
          "color": "#c762d4",
          "width": 8.840802014766594e-05
         },
         "mode": "lines",
         "type": "scatter",
         "x": [
          6,
          6.5,
          null
         ],
         "y": [
          6.06217782649107,
          6.928203230275509,
          null
         ]
        },
        {
         "hoverinfo": "none",
         "line": {
          "color": "#c762d4",
          "width": 1.1223042251340267
         },
         "mode": "lines",
         "type": "scatter",
         "x": [
          6.5,
          6,
          null
         ],
         "y": [
          6.928203230275509,
          7.794228634059947,
          null
         ]
        },
        {
         "hoverinfo": "none",
         "line": {
          "color": "#c762d4",
          "width": 1.1223057037698922
         },
         "mode": "lines",
         "type": "scatter",
         "x": [
          6.5,
          7.5,
          null
         ],
         "y": [
          6.928203230275509,
          6.928203230275509,
          null
         ]
        },
        {
         "hoverinfo": "none",
         "line": {
          "color": "#c762d4",
          "width": 8.320272051165298e-05
         },
         "mode": "lines",
         "type": "scatter",
         "x": [
          6,
          6.5,
          null
         ],
         "y": [
          7.794228634059947,
          8.660254037844386,
          null
         ]
        },
        {
         "hoverinfo": "none",
         "line": {
          "color": "#c762d4",
          "width": 0.0003477285465080629
         },
         "mode": "lines",
         "type": "scatter",
         "x": [
          6.5,
          6,
          null
         ],
         "y": [
          8.660254037844386,
          9.526279441628825,
          null
         ]
        },
        {
         "hoverinfo": "none",
         "line": {
          "color": "#c762d4",
          "width": 0.0003487474264841518
         },
         "mode": "lines",
         "type": "scatter",
         "x": [
          6.5,
          7.5,
          null
         ],
         "y": [
          8.660254037844386,
          8.660254037844386,
          null
         ]
        },
        {
         "hoverinfo": "none",
         "line": {
          "color": "#c762d4",
          "width": 3.9920282156564766e-05
         },
         "mode": "lines",
         "type": "scatter",
         "x": [
          6,
          6.5,
          null
         ],
         "y": [
          9.526279441628825,
          10.392304845413264,
          null
         ]
        },
        {
         "hoverinfo": "none",
         "line": {
          "color": "#c762d4",
          "width": 0.00013273976042092162
         },
         "mode": "lines",
         "type": "scatter",
         "x": [
          6.5,
          6,
          null
         ],
         "y": [
          10.392304845413264,
          11.258330249197702,
          null
         ]
        },
        {
         "hoverinfo": "none",
         "line": {
          "color": "#c762d4",
          "width": 0.0001331440089970616
         },
         "mode": "lines",
         "type": "scatter",
         "x": [
          6.5,
          7.5,
          null
         ],
         "y": [
          10.392304845413264,
          10.392304845413264,
          null
         ]
        },
        {
         "hoverinfo": "none",
         "line": {
          "color": "#c762d4",
          "width": 1.4142094159598
         },
         "mode": "lines",
         "type": "scatter",
         "x": [
          6,
          6.5,
          null
         ],
         "y": [
          11.258330249197702,
          12.12435565298214,
          null
         ]
        },
        {
         "hoverinfo": "none",
         "line": {
          "color": "#c762d4",
          "width": 7.772205608364695e-05
         },
         "mode": "lines",
         "type": "scatter",
         "x": [
          6.5,
          6,
          null
         ],
         "y": [
          12.12435565298214,
          12.990381056766578,
          null
         ]
        },
        {
         "hoverinfo": "none",
         "line": {
          "color": "#c762d4",
          "width": 1.4142099241609025
         },
         "mode": "lines",
         "type": "scatter",
         "x": [
          6.5,
          7.5,
          null
         ],
         "y": [
          12.12435565298214,
          12.12435565298214,
          null
         ]
        },
        {
         "hoverinfo": "none",
         "line": {
          "color": "#c762d4",
          "width": 1.1224606900063685
         },
         "mode": "lines",
         "type": "scatter",
         "x": [
          7.5,
          8,
          null
         ],
         "y": [
          0,
          0.8660254037844386,
          null
         ]
        },
        {
         "hoverinfo": "none",
         "line": {
          "color": "#c762d4",
          "width": 9.009112452349402e-05
         },
         "mode": "lines",
         "type": "scatter",
         "x": [
          8,
          7.5,
          null
         ],
         "y": [
          0.8660254037844386,
          1.7320508075688772,
          null
         ]
        },
        {
         "hoverinfo": "none",
         "line": {
          "color": "#c762d4",
          "width": 1.1224620086224604
         },
         "mode": "lines",
         "type": "scatter",
         "x": [
          8,
          9,
          null
         ],
         "y": [
          0.8660254037844386,
          0.8660254037844386,
          null
         ]
        },
        {
         "hoverinfo": "none",
         "line": {
          "color": "#c762d4",
          "width": 1.1224619403060279
         },
         "mode": "lines",
         "type": "scatter",
         "x": [
          7.5,
          8,
          null
         ],
         "y": [
          1.7320508075688772,
          2.598076211353316,
          null
         ]
        },
        {
         "hoverinfo": "none",
         "line": {
          "color": "#c762d4",
          "width": 3.8991747448088354e-05
         },
         "mode": "lines",
         "type": "scatter",
         "x": [
          8,
          7.5,
          null
         ],
         "y": [
          2.598076211353316,
          3.4641016151377544,
          null
         ]
        },
        {
         "hoverinfo": "none",
         "line": {
          "color": "#c762d4",
          "width": 1.1224620085125105
         },
         "mode": "lines",
         "type": "scatter",
         "x": [
          8,
          9,
          null
         ],
         "y": [
          2.598076211353316,
          2.598076211353316,
          null
         ]
        },
        {
         "hoverinfo": "none",
         "line": {
          "color": "#c762d4",
          "width": 1.1224620046689104
         },
         "mode": "lines",
         "type": "scatter",
         "x": [
          7.5,
          8,
          null
         ],
         "y": [
          3.4641016151377544,
          4.330127018922193,
          null
         ]
        },
        {
         "hoverinfo": "none",
         "line": {
          "color": "#c762d4",
          "width": 4.367623762753457e-05
         },
         "mode": "lines",
         "type": "scatter",
         "x": [
          8,
          7.5,
          null
         ],
         "y": [
          4.330127018922193,
          5.196152422706632,
          null
         ]
        },
        {
         "hoverinfo": "none",
         "line": {
          "color": "#c762d4",
          "width": 1.1224621017682108
         },
         "mode": "lines",
         "type": "scatter",
         "x": [
          8,
          9,
          null
         ],
         "y": [
          4.330127018922193,
          4.330127018922193,
          null
         ]
        },
        {
         "hoverinfo": "none",
         "line": {
          "color": "#c762d4",
          "width": 1.1224621019852346
         },
         "mode": "lines",
         "type": "scatter",
         "x": [
          7.5,
          8,
          null
         ],
         "y": [
          5.196152422706632,
          6.06217782649107,
          null
         ]
        },
        {
         "hoverinfo": "none",
         "line": {
          "color": "#c762d4",
          "width": 2.7910963416050484e-05
         },
         "mode": "lines",
         "type": "scatter",
         "x": [
          8,
          7.5,
          null
         ],
         "y": [
          6.06217782649107,
          6.928203230275509,
          null
         ]
        },
        {
         "hoverinfo": "none",
         "line": {
          "color": "#c762d4",
          "width": 1.1224620947050077
         },
         "mode": "lines",
         "type": "scatter",
         "x": [
          8,
          9,
          null
         ],
         "y": [
          6.06217782649107,
          6.06217782649107,
          null
         ]
        },
        {
         "hoverinfo": "none",
         "line": {
          "color": "#c762d4",
          "width": 1.1223057111412336
         },
         "mode": "lines",
         "type": "scatter",
         "x": [
          7.5,
          8,
          null
         ],
         "y": [
          6.928203230275509,
          7.794228634059947,
          null
         ]
        },
        {
         "hoverinfo": "none",
         "line": {
          "color": "#c762d4",
          "width": 0.00034747310467099957
         },
         "mode": "lines",
         "type": "scatter",
         "x": [
          8,
          7.5,
          null
         ],
         "y": [
          7.794228634059947,
          8.660254037844386,
          null
         ]
        },
        {
         "hoverinfo": "none",
         "line": {
          "color": "#c762d4",
          "width": 1.1224619034635166
         },
         "mode": "lines",
         "type": "scatter",
         "x": [
          8,
          9,
          null
         ],
         "y": [
          7.794228634059947,
          7.794228634059947,
          null
         ]
        },
        {
         "hoverinfo": "none",
         "line": {
          "color": "#c762d4",
          "width": 0.00011999133148187165
         },
         "mode": "lines",
         "type": "scatter",
         "x": [
          7.5,
          8,
          null
         ],
         "y": [
          8.660254037844386,
          9.526279441628825,
          null
         ]
        },
        {
         "hoverinfo": "none",
         "line": {
          "color": "#c762d4",
          "width": 0.00013281446704627495
         },
         "mode": "lines",
         "type": "scatter",
         "x": [
          8,
          7.5,
          null
         ],
         "y": [
          9.526279441628825,
          10.392304845413264,
          null
         ]
        },
        {
         "hoverinfo": "none",
         "line": {
          "color": "#c762d4",
          "width": 0.0001558149496678062
         },
         "mode": "lines",
         "type": "scatter",
         "x": [
          8,
          9,
          null
         ],
         "y": [
          9.526279441628825,
          9.526279441628825,
          null
         ]
        },
        {
         "hoverinfo": "none",
         "line": {
          "color": "#c762d4",
          "width": 3.823114766949071e-05
         },
         "mode": "lines",
         "type": "scatter",
         "x": [
          7.5,
          8,
          null
         ],
         "y": [
          10.392304845413264,
          11.258330249197702,
          null
         ]
        },
        {
         "hoverinfo": "none",
         "line": {
          "color": "#c762d4",
          "width": 1.4142097508897593
         },
         "mode": "lines",
         "type": "scatter",
         "x": [
          8,
          7.5,
          null
         ],
         "y": [
          11.258330249197702,
          12.12435565298214,
          null
         ]
        },
        {
         "hoverinfo": "none",
         "line": {
          "color": "#c762d4",
          "width": 1.4142097749643103
         },
         "mode": "lines",
         "type": "scatter",
         "x": [
          8,
          9,
          null
         ],
         "y": [
          11.258330249197702,
          11.258330249197702,
          null
         ]
        },
        {
         "hoverinfo": "none",
         "line": {
          "color": "#c762d4",
          "width": 5.654172442808124e-05
         },
         "mode": "lines",
         "type": "scatter",
         "x": [
          7.5,
          8,
          null
         ],
         "y": [
          12.12435565298214,
          12.990381056766578,
          null
         ]
        },
        {
         "hoverinfo": "none",
         "line": {
          "color": "#c762d4",
          "width": 5.654163308471295e-05
         },
         "mode": "lines",
         "type": "scatter",
         "x": [
          8,
          9,
          null
         ],
         "y": [
          12.990381056766578,
          12.990381056766578,
          null
         ]
        },
        {
         "hoverinfo": "none",
         "line": {
          "color": "#c762d4",
          "width": 1.1224620086226027
         },
         "mode": "lines",
         "type": "scatter",
         "x": [
          9,
          9.5,
          null
         ],
         "y": [
          0.8660254037844386,
          1.7320508075688772,
          null
         ]
        },
        {
         "hoverinfo": "none",
         "line": {
          "color": "#c762d4",
          "width": 3.431111699077335e-05
         },
         "mode": "lines",
         "type": "scatter",
         "x": [
          9.5,
          9,
          null
         ],
         "y": [
          1.7320508075688772,
          2.598076211353316,
          null
         ]
        },
        {
         "hoverinfo": "none",
         "line": {
          "color": "#c762d4",
          "width": 1.1224619688248354
         },
         "mode": "lines",
         "type": "scatter",
         "x": [
          9,
          9.5,
          null
         ],
         "y": [
          2.598076211353316,
          3.4641016151377544,
          null
         ]
        },
        {
         "hoverinfo": "none",
         "line": {
          "color": "#c762d4",
          "width": 4.056355140134569e-05
         },
         "mode": "lines",
         "type": "scatter",
         "x": [
          9.5,
          9,
          null
         ],
         "y": [
          3.4641016151377544,
          4.330127018922193,
          null
         ]
        },
        {
         "hoverinfo": "none",
         "line": {
          "color": "#c762d4",
          "width": 1.1224620223964328
         },
         "mode": "lines",
         "type": "scatter",
         "x": [
          9,
          9.5,
          null
         ],
         "y": [
          4.330127018922193,
          5.196152422706632,
          null
         ]
        },
        {
         "hoverinfo": "none",
         "line": {
          "color": "#c762d4",
          "width": 3.065968423291494e-05
         },
         "mode": "lines",
         "type": "scatter",
         "x": [
          9.5,
          9,
          null
         ],
         "y": [
          5.196152422706632,
          6.06217782649107,
          null
         ]
        },
        {
         "hoverinfo": "none",
         "line": {
          "color": "#c762d4",
          "width": 1.1224620690260874
         },
         "mode": "lines",
         "type": "scatter",
         "x": [
          9,
          9.5,
          null
         ],
         "y": [
          6.06217782649107,
          6.928203230275509,
          null
         ]
        },
        {
         "hoverinfo": "none",
         "line": {
          "color": "#c762d4",
          "width": 3.49209413433224e-05
         },
         "mode": "lines",
         "type": "scatter",
         "x": [
          9.5,
          9,
          null
         ],
         "y": [
          6.928203230275509,
          7.794228634059947,
          null
         ]
        },
        {
         "hoverinfo": "none",
         "line": {
          "color": "#c762d4",
          "width": 1.1224619246019896
         },
         "mode": "lines",
         "type": "scatter",
         "x": [
          9,
          9.5,
          null
         ],
         "y": [
          7.794228634059947,
          8.660254037844386,
          null
         ]
        },
        {
         "hoverinfo": "none",
         "line": {
          "color": "#c762d4",
          "width": 4.003999476600957e-05
         },
         "mode": "lines",
         "type": "scatter",
         "x": [
          9.5,
          9,
          null
         ],
         "y": [
          8.660254037844386,
          9.526279441628825,
          null
         ]
        },
        {
         "hoverinfo": "none",
         "line": {
          "color": "#c762d4",
          "width": 0.000155061210470536
         },
         "mode": "lines",
         "type": "scatter",
         "x": [
          9,
          9.5,
          null
         ],
         "y": [
          9.526279441628825,
          10.392304845413264,
          null
         ]
        },
        {
         "hoverinfo": "none",
         "line": {
          "color": "#c762d4",
          "width": 1.1224558678966432
         },
         "mode": "lines",
         "type": "scatter",
         "x": [
          9.5,
          9,
          null
         ],
         "y": [
          10.392304845413264,
          11.258330249197702,
          null
         ]
        },
        {
         "hoverinfo": "none",
         "line": {
          "color": "#c762d4",
          "width": 1.1224618231447276
         },
         "mode": "lines",
         "type": "scatter",
         "x": [
          9,
          9.5,
          null
         ],
         "y": [
          11.258330249197702,
          12.12435565298214,
          null
         ]
        },
        {
         "hoverinfo": "none",
         "line": {
          "color": "#c762d4",
          "width": 5.6544791125978915e-05
         },
         "mode": "lines",
         "type": "scatter",
         "x": [
          9.5,
          9,
          null
         ],
         "y": [
          12.12435565298214,
          12.990381056766578,
          null
         ]
        },
        {
         "hoverinfo": "text",
         "marker": {
          "color": "#c762d4",
          "opacity": 0
         },
         "mode": "markers",
         "text": [
          "label: (0, 1)<br>conductivity: 1.122461926857865<br>flow_rate: -0.9999586231886298<br>",
          "label: (0, 15)<br>conductivity: 1.1224619268606013<br>flow_rate: 0.999958623188617<br>",
          "label: (1, 2)<br>conductivity: 4.644858017554543e-05<br>flow_rate: 4.137681137224542e-05<br>",
          "label: (2, 3)<br>conductivity: 1.1224618126752335<br>flow_rate: -0.9999818574241673<br>",
          "label: (2, 17)<br>conductivity: 1.1224619347883682<br>flow_rate: 1.0000232342355198<br>",
          "label: (3, 4)<br>conductivity: 5.367681193433859e-05<br>flow_rate: 1.8142575821654986e-05<br>",
          "label: (4, 5)<br>conductivity: 6.932435670193108e-05<br>flow_rate: -0.0001007104489150208<br>",
          "label: (4, 19)<br>conductivity: 7.86781325723064e-05<br>flow_rate: 0.000118853024748951<br>",
          "label: (5, 6)<br>conductivity: 1.122461581017808<br>flow_rate: 0.9998992895510925<br>",
          "label: (6, 7)<br>conductivity: 1.1224620429811933<br>flow_rate: -0.9999487640510292<br>",
          "label: (6, 21)<br>conductivity: 1.4142132657517792<br>flow_rate: 1.9998480536021017<br>",
          "label: (7, 8)<br>conductivity: 2.6446800747727955e-05<br>flow_rate: 5.123594896912438e-05<br>",
          "label: (8, 9)<br>conductivity: 1.1223062608394083<br>flow_rate: -0.999772639346751<br>",
          "label: (8, 23)<br>conductivity: 1.1223062674195443<br>flow_rate: 0.9998238752957186<br>",
          "label: (9, 10)<br>conductivity: 0.00034697711025691405<br>flow_rate: 0.00022736065326070109<br>",
          "label: (10, 11)<br>conductivity: 3.12722570774068e-05<br>flow_rate: -8.260139763640808e-05<br>",
          "label: (10, 25)<br>conductivity: 0.00034696927510465616<br>flow_rate: 0.00030996205089884<br>",
          "label: (11, 12)<br>conductivity: 1.1224620481294132<br>flow_rate: 0.9999173986023584<br>",
          "label: (12, 13)<br>conductivity: 1.1224608803350686<br>flow_rate: -0.9998665083734422<br>",
          "label: (12, 27)<br>conductivity: 1.4142128356391244<br>flow_rate: 1.9997839069758083<br>",
          "label: (13, 14)<br>conductivity: 8.983402501580603e-05<br>flow_rate: 0.00013349162655992947<br>",
          "label: (14, 29)<br>conductivity: 8.983339279517672e-05<br>flow_rate: 0.00013349162656231187<br>",
          "label: (15, 16)<br>conductivity: 1.1224619268616423<br>flow_rate: 0.9999586231886121<br>",
          "label: (16, 17)<br>conductivity: 1.1224615739522956<br>flow_rate: -0.9999531869599444<br>",
          "label: (16, 32)<br>conductivity: 1.414213187833199<br>flow_rate: 1.9999118101485416<br>",
          "label: (17, 18)<br>conductivity: 6.38445030004554e-05<br>flow_rate: 7.004727556374263e-05<br>",
          "label: (18, 19)<br>conductivity: 6.998320186321799e-05<br>flow_rate: -7.210626410817476e-05<br>",
          "label: (18, 34)<br>conductivity: 8.444913690403094e-05<br>flow_rate: 0.00014215353967538831<br>",
          "label: (19, 20)<br>conductivity: 5.262354005383175e-05<br>flow_rate: 4.674676064229826e-05<br>",
          "label: (20, 21)<br>conductivity: 4.229426688429367e-05<br>flow_rate: -6.54196870537947e-05<br>",
          "label: (20, 36)<br>conductivity: 6.0207704888425334e-05<br>flow_rate: 0.00011216644770134672<br>",
          "label: (21, 22)<br>conductivity: 1.4142132224001982<br>flow_rate: 1.999782633915061<br>",
          "label: (22, 23)<br>conductivity: 1.1223061680042494<br>flow_rate: -0.9997873716091952<br>",
          "label: (22, 38)<br>conductivity: 1.6187943023922513<br>flow_rate: 2.9995700055242294<br>",
          "label: (23, 24)<br>conductivity: 4.333641488886423e-05<br>flow_rate: 3.650368653638504e-05<br>",
          "label: (24, 25)<br>conductivity: 7.902852691839591e-05<br>flow_rate: -8.498849281310057e-05<br>",
          "label: (24, 40)<br>conductivity: 8.286221596765783e-05<br>flow_rate: 0.00012149217934787017<br>",
          "label: (25, 26)<br>conductivity: 0.0003462725775979272<br>flow_rate: 0.00022497355808956333<br>",
          "label: (26, 27)<br>conductivity: 0.00011888536569279444<br>flow_rate: -0.00022344731753698902<br>",
          "label: (26, 42)<br>conductivity: 0.0003472540675086269<br>flow_rate: 0.0004484208756391229<br>",
          "label: (27, 28)<br>conductivity: 1.4142127243911242<br>flow_rate: 1.9995604596582617<br>",
          "label: (28, 29)<br>conductivity: 7.2717892566668e-05<br>flow_rate: -5.430382889973681e-05<br>",
          "label: (28, 44)<br>conductivity: 1.4142131609871411<br>flow_rate: 1.9996147634871604<br>",
          "label: (29, 30)<br>conductivity: 6.993170728710209e-05<br>flow_rate: 7.91877976624518e-05<br>",
          "label: (30, 46)<br>conductivity: 6.99304594437922e-05<br>flow_rate: 7.91877976724759e-05<br>",
          "label: (31, 32)<br>conductivity: 1.4142131708348742<br>flow_rate: -1.999864062671518<br>",
          "label: (31, 47)<br>conductivity: 1.4142131708346712<br>flow_rate: 1.9998640626715187<br>",
          "label: (32, 33)<br>conductivity: 3.3610609024479995e-05<br>flow_rate: 4.7747477033804245e-05<br>",
          "label: (33, 34)<br>conductivity: 5.429385446326592e-05<br>flow_rate: -5.131628544279503e-05<br>",
          "label: (33, 49)<br>conductivity: 5.782015197555029e-05<br>flow_rate: 9.906376248089904e-05<br>",
          "label: (34, 35)<br>conductivity: 7.632234168078622e-05<br>flow_rate: 9.083725421869865e-05<br>",
          "label: (35, 36)<br>conductivity: 3.5307299237046965e-05<br>flow_rate: -4.0691794365867465e-05<br>",
          "label: (35, 51)<br>conductivity: 7.832693630423497e-05<br>flow_rate: 0.00013152904858397096<br>",
          "label: (36, 37)<br>conductivity: 5.622738405577739e-05<br>flow_rate: 7.147465334115281e-05<br>",
          "label: (37, 38)<br>conductivity: 1.4142137989290857<br>flow_rate: -1.9995736047027934<br>",
          "label: (37, 53)<br>conductivity: 1.4142139369327422<br>flow_rate: 1.999645079356121<br>",
          "label: (38, 39)<br>conductivity: 1.122305155733596<br>flow_rate: 0.9999964008214806<br>",
          "label: (39, 40)<br>conductivity: 7.071764323992655e-05<br>flow_rate: -9.379214157310769e-05<br>",
          "label: (39, 55)<br>conductivity: 1.1223059283142423<br>flow_rate: 1.000090192963058<br>",
          "label: (40, 41)<br>conductivity: 6.051450448152445e-05<br>flow_rate: 2.770003777195732e-05<br>",
          "label: (41, 42)<br>conductivity: 0.00034657315093959283<br>flow_rate: -0.00036678467245874195<br>",
          "label: (41, 57)<br>conductivity: 0.0003469056914433999<br>flow_rate: 0.00039448471024209096<br>",
          "label: (42, 43)<br>conductivity: 7.623257296243754e-05<br>flow_rate: 8.163620318011676e-05<br>",
          "label: (43, 44)<br>conductivity: 1.4142129891656798<br>flow_rate: -1.9995431989149293<br>",
          "label: (43, 59)<br>conductivity: 1.4142135738105361<br>flow_rate: 1.9996248351181016<br>",
          "label: (44, 45)<br>conductivity: 5.788211041840272e-05<br>flow_rate: 7.156457220959575e-05<br>",
          "label: (45, 46)<br>conductivity: 6.993150204948157e-05<br>flow_rate: -7.918779767250734e-05<br>",
          "label: (45, 61)<br>conductivity: 8.114512335988634e-05<br>flow_rate: 0.00015075236987560937<br>",
          "label: (47, 48)<br>conductivity: 1.4142131708336194<br>flow_rate: 1.9998640626715298<br>",
          "label: (48, 49)<br>conductivity: 3.877837908052767e-05<br>flow_rate: -4.298341344761852e-05<br>",
          "label: (48, 64)<br>conductivity: 1.4142132090170891<br>flow_rate: 1.9999070460849782<br>",
          "label: (49, 50)<br>conductivity: 5.1395410899893014e-05<br>flow_rate: 5.6080349033085025e-05<br>",
          "label: (50, 51)<br>conductivity: 6.59898981591111e-05<br>flow_rate: -5.808504710847733e-05<br>",
          "label: (50, 66)<br>conductivity: 7.490140243490206e-05<br>flow_rate: 0.00011416539613934977<br>",
          "label: (51, 52)<br>conductivity: 5.795091363669424e-05<br>flow_rate: 7.344400147265365e-05<br>",
          "label: (52, 53)<br>conductivity: 1.414213389868356<br>flow_rate: -1.9996266839979857<br>",
          "label: (52, 68)<br>conductivity: 1.414213553579482<br>flow_rate: 1.9997001279994695<br>",
          "label: (53, 54)<br>conductivity: 7.282261738897741e-05<br>flow_rate: 1.8395358135531853e-05<br>",
          "label: (54, 55)<br>conductivity: 6.751335954676269e-05<br>flow_rate: -8.765637448260431e-05<br>",
          "label: (54, 70)<br>conductivity: 8.778787862953747e-05<br>flow_rate: 0.00010605173261797904<br>",
          "label: (55, 56)<br>conductivity: 1.1223054228051161<br>flow_rate: 1.0000025365885803<br>",
          "label: (56, 57)<br>conductivity: 2.4999526436548175e-05<br>flow_rate: -3.7837386726074806e-05<br>",
          "label: (56, 72)<br>conductivity: 1.1223054430598527<br>flow_rate: 1.0000403739753032<br>",
          "label: (57, 58)<br>conductivity: 0.00034689918065643975<br>flow_rate: 0.0003566473235149951<br>",
          "label: (58, 59)<br>conductivity: 7.8582525518217e-05<br>flow_rate: -5.805204273790747e-05<br>",
          "label: (58, 74)<br>conductivity: 0.00034774756327043006<br>flow_rate: 0.00041469936625323134<br>",
          "label: (59, 60)<br>conductivity: 1.4142129641081087<br>flow_rate: 1.9995667830753723<br>",
          "label: (60, 61)<br>conductivity: 4.161994787499023e-05<br>flow_rate: -4.77609884882562e-05<br>",
          "label: (60, 76)<br>conductivity: 1.4142130155615606<br>flow_rate: 1.9996145440638724<br>",
          "label: (61, 62)<br>conductivity: 7.77225447705639e-05<br>flow_rate: 0.00010299138138609884<br>",
          "label: (62, 78)<br>conductivity: 7.772220150219354e-05<br>flow_rate: 0.00010299138138530507<br>",
          "label: (63, 64)<br>conductivity: 1.1224606900075016<br>flow_rate: -0.9998892179163061<br>",
          "label: (63, 79)<br>conductivity: 1.1224606900057492<br>flow_rate: 0.9998892179163013<br>",
          "label: (64, 65)<br>conductivity: 1.1224628486999357<br>flow_rate: 1.000017828168674<br>",
          "label: (65, 66)<br>conductivity: 6.449497902139772e-05<br>flow_rate: -5.1475758095947506e-05<br>",
          "label: (65, 81)<br>conductivity: 1.1224632513448438<br>flow_rate: 1.000069303926784<br>",
          "label: (66, 67)<br>conductivity: 5.3684094509693775e-05<br>flow_rate: 6.268963804519111e-05<br>",
          "label: (67, 68)<br>conductivity: 1.122461875437588<br>flow_rate: -0.9999125454874761<br>",
          "label: (67, 83)<br>conductivity: 1.1224620728850874<br>flow_rate: 0.9999752351255253<br>",
          "label: (68, 69)<br>conductivity: 1.1224622039936798<br>flow_rate: 0.9997875825119782<br>",
          "label: (69, 70)<br>conductivity: 4.044075605838408e-05<br>flow_rate: -9.131564566624978e-05<br>",
          "label: (69, 85)<br>conductivity: 1.1224621979250433<br>flow_rate: 0.9998788981576475<br>",
          "label: (70, 71)<br>conductivity: 8.840802014766594e-05<br>flow_rate: 1.4736086952050729e-05<br>",
          "label: (71, 72)<br>conductivity: 1.1223042251340267<br>flow_rate: -0.9999726662655667<br>",
          "label: (71, 87)<br>conductivity: 1.1223057037698922<br>flow_rate: 0.9999874023525089<br>",
          "label: (72, 73)<br>conductivity: 8.320272051165298e-05<br>flow_rate: 6.770770973518627e-05<br>",
          "label: (73, 74)<br>conductivity: 0.0003477285465080629<br>flow_rate: -0.00034693587563197295<br>",
          "label: (73, 89)<br>conductivity: 0.0003487474264841518<br>flow_rate: 0.00041464358536736045<br>",
          "label: (74, 75)<br>conductivity: 3.9920282156564766e-05<br>flow_rate: 6.776349062158886e-05<br>",
          "label: (75, 76)<br>conductivity: 0.00013273976042092162<br>flow_rate: -0.00010631002573427394<br>",
          "label: (75, 91)<br>conductivity: 0.0001331440089970616<br>flow_rate: 0.00017407351635580242<br>",
          "label: (76, 77)<br>conductivity: 1.4142094159598<br>flow_rate: 1.9995082340381423<br>",
          "label: (77, 78)<br>conductivity: 7.772205608364695e-05<br>flow_rate: -0.00010299138138519712<br>",
          "label: (77, 93)<br>conductivity: 1.4142099241609025<br>flow_rate: 1.9996112254195273<br>",
          "label: (79, 80)<br>conductivity: 1.1224606900063685<br>flow_rate: 0.9998892179163061<br>",
          "label: (80, 81)<br>conductivity: 9.009112452349402e-05<br>flow_rate: -8.022883376299844e-05<br>",
          "label: (80, 95)<br>conductivity: 1.1224620086224604<br>flow_rate: 0.9999694467500824<br>",
          "label: (81, 82)<br>conductivity: 1.1224619403060279<br>flow_rate: 0.9999890750929958<br>",
          "label: (82, 83)<br>conductivity: 3.8991747448088354e-05<br>flow_rate: -2.0328626614687058e-05<br>",
          "label: (82, 97)<br>conductivity: 1.1224620085125105<br>flow_rate: 1.0000094037196188<br>",
          "label: (83, 84)<br>conductivity: 1.1224620046689104<br>flow_rate: 0.9999549064989<br>",
          "label: (84, 85)<br>conductivity: 4.367623762753457e-05<br>flow_rate: -3.8917977737566136e-05<br>",
          "label: (84, 99)<br>conductivity: 1.1224621017682108<br>flow_rate: 0.9999938244766388<br>",
          "label: (85, 86)<br>conductivity: 1.1224621019852346<br>flow_rate: 0.9998399801799122<br>",
          "label: (86, 87)<br>conductivity: 2.7910963416050484e-05<br>flow_rate: -8.322666567089154e-05<br>",
          "label: (86, 101)<br>conductivity: 1.1224620947050077<br>flow_rate: 0.9999232068455806<br>",
          "label: (87, 88)<br>conductivity: 1.1223057111412336<br>flow_rate: 0.9999041756868305<br>",
          "label: (88, 89)<br>conductivity: 0.00034747310467099957<br>flow_rate: -0.00023288681279854585<br>",
          "label: (88, 103)<br>conductivity: 1.1224619034635166<br>flow_rate: 1.0001370624996264<br>",
          "label: (89, 90)<br>conductivity: 0.00011999133148187165<br>flow_rate: 0.00018175677256922868<br>",
          "label: (90, 91)<br>conductivity: 0.00013281446704627495<br>flow_rate: -9.251092668002893e-05<br>",
          "label: (90, 105)<br>conductivity: 0.0001558149496678062<br>flow_rate: 0.00027426769924954197<br>",
          "label: (91, 92)<br>conductivity: 3.823114766949071e-05<br>flow_rate: 8.156258967611916e-05<br>",
          "label: (92, 93)<br>conductivity: 1.4142097508897593<br>flow_rate: -1.9995411373317482<br>",
          "label: (92, 107)<br>conductivity: 1.4142097749643103<br>flow_rate: 1.999622699921424<br>",
          "label: (93, 94)<br>conductivity: 5.654172442808124e-05<br>flow_rate: 7.008808777570807e-05<br>",
          "label: (94, 109)<br>conductivity: 5.654163308471295e-05<br>flow_rate: 7.008808777600979e-05<br>",
          "label: (95, 96)<br>conductivity: 1.1224620086226027<br>flow_rate: 0.9999694467500836<br>",
          "label: (96, 97)<br>conductivity: 3.431111699077335e-05<br>flow_rate: -3.055324991312955e-05<br>",
          "label: (97, 98)<br>conductivity: 1.1224619688248354<br>flow_rate: 0.9999788504697015<br>",
          "label: (98, 99)<br>conductivity: 4.056355140134569e-05<br>flow_rate: -2.1149530302820272e-05<br>",
          "label: (99, 100)<br>conductivity: 1.1224620223964328<br>flow_rate: 0.9999726749463227<br>",
          "label: (100, 101)<br>conductivity: 3.065968423291494e-05<br>flow_rate: -2.732505367782671e-05<br>",
          "label: (101, 102)<br>conductivity: 1.1224620690260874<br>flow_rate: 0.9998958817919005<br>",
          "label: (102, 103)<br>conductivity: 3.49209413433224e-05<br>flow_rate: -0.00010411820809637635<br>",
          "label: (103, 104)<br>conductivity: 1.1224619246019896<br>flow_rate: 1.0000329442915445<br>",
          "label: (104, 105)<br>conductivity: 4.003999476600957e-05<br>flow_rate: 3.2944291547214215e-05<br>",
          "label: (105, 106)<br>conductivity: 0.000155061210470536<br>flow_rate: 0.0003072119907969769<br>",
          "label: (106, 107)<br>conductivity: 1.1224558678966432<br>flow_rate: -0.9996927880091938<br>",
          "label: (107, 108)<br>conductivity: 1.1224618231447276<br>flow_rate: 0.9999299119122222<br>",
          "label: (108, 109)<br>conductivity: 5.6544791125978915e-05<br>flow_rate: -7.008808777631125e-05<br>"
         ],
         "type": "scatter",
         "x": [
          0.25,
          1,
          0.25,
          0.25,
          1,
          0.25,
          0.25,
          1,
          0.25,
          0.25,
          1,
          0.25,
          0.25,
          1,
          0.25,
          0.25,
          1,
          0.25,
          0.25,
          1,
          0.25,
          1,
          1.75,
          1.75,
          2.5,
          1.75,
          1.75,
          2.5,
          1.75,
          1.75,
          2.5,
          1.75,
          1.75,
          2.5,
          1.75,
          1.75,
          2.5,
          1.75,
          1.75,
          2.5,
          1.75,
          1.75,
          2.5,
          1.75,
          2.5,
          3.25,
          4,
          3.25,
          3.25,
          4,
          3.25,
          3.25,
          4,
          3.25,
          3.25,
          4,
          3.25,
          3.25,
          4,
          3.25,
          3.25,
          4,
          3.25,
          3.25,
          4,
          3.25,
          3.25,
          4,
          4.75,
          4.75,
          5.5,
          4.75,
          4.75,
          5.5,
          4.75,
          4.75,
          5.5,
          4.75,
          4.75,
          5.5,
          4.75,
          4.75,
          5.5,
          4.75,
          4.75,
          5.5,
          4.75,
          4.75,
          5.5,
          4.75,
          5.5,
          6.25,
          7,
          6.25,
          6.25,
          7,
          6.25,
          6.25,
          7,
          6.25,
          6.25,
          7,
          6.25,
          6.25,
          7,
          6.25,
          6.25,
          7,
          6.25,
          6.25,
          7,
          6.25,
          6.25,
          7,
          7.75,
          7.75,
          8.5,
          7.75,
          7.75,
          8.5,
          7.75,
          7.75,
          8.5,
          7.75,
          7.75,
          8.5,
          7.75,
          7.75,
          8.5,
          7.75,
          7.75,
          8.5,
          7.75,
          7.75,
          8.5,
          7.75,
          8.5,
          9.25,
          9.25,
          9.25,
          9.25,
          9.25,
          9.25,
          9.25,
          9.25,
          9.25,
          9.25,
          9.25,
          9.25,
          9.25,
          9.25
         ],
         "y": [
          0.4330127018922193,
          0,
          1.299038105676658,
          2.1650635094610964,
          1.7320508075688772,
          3.031088913245535,
          3.8971143170299736,
          3.4641016151377544,
          4.763139720814412,
          5.629165124598851,
          5.196152422706632,
          6.49519052838329,
          7.3612159321677275,
          6.928203230275509,
          8.227241335952167,
          9.093266739736606,
          8.660254037844386,
          9.959292143521044,
          10.825317547305483,
          10.392304845413264,
          11.691342951089922,
          12.12435565298214,
          0.4330127018922193,
          1.299038105676658,
          0.8660254037844386,
          2.1650635094610964,
          3.031088913245535,
          2.598076211353316,
          3.8971143170299736,
          4.763139720814412,
          4.330127018922193,
          5.629165124598851,
          6.49519052838329,
          6.06217782649107,
          7.3612159321677275,
          8.227241335952167,
          7.794228634059947,
          9.093266739736606,
          9.959292143521044,
          9.526279441628825,
          10.825317547305483,
          11.691342951089922,
          11.258330249197702,
          12.55736835487436,
          12.990381056766578,
          0.4330127018922193,
          0,
          1.299038105676658,
          2.1650635094610964,
          1.7320508075688772,
          3.031088913245535,
          3.8971143170299736,
          3.4641016151377544,
          4.763139720814412,
          5.629165124598851,
          5.196152422706632,
          6.49519052838329,
          7.3612159321677275,
          6.928203230275509,
          8.227241335952167,
          9.093266739736606,
          8.660254037844386,
          9.959292143521044,
          10.825317547305483,
          10.392304845413264,
          11.691342951089922,
          12.55736835487436,
          12.12435565298214,
          0.4330127018922193,
          1.299038105676658,
          0.8660254037844386,
          2.1650635094610964,
          3.031088913245535,
          2.598076211353316,
          3.8971143170299736,
          4.763139720814412,
          4.330127018922193,
          5.629165124598851,
          6.49519052838329,
          6.06217782649107,
          7.3612159321677275,
          8.227241335952167,
          7.794228634059947,
          9.093266739736606,
          9.959292143521044,
          9.526279441628825,
          10.825317547305483,
          11.691342951089922,
          11.258330249197702,
          12.55736835487436,
          12.990381056766578,
          0.4330127018922193,
          0,
          1.299038105676658,
          2.1650635094610964,
          1.7320508075688772,
          3.031088913245535,
          3.8971143170299736,
          3.4641016151377544,
          4.763139720814412,
          5.629165124598851,
          5.196152422706632,
          6.49519052838329,
          7.3612159321677275,
          6.928203230275509,
          8.227241335952167,
          9.093266739736606,
          8.660254037844386,
          9.959292143521044,
          10.825317547305483,
          10.392304845413264,
          11.691342951089922,
          12.55736835487436,
          12.12435565298214,
          0.4330127018922193,
          1.299038105676658,
          0.8660254037844386,
          2.1650635094610964,
          3.031088913245535,
          2.598076211353316,
          3.8971143170299736,
          4.763139720814412,
          4.330127018922193,
          5.629165124598851,
          6.49519052838329,
          6.06217782649107,
          7.3612159321677275,
          8.227241335952167,
          7.794228634059947,
          9.093266739736606,
          9.959292143521044,
          9.526279441628825,
          10.825317547305483,
          11.691342951089922,
          11.258330249197702,
          12.55736835487436,
          12.990381056766578,
          1.299038105676658,
          2.1650635094610964,
          3.031088913245535,
          3.8971143170299736,
          4.763139720814412,
          5.629165124598851,
          6.49519052838329,
          7.3612159321677275,
          8.227241335952167,
          9.093266739736606,
          9.959292143521044,
          10.825317547305483,
          11.691342951089922,
          12.55736835487436
         ]
        }
       ],
       "layout": {
        "showlegend": false,
        "template": {
         "data": {
          "bar": [
           {
            "error_x": {
             "color": "#2a3f5f"
            },
            "error_y": {
             "color": "#2a3f5f"
            },
            "marker": {
             "line": {
              "color": "#E5ECF6",
              "width": 0.5
             },
             "pattern": {
              "fillmode": "overlay",
              "size": 10,
              "solidity": 0.2
             }
            },
            "type": "bar"
           }
          ],
          "barpolar": [
           {
            "marker": {
             "line": {
              "color": "#E5ECF6",
              "width": 0.5
             },
             "pattern": {
              "fillmode": "overlay",
              "size": 10,
              "solidity": 0.2
             }
            },
            "type": "barpolar"
           }
          ],
          "carpet": [
           {
            "aaxis": {
             "endlinecolor": "#2a3f5f",
             "gridcolor": "white",
             "linecolor": "white",
             "minorgridcolor": "white",
             "startlinecolor": "#2a3f5f"
            },
            "baxis": {
             "endlinecolor": "#2a3f5f",
             "gridcolor": "white",
             "linecolor": "white",
             "minorgridcolor": "white",
             "startlinecolor": "#2a3f5f"
            },
            "type": "carpet"
           }
          ],
          "choropleth": [
           {
            "colorbar": {
             "outlinewidth": 0,
             "ticks": ""
            },
            "type": "choropleth"
           }
          ],
          "contour": [
           {
            "colorbar": {
             "outlinewidth": 0,
             "ticks": ""
            },
            "colorscale": [
             [
              0,
              "#0d0887"
             ],
             [
              0.1111111111111111,
              "#46039f"
             ],
             [
              0.2222222222222222,
              "#7201a8"
             ],
             [
              0.3333333333333333,
              "#9c179e"
             ],
             [
              0.4444444444444444,
              "#bd3786"
             ],
             [
              0.5555555555555556,
              "#d8576b"
             ],
             [
              0.6666666666666666,
              "#ed7953"
             ],
             [
              0.7777777777777778,
              "#fb9f3a"
             ],
             [
              0.8888888888888888,
              "#fdca26"
             ],
             [
              1,
              "#f0f921"
             ]
            ],
            "type": "contour"
           }
          ],
          "contourcarpet": [
           {
            "colorbar": {
             "outlinewidth": 0,
             "ticks": ""
            },
            "type": "contourcarpet"
           }
          ],
          "heatmap": [
           {
            "colorbar": {
             "outlinewidth": 0,
             "ticks": ""
            },
            "colorscale": [
             [
              0,
              "#0d0887"
             ],
             [
              0.1111111111111111,
              "#46039f"
             ],
             [
              0.2222222222222222,
              "#7201a8"
             ],
             [
              0.3333333333333333,
              "#9c179e"
             ],
             [
              0.4444444444444444,
              "#bd3786"
             ],
             [
              0.5555555555555556,
              "#d8576b"
             ],
             [
              0.6666666666666666,
              "#ed7953"
             ],
             [
              0.7777777777777778,
              "#fb9f3a"
             ],
             [
              0.8888888888888888,
              "#fdca26"
             ],
             [
              1,
              "#f0f921"
             ]
            ],
            "type": "heatmap"
           }
          ],
          "heatmapgl": [
           {
            "colorbar": {
             "outlinewidth": 0,
             "ticks": ""
            },
            "colorscale": [
             [
              0,
              "#0d0887"
             ],
             [
              0.1111111111111111,
              "#46039f"
             ],
             [
              0.2222222222222222,
              "#7201a8"
             ],
             [
              0.3333333333333333,
              "#9c179e"
             ],
             [
              0.4444444444444444,
              "#bd3786"
             ],
             [
              0.5555555555555556,
              "#d8576b"
             ],
             [
              0.6666666666666666,
              "#ed7953"
             ],
             [
              0.7777777777777778,
              "#fb9f3a"
             ],
             [
              0.8888888888888888,
              "#fdca26"
             ],
             [
              1,
              "#f0f921"
             ]
            ],
            "type": "heatmapgl"
           }
          ],
          "histogram": [
           {
            "marker": {
             "pattern": {
              "fillmode": "overlay",
              "size": 10,
              "solidity": 0.2
             }
            },
            "type": "histogram"
           }
          ],
          "histogram2d": [
           {
            "colorbar": {
             "outlinewidth": 0,
             "ticks": ""
            },
            "colorscale": [
             [
              0,
              "#0d0887"
             ],
             [
              0.1111111111111111,
              "#46039f"
             ],
             [
              0.2222222222222222,
              "#7201a8"
             ],
             [
              0.3333333333333333,
              "#9c179e"
             ],
             [
              0.4444444444444444,
              "#bd3786"
             ],
             [
              0.5555555555555556,
              "#d8576b"
             ],
             [
              0.6666666666666666,
              "#ed7953"
             ],
             [
              0.7777777777777778,
              "#fb9f3a"
             ],
             [
              0.8888888888888888,
              "#fdca26"
             ],
             [
              1,
              "#f0f921"
             ]
            ],
            "type": "histogram2d"
           }
          ],
          "histogram2dcontour": [
           {
            "colorbar": {
             "outlinewidth": 0,
             "ticks": ""
            },
            "colorscale": [
             [
              0,
              "#0d0887"
             ],
             [
              0.1111111111111111,
              "#46039f"
             ],
             [
              0.2222222222222222,
              "#7201a8"
             ],
             [
              0.3333333333333333,
              "#9c179e"
             ],
             [
              0.4444444444444444,
              "#bd3786"
             ],
             [
              0.5555555555555556,
              "#d8576b"
             ],
             [
              0.6666666666666666,
              "#ed7953"
             ],
             [
              0.7777777777777778,
              "#fb9f3a"
             ],
             [
              0.8888888888888888,
              "#fdca26"
             ],
             [
              1,
              "#f0f921"
             ]
            ],
            "type": "histogram2dcontour"
           }
          ],
          "mesh3d": [
           {
            "colorbar": {
             "outlinewidth": 0,
             "ticks": ""
            },
            "type": "mesh3d"
           }
          ],
          "parcoords": [
           {
            "line": {
             "colorbar": {
              "outlinewidth": 0,
              "ticks": ""
             }
            },
            "type": "parcoords"
           }
          ],
          "pie": [
           {
            "automargin": true,
            "type": "pie"
           }
          ],
          "scatter": [
           {
            "marker": {
             "colorbar": {
              "outlinewidth": 0,
              "ticks": ""
             }
            },
            "type": "scatter"
           }
          ],
          "scatter3d": [
           {
            "line": {
             "colorbar": {
              "outlinewidth": 0,
              "ticks": ""
             }
            },
            "marker": {
             "colorbar": {
              "outlinewidth": 0,
              "ticks": ""
             }
            },
            "type": "scatter3d"
           }
          ],
          "scattercarpet": [
           {
            "marker": {
             "colorbar": {
              "outlinewidth": 0,
              "ticks": ""
             }
            },
            "type": "scattercarpet"
           }
          ],
          "scattergeo": [
           {
            "marker": {
             "colorbar": {
              "outlinewidth": 0,
              "ticks": ""
             }
            },
            "type": "scattergeo"
           }
          ],
          "scattergl": [
           {
            "marker": {
             "colorbar": {
              "outlinewidth": 0,
              "ticks": ""
             }
            },
            "type": "scattergl"
           }
          ],
          "scattermapbox": [
           {
            "marker": {
             "colorbar": {
              "outlinewidth": 0,
              "ticks": ""
             }
            },
            "type": "scattermapbox"
           }
          ],
          "scatterpolar": [
           {
            "marker": {
             "colorbar": {
              "outlinewidth": 0,
              "ticks": ""
             }
            },
            "type": "scatterpolar"
           }
          ],
          "scatterpolargl": [
           {
            "marker": {
             "colorbar": {
              "outlinewidth": 0,
              "ticks": ""
             }
            },
            "type": "scatterpolargl"
           }
          ],
          "scatterternary": [
           {
            "marker": {
             "colorbar": {
              "outlinewidth": 0,
              "ticks": ""
             }
            },
            "type": "scatterternary"
           }
          ],
          "surface": [
           {
            "colorbar": {
             "outlinewidth": 0,
             "ticks": ""
            },
            "colorscale": [
             [
              0,
              "#0d0887"
             ],
             [
              0.1111111111111111,
              "#46039f"
             ],
             [
              0.2222222222222222,
              "#7201a8"
             ],
             [
              0.3333333333333333,
              "#9c179e"
             ],
             [
              0.4444444444444444,
              "#bd3786"
             ],
             [
              0.5555555555555556,
              "#d8576b"
             ],
             [
              0.6666666666666666,
              "#ed7953"
             ],
             [
              0.7777777777777778,
              "#fb9f3a"
             ],
             [
              0.8888888888888888,
              "#fdca26"
             ],
             [
              1,
              "#f0f921"
             ]
            ],
            "type": "surface"
           }
          ],
          "table": [
           {
            "cells": {
             "fill": {
              "color": "#EBF0F8"
             },
             "line": {
              "color": "white"
             }
            },
            "header": {
             "fill": {
              "color": "#C8D4E3"
             },
             "line": {
              "color": "white"
             }
            },
            "type": "table"
           }
          ]
         },
         "layout": {
          "annotationdefaults": {
           "arrowcolor": "#2a3f5f",
           "arrowhead": 0,
           "arrowwidth": 1
          },
          "autotypenumbers": "strict",
          "coloraxis": {
           "colorbar": {
            "outlinewidth": 0,
            "ticks": ""
           }
          },
          "colorscale": {
           "diverging": [
            [
             0,
             "#8e0152"
            ],
            [
             0.1,
             "#c51b7d"
            ],
            [
             0.2,
             "#de77ae"
            ],
            [
             0.3,
             "#f1b6da"
            ],
            [
             0.4,
             "#fde0ef"
            ],
            [
             0.5,
             "#f7f7f7"
            ],
            [
             0.6,
             "#e6f5d0"
            ],
            [
             0.7,
             "#b8e186"
            ],
            [
             0.8,
             "#7fbc41"
            ],
            [
             0.9,
             "#4d9221"
            ],
            [
             1,
             "#276419"
            ]
           ],
           "sequential": [
            [
             0,
             "#0d0887"
            ],
            [
             0.1111111111111111,
             "#46039f"
            ],
            [
             0.2222222222222222,
             "#7201a8"
            ],
            [
             0.3333333333333333,
             "#9c179e"
            ],
            [
             0.4444444444444444,
             "#bd3786"
            ],
            [
             0.5555555555555556,
             "#d8576b"
            ],
            [
             0.6666666666666666,
             "#ed7953"
            ],
            [
             0.7777777777777778,
             "#fb9f3a"
            ],
            [
             0.8888888888888888,
             "#fdca26"
            ],
            [
             1,
             "#f0f921"
            ]
           ],
           "sequentialminus": [
            [
             0,
             "#0d0887"
            ],
            [
             0.1111111111111111,
             "#46039f"
            ],
            [
             0.2222222222222222,
             "#7201a8"
            ],
            [
             0.3333333333333333,
             "#9c179e"
            ],
            [
             0.4444444444444444,
             "#bd3786"
            ],
            [
             0.5555555555555556,
             "#d8576b"
            ],
            [
             0.6666666666666666,
             "#ed7953"
            ],
            [
             0.7777777777777778,
             "#fb9f3a"
            ],
            [
             0.8888888888888888,
             "#fdca26"
            ],
            [
             1,
             "#f0f921"
            ]
           ]
          },
          "colorway": [
           "#636efa",
           "#EF553B",
           "#00cc96",
           "#ab63fa",
           "#FFA15A",
           "#19d3f3",
           "#FF6692",
           "#B6E880",
           "#FF97FF",
           "#FECB52"
          ],
          "font": {
           "color": "#2a3f5f"
          },
          "geo": {
           "bgcolor": "white",
           "lakecolor": "white",
           "landcolor": "#E5ECF6",
           "showlakes": true,
           "showland": true,
           "subunitcolor": "white"
          },
          "hoverlabel": {
           "align": "left"
          },
          "hovermode": "closest",
          "mapbox": {
           "style": "light"
          },
          "paper_bgcolor": "white",
          "plot_bgcolor": "#E5ECF6",
          "polar": {
           "angularaxis": {
            "gridcolor": "white",
            "linecolor": "white",
            "ticks": ""
           },
           "bgcolor": "#E5ECF6",
           "radialaxis": {
            "gridcolor": "white",
            "linecolor": "white",
            "ticks": ""
           }
          },
          "scene": {
           "xaxis": {
            "backgroundcolor": "#E5ECF6",
            "gridcolor": "white",
            "gridwidth": 2,
            "linecolor": "white",
            "showbackground": true,
            "ticks": "",
            "zerolinecolor": "white"
           },
           "yaxis": {
            "backgroundcolor": "#E5ECF6",
            "gridcolor": "white",
            "gridwidth": 2,
            "linecolor": "white",
            "showbackground": true,
            "ticks": "",
            "zerolinecolor": "white"
           },
           "zaxis": {
            "backgroundcolor": "#E5ECF6",
            "gridcolor": "white",
            "gridwidth": 2,
            "linecolor": "white",
            "showbackground": true,
            "ticks": "",
            "zerolinecolor": "white"
           }
          },
          "shapedefaults": {
           "line": {
            "color": "#2a3f5f"
           }
          },
          "ternary": {
           "aaxis": {
            "gridcolor": "white",
            "linecolor": "white",
            "ticks": ""
           },
           "baxis": {
            "gridcolor": "white",
            "linecolor": "white",
            "ticks": ""
           },
           "bgcolor": "#E5ECF6",
           "caxis": {
            "gridcolor": "white",
            "linecolor": "white",
            "ticks": ""
           }
          },
          "title": {
           "x": 0.05
          },
          "xaxis": {
           "automargin": true,
           "gridcolor": "white",
           "linecolor": "white",
           "ticks": "",
           "title": {
            "standoff": 15
           },
           "zerolinecolor": "white",
           "zerolinewidth": 2
          },
          "yaxis": {
           "automargin": true,
           "gridcolor": "white",
           "linecolor": "white",
           "ticks": "",
           "title": {
            "standoff": 15
           },
           "zerolinecolor": "white",
           "zerolinewidth": 2
          }
         }
        }
       }
      },
      "text/html": [
       "<div>                            <div id=\"2c50ce45-b352-4a91-b0fe-50a316472f0e\" class=\"plotly-graph-div\" style=\"height:525px; width:100%;\"></div>            <script type=\"text/javascript\">                require([\"plotly\"], function(Plotly) {                    window.PLOTLYENV=window.PLOTLYENV || {};                                    if (document.getElementById(\"2c50ce45-b352-4a91-b0fe-50a316472f0e\")) {                    Plotly.newPlot(                        \"2c50ce45-b352-4a91-b0fe-50a316472f0e\",                        [{\"hoverinfo\":\"text\",\"hovertext\":[\"label: 0<br>source: 0.0<br>\",\"label: 1<br>source: -1.0<br>\",\"label: 2<br>source: 0.0<br>\",\"label: 3<br>source: -1.0<br>\",\"label: 4<br>source: 0.0<br>\",\"label: 5<br>source: -1.0<br>\",\"label: 6<br>source: 0.0<br>\",\"label: 7<br>source: -1.0<br>\",\"label: 8<br>source: 0.0<br>\",\"label: 9<br>source: -1.0<br>\",\"label: 10<br>source: 0.0<br>\",\"label: 11<br>source: -1.0<br>\",\"label: 12<br>source: 0.0<br>\",\"label: 13<br>source: -1.0<br>\",\"label: 14<br>source: 0.0<br>\",\"label: 15<br>source: 0.0<br>\",\"label: 16<br>source: 0.0<br>\",\"label: 17<br>source: 0.0<br>\",\"label: 18<br>source: 0.0<br>\",\"label: 19<br>source: 0.0<br>\",\"label: 20<br>source: 0.0<br>\",\"label: 21<br>source: 0.0<br>\",\"label: 22<br>source: 0.0<br>\",\"label: 23<br>source: 0.0<br>\",\"label: 24<br>source: 0.0<br>\",\"label: 25<br>source: 0.0<br>\",\"label: 26<br>source: 0.0<br>\",\"label: 27<br>source: 0.0<br>\",\"label: 28<br>source: 0.0<br>\",\"label: 29<br>source: 0.0<br>\",\"label: 30<br>source: 0.0<br>\",\"label: 31<br>source: 0.0<br>\",\"label: 32<br>source: 0.0<br>\",\"label: 33<br>source: 0.0<br>\",\"label: 34<br>source: 0.0<br>\",\"label: 35<br>source: 0.0<br>\",\"label: 36<br>source: 0.0<br>\",\"label: 37<br>source: 0.0<br>\",\"label: 38<br>source: 0.0<br>\",\"label: 39<br>source: 0.0<br>\",\"label: 40<br>source: 0.0<br>\",\"label: 41<br>source: 0.0<br>\",\"label: 42<br>source: 0.0<br>\",\"label: 43<br>source: 0.0<br>\",\"label: 44<br>source: 0.0<br>\",\"label: 45<br>source: 0.0<br>\",\"label: 46<br>source: 0.0<br>\",\"label: 47<br>source: 0.0<br>\",\"label: 48<br>source: 0.0<br>\",\"label: 49<br>source: 0.0<br>\",\"label: 50<br>source: 0.0<br>\",\"label: 51<br>source: 0.0<br>\",\"label: 52<br>source: 0.0<br>\",\"label: 53<br>source: 0.0<br>\",\"label: 54<br>source: 0.0<br>\",\"label: 55<br>source: 0.0<br>\",\"label: 56<br>source: 0.0<br>\",\"label: 57<br>source: 0.0<br>\",\"label: 58<br>source: 0.0<br>\",\"label: 59<br>source: 0.0<br>\",\"label: 60<br>source: 0.0<br>\",\"label: 61<br>source: 0.0<br>\",\"label: 62<br>source: 0.0<br>\",\"label: 63<br>source: 0.0<br>\",\"label: 64<br>source: 0.0<br>\",\"label: 65<br>source: 0.0<br>\",\"label: 66<br>source: 0.0<br>\",\"label: 67<br>source: 0.0<br>\",\"label: 68<br>source: 0.0<br>\",\"label: 69<br>source: 0.0<br>\",\"label: 70<br>source: 0.0<br>\",\"label: 71<br>source: 0.0<br>\",\"label: 72<br>source: 0.0<br>\",\"label: 73<br>source: 0.0<br>\",\"label: 74<br>source: 0.0<br>\",\"label: 75<br>source: 0.0<br>\",\"label: 76<br>source: 0.0<br>\",\"label: 77<br>source: 0.0<br>\",\"label: 78<br>source: 0.0<br>\",\"label: 79<br>source: 0.0<br>\",\"label: 80<br>source: 0.0<br>\",\"label: 81<br>source: 0.0<br>\",\"label: 82<br>source: 0.0<br>\",\"label: 83<br>source: 0.0<br>\",\"label: 84<br>source: 0.0<br>\",\"label: 85<br>source: 0.0<br>\",\"label: 86<br>source: 0.0<br>\",\"label: 87<br>source: 0.0<br>\",\"label: 88<br>source: 0.0<br>\",\"label: 89<br>source: 0.0<br>\",\"label: 90<br>source: 0.0<br>\",\"label: 91<br>source: 0.0<br>\",\"label: 92<br>source: 0.0<br>\",\"label: 93<br>source: 0.0<br>\",\"label: 94<br>source: 0.0<br>\",\"label: 95<br>source: 0.0<br>\",\"label: 96<br>source: 1.0<br>\",\"label: 97<br>source: 0.0<br>\",\"label: 98<br>source: 1.0<br>\",\"label: 99<br>source: 0.0<br>\",\"label: 100<br>source: 1.0<br>\",\"label: 101<br>source: 0.0<br>\",\"label: 102<br>source: 1.0<br>\",\"label: 103<br>source: 0.0<br>\",\"label: 104<br>source: 1.0<br>\",\"label: 105<br>source: 0.0<br>\",\"label: 106<br>source: 1.0<br>\",\"label: 107<br>source: 0.0<br>\",\"label: 108<br>source: 1.0<br>\",\"label: 109<br>source: 0.0<br>\"],\"marker\":{\"color\":\"#a845b5\",\"line\":{\"width\":2},\"size\":2},\"mode\":\"markers\",\"type\":\"scatter\",\"x\":[0.5,0.0,0.5,0.0,0.5,0.0,0.5,0.0,0.5,0.0,0.5,0.0,0.5,0.0,0.5,1.5,2.0,1.5,2.0,1.5,2.0,1.5,2.0,1.5,2.0,1.5,2.0,1.5,2.0,1.5,2.0,3.5,3.0,3.5,3.0,3.5,3.0,3.5,3.0,3.5,3.0,3.5,3.0,3.5,3.0,3.5,3.0,4.5,5.0,4.5,5.0,4.5,5.0,4.5,5.0,4.5,5.0,4.5,5.0,4.5,5.0,4.5,5.0,6.5,6.0,6.5,6.0,6.5,6.0,6.5,6.0,6.5,6.0,6.5,6.0,6.5,6.0,6.5,6.0,7.5,8.0,7.5,8.0,7.5,8.0,7.5,8.0,7.5,8.0,7.5,8.0,7.5,8.0,7.5,8.0,9.0,9.5,9.0,9.5,9.0,9.5,9.0,9.5,9.0,9.5,9.0,9.5,9.0,9.5,9.0],\"y\":[0.0,0.8660254037844386,1.7320508075688772,2.598076211353316,3.4641016151377544,4.330127018922193,5.196152422706632,6.06217782649107,6.928203230275509,7.794228634059947,8.660254037844386,9.526279441628825,10.392304845413264,11.258330249197702,12.12435565298214,0.0,0.8660254037844386,1.7320508075688772,2.598076211353316,3.4641016151377544,4.330127018922193,5.196152422706632,6.06217782649107,6.928203230275509,7.794228634059947,8.660254037844386,9.526279441628825,10.392304845413264,11.258330249197702,12.12435565298214,12.990381056766578,0.0,0.8660254037844386,1.7320508075688772,2.598076211353316,3.4641016151377544,4.330127018922193,5.196152422706632,6.06217782649107,6.928203230275509,7.794228634059947,8.660254037844386,9.526279441628825,10.392304845413264,11.258330249197702,12.12435565298214,12.990381056766578,0.0,0.8660254037844386,1.7320508075688772,2.598076211353316,3.4641016151377544,4.330127018922193,5.196152422706632,6.06217782649107,6.928203230275509,7.794228634059947,8.660254037844386,9.526279441628825,10.392304845413264,11.258330249197702,12.12435565298214,12.990381056766578,0.0,0.8660254037844386,1.7320508075688772,2.598076211353316,3.4641016151377544,4.330127018922193,5.196152422706632,6.06217782649107,6.928203230275509,7.794228634059947,8.660254037844386,9.526279441628825,10.392304845413264,11.258330249197702,12.12435565298214,12.990381056766578,0.0,0.8660254037844386,1.7320508075688772,2.598076211353316,3.4641016151377544,4.330127018922193,5.196152422706632,6.06217782649107,6.928203230275509,7.794228634059947,8.660254037844386,9.526279441628825,10.392304845413264,11.258330249197702,12.12435565298214,12.990381056766578,0.8660254037844386,1.7320508075688772,2.598076211353316,3.4641016151377544,4.330127018922193,5.196152422706632,6.06217782649107,6.928203230275509,7.794228634059947,8.660254037844386,9.526279441628825,10.392304845413264,11.258330249197702,12.12435565298214,12.990381056766578]},{\"hoverinfo\":\"none\",\"line\":{\"color\":\"#c762d4\",\"width\":1.122461926857865},\"mode\":\"lines\",\"type\":\"scatter\",\"x\":[0.5,0.0,null],\"y\":[0.0,0.8660254037844386,null]},{\"hoverinfo\":\"none\",\"line\":{\"color\":\"#c762d4\",\"width\":1.1224619268606013},\"mode\":\"lines\",\"type\":\"scatter\",\"x\":[0.5,1.5,null],\"y\":[0.0,0.0,null]},{\"hoverinfo\":\"none\",\"line\":{\"color\":\"#c762d4\",\"width\":4.644858017554543e-05},\"mode\":\"lines\",\"type\":\"scatter\",\"x\":[0.0,0.5,null],\"y\":[0.8660254037844386,1.7320508075688772,null]},{\"hoverinfo\":\"none\",\"line\":{\"color\":\"#c762d4\",\"width\":1.1224618126752335},\"mode\":\"lines\",\"type\":\"scatter\",\"x\":[0.5,0.0,null],\"y\":[1.7320508075688772,2.598076211353316,null]},{\"hoverinfo\":\"none\",\"line\":{\"color\":\"#c762d4\",\"width\":1.1224619347883682},\"mode\":\"lines\",\"type\":\"scatter\",\"x\":[0.5,1.5,null],\"y\":[1.7320508075688772,1.7320508075688772,null]},{\"hoverinfo\":\"none\",\"line\":{\"color\":\"#c762d4\",\"width\":5.367681193433859e-05},\"mode\":\"lines\",\"type\":\"scatter\",\"x\":[0.0,0.5,null],\"y\":[2.598076211353316,3.4641016151377544,null]},{\"hoverinfo\":\"none\",\"line\":{\"color\":\"#c762d4\",\"width\":6.932435670193108e-05},\"mode\":\"lines\",\"type\":\"scatter\",\"x\":[0.5,0.0,null],\"y\":[3.4641016151377544,4.330127018922193,null]},{\"hoverinfo\":\"none\",\"line\":{\"color\":\"#c762d4\",\"width\":7.86781325723064e-05},\"mode\":\"lines\",\"type\":\"scatter\",\"x\":[0.5,1.5,null],\"y\":[3.4641016151377544,3.4641016151377544,null]},{\"hoverinfo\":\"none\",\"line\":{\"color\":\"#c762d4\",\"width\":1.122461581017808},\"mode\":\"lines\",\"type\":\"scatter\",\"x\":[0.0,0.5,null],\"y\":[4.330127018922193,5.196152422706632,null]},{\"hoverinfo\":\"none\",\"line\":{\"color\":\"#c762d4\",\"width\":1.1224620429811933},\"mode\":\"lines\",\"type\":\"scatter\",\"x\":[0.5,0.0,null],\"y\":[5.196152422706632,6.06217782649107,null]},{\"hoverinfo\":\"none\",\"line\":{\"color\":\"#c762d4\",\"width\":1.4142132657517792},\"mode\":\"lines\",\"type\":\"scatter\",\"x\":[0.5,1.5,null],\"y\":[5.196152422706632,5.196152422706632,null]},{\"hoverinfo\":\"none\",\"line\":{\"color\":\"#c762d4\",\"width\":2.6446800747727955e-05},\"mode\":\"lines\",\"type\":\"scatter\",\"x\":[0.0,0.5,null],\"y\":[6.06217782649107,6.928203230275509,null]},{\"hoverinfo\":\"none\",\"line\":{\"color\":\"#c762d4\",\"width\":1.1223062608394083},\"mode\":\"lines\",\"type\":\"scatter\",\"x\":[0.5,0.0,null],\"y\":[6.928203230275509,7.794228634059947,null]},{\"hoverinfo\":\"none\",\"line\":{\"color\":\"#c762d4\",\"width\":1.1223062674195443},\"mode\":\"lines\",\"type\":\"scatter\",\"x\":[0.5,1.5,null],\"y\":[6.928203230275509,6.928203230275509,null]},{\"hoverinfo\":\"none\",\"line\":{\"color\":\"#c762d4\",\"width\":0.00034697711025691405},\"mode\":\"lines\",\"type\":\"scatter\",\"x\":[0.0,0.5,null],\"y\":[7.794228634059947,8.660254037844386,null]},{\"hoverinfo\":\"none\",\"line\":{\"color\":\"#c762d4\",\"width\":3.12722570774068e-05},\"mode\":\"lines\",\"type\":\"scatter\",\"x\":[0.5,0.0,null],\"y\":[8.660254037844386,9.526279441628825,null]},{\"hoverinfo\":\"none\",\"line\":{\"color\":\"#c762d4\",\"width\":0.00034696927510465616},\"mode\":\"lines\",\"type\":\"scatter\",\"x\":[0.5,1.5,null],\"y\":[8.660254037844386,8.660254037844386,null]},{\"hoverinfo\":\"none\",\"line\":{\"color\":\"#c762d4\",\"width\":1.1224620481294132},\"mode\":\"lines\",\"type\":\"scatter\",\"x\":[0.0,0.5,null],\"y\":[9.526279441628825,10.392304845413264,null]},{\"hoverinfo\":\"none\",\"line\":{\"color\":\"#c762d4\",\"width\":1.1224608803350686},\"mode\":\"lines\",\"type\":\"scatter\",\"x\":[0.5,0.0,null],\"y\":[10.392304845413264,11.258330249197702,null]},{\"hoverinfo\":\"none\",\"line\":{\"color\":\"#c762d4\",\"width\":1.4142128356391244},\"mode\":\"lines\",\"type\":\"scatter\",\"x\":[0.5,1.5,null],\"y\":[10.392304845413264,10.392304845413264,null]},{\"hoverinfo\":\"none\",\"line\":{\"color\":\"#c762d4\",\"width\":8.983402501580603e-05},\"mode\":\"lines\",\"type\":\"scatter\",\"x\":[0.0,0.5,null],\"y\":[11.258330249197702,12.12435565298214,null]},{\"hoverinfo\":\"none\",\"line\":{\"color\":\"#c762d4\",\"width\":8.983339279517672e-05},\"mode\":\"lines\",\"type\":\"scatter\",\"x\":[0.5,1.5,null],\"y\":[12.12435565298214,12.12435565298214,null]},{\"hoverinfo\":\"none\",\"line\":{\"color\":\"#c762d4\",\"width\":1.1224619268616423},\"mode\":\"lines\",\"type\":\"scatter\",\"x\":[1.5,2.0,null],\"y\":[0.0,0.8660254037844386,null]},{\"hoverinfo\":\"none\",\"line\":{\"color\":\"#c762d4\",\"width\":1.1224615739522956},\"mode\":\"lines\",\"type\":\"scatter\",\"x\":[2.0,1.5,null],\"y\":[0.8660254037844386,1.7320508075688772,null]},{\"hoverinfo\":\"none\",\"line\":{\"color\":\"#c762d4\",\"width\":1.414213187833199},\"mode\":\"lines\",\"type\":\"scatter\",\"x\":[2.0,3.0,null],\"y\":[0.8660254037844386,0.8660254037844386,null]},{\"hoverinfo\":\"none\",\"line\":{\"color\":\"#c762d4\",\"width\":6.38445030004554e-05},\"mode\":\"lines\",\"type\":\"scatter\",\"x\":[1.5,2.0,null],\"y\":[1.7320508075688772,2.598076211353316,null]},{\"hoverinfo\":\"none\",\"line\":{\"color\":\"#c762d4\",\"width\":6.998320186321799e-05},\"mode\":\"lines\",\"type\":\"scatter\",\"x\":[2.0,1.5,null],\"y\":[2.598076211353316,3.4641016151377544,null]},{\"hoverinfo\":\"none\",\"line\":{\"color\":\"#c762d4\",\"width\":8.444913690403094e-05},\"mode\":\"lines\",\"type\":\"scatter\",\"x\":[2.0,3.0,null],\"y\":[2.598076211353316,2.598076211353316,null]},{\"hoverinfo\":\"none\",\"line\":{\"color\":\"#c762d4\",\"width\":5.262354005383175e-05},\"mode\":\"lines\",\"type\":\"scatter\",\"x\":[1.5,2.0,null],\"y\":[3.4641016151377544,4.330127018922193,null]},{\"hoverinfo\":\"none\",\"line\":{\"color\":\"#c762d4\",\"width\":4.229426688429367e-05},\"mode\":\"lines\",\"type\":\"scatter\",\"x\":[2.0,1.5,null],\"y\":[4.330127018922193,5.196152422706632,null]},{\"hoverinfo\":\"none\",\"line\":{\"color\":\"#c762d4\",\"width\":6.0207704888425334e-05},\"mode\":\"lines\",\"type\":\"scatter\",\"x\":[2.0,3.0,null],\"y\":[4.330127018922193,4.330127018922193,null]},{\"hoverinfo\":\"none\",\"line\":{\"color\":\"#c762d4\",\"width\":1.4142132224001982},\"mode\":\"lines\",\"type\":\"scatter\",\"x\":[1.5,2.0,null],\"y\":[5.196152422706632,6.06217782649107,null]},{\"hoverinfo\":\"none\",\"line\":{\"color\":\"#c762d4\",\"width\":1.1223061680042494},\"mode\":\"lines\",\"type\":\"scatter\",\"x\":[2.0,1.5,null],\"y\":[6.06217782649107,6.928203230275509,null]},{\"hoverinfo\":\"none\",\"line\":{\"color\":\"#c762d4\",\"width\":1.6187943023922513},\"mode\":\"lines\",\"type\":\"scatter\",\"x\":[2.0,3.0,null],\"y\":[6.06217782649107,6.06217782649107,null]},{\"hoverinfo\":\"none\",\"line\":{\"color\":\"#c762d4\",\"width\":4.333641488886423e-05},\"mode\":\"lines\",\"type\":\"scatter\",\"x\":[1.5,2.0,null],\"y\":[6.928203230275509,7.794228634059947,null]},{\"hoverinfo\":\"none\",\"line\":{\"color\":\"#c762d4\",\"width\":7.902852691839591e-05},\"mode\":\"lines\",\"type\":\"scatter\",\"x\":[2.0,1.5,null],\"y\":[7.794228634059947,8.660254037844386,null]},{\"hoverinfo\":\"none\",\"line\":{\"color\":\"#c762d4\",\"width\":8.286221596765783e-05},\"mode\":\"lines\",\"type\":\"scatter\",\"x\":[2.0,3.0,null],\"y\":[7.794228634059947,7.794228634059947,null]},{\"hoverinfo\":\"none\",\"line\":{\"color\":\"#c762d4\",\"width\":0.0003462725775979272},\"mode\":\"lines\",\"type\":\"scatter\",\"x\":[1.5,2.0,null],\"y\":[8.660254037844386,9.526279441628825,null]},{\"hoverinfo\":\"none\",\"line\":{\"color\":\"#c762d4\",\"width\":0.00011888536569279444},\"mode\":\"lines\",\"type\":\"scatter\",\"x\":[2.0,1.5,null],\"y\":[9.526279441628825,10.392304845413264,null]},{\"hoverinfo\":\"none\",\"line\":{\"color\":\"#c762d4\",\"width\":0.0003472540675086269},\"mode\":\"lines\",\"type\":\"scatter\",\"x\":[2.0,3.0,null],\"y\":[9.526279441628825,9.526279441628825,null]},{\"hoverinfo\":\"none\",\"line\":{\"color\":\"#c762d4\",\"width\":1.4142127243911242},\"mode\":\"lines\",\"type\":\"scatter\",\"x\":[1.5,2.0,null],\"y\":[10.392304845413264,11.258330249197702,null]},{\"hoverinfo\":\"none\",\"line\":{\"color\":\"#c762d4\",\"width\":7.2717892566668e-05},\"mode\":\"lines\",\"type\":\"scatter\",\"x\":[2.0,1.5,null],\"y\":[11.258330249197702,12.12435565298214,null]},{\"hoverinfo\":\"none\",\"line\":{\"color\":\"#c762d4\",\"width\":1.4142131609871411},\"mode\":\"lines\",\"type\":\"scatter\",\"x\":[2.0,3.0,null],\"y\":[11.258330249197702,11.258330249197702,null]},{\"hoverinfo\":\"none\",\"line\":{\"color\":\"#c762d4\",\"width\":6.993170728710209e-05},\"mode\":\"lines\",\"type\":\"scatter\",\"x\":[1.5,2.0,null],\"y\":[12.12435565298214,12.990381056766578,null]},{\"hoverinfo\":\"none\",\"line\":{\"color\":\"#c762d4\",\"width\":6.99304594437922e-05},\"mode\":\"lines\",\"type\":\"scatter\",\"x\":[2.0,3.0,null],\"y\":[12.990381056766578,12.990381056766578,null]},{\"hoverinfo\":\"none\",\"line\":{\"color\":\"#c762d4\",\"width\":1.4142131708348742},\"mode\":\"lines\",\"type\":\"scatter\",\"x\":[3.5,3.0,null],\"y\":[0.0,0.8660254037844386,null]},{\"hoverinfo\":\"none\",\"line\":{\"color\":\"#c762d4\",\"width\":1.4142131708346712},\"mode\":\"lines\",\"type\":\"scatter\",\"x\":[3.5,4.5,null],\"y\":[0.0,0.0,null]},{\"hoverinfo\":\"none\",\"line\":{\"color\":\"#c762d4\",\"width\":3.3610609024479995e-05},\"mode\":\"lines\",\"type\":\"scatter\",\"x\":[3.0,3.5,null],\"y\":[0.8660254037844386,1.7320508075688772,null]},{\"hoverinfo\":\"none\",\"line\":{\"color\":\"#c762d4\",\"width\":5.429385446326592e-05},\"mode\":\"lines\",\"type\":\"scatter\",\"x\":[3.5,3.0,null],\"y\":[1.7320508075688772,2.598076211353316,null]},{\"hoverinfo\":\"none\",\"line\":{\"color\":\"#c762d4\",\"width\":5.782015197555029e-05},\"mode\":\"lines\",\"type\":\"scatter\",\"x\":[3.5,4.5,null],\"y\":[1.7320508075688772,1.7320508075688772,null]},{\"hoverinfo\":\"none\",\"line\":{\"color\":\"#c762d4\",\"width\":7.632234168078622e-05},\"mode\":\"lines\",\"type\":\"scatter\",\"x\":[3.0,3.5,null],\"y\":[2.598076211353316,3.4641016151377544,null]},{\"hoverinfo\":\"none\",\"line\":{\"color\":\"#c762d4\",\"width\":3.5307299237046965e-05},\"mode\":\"lines\",\"type\":\"scatter\",\"x\":[3.5,3.0,null],\"y\":[3.4641016151377544,4.330127018922193,null]},{\"hoverinfo\":\"none\",\"line\":{\"color\":\"#c762d4\",\"width\":7.832693630423497e-05},\"mode\":\"lines\",\"type\":\"scatter\",\"x\":[3.5,4.5,null],\"y\":[3.4641016151377544,3.4641016151377544,null]},{\"hoverinfo\":\"none\",\"line\":{\"color\":\"#c762d4\",\"width\":5.622738405577739e-05},\"mode\":\"lines\",\"type\":\"scatter\",\"x\":[3.0,3.5,null],\"y\":[4.330127018922193,5.196152422706632,null]},{\"hoverinfo\":\"none\",\"line\":{\"color\":\"#c762d4\",\"width\":1.4142137989290857},\"mode\":\"lines\",\"type\":\"scatter\",\"x\":[3.5,3.0,null],\"y\":[5.196152422706632,6.06217782649107,null]},{\"hoverinfo\":\"none\",\"line\":{\"color\":\"#c762d4\",\"width\":1.4142139369327422},\"mode\":\"lines\",\"type\":\"scatter\",\"x\":[3.5,4.5,null],\"y\":[5.196152422706632,5.196152422706632,null]},{\"hoverinfo\":\"none\",\"line\":{\"color\":\"#c762d4\",\"width\":1.122305155733596},\"mode\":\"lines\",\"type\":\"scatter\",\"x\":[3.0,3.5,null],\"y\":[6.06217782649107,6.928203230275509,null]},{\"hoverinfo\":\"none\",\"line\":{\"color\":\"#c762d4\",\"width\":7.071764323992655e-05},\"mode\":\"lines\",\"type\":\"scatter\",\"x\":[3.5,3.0,null],\"y\":[6.928203230275509,7.794228634059947,null]},{\"hoverinfo\":\"none\",\"line\":{\"color\":\"#c762d4\",\"width\":1.1223059283142423},\"mode\":\"lines\",\"type\":\"scatter\",\"x\":[3.5,4.5,null],\"y\":[6.928203230275509,6.928203230275509,null]},{\"hoverinfo\":\"none\",\"line\":{\"color\":\"#c762d4\",\"width\":6.051450448152445e-05},\"mode\":\"lines\",\"type\":\"scatter\",\"x\":[3.0,3.5,null],\"y\":[7.794228634059947,8.660254037844386,null]},{\"hoverinfo\":\"none\",\"line\":{\"color\":\"#c762d4\",\"width\":0.00034657315093959283},\"mode\":\"lines\",\"type\":\"scatter\",\"x\":[3.5,3.0,null],\"y\":[8.660254037844386,9.526279441628825,null]},{\"hoverinfo\":\"none\",\"line\":{\"color\":\"#c762d4\",\"width\":0.0003469056914433999},\"mode\":\"lines\",\"type\":\"scatter\",\"x\":[3.5,4.5,null],\"y\":[8.660254037844386,8.660254037844386,null]},{\"hoverinfo\":\"none\",\"line\":{\"color\":\"#c762d4\",\"width\":7.623257296243754e-05},\"mode\":\"lines\",\"type\":\"scatter\",\"x\":[3.0,3.5,null],\"y\":[9.526279441628825,10.392304845413264,null]},{\"hoverinfo\":\"none\",\"line\":{\"color\":\"#c762d4\",\"width\":1.4142129891656798},\"mode\":\"lines\",\"type\":\"scatter\",\"x\":[3.5,3.0,null],\"y\":[10.392304845413264,11.258330249197702,null]},{\"hoverinfo\":\"none\",\"line\":{\"color\":\"#c762d4\",\"width\":1.4142135738105361},\"mode\":\"lines\",\"type\":\"scatter\",\"x\":[3.5,4.5,null],\"y\":[10.392304845413264,10.392304845413264,null]},{\"hoverinfo\":\"none\",\"line\":{\"color\":\"#c762d4\",\"width\":5.788211041840272e-05},\"mode\":\"lines\",\"type\":\"scatter\",\"x\":[3.0,3.5,null],\"y\":[11.258330249197702,12.12435565298214,null]},{\"hoverinfo\":\"none\",\"line\":{\"color\":\"#c762d4\",\"width\":6.993150204948157e-05},\"mode\":\"lines\",\"type\":\"scatter\",\"x\":[3.5,3.0,null],\"y\":[12.12435565298214,12.990381056766578,null]},{\"hoverinfo\":\"none\",\"line\":{\"color\":\"#c762d4\",\"width\":8.114512335988634e-05},\"mode\":\"lines\",\"type\":\"scatter\",\"x\":[3.5,4.5,null],\"y\":[12.12435565298214,12.12435565298214,null]},{\"hoverinfo\":\"none\",\"line\":{\"color\":\"#c762d4\",\"width\":1.4142131708336194},\"mode\":\"lines\",\"type\":\"scatter\",\"x\":[4.5,5.0,null],\"y\":[0.0,0.8660254037844386,null]},{\"hoverinfo\":\"none\",\"line\":{\"color\":\"#c762d4\",\"width\":3.877837908052767e-05},\"mode\":\"lines\",\"type\":\"scatter\",\"x\":[5.0,4.5,null],\"y\":[0.8660254037844386,1.7320508075688772,null]},{\"hoverinfo\":\"none\",\"line\":{\"color\":\"#c762d4\",\"width\":1.4142132090170891},\"mode\":\"lines\",\"type\":\"scatter\",\"x\":[5.0,6.0,null],\"y\":[0.8660254037844386,0.8660254037844386,null]},{\"hoverinfo\":\"none\",\"line\":{\"color\":\"#c762d4\",\"width\":5.1395410899893014e-05},\"mode\":\"lines\",\"type\":\"scatter\",\"x\":[4.5,5.0,null],\"y\":[1.7320508075688772,2.598076211353316,null]},{\"hoverinfo\":\"none\",\"line\":{\"color\":\"#c762d4\",\"width\":6.59898981591111e-05},\"mode\":\"lines\",\"type\":\"scatter\",\"x\":[5.0,4.5,null],\"y\":[2.598076211353316,3.4641016151377544,null]},{\"hoverinfo\":\"none\",\"line\":{\"color\":\"#c762d4\",\"width\":7.490140243490206e-05},\"mode\":\"lines\",\"type\":\"scatter\",\"x\":[5.0,6.0,null],\"y\":[2.598076211353316,2.598076211353316,null]},{\"hoverinfo\":\"none\",\"line\":{\"color\":\"#c762d4\",\"width\":5.795091363669424e-05},\"mode\":\"lines\",\"type\":\"scatter\",\"x\":[4.5,5.0,null],\"y\":[3.4641016151377544,4.330127018922193,null]},{\"hoverinfo\":\"none\",\"line\":{\"color\":\"#c762d4\",\"width\":1.414213389868356},\"mode\":\"lines\",\"type\":\"scatter\",\"x\":[5.0,4.5,null],\"y\":[4.330127018922193,5.196152422706632,null]},{\"hoverinfo\":\"none\",\"line\":{\"color\":\"#c762d4\",\"width\":1.414213553579482},\"mode\":\"lines\",\"type\":\"scatter\",\"x\":[5.0,6.0,null],\"y\":[4.330127018922193,4.330127018922193,null]},{\"hoverinfo\":\"none\",\"line\":{\"color\":\"#c762d4\",\"width\":7.282261738897741e-05},\"mode\":\"lines\",\"type\":\"scatter\",\"x\":[4.5,5.0,null],\"y\":[5.196152422706632,6.06217782649107,null]},{\"hoverinfo\":\"none\",\"line\":{\"color\":\"#c762d4\",\"width\":6.751335954676269e-05},\"mode\":\"lines\",\"type\":\"scatter\",\"x\":[5.0,4.5,null],\"y\":[6.06217782649107,6.928203230275509,null]},{\"hoverinfo\":\"none\",\"line\":{\"color\":\"#c762d4\",\"width\":8.778787862953747e-05},\"mode\":\"lines\",\"type\":\"scatter\",\"x\":[5.0,6.0,null],\"y\":[6.06217782649107,6.06217782649107,null]},{\"hoverinfo\":\"none\",\"line\":{\"color\":\"#c762d4\",\"width\":1.1223054228051161},\"mode\":\"lines\",\"type\":\"scatter\",\"x\":[4.5,5.0,null],\"y\":[6.928203230275509,7.794228634059947,null]},{\"hoverinfo\":\"none\",\"line\":{\"color\":\"#c762d4\",\"width\":2.4999526436548175e-05},\"mode\":\"lines\",\"type\":\"scatter\",\"x\":[5.0,4.5,null],\"y\":[7.794228634059947,8.660254037844386,null]},{\"hoverinfo\":\"none\",\"line\":{\"color\":\"#c762d4\",\"width\":1.1223054430598527},\"mode\":\"lines\",\"type\":\"scatter\",\"x\":[5.0,6.0,null],\"y\":[7.794228634059947,7.794228634059947,null]},{\"hoverinfo\":\"none\",\"line\":{\"color\":\"#c762d4\",\"width\":0.00034689918065643975},\"mode\":\"lines\",\"type\":\"scatter\",\"x\":[4.5,5.0,null],\"y\":[8.660254037844386,9.526279441628825,null]},{\"hoverinfo\":\"none\",\"line\":{\"color\":\"#c762d4\",\"width\":7.8582525518217e-05},\"mode\":\"lines\",\"type\":\"scatter\",\"x\":[5.0,4.5,null],\"y\":[9.526279441628825,10.392304845413264,null]},{\"hoverinfo\":\"none\",\"line\":{\"color\":\"#c762d4\",\"width\":0.00034774756327043006},\"mode\":\"lines\",\"type\":\"scatter\",\"x\":[5.0,6.0,null],\"y\":[9.526279441628825,9.526279441628825,null]},{\"hoverinfo\":\"none\",\"line\":{\"color\":\"#c762d4\",\"width\":1.4142129641081087},\"mode\":\"lines\",\"type\":\"scatter\",\"x\":[4.5,5.0,null],\"y\":[10.392304845413264,11.258330249197702,null]},{\"hoverinfo\":\"none\",\"line\":{\"color\":\"#c762d4\",\"width\":4.161994787499023e-05},\"mode\":\"lines\",\"type\":\"scatter\",\"x\":[5.0,4.5,null],\"y\":[11.258330249197702,12.12435565298214,null]},{\"hoverinfo\":\"none\",\"line\":{\"color\":\"#c762d4\",\"width\":1.4142130155615606},\"mode\":\"lines\",\"type\":\"scatter\",\"x\":[5.0,6.0,null],\"y\":[11.258330249197702,11.258330249197702,null]},{\"hoverinfo\":\"none\",\"line\":{\"color\":\"#c762d4\",\"width\":7.77225447705639e-05},\"mode\":\"lines\",\"type\":\"scatter\",\"x\":[4.5,5.0,null],\"y\":[12.12435565298214,12.990381056766578,null]},{\"hoverinfo\":\"none\",\"line\":{\"color\":\"#c762d4\",\"width\":7.772220150219354e-05},\"mode\":\"lines\",\"type\":\"scatter\",\"x\":[5.0,6.0,null],\"y\":[12.990381056766578,12.990381056766578,null]},{\"hoverinfo\":\"none\",\"line\":{\"color\":\"#c762d4\",\"width\":1.1224606900075016},\"mode\":\"lines\",\"type\":\"scatter\",\"x\":[6.5,6.0,null],\"y\":[0.0,0.8660254037844386,null]},{\"hoverinfo\":\"none\",\"line\":{\"color\":\"#c762d4\",\"width\":1.1224606900057492},\"mode\":\"lines\",\"type\":\"scatter\",\"x\":[6.5,7.5,null],\"y\":[0.0,0.0,null]},{\"hoverinfo\":\"none\",\"line\":{\"color\":\"#c762d4\",\"width\":1.1224628486999357},\"mode\":\"lines\",\"type\":\"scatter\",\"x\":[6.0,6.5,null],\"y\":[0.8660254037844386,1.7320508075688772,null]},{\"hoverinfo\":\"none\",\"line\":{\"color\":\"#c762d4\",\"width\":6.449497902139772e-05},\"mode\":\"lines\",\"type\":\"scatter\",\"x\":[6.5,6.0,null],\"y\":[1.7320508075688772,2.598076211353316,null]},{\"hoverinfo\":\"none\",\"line\":{\"color\":\"#c762d4\",\"width\":1.1224632513448438},\"mode\":\"lines\",\"type\":\"scatter\",\"x\":[6.5,7.5,null],\"y\":[1.7320508075688772,1.7320508075688772,null]},{\"hoverinfo\":\"none\",\"line\":{\"color\":\"#c762d4\",\"width\":5.3684094509693775e-05},\"mode\":\"lines\",\"type\":\"scatter\",\"x\":[6.0,6.5,null],\"y\":[2.598076211353316,3.4641016151377544,null]},{\"hoverinfo\":\"none\",\"line\":{\"color\":\"#c762d4\",\"width\":1.122461875437588},\"mode\":\"lines\",\"type\":\"scatter\",\"x\":[6.5,6.0,null],\"y\":[3.4641016151377544,4.330127018922193,null]},{\"hoverinfo\":\"none\",\"line\":{\"color\":\"#c762d4\",\"width\":1.1224620728850874},\"mode\":\"lines\",\"type\":\"scatter\",\"x\":[6.5,7.5,null],\"y\":[3.4641016151377544,3.4641016151377544,null]},{\"hoverinfo\":\"none\",\"line\":{\"color\":\"#c762d4\",\"width\":1.1224622039936798},\"mode\":\"lines\",\"type\":\"scatter\",\"x\":[6.0,6.5,null],\"y\":[4.330127018922193,5.196152422706632,null]},{\"hoverinfo\":\"none\",\"line\":{\"color\":\"#c762d4\",\"width\":4.044075605838408e-05},\"mode\":\"lines\",\"type\":\"scatter\",\"x\":[6.5,6.0,null],\"y\":[5.196152422706632,6.06217782649107,null]},{\"hoverinfo\":\"none\",\"line\":{\"color\":\"#c762d4\",\"width\":1.1224621979250433},\"mode\":\"lines\",\"type\":\"scatter\",\"x\":[6.5,7.5,null],\"y\":[5.196152422706632,5.196152422706632,null]},{\"hoverinfo\":\"none\",\"line\":{\"color\":\"#c762d4\",\"width\":8.840802014766594e-05},\"mode\":\"lines\",\"type\":\"scatter\",\"x\":[6.0,6.5,null],\"y\":[6.06217782649107,6.928203230275509,null]},{\"hoverinfo\":\"none\",\"line\":{\"color\":\"#c762d4\",\"width\":1.1223042251340267},\"mode\":\"lines\",\"type\":\"scatter\",\"x\":[6.5,6.0,null],\"y\":[6.928203230275509,7.794228634059947,null]},{\"hoverinfo\":\"none\",\"line\":{\"color\":\"#c762d4\",\"width\":1.1223057037698922},\"mode\":\"lines\",\"type\":\"scatter\",\"x\":[6.5,7.5,null],\"y\":[6.928203230275509,6.928203230275509,null]},{\"hoverinfo\":\"none\",\"line\":{\"color\":\"#c762d4\",\"width\":8.320272051165298e-05},\"mode\":\"lines\",\"type\":\"scatter\",\"x\":[6.0,6.5,null],\"y\":[7.794228634059947,8.660254037844386,null]},{\"hoverinfo\":\"none\",\"line\":{\"color\":\"#c762d4\",\"width\":0.0003477285465080629},\"mode\":\"lines\",\"type\":\"scatter\",\"x\":[6.5,6.0,null],\"y\":[8.660254037844386,9.526279441628825,null]},{\"hoverinfo\":\"none\",\"line\":{\"color\":\"#c762d4\",\"width\":0.0003487474264841518},\"mode\":\"lines\",\"type\":\"scatter\",\"x\":[6.5,7.5,null],\"y\":[8.660254037844386,8.660254037844386,null]},{\"hoverinfo\":\"none\",\"line\":{\"color\":\"#c762d4\",\"width\":3.9920282156564766e-05},\"mode\":\"lines\",\"type\":\"scatter\",\"x\":[6.0,6.5,null],\"y\":[9.526279441628825,10.392304845413264,null]},{\"hoverinfo\":\"none\",\"line\":{\"color\":\"#c762d4\",\"width\":0.00013273976042092162},\"mode\":\"lines\",\"type\":\"scatter\",\"x\":[6.5,6.0,null],\"y\":[10.392304845413264,11.258330249197702,null]},{\"hoverinfo\":\"none\",\"line\":{\"color\":\"#c762d4\",\"width\":0.0001331440089970616},\"mode\":\"lines\",\"type\":\"scatter\",\"x\":[6.5,7.5,null],\"y\":[10.392304845413264,10.392304845413264,null]},{\"hoverinfo\":\"none\",\"line\":{\"color\":\"#c762d4\",\"width\":1.4142094159598},\"mode\":\"lines\",\"type\":\"scatter\",\"x\":[6.0,6.5,null],\"y\":[11.258330249197702,12.12435565298214,null]},{\"hoverinfo\":\"none\",\"line\":{\"color\":\"#c762d4\",\"width\":7.772205608364695e-05},\"mode\":\"lines\",\"type\":\"scatter\",\"x\":[6.5,6.0,null],\"y\":[12.12435565298214,12.990381056766578,null]},{\"hoverinfo\":\"none\",\"line\":{\"color\":\"#c762d4\",\"width\":1.4142099241609025},\"mode\":\"lines\",\"type\":\"scatter\",\"x\":[6.5,7.5,null],\"y\":[12.12435565298214,12.12435565298214,null]},{\"hoverinfo\":\"none\",\"line\":{\"color\":\"#c762d4\",\"width\":1.1224606900063685},\"mode\":\"lines\",\"type\":\"scatter\",\"x\":[7.5,8.0,null],\"y\":[0.0,0.8660254037844386,null]},{\"hoverinfo\":\"none\",\"line\":{\"color\":\"#c762d4\",\"width\":9.009112452349402e-05},\"mode\":\"lines\",\"type\":\"scatter\",\"x\":[8.0,7.5,null],\"y\":[0.8660254037844386,1.7320508075688772,null]},{\"hoverinfo\":\"none\",\"line\":{\"color\":\"#c762d4\",\"width\":1.1224620086224604},\"mode\":\"lines\",\"type\":\"scatter\",\"x\":[8.0,9.0,null],\"y\":[0.8660254037844386,0.8660254037844386,null]},{\"hoverinfo\":\"none\",\"line\":{\"color\":\"#c762d4\",\"width\":1.1224619403060279},\"mode\":\"lines\",\"type\":\"scatter\",\"x\":[7.5,8.0,null],\"y\":[1.7320508075688772,2.598076211353316,null]},{\"hoverinfo\":\"none\",\"line\":{\"color\":\"#c762d4\",\"width\":3.8991747448088354e-05},\"mode\":\"lines\",\"type\":\"scatter\",\"x\":[8.0,7.5,null],\"y\":[2.598076211353316,3.4641016151377544,null]},{\"hoverinfo\":\"none\",\"line\":{\"color\":\"#c762d4\",\"width\":1.1224620085125105},\"mode\":\"lines\",\"type\":\"scatter\",\"x\":[8.0,9.0,null],\"y\":[2.598076211353316,2.598076211353316,null]},{\"hoverinfo\":\"none\",\"line\":{\"color\":\"#c762d4\",\"width\":1.1224620046689104},\"mode\":\"lines\",\"type\":\"scatter\",\"x\":[7.5,8.0,null],\"y\":[3.4641016151377544,4.330127018922193,null]},{\"hoverinfo\":\"none\",\"line\":{\"color\":\"#c762d4\",\"width\":4.367623762753457e-05},\"mode\":\"lines\",\"type\":\"scatter\",\"x\":[8.0,7.5,null],\"y\":[4.330127018922193,5.196152422706632,null]},{\"hoverinfo\":\"none\",\"line\":{\"color\":\"#c762d4\",\"width\":1.1224621017682108},\"mode\":\"lines\",\"type\":\"scatter\",\"x\":[8.0,9.0,null],\"y\":[4.330127018922193,4.330127018922193,null]},{\"hoverinfo\":\"none\",\"line\":{\"color\":\"#c762d4\",\"width\":1.1224621019852346},\"mode\":\"lines\",\"type\":\"scatter\",\"x\":[7.5,8.0,null],\"y\":[5.196152422706632,6.06217782649107,null]},{\"hoverinfo\":\"none\",\"line\":{\"color\":\"#c762d4\",\"width\":2.7910963416050484e-05},\"mode\":\"lines\",\"type\":\"scatter\",\"x\":[8.0,7.5,null],\"y\":[6.06217782649107,6.928203230275509,null]},{\"hoverinfo\":\"none\",\"line\":{\"color\":\"#c762d4\",\"width\":1.1224620947050077},\"mode\":\"lines\",\"type\":\"scatter\",\"x\":[8.0,9.0,null],\"y\":[6.06217782649107,6.06217782649107,null]},{\"hoverinfo\":\"none\",\"line\":{\"color\":\"#c762d4\",\"width\":1.1223057111412336},\"mode\":\"lines\",\"type\":\"scatter\",\"x\":[7.5,8.0,null],\"y\":[6.928203230275509,7.794228634059947,null]},{\"hoverinfo\":\"none\",\"line\":{\"color\":\"#c762d4\",\"width\":0.00034747310467099957},\"mode\":\"lines\",\"type\":\"scatter\",\"x\":[8.0,7.5,null],\"y\":[7.794228634059947,8.660254037844386,null]},{\"hoverinfo\":\"none\",\"line\":{\"color\":\"#c762d4\",\"width\":1.1224619034635166},\"mode\":\"lines\",\"type\":\"scatter\",\"x\":[8.0,9.0,null],\"y\":[7.794228634059947,7.794228634059947,null]},{\"hoverinfo\":\"none\",\"line\":{\"color\":\"#c762d4\",\"width\":0.00011999133148187165},\"mode\":\"lines\",\"type\":\"scatter\",\"x\":[7.5,8.0,null],\"y\":[8.660254037844386,9.526279441628825,null]},{\"hoverinfo\":\"none\",\"line\":{\"color\":\"#c762d4\",\"width\":0.00013281446704627495},\"mode\":\"lines\",\"type\":\"scatter\",\"x\":[8.0,7.5,null],\"y\":[9.526279441628825,10.392304845413264,null]},{\"hoverinfo\":\"none\",\"line\":{\"color\":\"#c762d4\",\"width\":0.0001558149496678062},\"mode\":\"lines\",\"type\":\"scatter\",\"x\":[8.0,9.0,null],\"y\":[9.526279441628825,9.526279441628825,null]},{\"hoverinfo\":\"none\",\"line\":{\"color\":\"#c762d4\",\"width\":3.823114766949071e-05},\"mode\":\"lines\",\"type\":\"scatter\",\"x\":[7.5,8.0,null],\"y\":[10.392304845413264,11.258330249197702,null]},{\"hoverinfo\":\"none\",\"line\":{\"color\":\"#c762d4\",\"width\":1.4142097508897593},\"mode\":\"lines\",\"type\":\"scatter\",\"x\":[8.0,7.5,null],\"y\":[11.258330249197702,12.12435565298214,null]},{\"hoverinfo\":\"none\",\"line\":{\"color\":\"#c762d4\",\"width\":1.4142097749643103},\"mode\":\"lines\",\"type\":\"scatter\",\"x\":[8.0,9.0,null],\"y\":[11.258330249197702,11.258330249197702,null]},{\"hoverinfo\":\"none\",\"line\":{\"color\":\"#c762d4\",\"width\":5.654172442808124e-05},\"mode\":\"lines\",\"type\":\"scatter\",\"x\":[7.5,8.0,null],\"y\":[12.12435565298214,12.990381056766578,null]},{\"hoverinfo\":\"none\",\"line\":{\"color\":\"#c762d4\",\"width\":5.654163308471295e-05},\"mode\":\"lines\",\"type\":\"scatter\",\"x\":[8.0,9.0,null],\"y\":[12.990381056766578,12.990381056766578,null]},{\"hoverinfo\":\"none\",\"line\":{\"color\":\"#c762d4\",\"width\":1.1224620086226027},\"mode\":\"lines\",\"type\":\"scatter\",\"x\":[9.0,9.5,null],\"y\":[0.8660254037844386,1.7320508075688772,null]},{\"hoverinfo\":\"none\",\"line\":{\"color\":\"#c762d4\",\"width\":3.431111699077335e-05},\"mode\":\"lines\",\"type\":\"scatter\",\"x\":[9.5,9.0,null],\"y\":[1.7320508075688772,2.598076211353316,null]},{\"hoverinfo\":\"none\",\"line\":{\"color\":\"#c762d4\",\"width\":1.1224619688248354},\"mode\":\"lines\",\"type\":\"scatter\",\"x\":[9.0,9.5,null],\"y\":[2.598076211353316,3.4641016151377544,null]},{\"hoverinfo\":\"none\",\"line\":{\"color\":\"#c762d4\",\"width\":4.056355140134569e-05},\"mode\":\"lines\",\"type\":\"scatter\",\"x\":[9.5,9.0,null],\"y\":[3.4641016151377544,4.330127018922193,null]},{\"hoverinfo\":\"none\",\"line\":{\"color\":\"#c762d4\",\"width\":1.1224620223964328},\"mode\":\"lines\",\"type\":\"scatter\",\"x\":[9.0,9.5,null],\"y\":[4.330127018922193,5.196152422706632,null]},{\"hoverinfo\":\"none\",\"line\":{\"color\":\"#c762d4\",\"width\":3.065968423291494e-05},\"mode\":\"lines\",\"type\":\"scatter\",\"x\":[9.5,9.0,null],\"y\":[5.196152422706632,6.06217782649107,null]},{\"hoverinfo\":\"none\",\"line\":{\"color\":\"#c762d4\",\"width\":1.1224620690260874},\"mode\":\"lines\",\"type\":\"scatter\",\"x\":[9.0,9.5,null],\"y\":[6.06217782649107,6.928203230275509,null]},{\"hoverinfo\":\"none\",\"line\":{\"color\":\"#c762d4\",\"width\":3.49209413433224e-05},\"mode\":\"lines\",\"type\":\"scatter\",\"x\":[9.5,9.0,null],\"y\":[6.928203230275509,7.794228634059947,null]},{\"hoverinfo\":\"none\",\"line\":{\"color\":\"#c762d4\",\"width\":1.1224619246019896},\"mode\":\"lines\",\"type\":\"scatter\",\"x\":[9.0,9.5,null],\"y\":[7.794228634059947,8.660254037844386,null]},{\"hoverinfo\":\"none\",\"line\":{\"color\":\"#c762d4\",\"width\":4.003999476600957e-05},\"mode\":\"lines\",\"type\":\"scatter\",\"x\":[9.5,9.0,null],\"y\":[8.660254037844386,9.526279441628825,null]},{\"hoverinfo\":\"none\",\"line\":{\"color\":\"#c762d4\",\"width\":0.000155061210470536},\"mode\":\"lines\",\"type\":\"scatter\",\"x\":[9.0,9.5,null],\"y\":[9.526279441628825,10.392304845413264,null]},{\"hoverinfo\":\"none\",\"line\":{\"color\":\"#c762d4\",\"width\":1.1224558678966432},\"mode\":\"lines\",\"type\":\"scatter\",\"x\":[9.5,9.0,null],\"y\":[10.392304845413264,11.258330249197702,null]},{\"hoverinfo\":\"none\",\"line\":{\"color\":\"#c762d4\",\"width\":1.1224618231447276},\"mode\":\"lines\",\"type\":\"scatter\",\"x\":[9.0,9.5,null],\"y\":[11.258330249197702,12.12435565298214,null]},{\"hoverinfo\":\"none\",\"line\":{\"color\":\"#c762d4\",\"width\":5.6544791125978915e-05},\"mode\":\"lines\",\"type\":\"scatter\",\"x\":[9.5,9.0,null],\"y\":[12.12435565298214,12.990381056766578,null]},{\"hoverinfo\":\"text\",\"marker\":{\"color\":\"#c762d4\",\"opacity\":0},\"mode\":\"markers\",\"text\":[\"label: (0, 1)<br>conductivity: 1.122461926857865<br>flow_rate: -0.9999586231886298<br>\",\"label: (0, 15)<br>conductivity: 1.1224619268606013<br>flow_rate: 0.999958623188617<br>\",\"label: (1, 2)<br>conductivity: 4.644858017554543e-05<br>flow_rate: 4.137681137224542e-05<br>\",\"label: (2, 3)<br>conductivity: 1.1224618126752335<br>flow_rate: -0.9999818574241673<br>\",\"label: (2, 17)<br>conductivity: 1.1224619347883682<br>flow_rate: 1.0000232342355198<br>\",\"label: (3, 4)<br>conductivity: 5.367681193433859e-05<br>flow_rate: 1.8142575821654986e-05<br>\",\"label: (4, 5)<br>conductivity: 6.932435670193108e-05<br>flow_rate: -0.0001007104489150208<br>\",\"label: (4, 19)<br>conductivity: 7.86781325723064e-05<br>flow_rate: 0.000118853024748951<br>\",\"label: (5, 6)<br>conductivity: 1.122461581017808<br>flow_rate: 0.9998992895510925<br>\",\"label: (6, 7)<br>conductivity: 1.1224620429811933<br>flow_rate: -0.9999487640510292<br>\",\"label: (6, 21)<br>conductivity: 1.4142132657517792<br>flow_rate: 1.9998480536021017<br>\",\"label: (7, 8)<br>conductivity: 2.6446800747727955e-05<br>flow_rate: 5.123594896912438e-05<br>\",\"label: (8, 9)<br>conductivity: 1.1223062608394083<br>flow_rate: -0.999772639346751<br>\",\"label: (8, 23)<br>conductivity: 1.1223062674195443<br>flow_rate: 0.9998238752957186<br>\",\"label: (9, 10)<br>conductivity: 0.00034697711025691405<br>flow_rate: 0.00022736065326070109<br>\",\"label: (10, 11)<br>conductivity: 3.12722570774068e-05<br>flow_rate: -8.260139763640808e-05<br>\",\"label: (10, 25)<br>conductivity: 0.00034696927510465616<br>flow_rate: 0.00030996205089884<br>\",\"label: (11, 12)<br>conductivity: 1.1224620481294132<br>flow_rate: 0.9999173986023584<br>\",\"label: (12, 13)<br>conductivity: 1.1224608803350686<br>flow_rate: -0.9998665083734422<br>\",\"label: (12, 27)<br>conductivity: 1.4142128356391244<br>flow_rate: 1.9997839069758083<br>\",\"label: (13, 14)<br>conductivity: 8.983402501580603e-05<br>flow_rate: 0.00013349162655992947<br>\",\"label: (14, 29)<br>conductivity: 8.983339279517672e-05<br>flow_rate: 0.00013349162656231187<br>\",\"label: (15, 16)<br>conductivity: 1.1224619268616423<br>flow_rate: 0.9999586231886121<br>\",\"label: (16, 17)<br>conductivity: 1.1224615739522956<br>flow_rate: -0.9999531869599444<br>\",\"label: (16, 32)<br>conductivity: 1.414213187833199<br>flow_rate: 1.9999118101485416<br>\",\"label: (17, 18)<br>conductivity: 6.38445030004554e-05<br>flow_rate: 7.004727556374263e-05<br>\",\"label: (18, 19)<br>conductivity: 6.998320186321799e-05<br>flow_rate: -7.210626410817476e-05<br>\",\"label: (18, 34)<br>conductivity: 8.444913690403094e-05<br>flow_rate: 0.00014215353967538831<br>\",\"label: (19, 20)<br>conductivity: 5.262354005383175e-05<br>flow_rate: 4.674676064229826e-05<br>\",\"label: (20, 21)<br>conductivity: 4.229426688429367e-05<br>flow_rate: -6.54196870537947e-05<br>\",\"label: (20, 36)<br>conductivity: 6.0207704888425334e-05<br>flow_rate: 0.00011216644770134672<br>\",\"label: (21, 22)<br>conductivity: 1.4142132224001982<br>flow_rate: 1.999782633915061<br>\",\"label: (22, 23)<br>conductivity: 1.1223061680042494<br>flow_rate: -0.9997873716091952<br>\",\"label: (22, 38)<br>conductivity: 1.6187943023922513<br>flow_rate: 2.9995700055242294<br>\",\"label: (23, 24)<br>conductivity: 4.333641488886423e-05<br>flow_rate: 3.650368653638504e-05<br>\",\"label: (24, 25)<br>conductivity: 7.902852691839591e-05<br>flow_rate: -8.498849281310057e-05<br>\",\"label: (24, 40)<br>conductivity: 8.286221596765783e-05<br>flow_rate: 0.00012149217934787017<br>\",\"label: (25, 26)<br>conductivity: 0.0003462725775979272<br>flow_rate: 0.00022497355808956333<br>\",\"label: (26, 27)<br>conductivity: 0.00011888536569279444<br>flow_rate: -0.00022344731753698902<br>\",\"label: (26, 42)<br>conductivity: 0.0003472540675086269<br>flow_rate: 0.0004484208756391229<br>\",\"label: (27, 28)<br>conductivity: 1.4142127243911242<br>flow_rate: 1.9995604596582617<br>\",\"label: (28, 29)<br>conductivity: 7.2717892566668e-05<br>flow_rate: -5.430382889973681e-05<br>\",\"label: (28, 44)<br>conductivity: 1.4142131609871411<br>flow_rate: 1.9996147634871604<br>\",\"label: (29, 30)<br>conductivity: 6.993170728710209e-05<br>flow_rate: 7.91877976624518e-05<br>\",\"label: (30, 46)<br>conductivity: 6.99304594437922e-05<br>flow_rate: 7.91877976724759e-05<br>\",\"label: (31, 32)<br>conductivity: 1.4142131708348742<br>flow_rate: -1.999864062671518<br>\",\"label: (31, 47)<br>conductivity: 1.4142131708346712<br>flow_rate: 1.9998640626715187<br>\",\"label: (32, 33)<br>conductivity: 3.3610609024479995e-05<br>flow_rate: 4.7747477033804245e-05<br>\",\"label: (33, 34)<br>conductivity: 5.429385446326592e-05<br>flow_rate: -5.131628544279503e-05<br>\",\"label: (33, 49)<br>conductivity: 5.782015197555029e-05<br>flow_rate: 9.906376248089904e-05<br>\",\"label: (34, 35)<br>conductivity: 7.632234168078622e-05<br>flow_rate: 9.083725421869865e-05<br>\",\"label: (35, 36)<br>conductivity: 3.5307299237046965e-05<br>flow_rate: -4.0691794365867465e-05<br>\",\"label: (35, 51)<br>conductivity: 7.832693630423497e-05<br>flow_rate: 0.00013152904858397096<br>\",\"label: (36, 37)<br>conductivity: 5.622738405577739e-05<br>flow_rate: 7.147465334115281e-05<br>\",\"label: (37, 38)<br>conductivity: 1.4142137989290857<br>flow_rate: -1.9995736047027934<br>\",\"label: (37, 53)<br>conductivity: 1.4142139369327422<br>flow_rate: 1.999645079356121<br>\",\"label: (38, 39)<br>conductivity: 1.122305155733596<br>flow_rate: 0.9999964008214806<br>\",\"label: (39, 40)<br>conductivity: 7.071764323992655e-05<br>flow_rate: -9.379214157310769e-05<br>\",\"label: (39, 55)<br>conductivity: 1.1223059283142423<br>flow_rate: 1.000090192963058<br>\",\"label: (40, 41)<br>conductivity: 6.051450448152445e-05<br>flow_rate: 2.770003777195732e-05<br>\",\"label: (41, 42)<br>conductivity: 0.00034657315093959283<br>flow_rate: -0.00036678467245874195<br>\",\"label: (41, 57)<br>conductivity: 0.0003469056914433999<br>flow_rate: 0.00039448471024209096<br>\",\"label: (42, 43)<br>conductivity: 7.623257296243754e-05<br>flow_rate: 8.163620318011676e-05<br>\",\"label: (43, 44)<br>conductivity: 1.4142129891656798<br>flow_rate: -1.9995431989149293<br>\",\"label: (43, 59)<br>conductivity: 1.4142135738105361<br>flow_rate: 1.9996248351181016<br>\",\"label: (44, 45)<br>conductivity: 5.788211041840272e-05<br>flow_rate: 7.156457220959575e-05<br>\",\"label: (45, 46)<br>conductivity: 6.993150204948157e-05<br>flow_rate: -7.918779767250734e-05<br>\",\"label: (45, 61)<br>conductivity: 8.114512335988634e-05<br>flow_rate: 0.00015075236987560937<br>\",\"label: (47, 48)<br>conductivity: 1.4142131708336194<br>flow_rate: 1.9998640626715298<br>\",\"label: (48, 49)<br>conductivity: 3.877837908052767e-05<br>flow_rate: -4.298341344761852e-05<br>\",\"label: (48, 64)<br>conductivity: 1.4142132090170891<br>flow_rate: 1.9999070460849782<br>\",\"label: (49, 50)<br>conductivity: 5.1395410899893014e-05<br>flow_rate: 5.6080349033085025e-05<br>\",\"label: (50, 51)<br>conductivity: 6.59898981591111e-05<br>flow_rate: -5.808504710847733e-05<br>\",\"label: (50, 66)<br>conductivity: 7.490140243490206e-05<br>flow_rate: 0.00011416539613934977<br>\",\"label: (51, 52)<br>conductivity: 5.795091363669424e-05<br>flow_rate: 7.344400147265365e-05<br>\",\"label: (52, 53)<br>conductivity: 1.414213389868356<br>flow_rate: -1.9996266839979857<br>\",\"label: (52, 68)<br>conductivity: 1.414213553579482<br>flow_rate: 1.9997001279994695<br>\",\"label: (53, 54)<br>conductivity: 7.282261738897741e-05<br>flow_rate: 1.8395358135531853e-05<br>\",\"label: (54, 55)<br>conductivity: 6.751335954676269e-05<br>flow_rate: -8.765637448260431e-05<br>\",\"label: (54, 70)<br>conductivity: 8.778787862953747e-05<br>flow_rate: 0.00010605173261797904<br>\",\"label: (55, 56)<br>conductivity: 1.1223054228051161<br>flow_rate: 1.0000025365885803<br>\",\"label: (56, 57)<br>conductivity: 2.4999526436548175e-05<br>flow_rate: -3.7837386726074806e-05<br>\",\"label: (56, 72)<br>conductivity: 1.1223054430598527<br>flow_rate: 1.0000403739753032<br>\",\"label: (57, 58)<br>conductivity: 0.00034689918065643975<br>flow_rate: 0.0003566473235149951<br>\",\"label: (58, 59)<br>conductivity: 7.8582525518217e-05<br>flow_rate: -5.805204273790747e-05<br>\",\"label: (58, 74)<br>conductivity: 0.00034774756327043006<br>flow_rate: 0.00041469936625323134<br>\",\"label: (59, 60)<br>conductivity: 1.4142129641081087<br>flow_rate: 1.9995667830753723<br>\",\"label: (60, 61)<br>conductivity: 4.161994787499023e-05<br>flow_rate: -4.77609884882562e-05<br>\",\"label: (60, 76)<br>conductivity: 1.4142130155615606<br>flow_rate: 1.9996145440638724<br>\",\"label: (61, 62)<br>conductivity: 7.77225447705639e-05<br>flow_rate: 0.00010299138138609884<br>\",\"label: (62, 78)<br>conductivity: 7.772220150219354e-05<br>flow_rate: 0.00010299138138530507<br>\",\"label: (63, 64)<br>conductivity: 1.1224606900075016<br>flow_rate: -0.9998892179163061<br>\",\"label: (63, 79)<br>conductivity: 1.1224606900057492<br>flow_rate: 0.9998892179163013<br>\",\"label: (64, 65)<br>conductivity: 1.1224628486999357<br>flow_rate: 1.000017828168674<br>\",\"label: (65, 66)<br>conductivity: 6.449497902139772e-05<br>flow_rate: -5.1475758095947506e-05<br>\",\"label: (65, 81)<br>conductivity: 1.1224632513448438<br>flow_rate: 1.000069303926784<br>\",\"label: (66, 67)<br>conductivity: 5.3684094509693775e-05<br>flow_rate: 6.268963804519111e-05<br>\",\"label: (67, 68)<br>conductivity: 1.122461875437588<br>flow_rate: -0.9999125454874761<br>\",\"label: (67, 83)<br>conductivity: 1.1224620728850874<br>flow_rate: 0.9999752351255253<br>\",\"label: (68, 69)<br>conductivity: 1.1224622039936798<br>flow_rate: 0.9997875825119782<br>\",\"label: (69, 70)<br>conductivity: 4.044075605838408e-05<br>flow_rate: -9.131564566624978e-05<br>\",\"label: (69, 85)<br>conductivity: 1.1224621979250433<br>flow_rate: 0.9998788981576475<br>\",\"label: (70, 71)<br>conductivity: 8.840802014766594e-05<br>flow_rate: 1.4736086952050729e-05<br>\",\"label: (71, 72)<br>conductivity: 1.1223042251340267<br>flow_rate: -0.9999726662655667<br>\",\"label: (71, 87)<br>conductivity: 1.1223057037698922<br>flow_rate: 0.9999874023525089<br>\",\"label: (72, 73)<br>conductivity: 8.320272051165298e-05<br>flow_rate: 6.770770973518627e-05<br>\",\"label: (73, 74)<br>conductivity: 0.0003477285465080629<br>flow_rate: -0.00034693587563197295<br>\",\"label: (73, 89)<br>conductivity: 0.0003487474264841518<br>flow_rate: 0.00041464358536736045<br>\",\"label: (74, 75)<br>conductivity: 3.9920282156564766e-05<br>flow_rate: 6.776349062158886e-05<br>\",\"label: (75, 76)<br>conductivity: 0.00013273976042092162<br>flow_rate: -0.00010631002573427394<br>\",\"label: (75, 91)<br>conductivity: 0.0001331440089970616<br>flow_rate: 0.00017407351635580242<br>\",\"label: (76, 77)<br>conductivity: 1.4142094159598<br>flow_rate: 1.9995082340381423<br>\",\"label: (77, 78)<br>conductivity: 7.772205608364695e-05<br>flow_rate: -0.00010299138138519712<br>\",\"label: (77, 93)<br>conductivity: 1.4142099241609025<br>flow_rate: 1.9996112254195273<br>\",\"label: (79, 80)<br>conductivity: 1.1224606900063685<br>flow_rate: 0.9998892179163061<br>\",\"label: (80, 81)<br>conductivity: 9.009112452349402e-05<br>flow_rate: -8.022883376299844e-05<br>\",\"label: (80, 95)<br>conductivity: 1.1224620086224604<br>flow_rate: 0.9999694467500824<br>\",\"label: (81, 82)<br>conductivity: 1.1224619403060279<br>flow_rate: 0.9999890750929958<br>\",\"label: (82, 83)<br>conductivity: 3.8991747448088354e-05<br>flow_rate: -2.0328626614687058e-05<br>\",\"label: (82, 97)<br>conductivity: 1.1224620085125105<br>flow_rate: 1.0000094037196188<br>\",\"label: (83, 84)<br>conductivity: 1.1224620046689104<br>flow_rate: 0.9999549064989<br>\",\"label: (84, 85)<br>conductivity: 4.367623762753457e-05<br>flow_rate: -3.8917977737566136e-05<br>\",\"label: (84, 99)<br>conductivity: 1.1224621017682108<br>flow_rate: 0.9999938244766388<br>\",\"label: (85, 86)<br>conductivity: 1.1224621019852346<br>flow_rate: 0.9998399801799122<br>\",\"label: (86, 87)<br>conductivity: 2.7910963416050484e-05<br>flow_rate: -8.322666567089154e-05<br>\",\"label: (86, 101)<br>conductivity: 1.1224620947050077<br>flow_rate: 0.9999232068455806<br>\",\"label: (87, 88)<br>conductivity: 1.1223057111412336<br>flow_rate: 0.9999041756868305<br>\",\"label: (88, 89)<br>conductivity: 0.00034747310467099957<br>flow_rate: -0.00023288681279854585<br>\",\"label: (88, 103)<br>conductivity: 1.1224619034635166<br>flow_rate: 1.0001370624996264<br>\",\"label: (89, 90)<br>conductivity: 0.00011999133148187165<br>flow_rate: 0.00018175677256922868<br>\",\"label: (90, 91)<br>conductivity: 0.00013281446704627495<br>flow_rate: -9.251092668002893e-05<br>\",\"label: (90, 105)<br>conductivity: 0.0001558149496678062<br>flow_rate: 0.00027426769924954197<br>\",\"label: (91, 92)<br>conductivity: 3.823114766949071e-05<br>flow_rate: 8.156258967611916e-05<br>\",\"label: (92, 93)<br>conductivity: 1.4142097508897593<br>flow_rate: -1.9995411373317482<br>\",\"label: (92, 107)<br>conductivity: 1.4142097749643103<br>flow_rate: 1.999622699921424<br>\",\"label: (93, 94)<br>conductivity: 5.654172442808124e-05<br>flow_rate: 7.008808777570807e-05<br>\",\"label: (94, 109)<br>conductivity: 5.654163308471295e-05<br>flow_rate: 7.008808777600979e-05<br>\",\"label: (95, 96)<br>conductivity: 1.1224620086226027<br>flow_rate: 0.9999694467500836<br>\",\"label: (96, 97)<br>conductivity: 3.431111699077335e-05<br>flow_rate: -3.055324991312955e-05<br>\",\"label: (97, 98)<br>conductivity: 1.1224619688248354<br>flow_rate: 0.9999788504697015<br>\",\"label: (98, 99)<br>conductivity: 4.056355140134569e-05<br>flow_rate: -2.1149530302820272e-05<br>\",\"label: (99, 100)<br>conductivity: 1.1224620223964328<br>flow_rate: 0.9999726749463227<br>\",\"label: (100, 101)<br>conductivity: 3.065968423291494e-05<br>flow_rate: -2.732505367782671e-05<br>\",\"label: (101, 102)<br>conductivity: 1.1224620690260874<br>flow_rate: 0.9998958817919005<br>\",\"label: (102, 103)<br>conductivity: 3.49209413433224e-05<br>flow_rate: -0.00010411820809637635<br>\",\"label: (103, 104)<br>conductivity: 1.1224619246019896<br>flow_rate: 1.0000329442915445<br>\",\"label: (104, 105)<br>conductivity: 4.003999476600957e-05<br>flow_rate: 3.2944291547214215e-05<br>\",\"label: (105, 106)<br>conductivity: 0.000155061210470536<br>flow_rate: 0.0003072119907969769<br>\",\"label: (106, 107)<br>conductivity: 1.1224558678966432<br>flow_rate: -0.9996927880091938<br>\",\"label: (107, 108)<br>conductivity: 1.1224618231447276<br>flow_rate: 0.9999299119122222<br>\",\"label: (108, 109)<br>conductivity: 5.6544791125978915e-05<br>flow_rate: -7.008808777631125e-05<br>\"],\"type\":\"scatter\",\"x\":[0.25,1.0,0.25,0.25,1.0,0.25,0.25,1.0,0.25,0.25,1.0,0.25,0.25,1.0,0.25,0.25,1.0,0.25,0.25,1.0,0.25,1.0,1.75,1.75,2.5,1.75,1.75,2.5,1.75,1.75,2.5,1.75,1.75,2.5,1.75,1.75,2.5,1.75,1.75,2.5,1.75,1.75,2.5,1.75,2.5,3.25,4.0,3.25,3.25,4.0,3.25,3.25,4.0,3.25,3.25,4.0,3.25,3.25,4.0,3.25,3.25,4.0,3.25,3.25,4.0,3.25,3.25,4.0,4.75,4.75,5.5,4.75,4.75,5.5,4.75,4.75,5.5,4.75,4.75,5.5,4.75,4.75,5.5,4.75,4.75,5.5,4.75,4.75,5.5,4.75,5.5,6.25,7.0,6.25,6.25,7.0,6.25,6.25,7.0,6.25,6.25,7.0,6.25,6.25,7.0,6.25,6.25,7.0,6.25,6.25,7.0,6.25,6.25,7.0,7.75,7.75,8.5,7.75,7.75,8.5,7.75,7.75,8.5,7.75,7.75,8.5,7.75,7.75,8.5,7.75,7.75,8.5,7.75,7.75,8.5,7.75,8.5,9.25,9.25,9.25,9.25,9.25,9.25,9.25,9.25,9.25,9.25,9.25,9.25,9.25,9.25],\"y\":[0.4330127018922193,0.0,1.299038105676658,2.1650635094610964,1.7320508075688772,3.031088913245535,3.8971143170299736,3.4641016151377544,4.763139720814412,5.629165124598851,5.196152422706632,6.49519052838329,7.3612159321677275,6.928203230275509,8.227241335952167,9.093266739736606,8.660254037844386,9.959292143521044,10.825317547305483,10.392304845413264,11.691342951089922,12.12435565298214,0.4330127018922193,1.299038105676658,0.8660254037844386,2.1650635094610964,3.031088913245535,2.598076211353316,3.8971143170299736,4.763139720814412,4.330127018922193,5.629165124598851,6.49519052838329,6.06217782649107,7.3612159321677275,8.227241335952167,7.794228634059947,9.093266739736606,9.959292143521044,9.526279441628825,10.825317547305483,11.691342951089922,11.258330249197702,12.55736835487436,12.990381056766578,0.4330127018922193,0.0,1.299038105676658,2.1650635094610964,1.7320508075688772,3.031088913245535,3.8971143170299736,3.4641016151377544,4.763139720814412,5.629165124598851,5.196152422706632,6.49519052838329,7.3612159321677275,6.928203230275509,8.227241335952167,9.093266739736606,8.660254037844386,9.959292143521044,10.825317547305483,10.392304845413264,11.691342951089922,12.55736835487436,12.12435565298214,0.4330127018922193,1.299038105676658,0.8660254037844386,2.1650635094610964,3.031088913245535,2.598076211353316,3.8971143170299736,4.763139720814412,4.330127018922193,5.629165124598851,6.49519052838329,6.06217782649107,7.3612159321677275,8.227241335952167,7.794228634059947,9.093266739736606,9.959292143521044,9.526279441628825,10.825317547305483,11.691342951089922,11.258330249197702,12.55736835487436,12.990381056766578,0.4330127018922193,0.0,1.299038105676658,2.1650635094610964,1.7320508075688772,3.031088913245535,3.8971143170299736,3.4641016151377544,4.763139720814412,5.629165124598851,5.196152422706632,6.49519052838329,7.3612159321677275,6.928203230275509,8.227241335952167,9.093266739736606,8.660254037844386,9.959292143521044,10.825317547305483,10.392304845413264,11.691342951089922,12.55736835487436,12.12435565298214,0.4330127018922193,1.299038105676658,0.8660254037844386,2.1650635094610964,3.031088913245535,2.598076211353316,3.8971143170299736,4.763139720814412,4.330127018922193,5.629165124598851,6.49519052838329,6.06217782649107,7.3612159321677275,8.227241335952167,7.794228634059947,9.093266739736606,9.959292143521044,9.526279441628825,10.825317547305483,11.691342951089922,11.258330249197702,12.55736835487436,12.990381056766578,1.299038105676658,2.1650635094610964,3.031088913245535,3.8971143170299736,4.763139720814412,5.629165124598851,6.49519052838329,7.3612159321677275,8.227241335952167,9.093266739736606,9.959292143521044,10.825317547305483,11.691342951089922,12.55736835487436]}],                        {\"showlegend\":false,\"template\":{\"data\":{\"bar\":[{\"error_x\":{\"color\":\"#2a3f5f\"},\"error_y\":{\"color\":\"#2a3f5f\"},\"marker\":{\"line\":{\"color\":\"#E5ECF6\",\"width\":0.5},\"pattern\":{\"fillmode\":\"overlay\",\"size\":10,\"solidity\":0.2}},\"type\":\"bar\"}],\"barpolar\":[{\"marker\":{\"line\":{\"color\":\"#E5ECF6\",\"width\":0.5},\"pattern\":{\"fillmode\":\"overlay\",\"size\":10,\"solidity\":0.2}},\"type\":\"barpolar\"}],\"carpet\":[{\"aaxis\":{\"endlinecolor\":\"#2a3f5f\",\"gridcolor\":\"white\",\"linecolor\":\"white\",\"minorgridcolor\":\"white\",\"startlinecolor\":\"#2a3f5f\"},\"baxis\":{\"endlinecolor\":\"#2a3f5f\",\"gridcolor\":\"white\",\"linecolor\":\"white\",\"minorgridcolor\":\"white\",\"startlinecolor\":\"#2a3f5f\"},\"type\":\"carpet\"}],\"choropleth\":[{\"colorbar\":{\"outlinewidth\":0,\"ticks\":\"\"},\"type\":\"choropleth\"}],\"contour\":[{\"colorbar\":{\"outlinewidth\":0,\"ticks\":\"\"},\"colorscale\":[[0.0,\"#0d0887\"],[0.1111111111111111,\"#46039f\"],[0.2222222222222222,\"#7201a8\"],[0.3333333333333333,\"#9c179e\"],[0.4444444444444444,\"#bd3786\"],[0.5555555555555556,\"#d8576b\"],[0.6666666666666666,\"#ed7953\"],[0.7777777777777778,\"#fb9f3a\"],[0.8888888888888888,\"#fdca26\"],[1.0,\"#f0f921\"]],\"type\":\"contour\"}],\"contourcarpet\":[{\"colorbar\":{\"outlinewidth\":0,\"ticks\":\"\"},\"type\":\"contourcarpet\"}],\"heatmap\":[{\"colorbar\":{\"outlinewidth\":0,\"ticks\":\"\"},\"colorscale\":[[0.0,\"#0d0887\"],[0.1111111111111111,\"#46039f\"],[0.2222222222222222,\"#7201a8\"],[0.3333333333333333,\"#9c179e\"],[0.4444444444444444,\"#bd3786\"],[0.5555555555555556,\"#d8576b\"],[0.6666666666666666,\"#ed7953\"],[0.7777777777777778,\"#fb9f3a\"],[0.8888888888888888,\"#fdca26\"],[1.0,\"#f0f921\"]],\"type\":\"heatmap\"}],\"heatmapgl\":[{\"colorbar\":{\"outlinewidth\":0,\"ticks\":\"\"},\"colorscale\":[[0.0,\"#0d0887\"],[0.1111111111111111,\"#46039f\"],[0.2222222222222222,\"#7201a8\"],[0.3333333333333333,\"#9c179e\"],[0.4444444444444444,\"#bd3786\"],[0.5555555555555556,\"#d8576b\"],[0.6666666666666666,\"#ed7953\"],[0.7777777777777778,\"#fb9f3a\"],[0.8888888888888888,\"#fdca26\"],[1.0,\"#f0f921\"]],\"type\":\"heatmapgl\"}],\"histogram\":[{\"marker\":{\"pattern\":{\"fillmode\":\"overlay\",\"size\":10,\"solidity\":0.2}},\"type\":\"histogram\"}],\"histogram2d\":[{\"colorbar\":{\"outlinewidth\":0,\"ticks\":\"\"},\"colorscale\":[[0.0,\"#0d0887\"],[0.1111111111111111,\"#46039f\"],[0.2222222222222222,\"#7201a8\"],[0.3333333333333333,\"#9c179e\"],[0.4444444444444444,\"#bd3786\"],[0.5555555555555556,\"#d8576b\"],[0.6666666666666666,\"#ed7953\"],[0.7777777777777778,\"#fb9f3a\"],[0.8888888888888888,\"#fdca26\"],[1.0,\"#f0f921\"]],\"type\":\"histogram2d\"}],\"histogram2dcontour\":[{\"colorbar\":{\"outlinewidth\":0,\"ticks\":\"\"},\"colorscale\":[[0.0,\"#0d0887\"],[0.1111111111111111,\"#46039f\"],[0.2222222222222222,\"#7201a8\"],[0.3333333333333333,\"#9c179e\"],[0.4444444444444444,\"#bd3786\"],[0.5555555555555556,\"#d8576b\"],[0.6666666666666666,\"#ed7953\"],[0.7777777777777778,\"#fb9f3a\"],[0.8888888888888888,\"#fdca26\"],[1.0,\"#f0f921\"]],\"type\":\"histogram2dcontour\"}],\"mesh3d\":[{\"colorbar\":{\"outlinewidth\":0,\"ticks\":\"\"},\"type\":\"mesh3d\"}],\"parcoords\":[{\"line\":{\"colorbar\":{\"outlinewidth\":0,\"ticks\":\"\"}},\"type\":\"parcoords\"}],\"pie\":[{\"automargin\":true,\"type\":\"pie\"}],\"scatter\":[{\"marker\":{\"colorbar\":{\"outlinewidth\":0,\"ticks\":\"\"}},\"type\":\"scatter\"}],\"scatter3d\":[{\"line\":{\"colorbar\":{\"outlinewidth\":0,\"ticks\":\"\"}},\"marker\":{\"colorbar\":{\"outlinewidth\":0,\"ticks\":\"\"}},\"type\":\"scatter3d\"}],\"scattercarpet\":[{\"marker\":{\"colorbar\":{\"outlinewidth\":0,\"ticks\":\"\"}},\"type\":\"scattercarpet\"}],\"scattergeo\":[{\"marker\":{\"colorbar\":{\"outlinewidth\":0,\"ticks\":\"\"}},\"type\":\"scattergeo\"}],\"scattergl\":[{\"marker\":{\"colorbar\":{\"outlinewidth\":0,\"ticks\":\"\"}},\"type\":\"scattergl\"}],\"scattermapbox\":[{\"marker\":{\"colorbar\":{\"outlinewidth\":0,\"ticks\":\"\"}},\"type\":\"scattermapbox\"}],\"scatterpolar\":[{\"marker\":{\"colorbar\":{\"outlinewidth\":0,\"ticks\":\"\"}},\"type\":\"scatterpolar\"}],\"scatterpolargl\":[{\"marker\":{\"colorbar\":{\"outlinewidth\":0,\"ticks\":\"\"}},\"type\":\"scatterpolargl\"}],\"scatterternary\":[{\"marker\":{\"colorbar\":{\"outlinewidth\":0,\"ticks\":\"\"}},\"type\":\"scatterternary\"}],\"surface\":[{\"colorbar\":{\"outlinewidth\":0,\"ticks\":\"\"},\"colorscale\":[[0.0,\"#0d0887\"],[0.1111111111111111,\"#46039f\"],[0.2222222222222222,\"#7201a8\"],[0.3333333333333333,\"#9c179e\"],[0.4444444444444444,\"#bd3786\"],[0.5555555555555556,\"#d8576b\"],[0.6666666666666666,\"#ed7953\"],[0.7777777777777778,\"#fb9f3a\"],[0.8888888888888888,\"#fdca26\"],[1.0,\"#f0f921\"]],\"type\":\"surface\"}],\"table\":[{\"cells\":{\"fill\":{\"color\":\"#EBF0F8\"},\"line\":{\"color\":\"white\"}},\"header\":{\"fill\":{\"color\":\"#C8D4E3\"},\"line\":{\"color\":\"white\"}},\"type\":\"table\"}]},\"layout\":{\"annotationdefaults\":{\"arrowcolor\":\"#2a3f5f\",\"arrowhead\":0,\"arrowwidth\":1},\"autotypenumbers\":\"strict\",\"coloraxis\":{\"colorbar\":{\"outlinewidth\":0,\"ticks\":\"\"}},\"colorscale\":{\"diverging\":[[0,\"#8e0152\"],[0.1,\"#c51b7d\"],[0.2,\"#de77ae\"],[0.3,\"#f1b6da\"],[0.4,\"#fde0ef\"],[0.5,\"#f7f7f7\"],[0.6,\"#e6f5d0\"],[0.7,\"#b8e186\"],[0.8,\"#7fbc41\"],[0.9,\"#4d9221\"],[1,\"#276419\"]],\"sequential\":[[0.0,\"#0d0887\"],[0.1111111111111111,\"#46039f\"],[0.2222222222222222,\"#7201a8\"],[0.3333333333333333,\"#9c179e\"],[0.4444444444444444,\"#bd3786\"],[0.5555555555555556,\"#d8576b\"],[0.6666666666666666,\"#ed7953\"],[0.7777777777777778,\"#fb9f3a\"],[0.8888888888888888,\"#fdca26\"],[1.0,\"#f0f921\"]],\"sequentialminus\":[[0.0,\"#0d0887\"],[0.1111111111111111,\"#46039f\"],[0.2222222222222222,\"#7201a8\"],[0.3333333333333333,\"#9c179e\"],[0.4444444444444444,\"#bd3786\"],[0.5555555555555556,\"#d8576b\"],[0.6666666666666666,\"#ed7953\"],[0.7777777777777778,\"#fb9f3a\"],[0.8888888888888888,\"#fdca26\"],[1.0,\"#f0f921\"]]},\"colorway\":[\"#636efa\",\"#EF553B\",\"#00cc96\",\"#ab63fa\",\"#FFA15A\",\"#19d3f3\",\"#FF6692\",\"#B6E880\",\"#FF97FF\",\"#FECB52\"],\"font\":{\"color\":\"#2a3f5f\"},\"geo\":{\"bgcolor\":\"white\",\"lakecolor\":\"white\",\"landcolor\":\"#E5ECF6\",\"showlakes\":true,\"showland\":true,\"subunitcolor\":\"white\"},\"hoverlabel\":{\"align\":\"left\"},\"hovermode\":\"closest\",\"mapbox\":{\"style\":\"light\"},\"paper_bgcolor\":\"white\",\"plot_bgcolor\":\"#E5ECF6\",\"polar\":{\"angularaxis\":{\"gridcolor\":\"white\",\"linecolor\":\"white\",\"ticks\":\"\"},\"bgcolor\":\"#E5ECF6\",\"radialaxis\":{\"gridcolor\":\"white\",\"linecolor\":\"white\",\"ticks\":\"\"}},\"scene\":{\"xaxis\":{\"backgroundcolor\":\"#E5ECF6\",\"gridcolor\":\"white\",\"gridwidth\":2,\"linecolor\":\"white\",\"showbackground\":true,\"ticks\":\"\",\"zerolinecolor\":\"white\"},\"yaxis\":{\"backgroundcolor\":\"#E5ECF6\",\"gridcolor\":\"white\",\"gridwidth\":2,\"linecolor\":\"white\",\"showbackground\":true,\"ticks\":\"\",\"zerolinecolor\":\"white\"},\"zaxis\":{\"backgroundcolor\":\"#E5ECF6\",\"gridcolor\":\"white\",\"gridwidth\":2,\"linecolor\":\"white\",\"showbackground\":true,\"ticks\":\"\",\"zerolinecolor\":\"white\"}},\"shapedefaults\":{\"line\":{\"color\":\"#2a3f5f\"}},\"ternary\":{\"aaxis\":{\"gridcolor\":\"white\",\"linecolor\":\"white\",\"ticks\":\"\"},\"baxis\":{\"gridcolor\":\"white\",\"linecolor\":\"white\",\"ticks\":\"\"},\"bgcolor\":\"#E5ECF6\",\"caxis\":{\"gridcolor\":\"white\",\"linecolor\":\"white\",\"ticks\":\"\"}},\"title\":{\"x\":0.05},\"xaxis\":{\"automargin\":true,\"gridcolor\":\"white\",\"linecolor\":\"white\",\"ticks\":\"\",\"title\":{\"standoff\":15},\"zerolinecolor\":\"white\",\"zerolinewidth\":2},\"yaxis\":{\"automargin\":true,\"gridcolor\":\"white\",\"linecolor\":\"white\",\"ticks\":\"\",\"title\":{\"standoff\":15},\"zerolinecolor\":\"white\",\"zerolinewidth\":2}}}},                        {\"responsive\": true}                    ).then(function(){\n",
       "                            \n",
       "var gd = document.getElementById('2c50ce45-b352-4a91-b0fe-50a316472f0e');\n",
       "var x = new MutationObserver(function (mutations, observer) {{\n",
       "        var display = window.getComputedStyle(gd).display;\n",
       "        if (!display || display === 'none') {{\n",
       "            console.log([gd, 'removed!']);\n",
       "            Plotly.purge(gd);\n",
       "            observer.disconnect();\n",
       "        }}\n",
       "}});\n",
       "\n",
       "// Listen for the removal of the full notebook cells\n",
       "var notebookContainer = gd.closest('#notebook-container');\n",
       "if (notebookContainer) {{\n",
       "    x.observe(notebookContainer, {childList: true});\n",
       "}}\n",
       "\n",
       "// Listen for the clearing of the current output cell\n",
       "var outputEl = gd.closest('.output');\n",
       "if (outputEl) {{\n",
       "    x.observe(outputEl, {childList: true});\n",
       "}}\n",
       "\n",
       "                        })                };                });            </script>        </div>"
      ]
     },
     "metadata": {},
     "output_type": "display_data"
    }
   ],
   "source": [
    "# plot network with data of choice\n",
    "flow.circuit.edges['conductivity']=nsol.y.transpose()[-1]*1.\n",
    "flow.circuit.edges['flow_rate'], dP=flow.calc_configuration_flow()\n",
    "flow.circuit.draw_weight_scaling=2.\n",
    "fig=flow.circuit.plot_circuit(linewidth=[flow.circuit.edges['conductivity']])\n",
    "fig.show()"
   ]
  },
  {
   "cell_type": "code",
   "execution_count": 11,
   "metadata": {
    "scrolled": false
   },
   "outputs": [
    {
     "data": {
      "application/vnd.plotly.v1+json": {
       "config": {
        "plotlyServerURL": "https://plot.ly"
       },
       "data": [
        {
         "hoverinfo": "text",
         "hovertext": [
          "label: 0<br>source: 0.0<br>",
          "label: 1<br>source: -1.0<br>",
          "label: 2<br>source: 0.0<br>",
          "label: 3<br>source: -1.0<br>",
          "label: 4<br>source: 0.0<br>",
          "label: 5<br>source: -1.0<br>",
          "label: 6<br>source: 0.0<br>",
          "label: 7<br>source: -1.0<br>",
          "label: 8<br>source: 0.0<br>",
          "label: 9<br>source: -1.0<br>",
          "label: 10<br>source: 0.0<br>",
          "label: 11<br>source: -1.0<br>",
          "label: 12<br>source: 0.0<br>",
          "label: 13<br>source: -1.0<br>",
          "label: 14<br>source: 0.0<br>",
          "label: 15<br>source: 0.0<br>",
          "label: 16<br>source: 0.0<br>",
          "label: 17<br>source: 0.0<br>",
          "label: 18<br>source: 0.0<br>",
          "label: 19<br>source: 0.0<br>",
          "label: 20<br>source: 0.0<br>",
          "label: 21<br>source: 0.0<br>",
          "label: 22<br>source: 0.0<br>",
          "label: 23<br>source: 0.0<br>",
          "label: 24<br>source: 0.0<br>",
          "label: 25<br>source: 0.0<br>",
          "label: 26<br>source: 0.0<br>",
          "label: 27<br>source: 0.0<br>",
          "label: 28<br>source: 0.0<br>",
          "label: 29<br>source: 0.0<br>",
          "label: 30<br>source: 0.0<br>",
          "label: 31<br>source: 0.0<br>",
          "label: 32<br>source: 0.0<br>",
          "label: 33<br>source: 0.0<br>",
          "label: 34<br>source: 0.0<br>",
          "label: 35<br>source: 0.0<br>",
          "label: 36<br>source: 0.0<br>",
          "label: 37<br>source: 0.0<br>",
          "label: 38<br>source: 0.0<br>",
          "label: 39<br>source: 0.0<br>",
          "label: 40<br>source: 0.0<br>",
          "label: 41<br>source: 0.0<br>",
          "label: 42<br>source: 0.0<br>",
          "label: 43<br>source: 0.0<br>",
          "label: 44<br>source: 0.0<br>",
          "label: 45<br>source: 0.0<br>",
          "label: 46<br>source: 0.0<br>",
          "label: 47<br>source: 0.0<br>",
          "label: 48<br>source: 0.0<br>",
          "label: 49<br>source: 0.0<br>",
          "label: 50<br>source: 0.0<br>",
          "label: 51<br>source: 0.0<br>",
          "label: 52<br>source: 0.0<br>",
          "label: 53<br>source: 0.0<br>",
          "label: 54<br>source: 0.0<br>",
          "label: 55<br>source: 0.0<br>",
          "label: 56<br>source: 0.0<br>",
          "label: 57<br>source: 0.0<br>",
          "label: 58<br>source: 0.0<br>",
          "label: 59<br>source: 0.0<br>",
          "label: 60<br>source: 0.0<br>",
          "label: 61<br>source: 0.0<br>",
          "label: 62<br>source: 0.0<br>",
          "label: 63<br>source: 0.0<br>",
          "label: 64<br>source: 0.0<br>",
          "label: 65<br>source: 0.0<br>",
          "label: 66<br>source: 0.0<br>",
          "label: 67<br>source: 0.0<br>",
          "label: 68<br>source: 0.0<br>",
          "label: 69<br>source: 0.0<br>",
          "label: 70<br>source: 0.0<br>",
          "label: 71<br>source: 0.0<br>",
          "label: 72<br>source: 0.0<br>",
          "label: 73<br>source: 0.0<br>",
          "label: 74<br>source: 0.0<br>",
          "label: 75<br>source: 0.0<br>",
          "label: 76<br>source: 0.0<br>",
          "label: 77<br>source: 0.0<br>",
          "label: 78<br>source: 0.0<br>",
          "label: 79<br>source: 0.0<br>",
          "label: 80<br>source: 0.0<br>",
          "label: 81<br>source: 0.0<br>",
          "label: 82<br>source: 0.0<br>",
          "label: 83<br>source: 0.0<br>",
          "label: 84<br>source: 0.0<br>",
          "label: 85<br>source: 0.0<br>",
          "label: 86<br>source: 0.0<br>",
          "label: 87<br>source: 0.0<br>",
          "label: 88<br>source: 0.0<br>",
          "label: 89<br>source: 0.0<br>",
          "label: 90<br>source: 0.0<br>",
          "label: 91<br>source: 0.0<br>",
          "label: 92<br>source: 0.0<br>",
          "label: 93<br>source: 0.0<br>",
          "label: 94<br>source: 0.0<br>",
          "label: 95<br>source: 0.0<br>",
          "label: 96<br>source: 1.0<br>",
          "label: 97<br>source: 0.0<br>",
          "label: 98<br>source: 1.0<br>",
          "label: 99<br>source: 0.0<br>",
          "label: 100<br>source: 1.0<br>",
          "label: 101<br>source: 0.0<br>",
          "label: 102<br>source: 1.0<br>",
          "label: 103<br>source: 0.0<br>",
          "label: 104<br>source: 1.0<br>",
          "label: 105<br>source: 0.0<br>",
          "label: 106<br>source: 1.0<br>",
          "label: 107<br>source: 0.0<br>",
          "label: 108<br>source: 1.0<br>",
          "label: 109<br>source: 0.0<br>"
         ],
         "marker": {
          "color": "#a845b5",
          "line": {
           "width": 2
          },
          "size": 2
         },
         "mode": "markers",
         "type": "scatter",
         "x": [
          0.5,
          0,
          0.5,
          0,
          0.5,
          0,
          0.5,
          0,
          0.5,
          0,
          0.5,
          0,
          0.5,
          0,
          0.5,
          1.5,
          2,
          1.5,
          2,
          1.5,
          2,
          1.5,
          2,
          1.5,
          2,
          1.5,
          2,
          1.5,
          2,
          1.5,
          2,
          3.5,
          3,
          3.5,
          3,
          3.5,
          3,
          3.5,
          3,
          3.5,
          3,
          3.5,
          3,
          3.5,
          3,
          3.5,
          3,
          4.5,
          5,
          4.5,
          5,
          4.5,
          5,
          4.5,
          5,
          4.5,
          5,
          4.5,
          5,
          4.5,
          5,
          4.5,
          5,
          6.5,
          6,
          6.5,
          6,
          6.5,
          6,
          6.5,
          6,
          6.5,
          6,
          6.5,
          6,
          6.5,
          6,
          6.5,
          6,
          7.5,
          8,
          7.5,
          8,
          7.5,
          8,
          7.5,
          8,
          7.5,
          8,
          7.5,
          8,
          7.5,
          8,
          7.5,
          8,
          9,
          9.5,
          9,
          9.5,
          9,
          9.5,
          9,
          9.5,
          9,
          9.5,
          9,
          9.5,
          9,
          9.5,
          9
         ],
         "y": [
          0,
          0.8660254037844386,
          1.7320508075688772,
          2.598076211353316,
          3.4641016151377544,
          4.330127018922193,
          5.196152422706632,
          6.06217782649107,
          6.928203230275509,
          7.794228634059947,
          8.660254037844386,
          9.526279441628825,
          10.392304845413264,
          11.258330249197702,
          12.12435565298214,
          0,
          0.8660254037844386,
          1.7320508075688772,
          2.598076211353316,
          3.4641016151377544,
          4.330127018922193,
          5.196152422706632,
          6.06217782649107,
          6.928203230275509,
          7.794228634059947,
          8.660254037844386,
          9.526279441628825,
          10.392304845413264,
          11.258330249197702,
          12.12435565298214,
          12.990381056766578,
          0,
          0.8660254037844386,
          1.7320508075688772,
          2.598076211353316,
          3.4641016151377544,
          4.330127018922193,
          5.196152422706632,
          6.06217782649107,
          6.928203230275509,
          7.794228634059947,
          8.660254037844386,
          9.526279441628825,
          10.392304845413264,
          11.258330249197702,
          12.12435565298214,
          12.990381056766578,
          0,
          0.8660254037844386,
          1.7320508075688772,
          2.598076211353316,
          3.4641016151377544,
          4.330127018922193,
          5.196152422706632,
          6.06217782649107,
          6.928203230275509,
          7.794228634059947,
          8.660254037844386,
          9.526279441628825,
          10.392304845413264,
          11.258330249197702,
          12.12435565298214,
          12.990381056766578,
          0,
          0.8660254037844386,
          1.7320508075688772,
          2.598076211353316,
          3.4641016151377544,
          4.330127018922193,
          5.196152422706632,
          6.06217782649107,
          6.928203230275509,
          7.794228634059947,
          8.660254037844386,
          9.526279441628825,
          10.392304845413264,
          11.258330249197702,
          12.12435565298214,
          12.990381056766578,
          0,
          0.8660254037844386,
          1.7320508075688772,
          2.598076211353316,
          3.4641016151377544,
          4.330127018922193,
          5.196152422706632,
          6.06217782649107,
          6.928203230275509,
          7.794228634059947,
          8.660254037844386,
          9.526279441628825,
          10.392304845413264,
          11.258330249197702,
          12.12435565298214,
          12.990381056766578,
          0.8660254037844386,
          1.7320508075688772,
          2.598076211353316,
          3.4641016151377544,
          4.330127018922193,
          5.196152422706632,
          6.06217782649107,
          6.928203230275509,
          7.794228634059947,
          8.660254037844386,
          9.526279441628825,
          10.392304845413264,
          11.258330249197702,
          12.12435565298214,
          12.990381056766578
         ]
        },
        {
         "hoverinfo": "none",
         "line": {
          "color": "rgb(156, 23, 158)",
          "width": 1.122461926857865
         },
         "mode": "lines",
         "type": "scatter",
         "x": [
          0.5,
          0,
          null
         ],
         "y": [
          0,
          0.8660254037844386,
          null
         ]
        },
        {
         "hoverinfo": "none",
         "line": {
          "color": "rgb(156, 23, 158)",
          "width": 1.1224619268606013
         },
         "mode": "lines",
         "type": "scatter",
         "x": [
          0.5,
          1.5,
          null
         ],
         "y": [
          0,
          0,
          null
         ]
        },
        {
         "hoverinfo": "none",
         "line": {
          "color": "rgb(13, 8, 135)",
          "width": 4.644858017554543e-05
         },
         "mode": "lines",
         "type": "scatter",
         "x": [
          0,
          0.5,
          null
         ],
         "y": [
          0.8660254037844386,
          1.7320508075688772,
          null
         ]
        },
        {
         "hoverinfo": "none",
         "line": {
          "color": "rgb(156, 23, 158)",
          "width": 1.1224618126752335
         },
         "mode": "lines",
         "type": "scatter",
         "x": [
          0.5,
          0,
          null
         ],
         "y": [
          1.7320508075688772,
          2.598076211353316,
          null
         ]
        },
        {
         "hoverinfo": "none",
         "line": {
          "color": "rgb(156, 23, 158)",
          "width": 1.1224619347883682
         },
         "mode": "lines",
         "type": "scatter",
         "x": [
          0.5,
          1.5,
          null
         ],
         "y": [
          1.7320508075688772,
          1.7320508075688772,
          null
         ]
        },
        {
         "hoverinfo": "none",
         "line": {
          "color": "rgb(13, 8, 135)",
          "width": 5.367681193433859e-05
         },
         "mode": "lines",
         "type": "scatter",
         "x": [
          0,
          0.5,
          null
         ],
         "y": [
          2.598076211353316,
          3.4641016151377544,
          null
         ]
        },
        {
         "hoverinfo": "none",
         "line": {
          "color": "rgb(13, 8, 135)",
          "width": 6.932435670193108e-05
         },
         "mode": "lines",
         "type": "scatter",
         "x": [
          0.5,
          0,
          null
         ],
         "y": [
          3.4641016151377544,
          4.330127018922193,
          null
         ]
        },
        {
         "hoverinfo": "none",
         "line": {
          "color": "rgb(13, 8, 135)",
          "width": 7.86781325723064e-05
         },
         "mode": "lines",
         "type": "scatter",
         "x": [
          0.5,
          1.5,
          null
         ],
         "y": [
          3.4641016151377544,
          3.4641016151377544,
          null
         ]
        },
        {
         "hoverinfo": "none",
         "line": {
          "color": "rgb(156, 23, 158)",
          "width": 1.122461581017808
         },
         "mode": "lines",
         "type": "scatter",
         "x": [
          0,
          0.5,
          null
         ],
         "y": [
          4.330127018922193,
          5.196152422706632,
          null
         ]
        },
        {
         "hoverinfo": "none",
         "line": {
          "color": "rgb(156, 23, 158)",
          "width": 1.1224620429811933
         },
         "mode": "lines",
         "type": "scatter",
         "x": [
          0.5,
          0,
          null
         ],
         "y": [
          5.196152422706632,
          6.06217782649107,
          null
         ]
        },
        {
         "hoverinfo": "none",
         "line": {
          "color": "rgb(237, 121, 83)",
          "width": 1.4142132657517792
         },
         "mode": "lines",
         "type": "scatter",
         "x": [
          0.5,
          1.5,
          null
         ],
         "y": [
          5.196152422706632,
          5.196152422706632,
          null
         ]
        },
        {
         "hoverinfo": "none",
         "line": {
          "color": "rgb(13, 8, 135)",
          "width": 2.6446800747727955e-05
         },
         "mode": "lines",
         "type": "scatter",
         "x": [
          0,
          0.5,
          null
         ],
         "y": [
          6.06217782649107,
          6.928203230275509,
          null
         ]
        },
        {
         "hoverinfo": "none",
         "line": {
          "color": "rgb(156, 23, 158)",
          "width": 1.1223062608394083
         },
         "mode": "lines",
         "type": "scatter",
         "x": [
          0.5,
          0,
          null
         ],
         "y": [
          6.928203230275509,
          7.794228634059947,
          null
         ]
        },
        {
         "hoverinfo": "none",
         "line": {
          "color": "rgb(156, 23, 158)",
          "width": 1.1223062674195443
         },
         "mode": "lines",
         "type": "scatter",
         "x": [
          0.5,
          1.5,
          null
         ],
         "y": [
          6.928203230275509,
          6.928203230275509,
          null
         ]
        },
        {
         "hoverinfo": "none",
         "line": {
          "color": "rgb(13, 8, 135)",
          "width": 0.00034697711025691405
         },
         "mode": "lines",
         "type": "scatter",
         "x": [
          0,
          0.5,
          null
         ],
         "y": [
          7.794228634059947,
          8.660254037844386,
          null
         ]
        },
        {
         "hoverinfo": "none",
         "line": {
          "color": "rgb(13, 8, 135)",
          "width": 3.12722570774068e-05
         },
         "mode": "lines",
         "type": "scatter",
         "x": [
          0.5,
          0,
          null
         ],
         "y": [
          8.660254037844386,
          9.526279441628825,
          null
         ]
        },
        {
         "hoverinfo": "none",
         "line": {
          "color": "rgb(13, 8, 135)",
          "width": 0.00034696927510465616
         },
         "mode": "lines",
         "type": "scatter",
         "x": [
          0.5,
          1.5,
          null
         ],
         "y": [
          8.660254037844386,
          8.660254037844386,
          null
         ]
        },
        {
         "hoverinfo": "none",
         "line": {
          "color": "rgb(156, 23, 158)",
          "width": 1.1224620481294132
         },
         "mode": "lines",
         "type": "scatter",
         "x": [
          0,
          0.5,
          null
         ],
         "y": [
          9.526279441628825,
          10.392304845413264,
          null
         ]
        },
        {
         "hoverinfo": "none",
         "line": {
          "color": "rgb(156, 23, 158)",
          "width": 1.1224608803350686
         },
         "mode": "lines",
         "type": "scatter",
         "x": [
          0.5,
          0,
          null
         ],
         "y": [
          10.392304845413264,
          11.258330249197702,
          null
         ]
        },
        {
         "hoverinfo": "none",
         "line": {
          "color": "rgb(237, 121, 83)",
          "width": 1.4142128356391244
         },
         "mode": "lines",
         "type": "scatter",
         "x": [
          0.5,
          1.5,
          null
         ],
         "y": [
          10.392304845413264,
          10.392304845413264,
          null
         ]
        },
        {
         "hoverinfo": "none",
         "line": {
          "color": "rgb(13, 8, 135)",
          "width": 8.983402501580603e-05
         },
         "mode": "lines",
         "type": "scatter",
         "x": [
          0,
          0.5,
          null
         ],
         "y": [
          11.258330249197702,
          12.12435565298214,
          null
         ]
        },
        {
         "hoverinfo": "none",
         "line": {
          "color": "rgb(13, 8, 135)",
          "width": 8.983339279517672e-05
         },
         "mode": "lines",
         "type": "scatter",
         "x": [
          0.5,
          1.5,
          null
         ],
         "y": [
          12.12435565298214,
          12.12435565298214,
          null
         ]
        },
        {
         "hoverinfo": "none",
         "line": {
          "color": "rgb(156, 23, 158)",
          "width": 1.1224619268616423
         },
         "mode": "lines",
         "type": "scatter",
         "x": [
          1.5,
          2,
          null
         ],
         "y": [
          0,
          0.8660254037844386,
          null
         ]
        },
        {
         "hoverinfo": "none",
         "line": {
          "color": "rgb(156, 23, 158)",
          "width": 1.1224615739522956
         },
         "mode": "lines",
         "type": "scatter",
         "x": [
          2,
          1.5,
          null
         ],
         "y": [
          0.8660254037844386,
          1.7320508075688772,
          null
         ]
        },
        {
         "hoverinfo": "none",
         "line": {
          "color": "rgb(237, 121, 83)",
          "width": 1.414213187833199
         },
         "mode": "lines",
         "type": "scatter",
         "x": [
          2,
          3,
          null
         ],
         "y": [
          0.8660254037844386,
          0.8660254037844386,
          null
         ]
        },
        {
         "hoverinfo": "none",
         "line": {
          "color": "rgb(13, 8, 135)",
          "width": 6.38445030004554e-05
         },
         "mode": "lines",
         "type": "scatter",
         "x": [
          1.5,
          2,
          null
         ],
         "y": [
          1.7320508075688772,
          2.598076211353316,
          null
         ]
        },
        {
         "hoverinfo": "none",
         "line": {
          "color": "rgb(13, 8, 135)",
          "width": 6.998320186321799e-05
         },
         "mode": "lines",
         "type": "scatter",
         "x": [
          2,
          1.5,
          null
         ],
         "y": [
          2.598076211353316,
          3.4641016151377544,
          null
         ]
        },
        {
         "hoverinfo": "none",
         "line": {
          "color": "rgb(13, 8, 135)",
          "width": 8.444913690403094e-05
         },
         "mode": "lines",
         "type": "scatter",
         "x": [
          2,
          3,
          null
         ],
         "y": [
          2.598076211353316,
          2.598076211353316,
          null
         ]
        },
        {
         "hoverinfo": "none",
         "line": {
          "color": "rgb(13, 8, 135)",
          "width": 5.262354005383175e-05
         },
         "mode": "lines",
         "type": "scatter",
         "x": [
          1.5,
          2,
          null
         ],
         "y": [
          3.4641016151377544,
          4.330127018922193,
          null
         ]
        },
        {
         "hoverinfo": "none",
         "line": {
          "color": "rgb(13, 8, 135)",
          "width": 4.229426688429367e-05
         },
         "mode": "lines",
         "type": "scatter",
         "x": [
          2,
          1.5,
          null
         ],
         "y": [
          4.330127018922193,
          5.196152422706632,
          null
         ]
        },
        {
         "hoverinfo": "none",
         "line": {
          "color": "rgb(13, 8, 135)",
          "width": 6.0207704888425334e-05
         },
         "mode": "lines",
         "type": "scatter",
         "x": [
          2,
          3,
          null
         ],
         "y": [
          4.330127018922193,
          4.330127018922193,
          null
         ]
        },
        {
         "hoverinfo": "none",
         "line": {
          "color": "rgb(237, 121, 83)",
          "width": 1.4142132224001982
         },
         "mode": "lines",
         "type": "scatter",
         "x": [
          1.5,
          2,
          null
         ],
         "y": [
          5.196152422706632,
          6.06217782649107,
          null
         ]
        },
        {
         "hoverinfo": "none",
         "line": {
          "color": "rgb(156, 23, 158)",
          "width": 1.1223061680042494
         },
         "mode": "lines",
         "type": "scatter",
         "x": [
          2,
          1.5,
          null
         ],
         "y": [
          6.06217782649107,
          6.928203230275509,
          null
         ]
        },
        {
         "hoverinfo": "none",
         "line": {
          "color": "rgb(240, 249, 33)",
          "width": 1.6187943023922513
         },
         "mode": "lines",
         "type": "scatter",
         "x": [
          2,
          3,
          null
         ],
         "y": [
          6.06217782649107,
          6.06217782649107,
          null
         ]
        },
        {
         "hoverinfo": "none",
         "line": {
          "color": "rgb(13, 8, 135)",
          "width": 4.333641488886423e-05
         },
         "mode": "lines",
         "type": "scatter",
         "x": [
          1.5,
          2,
          null
         ],
         "y": [
          6.928203230275509,
          7.794228634059947,
          null
         ]
        },
        {
         "hoverinfo": "none",
         "line": {
          "color": "rgb(13, 8, 135)",
          "width": 7.902852691839591e-05
         },
         "mode": "lines",
         "type": "scatter",
         "x": [
          2,
          1.5,
          null
         ],
         "y": [
          7.794228634059947,
          8.660254037844386,
          null
         ]
        },
        {
         "hoverinfo": "none",
         "line": {
          "color": "rgb(13, 8, 135)",
          "width": 8.286221596765783e-05
         },
         "mode": "lines",
         "type": "scatter",
         "x": [
          2,
          3,
          null
         ],
         "y": [
          7.794228634059947,
          7.794228634059947,
          null
         ]
        },
        {
         "hoverinfo": "none",
         "line": {
          "color": "rgb(13, 8, 135)",
          "width": 0.0003462725775979272
         },
         "mode": "lines",
         "type": "scatter",
         "x": [
          1.5,
          2,
          null
         ],
         "y": [
          8.660254037844386,
          9.526279441628825,
          null
         ]
        },
        {
         "hoverinfo": "none",
         "line": {
          "color": "rgb(13, 8, 135)",
          "width": 0.00011888536569279444
         },
         "mode": "lines",
         "type": "scatter",
         "x": [
          2,
          1.5,
          null
         ],
         "y": [
          9.526279441628825,
          10.392304845413264,
          null
         ]
        },
        {
         "hoverinfo": "none",
         "line": {
          "color": "rgb(13, 8, 135)",
          "width": 0.0003472540675086269
         },
         "mode": "lines",
         "type": "scatter",
         "x": [
          2,
          3,
          null
         ],
         "y": [
          9.526279441628825,
          9.526279441628825,
          null
         ]
        },
        {
         "hoverinfo": "none",
         "line": {
          "color": "rgb(237, 121, 83)",
          "width": 1.4142127243911242
         },
         "mode": "lines",
         "type": "scatter",
         "x": [
          1.5,
          2,
          null
         ],
         "y": [
          10.392304845413264,
          11.258330249197702,
          null
         ]
        },
        {
         "hoverinfo": "none",
         "line": {
          "color": "rgb(13, 8, 135)",
          "width": 7.2717892566668e-05
         },
         "mode": "lines",
         "type": "scatter",
         "x": [
          2,
          1.5,
          null
         ],
         "y": [
          11.258330249197702,
          12.12435565298214,
          null
         ]
        },
        {
         "hoverinfo": "none",
         "line": {
          "color": "rgb(237, 121, 83)",
          "width": 1.4142131609871411
         },
         "mode": "lines",
         "type": "scatter",
         "x": [
          2,
          3,
          null
         ],
         "y": [
          11.258330249197702,
          11.258330249197702,
          null
         ]
        },
        {
         "hoverinfo": "none",
         "line": {
          "color": "rgb(13, 8, 135)",
          "width": 6.993170728710209e-05
         },
         "mode": "lines",
         "type": "scatter",
         "x": [
          1.5,
          2,
          null
         ],
         "y": [
          12.12435565298214,
          12.990381056766578,
          null
         ]
        },
        {
         "hoverinfo": "none",
         "line": {
          "color": "rgb(13, 8, 135)",
          "width": 6.99304594437922e-05
         },
         "mode": "lines",
         "type": "scatter",
         "x": [
          2,
          3,
          null
         ],
         "y": [
          12.990381056766578,
          12.990381056766578,
          null
         ]
        },
        {
         "hoverinfo": "none",
         "line": {
          "color": "rgb(237, 121, 83)",
          "width": 1.4142131708348742
         },
         "mode": "lines",
         "type": "scatter",
         "x": [
          3.5,
          3,
          null
         ],
         "y": [
          0,
          0.8660254037844386,
          null
         ]
        },
        {
         "hoverinfo": "none",
         "line": {
          "color": "rgb(237, 121, 83)",
          "width": 1.4142131708346712
         },
         "mode": "lines",
         "type": "scatter",
         "x": [
          3.5,
          4.5,
          null
         ],
         "y": [
          0,
          0,
          null
         ]
        },
        {
         "hoverinfo": "none",
         "line": {
          "color": "rgb(13, 8, 135)",
          "width": 3.3610609024479995e-05
         },
         "mode": "lines",
         "type": "scatter",
         "x": [
          3,
          3.5,
          null
         ],
         "y": [
          0.8660254037844386,
          1.7320508075688772,
          null
         ]
        },
        {
         "hoverinfo": "none",
         "line": {
          "color": "rgb(13, 8, 135)",
          "width": 5.429385446326592e-05
         },
         "mode": "lines",
         "type": "scatter",
         "x": [
          3.5,
          3,
          null
         ],
         "y": [
          1.7320508075688772,
          2.598076211353316,
          null
         ]
        },
        {
         "hoverinfo": "none",
         "line": {
          "color": "rgb(13, 8, 135)",
          "width": 5.782015197555029e-05
         },
         "mode": "lines",
         "type": "scatter",
         "x": [
          3.5,
          4.5,
          null
         ],
         "y": [
          1.7320508075688772,
          1.7320508075688772,
          null
         ]
        },
        {
         "hoverinfo": "none",
         "line": {
          "color": "rgb(13, 8, 135)",
          "width": 7.632234168078622e-05
         },
         "mode": "lines",
         "type": "scatter",
         "x": [
          3,
          3.5,
          null
         ],
         "y": [
          2.598076211353316,
          3.4641016151377544,
          null
         ]
        },
        {
         "hoverinfo": "none",
         "line": {
          "color": "rgb(13, 8, 135)",
          "width": 3.5307299237046965e-05
         },
         "mode": "lines",
         "type": "scatter",
         "x": [
          3.5,
          3,
          null
         ],
         "y": [
          3.4641016151377544,
          4.330127018922193,
          null
         ]
        },
        {
         "hoverinfo": "none",
         "line": {
          "color": "rgb(13, 8, 135)",
          "width": 7.832693630423497e-05
         },
         "mode": "lines",
         "type": "scatter",
         "x": [
          3.5,
          4.5,
          null
         ],
         "y": [
          3.4641016151377544,
          3.4641016151377544,
          null
         ]
        },
        {
         "hoverinfo": "none",
         "line": {
          "color": "rgb(13, 8, 135)",
          "width": 5.622738405577739e-05
         },
         "mode": "lines",
         "type": "scatter",
         "x": [
          3,
          3.5,
          null
         ],
         "y": [
          4.330127018922193,
          5.196152422706632,
          null
         ]
        },
        {
         "hoverinfo": "none",
         "line": {
          "color": "rgb(237, 121, 83)",
          "width": 1.4142137989290857
         },
         "mode": "lines",
         "type": "scatter",
         "x": [
          3.5,
          3,
          null
         ],
         "y": [
          5.196152422706632,
          6.06217782649107,
          null
         ]
        },
        {
         "hoverinfo": "none",
         "line": {
          "color": "rgb(237, 121, 83)",
          "width": 1.4142139369327422
         },
         "mode": "lines",
         "type": "scatter",
         "x": [
          3.5,
          4.5,
          null
         ],
         "y": [
          5.196152422706632,
          5.196152422706632,
          null
         ]
        },
        {
         "hoverinfo": "none",
         "line": {
          "color": "rgb(156, 23, 158)",
          "width": 1.122305155733596
         },
         "mode": "lines",
         "type": "scatter",
         "x": [
          3,
          3.5,
          null
         ],
         "y": [
          6.06217782649107,
          6.928203230275509,
          null
         ]
        },
        {
         "hoverinfo": "none",
         "line": {
          "color": "rgb(13, 8, 135)",
          "width": 7.071764323992655e-05
         },
         "mode": "lines",
         "type": "scatter",
         "x": [
          3.5,
          3,
          null
         ],
         "y": [
          6.928203230275509,
          7.794228634059947,
          null
         ]
        },
        {
         "hoverinfo": "none",
         "line": {
          "color": "rgb(156, 23, 158)",
          "width": 1.1223059283142423
         },
         "mode": "lines",
         "type": "scatter",
         "x": [
          3.5,
          4.5,
          null
         ],
         "y": [
          6.928203230275509,
          6.928203230275509,
          null
         ]
        },
        {
         "hoverinfo": "none",
         "line": {
          "color": "rgb(13, 8, 135)",
          "width": 6.051450448152445e-05
         },
         "mode": "lines",
         "type": "scatter",
         "x": [
          3,
          3.5,
          null
         ],
         "y": [
          7.794228634059947,
          8.660254037844386,
          null
         ]
        },
        {
         "hoverinfo": "none",
         "line": {
          "color": "rgb(13, 8, 135)",
          "width": 0.00034657315093959283
         },
         "mode": "lines",
         "type": "scatter",
         "x": [
          3.5,
          3,
          null
         ],
         "y": [
          8.660254037844386,
          9.526279441628825,
          null
         ]
        },
        {
         "hoverinfo": "none",
         "line": {
          "color": "rgb(13, 8, 135)",
          "width": 0.0003469056914433999
         },
         "mode": "lines",
         "type": "scatter",
         "x": [
          3.5,
          4.5,
          null
         ],
         "y": [
          8.660254037844386,
          8.660254037844386,
          null
         ]
        },
        {
         "hoverinfo": "none",
         "line": {
          "color": "rgb(13, 8, 135)",
          "width": 7.623257296243754e-05
         },
         "mode": "lines",
         "type": "scatter",
         "x": [
          3,
          3.5,
          null
         ],
         "y": [
          9.526279441628825,
          10.392304845413264,
          null
         ]
        },
        {
         "hoverinfo": "none",
         "line": {
          "color": "rgb(237, 121, 83)",
          "width": 1.4142129891656798
         },
         "mode": "lines",
         "type": "scatter",
         "x": [
          3.5,
          3,
          null
         ],
         "y": [
          10.392304845413264,
          11.258330249197702,
          null
         ]
        },
        {
         "hoverinfo": "none",
         "line": {
          "color": "rgb(237, 121, 83)",
          "width": 1.4142135738105361
         },
         "mode": "lines",
         "type": "scatter",
         "x": [
          3.5,
          4.5,
          null
         ],
         "y": [
          10.392304845413264,
          10.392304845413264,
          null
         ]
        },
        {
         "hoverinfo": "none",
         "line": {
          "color": "rgb(13, 8, 135)",
          "width": 5.788211041840272e-05
         },
         "mode": "lines",
         "type": "scatter",
         "x": [
          3,
          3.5,
          null
         ],
         "y": [
          11.258330249197702,
          12.12435565298214,
          null
         ]
        },
        {
         "hoverinfo": "none",
         "line": {
          "color": "rgb(13, 8, 135)",
          "width": 6.993150204948157e-05
         },
         "mode": "lines",
         "type": "scatter",
         "x": [
          3.5,
          3,
          null
         ],
         "y": [
          12.12435565298214,
          12.990381056766578,
          null
         ]
        },
        {
         "hoverinfo": "none",
         "line": {
          "color": "rgb(13, 8, 135)",
          "width": 8.114512335988634e-05
         },
         "mode": "lines",
         "type": "scatter",
         "x": [
          3.5,
          4.5,
          null
         ],
         "y": [
          12.12435565298214,
          12.12435565298214,
          null
         ]
        },
        {
         "hoverinfo": "none",
         "line": {
          "color": "rgb(237, 121, 83)",
          "width": 1.4142131708336194
         },
         "mode": "lines",
         "type": "scatter",
         "x": [
          4.5,
          5,
          null
         ],
         "y": [
          0,
          0.8660254037844386,
          null
         ]
        },
        {
         "hoverinfo": "none",
         "line": {
          "color": "rgb(13, 8, 135)",
          "width": 3.877837908052767e-05
         },
         "mode": "lines",
         "type": "scatter",
         "x": [
          5,
          4.5,
          null
         ],
         "y": [
          0.8660254037844386,
          1.7320508075688772,
          null
         ]
        },
        {
         "hoverinfo": "none",
         "line": {
          "color": "rgb(237, 121, 83)",
          "width": 1.4142132090170891
         },
         "mode": "lines",
         "type": "scatter",
         "x": [
          5,
          6,
          null
         ],
         "y": [
          0.8660254037844386,
          0.8660254037844386,
          null
         ]
        },
        {
         "hoverinfo": "none",
         "line": {
          "color": "rgb(13, 8, 135)",
          "width": 5.1395410899893014e-05
         },
         "mode": "lines",
         "type": "scatter",
         "x": [
          4.5,
          5,
          null
         ],
         "y": [
          1.7320508075688772,
          2.598076211353316,
          null
         ]
        },
        {
         "hoverinfo": "none",
         "line": {
          "color": "rgb(13, 8, 135)",
          "width": 6.59898981591111e-05
         },
         "mode": "lines",
         "type": "scatter",
         "x": [
          5,
          4.5,
          null
         ],
         "y": [
          2.598076211353316,
          3.4641016151377544,
          null
         ]
        },
        {
         "hoverinfo": "none",
         "line": {
          "color": "rgb(13, 8, 135)",
          "width": 7.490140243490206e-05
         },
         "mode": "lines",
         "type": "scatter",
         "x": [
          5,
          6,
          null
         ],
         "y": [
          2.598076211353316,
          2.598076211353316,
          null
         ]
        },
        {
         "hoverinfo": "none",
         "line": {
          "color": "rgb(13, 8, 135)",
          "width": 5.795091363669424e-05
         },
         "mode": "lines",
         "type": "scatter",
         "x": [
          4.5,
          5,
          null
         ],
         "y": [
          3.4641016151377544,
          4.330127018922193,
          null
         ]
        },
        {
         "hoverinfo": "none",
         "line": {
          "color": "rgb(237, 121, 83)",
          "width": 1.414213389868356
         },
         "mode": "lines",
         "type": "scatter",
         "x": [
          5,
          4.5,
          null
         ],
         "y": [
          4.330127018922193,
          5.196152422706632,
          null
         ]
        },
        {
         "hoverinfo": "none",
         "line": {
          "color": "rgb(237, 121, 83)",
          "width": 1.414213553579482
         },
         "mode": "lines",
         "type": "scatter",
         "x": [
          5,
          6,
          null
         ],
         "y": [
          4.330127018922193,
          4.330127018922193,
          null
         ]
        },
        {
         "hoverinfo": "none",
         "line": {
          "color": "rgb(13, 8, 135)",
          "width": 7.282261738897741e-05
         },
         "mode": "lines",
         "type": "scatter",
         "x": [
          4.5,
          5,
          null
         ],
         "y": [
          5.196152422706632,
          6.06217782649107,
          null
         ]
        },
        {
         "hoverinfo": "none",
         "line": {
          "color": "rgb(13, 8, 135)",
          "width": 6.751335954676269e-05
         },
         "mode": "lines",
         "type": "scatter",
         "x": [
          5,
          4.5,
          null
         ],
         "y": [
          6.06217782649107,
          6.928203230275509,
          null
         ]
        },
        {
         "hoverinfo": "none",
         "line": {
          "color": "rgb(13, 8, 135)",
          "width": 8.778787862953747e-05
         },
         "mode": "lines",
         "type": "scatter",
         "x": [
          5,
          6,
          null
         ],
         "y": [
          6.06217782649107,
          6.06217782649107,
          null
         ]
        },
        {
         "hoverinfo": "none",
         "line": {
          "color": "rgb(156, 23, 158)",
          "width": 1.1223054228051161
         },
         "mode": "lines",
         "type": "scatter",
         "x": [
          4.5,
          5,
          null
         ],
         "y": [
          6.928203230275509,
          7.794228634059947,
          null
         ]
        },
        {
         "hoverinfo": "none",
         "line": {
          "color": "rgb(13, 8, 135)",
          "width": 2.4999526436548175e-05
         },
         "mode": "lines",
         "type": "scatter",
         "x": [
          5,
          4.5,
          null
         ],
         "y": [
          7.794228634059947,
          8.660254037844386,
          null
         ]
        },
        {
         "hoverinfo": "none",
         "line": {
          "color": "rgb(156, 23, 158)",
          "width": 1.1223054430598527
         },
         "mode": "lines",
         "type": "scatter",
         "x": [
          5,
          6,
          null
         ],
         "y": [
          7.794228634059947,
          7.794228634059947,
          null
         ]
        },
        {
         "hoverinfo": "none",
         "line": {
          "color": "rgb(13, 8, 135)",
          "width": 0.00034689918065643975
         },
         "mode": "lines",
         "type": "scatter",
         "x": [
          4.5,
          5,
          null
         ],
         "y": [
          8.660254037844386,
          9.526279441628825,
          null
         ]
        },
        {
         "hoverinfo": "none",
         "line": {
          "color": "rgb(13, 8, 135)",
          "width": 7.8582525518217e-05
         },
         "mode": "lines",
         "type": "scatter",
         "x": [
          5,
          4.5,
          null
         ],
         "y": [
          9.526279441628825,
          10.392304845413264,
          null
         ]
        },
        {
         "hoverinfo": "none",
         "line": {
          "color": "rgb(13, 8, 135)",
          "width": 0.00034774756327043006
         },
         "mode": "lines",
         "type": "scatter",
         "x": [
          5,
          6,
          null
         ],
         "y": [
          9.526279441628825,
          9.526279441628825,
          null
         ]
        },
        {
         "hoverinfo": "none",
         "line": {
          "color": "rgb(237, 121, 83)",
          "width": 1.4142129641081087
         },
         "mode": "lines",
         "type": "scatter",
         "x": [
          4.5,
          5,
          null
         ],
         "y": [
          10.392304845413264,
          11.258330249197702,
          null
         ]
        },
        {
         "hoverinfo": "none",
         "line": {
          "color": "rgb(13, 8, 135)",
          "width": 4.161994787499023e-05
         },
         "mode": "lines",
         "type": "scatter",
         "x": [
          5,
          4.5,
          null
         ],
         "y": [
          11.258330249197702,
          12.12435565298214,
          null
         ]
        },
        {
         "hoverinfo": "none",
         "line": {
          "color": "rgb(237, 121, 83)",
          "width": 1.4142130155615606
         },
         "mode": "lines",
         "type": "scatter",
         "x": [
          5,
          6,
          null
         ],
         "y": [
          11.258330249197702,
          11.258330249197702,
          null
         ]
        },
        {
         "hoverinfo": "none",
         "line": {
          "color": "rgb(13, 8, 135)",
          "width": 7.77225447705639e-05
         },
         "mode": "lines",
         "type": "scatter",
         "x": [
          4.5,
          5,
          null
         ],
         "y": [
          12.12435565298214,
          12.990381056766578,
          null
         ]
        },
        {
         "hoverinfo": "none",
         "line": {
          "color": "rgb(13, 8, 135)",
          "width": 7.772220150219354e-05
         },
         "mode": "lines",
         "type": "scatter",
         "x": [
          5,
          6,
          null
         ],
         "y": [
          12.990381056766578,
          12.990381056766578,
          null
         ]
        },
        {
         "hoverinfo": "none",
         "line": {
          "color": "rgb(156, 23, 158)",
          "width": 1.1224606900075016
         },
         "mode": "lines",
         "type": "scatter",
         "x": [
          6.5,
          6,
          null
         ],
         "y": [
          0,
          0.8660254037844386,
          null
         ]
        },
        {
         "hoverinfo": "none",
         "line": {
          "color": "rgb(156, 23, 158)",
          "width": 1.1224606900057492
         },
         "mode": "lines",
         "type": "scatter",
         "x": [
          6.5,
          7.5,
          null
         ],
         "y": [
          0,
          0,
          null
         ]
        },
        {
         "hoverinfo": "none",
         "line": {
          "color": "rgb(156, 23, 158)",
          "width": 1.1224628486999357
         },
         "mode": "lines",
         "type": "scatter",
         "x": [
          6,
          6.5,
          null
         ],
         "y": [
          0.8660254037844386,
          1.7320508075688772,
          null
         ]
        },
        {
         "hoverinfo": "none",
         "line": {
          "color": "rgb(13, 8, 135)",
          "width": 6.449497902139772e-05
         },
         "mode": "lines",
         "type": "scatter",
         "x": [
          6.5,
          6,
          null
         ],
         "y": [
          1.7320508075688772,
          2.598076211353316,
          null
         ]
        },
        {
         "hoverinfo": "none",
         "line": {
          "color": "rgb(156, 23, 158)",
          "width": 1.1224632513448438
         },
         "mode": "lines",
         "type": "scatter",
         "x": [
          6.5,
          7.5,
          null
         ],
         "y": [
          1.7320508075688772,
          1.7320508075688772,
          null
         ]
        },
        {
         "hoverinfo": "none",
         "line": {
          "color": "rgb(13, 8, 135)",
          "width": 5.3684094509693775e-05
         },
         "mode": "lines",
         "type": "scatter",
         "x": [
          6,
          6.5,
          null
         ],
         "y": [
          2.598076211353316,
          3.4641016151377544,
          null
         ]
        },
        {
         "hoverinfo": "none",
         "line": {
          "color": "rgb(156, 23, 158)",
          "width": 1.122461875437588
         },
         "mode": "lines",
         "type": "scatter",
         "x": [
          6.5,
          6,
          null
         ],
         "y": [
          3.4641016151377544,
          4.330127018922193,
          null
         ]
        },
        {
         "hoverinfo": "none",
         "line": {
          "color": "rgb(156, 23, 158)",
          "width": 1.1224620728850874
         },
         "mode": "lines",
         "type": "scatter",
         "x": [
          6.5,
          7.5,
          null
         ],
         "y": [
          3.4641016151377544,
          3.4641016151377544,
          null
         ]
        },
        {
         "hoverinfo": "none",
         "line": {
          "color": "rgb(156, 23, 158)",
          "width": 1.1224622039936798
         },
         "mode": "lines",
         "type": "scatter",
         "x": [
          6,
          6.5,
          null
         ],
         "y": [
          4.330127018922193,
          5.196152422706632,
          null
         ]
        },
        {
         "hoverinfo": "none",
         "line": {
          "color": "rgb(13, 8, 135)",
          "width": 4.044075605838408e-05
         },
         "mode": "lines",
         "type": "scatter",
         "x": [
          6.5,
          6,
          null
         ],
         "y": [
          5.196152422706632,
          6.06217782649107,
          null
         ]
        },
        {
         "hoverinfo": "none",
         "line": {
          "color": "rgb(156, 23, 158)",
          "width": 1.1224621979250433
         },
         "mode": "lines",
         "type": "scatter",
         "x": [
          6.5,
          7.5,
          null
         ],
         "y": [
          5.196152422706632,
          5.196152422706632,
          null
         ]
        },
        {
         "hoverinfo": "none",
         "line": {
          "color": "rgb(13, 8, 135)",
          "width": 8.840802014766594e-05
         },
         "mode": "lines",
         "type": "scatter",
         "x": [
          6,
          6.5,
          null
         ],
         "y": [
          6.06217782649107,
          6.928203230275509,
          null
         ]
        },
        {
         "hoverinfo": "none",
         "line": {
          "color": "rgb(156, 23, 158)",
          "width": 1.1223042251340267
         },
         "mode": "lines",
         "type": "scatter",
         "x": [
          6.5,
          6,
          null
         ],
         "y": [
          6.928203230275509,
          7.794228634059947,
          null
         ]
        },
        {
         "hoverinfo": "none",
         "line": {
          "color": "rgb(156, 23, 158)",
          "width": 1.1223057037698922
         },
         "mode": "lines",
         "type": "scatter",
         "x": [
          6.5,
          7.5,
          null
         ],
         "y": [
          6.928203230275509,
          6.928203230275509,
          null
         ]
        },
        {
         "hoverinfo": "none",
         "line": {
          "color": "rgb(13, 8, 135)",
          "width": 8.320272051165298e-05
         },
         "mode": "lines",
         "type": "scatter",
         "x": [
          6,
          6.5,
          null
         ],
         "y": [
          7.794228634059947,
          8.660254037844386,
          null
         ]
        },
        {
         "hoverinfo": "none",
         "line": {
          "color": "rgb(13, 8, 135)",
          "width": 0.0003477285465080629
         },
         "mode": "lines",
         "type": "scatter",
         "x": [
          6.5,
          6,
          null
         ],
         "y": [
          8.660254037844386,
          9.526279441628825,
          null
         ]
        },
        {
         "hoverinfo": "none",
         "line": {
          "color": "rgb(13, 8, 135)",
          "width": 0.0003487474264841518
         },
         "mode": "lines",
         "type": "scatter",
         "x": [
          6.5,
          7.5,
          null
         ],
         "y": [
          8.660254037844386,
          8.660254037844386,
          null
         ]
        },
        {
         "hoverinfo": "none",
         "line": {
          "color": "rgb(13, 8, 135)",
          "width": 3.9920282156564766e-05
         },
         "mode": "lines",
         "type": "scatter",
         "x": [
          6,
          6.5,
          null
         ],
         "y": [
          9.526279441628825,
          10.392304845413264,
          null
         ]
        },
        {
         "hoverinfo": "none",
         "line": {
          "color": "rgb(13, 8, 135)",
          "width": 0.00013273976042092162
         },
         "mode": "lines",
         "type": "scatter",
         "x": [
          6.5,
          6,
          null
         ],
         "y": [
          10.392304845413264,
          11.258330249197702,
          null
         ]
        },
        {
         "hoverinfo": "none",
         "line": {
          "color": "rgb(13, 8, 135)",
          "width": 0.0001331440089970616
         },
         "mode": "lines",
         "type": "scatter",
         "x": [
          6.5,
          7.5,
          null
         ],
         "y": [
          10.392304845413264,
          10.392304845413264,
          null
         ]
        },
        {
         "hoverinfo": "none",
         "line": {
          "color": "rgb(237, 121, 83)",
          "width": 1.4142094159598
         },
         "mode": "lines",
         "type": "scatter",
         "x": [
          6,
          6.5,
          null
         ],
         "y": [
          11.258330249197702,
          12.12435565298214,
          null
         ]
        },
        {
         "hoverinfo": "none",
         "line": {
          "color": "rgb(13, 8, 135)",
          "width": 7.772205608364695e-05
         },
         "mode": "lines",
         "type": "scatter",
         "x": [
          6.5,
          6,
          null
         ],
         "y": [
          12.12435565298214,
          12.990381056766578,
          null
         ]
        },
        {
         "hoverinfo": "none",
         "line": {
          "color": "rgb(237, 121, 83)",
          "width": 1.4142099241609025
         },
         "mode": "lines",
         "type": "scatter",
         "x": [
          6.5,
          7.5,
          null
         ],
         "y": [
          12.12435565298214,
          12.12435565298214,
          null
         ]
        },
        {
         "hoverinfo": "none",
         "line": {
          "color": "rgb(156, 23, 158)",
          "width": 1.1224606900063685
         },
         "mode": "lines",
         "type": "scatter",
         "x": [
          7.5,
          8,
          null
         ],
         "y": [
          0,
          0.8660254037844386,
          null
         ]
        },
        {
         "hoverinfo": "none",
         "line": {
          "color": "rgb(13, 8, 135)",
          "width": 9.009112452349402e-05
         },
         "mode": "lines",
         "type": "scatter",
         "x": [
          8,
          7.5,
          null
         ],
         "y": [
          0.8660254037844386,
          1.7320508075688772,
          null
         ]
        },
        {
         "hoverinfo": "none",
         "line": {
          "color": "rgb(156, 23, 158)",
          "width": 1.1224620086224604
         },
         "mode": "lines",
         "type": "scatter",
         "x": [
          8,
          9,
          null
         ],
         "y": [
          0.8660254037844386,
          0.8660254037844386,
          null
         ]
        },
        {
         "hoverinfo": "none",
         "line": {
          "color": "rgb(156, 23, 158)",
          "width": 1.1224619403060279
         },
         "mode": "lines",
         "type": "scatter",
         "x": [
          7.5,
          8,
          null
         ],
         "y": [
          1.7320508075688772,
          2.598076211353316,
          null
         ]
        },
        {
         "hoverinfo": "none",
         "line": {
          "color": "rgb(13, 8, 135)",
          "width": 3.8991747448088354e-05
         },
         "mode": "lines",
         "type": "scatter",
         "x": [
          8,
          7.5,
          null
         ],
         "y": [
          2.598076211353316,
          3.4641016151377544,
          null
         ]
        },
        {
         "hoverinfo": "none",
         "line": {
          "color": "rgb(156, 23, 158)",
          "width": 1.1224620085125105
         },
         "mode": "lines",
         "type": "scatter",
         "x": [
          8,
          9,
          null
         ],
         "y": [
          2.598076211353316,
          2.598076211353316,
          null
         ]
        },
        {
         "hoverinfo": "none",
         "line": {
          "color": "rgb(156, 23, 158)",
          "width": 1.1224620046689104
         },
         "mode": "lines",
         "type": "scatter",
         "x": [
          7.5,
          8,
          null
         ],
         "y": [
          3.4641016151377544,
          4.330127018922193,
          null
         ]
        },
        {
         "hoverinfo": "none",
         "line": {
          "color": "rgb(13, 8, 135)",
          "width": 4.367623762753457e-05
         },
         "mode": "lines",
         "type": "scatter",
         "x": [
          8,
          7.5,
          null
         ],
         "y": [
          4.330127018922193,
          5.196152422706632,
          null
         ]
        },
        {
         "hoverinfo": "none",
         "line": {
          "color": "rgb(156, 23, 158)",
          "width": 1.1224621017682108
         },
         "mode": "lines",
         "type": "scatter",
         "x": [
          8,
          9,
          null
         ],
         "y": [
          4.330127018922193,
          4.330127018922193,
          null
         ]
        },
        {
         "hoverinfo": "none",
         "line": {
          "color": "rgb(156, 23, 158)",
          "width": 1.1224621019852346
         },
         "mode": "lines",
         "type": "scatter",
         "x": [
          7.5,
          8,
          null
         ],
         "y": [
          5.196152422706632,
          6.06217782649107,
          null
         ]
        },
        {
         "hoverinfo": "none",
         "line": {
          "color": "rgb(13, 8, 135)",
          "width": 2.7910963416050484e-05
         },
         "mode": "lines",
         "type": "scatter",
         "x": [
          8,
          7.5,
          null
         ],
         "y": [
          6.06217782649107,
          6.928203230275509,
          null
         ]
        },
        {
         "hoverinfo": "none",
         "line": {
          "color": "rgb(156, 23, 158)",
          "width": 1.1224620947050077
         },
         "mode": "lines",
         "type": "scatter",
         "x": [
          8,
          9,
          null
         ],
         "y": [
          6.06217782649107,
          6.06217782649107,
          null
         ]
        },
        {
         "hoverinfo": "none",
         "line": {
          "color": "rgb(156, 23, 158)",
          "width": 1.1223057111412336
         },
         "mode": "lines",
         "type": "scatter",
         "x": [
          7.5,
          8,
          null
         ],
         "y": [
          6.928203230275509,
          7.794228634059947,
          null
         ]
        },
        {
         "hoverinfo": "none",
         "line": {
          "color": "rgb(13, 8, 135)",
          "width": 0.00034747310467099957
         },
         "mode": "lines",
         "type": "scatter",
         "x": [
          8,
          7.5,
          null
         ],
         "y": [
          7.794228634059947,
          8.660254037844386,
          null
         ]
        },
        {
         "hoverinfo": "none",
         "line": {
          "color": "rgb(156, 23, 158)",
          "width": 1.1224619034635166
         },
         "mode": "lines",
         "type": "scatter",
         "x": [
          8,
          9,
          null
         ],
         "y": [
          7.794228634059947,
          7.794228634059947,
          null
         ]
        },
        {
         "hoverinfo": "none",
         "line": {
          "color": "rgb(13, 8, 135)",
          "width": 0.00011999133148187165
         },
         "mode": "lines",
         "type": "scatter",
         "x": [
          7.5,
          8,
          null
         ],
         "y": [
          8.660254037844386,
          9.526279441628825,
          null
         ]
        },
        {
         "hoverinfo": "none",
         "line": {
          "color": "rgb(13, 8, 135)",
          "width": 0.00013281446704627495
         },
         "mode": "lines",
         "type": "scatter",
         "x": [
          8,
          7.5,
          null
         ],
         "y": [
          9.526279441628825,
          10.392304845413264,
          null
         ]
        },
        {
         "hoverinfo": "none",
         "line": {
          "color": "rgb(13, 8, 135)",
          "width": 0.0001558149496678062
         },
         "mode": "lines",
         "type": "scatter",
         "x": [
          8,
          9,
          null
         ],
         "y": [
          9.526279441628825,
          9.526279441628825,
          null
         ]
        },
        {
         "hoverinfo": "none",
         "line": {
          "color": "rgb(13, 8, 135)",
          "width": 3.823114766949071e-05
         },
         "mode": "lines",
         "type": "scatter",
         "x": [
          7.5,
          8,
          null
         ],
         "y": [
          10.392304845413264,
          11.258330249197702,
          null
         ]
        },
        {
         "hoverinfo": "none",
         "line": {
          "color": "rgb(237, 121, 83)",
          "width": 1.4142097508897593
         },
         "mode": "lines",
         "type": "scatter",
         "x": [
          8,
          7.5,
          null
         ],
         "y": [
          11.258330249197702,
          12.12435565298214,
          null
         ]
        },
        {
         "hoverinfo": "none",
         "line": {
          "color": "rgb(237, 121, 83)",
          "width": 1.4142097749643103
         },
         "mode": "lines",
         "type": "scatter",
         "x": [
          8,
          9,
          null
         ],
         "y": [
          11.258330249197702,
          11.258330249197702,
          null
         ]
        },
        {
         "hoverinfo": "none",
         "line": {
          "color": "rgb(13, 8, 135)",
          "width": 5.654172442808124e-05
         },
         "mode": "lines",
         "type": "scatter",
         "x": [
          7.5,
          8,
          null
         ],
         "y": [
          12.12435565298214,
          12.990381056766578,
          null
         ]
        },
        {
         "hoverinfo": "none",
         "line": {
          "color": "rgb(13, 8, 135)",
          "width": 5.654163308471295e-05
         },
         "mode": "lines",
         "type": "scatter",
         "x": [
          8,
          9,
          null
         ],
         "y": [
          12.990381056766578,
          12.990381056766578,
          null
         ]
        },
        {
         "hoverinfo": "none",
         "line": {
          "color": "rgb(156, 23, 158)",
          "width": 1.1224620086226027
         },
         "mode": "lines",
         "type": "scatter",
         "x": [
          9,
          9.5,
          null
         ],
         "y": [
          0.8660254037844386,
          1.7320508075688772,
          null
         ]
        },
        {
         "hoverinfo": "none",
         "line": {
          "color": "rgb(13, 8, 135)",
          "width": 3.431111699077335e-05
         },
         "mode": "lines",
         "type": "scatter",
         "x": [
          9.5,
          9,
          null
         ],
         "y": [
          1.7320508075688772,
          2.598076211353316,
          null
         ]
        },
        {
         "hoverinfo": "none",
         "line": {
          "color": "rgb(156, 23, 158)",
          "width": 1.1224619688248354
         },
         "mode": "lines",
         "type": "scatter",
         "x": [
          9,
          9.5,
          null
         ],
         "y": [
          2.598076211353316,
          3.4641016151377544,
          null
         ]
        },
        {
         "hoverinfo": "none",
         "line": {
          "color": "rgb(13, 8, 135)",
          "width": 4.056355140134569e-05
         },
         "mode": "lines",
         "type": "scatter",
         "x": [
          9.5,
          9,
          null
         ],
         "y": [
          3.4641016151377544,
          4.330127018922193,
          null
         ]
        },
        {
         "hoverinfo": "none",
         "line": {
          "color": "rgb(156, 23, 158)",
          "width": 1.1224620223964328
         },
         "mode": "lines",
         "type": "scatter",
         "x": [
          9,
          9.5,
          null
         ],
         "y": [
          4.330127018922193,
          5.196152422706632,
          null
         ]
        },
        {
         "hoverinfo": "none",
         "line": {
          "color": "rgb(13, 8, 135)",
          "width": 3.065968423291494e-05
         },
         "mode": "lines",
         "type": "scatter",
         "x": [
          9.5,
          9,
          null
         ],
         "y": [
          5.196152422706632,
          6.06217782649107,
          null
         ]
        },
        {
         "hoverinfo": "none",
         "line": {
          "color": "rgb(156, 23, 158)",
          "width": 1.1224620690260874
         },
         "mode": "lines",
         "type": "scatter",
         "x": [
          9,
          9.5,
          null
         ],
         "y": [
          6.06217782649107,
          6.928203230275509,
          null
         ]
        },
        {
         "hoverinfo": "none",
         "line": {
          "color": "rgb(13, 8, 135)",
          "width": 3.49209413433224e-05
         },
         "mode": "lines",
         "type": "scatter",
         "x": [
          9.5,
          9,
          null
         ],
         "y": [
          6.928203230275509,
          7.794228634059947,
          null
         ]
        },
        {
         "hoverinfo": "none",
         "line": {
          "color": "rgb(156, 23, 158)",
          "width": 1.1224619246019896
         },
         "mode": "lines",
         "type": "scatter",
         "x": [
          9,
          9.5,
          null
         ],
         "y": [
          7.794228634059947,
          8.660254037844386,
          null
         ]
        },
        {
         "hoverinfo": "none",
         "line": {
          "color": "rgb(13, 8, 135)",
          "width": 4.003999476600957e-05
         },
         "mode": "lines",
         "type": "scatter",
         "x": [
          9.5,
          9,
          null
         ],
         "y": [
          8.660254037844386,
          9.526279441628825,
          null
         ]
        },
        {
         "hoverinfo": "none",
         "line": {
          "color": "rgb(13, 8, 135)",
          "width": 0.000155061210470536
         },
         "mode": "lines",
         "type": "scatter",
         "x": [
          9,
          9.5,
          null
         ],
         "y": [
          9.526279441628825,
          10.392304845413264,
          null
         ]
        },
        {
         "hoverinfo": "none",
         "line": {
          "color": "rgb(156, 23, 158)",
          "width": 1.1224558678966432
         },
         "mode": "lines",
         "type": "scatter",
         "x": [
          9.5,
          9,
          null
         ],
         "y": [
          10.392304845413264,
          11.258330249197702,
          null
         ]
        },
        {
         "hoverinfo": "none",
         "line": {
          "color": "rgb(156, 23, 158)",
          "width": 1.1224618231447276
         },
         "mode": "lines",
         "type": "scatter",
         "x": [
          9,
          9.5,
          null
         ],
         "y": [
          11.258330249197702,
          12.12435565298214,
          null
         ]
        },
        {
         "hoverinfo": "none",
         "line": {
          "color": "rgb(13, 8, 135)",
          "width": 5.6544791125978915e-05
         },
         "mode": "lines",
         "type": "scatter",
         "x": [
          9.5,
          9,
          null
         ],
         "y": [
          12.12435565298214,
          12.990381056766578,
          null
         ]
        },
        {
         "hoverinfo": "text",
         "marker": {
          "color": [
           0.9999586231886298,
           0.999958623188617,
           4.137681137224542e-05,
           0.9999818574241673,
           1.0000232342355198,
           1.8142575821654986e-05,
           0.0001007104489150208,
           0.000118853024748951,
           0.9998992895510925,
           0.9999487640510292,
           1.9998480536021017,
           5.123594896912438e-05,
           0.999772639346751,
           0.9998238752957186,
           0.00022736065326070109,
           8.260139763640808e-05,
           0.00030996205089884,
           0.9999173986023584,
           0.9998665083734422,
           1.9997839069758083,
           0.00013349162655992947,
           0.00013349162656231187,
           0.9999586231886121,
           0.9999531869599444,
           1.9999118101485416,
           7.004727556374263e-05,
           7.210626410817476e-05,
           0.00014215353967538831,
           4.674676064229826e-05,
           6.54196870537947e-05,
           0.00011216644770134672,
           1.999782633915061,
           0.9997873716091952,
           2.9995700055242294,
           3.650368653638504e-05,
           8.498849281310057e-05,
           0.00012149217934787017,
           0.00022497355808956333,
           0.00022344731753698902,
           0.0004484208756391229,
           1.9995604596582617,
           5.430382889973681e-05,
           1.9996147634871604,
           7.91877976624518e-05,
           7.91877976724759e-05,
           1.999864062671518,
           1.9998640626715187,
           4.7747477033804245e-05,
           5.131628544279503e-05,
           9.906376248089904e-05,
           9.083725421869865e-05,
           4.0691794365867465e-05,
           0.00013152904858397096,
           7.147465334115281e-05,
           1.9995736047027934,
           1.999645079356121,
           0.9999964008214806,
           9.379214157310769e-05,
           1.000090192963058,
           2.770003777195732e-05,
           0.00036678467245874195,
           0.00039448471024209096,
           8.163620318011676e-05,
           1.9995431989149293,
           1.9996248351181016,
           7.156457220959575e-05,
           7.918779767250734e-05,
           0.00015075236987560937,
           1.9998640626715298,
           4.298341344761852e-05,
           1.9999070460849782,
           5.6080349033085025e-05,
           5.808504710847733e-05,
           0.00011416539613934977,
           7.344400147265365e-05,
           1.9996266839979857,
           1.9997001279994695,
           1.8395358135531853e-05,
           8.765637448260431e-05,
           0.00010605173261797904,
           1.0000025365885803,
           3.7837386726074806e-05,
           1.0000403739753032,
           0.0003566473235149951,
           5.805204273790747e-05,
           0.00041469936625323134,
           1.9995667830753723,
           4.77609884882562e-05,
           1.9996145440638724,
           0.00010299138138609884,
           0.00010299138138530507,
           0.9998892179163061,
           0.9998892179163013,
           1.000017828168674,
           5.1475758095947506e-05,
           1.000069303926784,
           6.268963804519111e-05,
           0.9999125454874761,
           0.9999752351255253,
           0.9997875825119782,
           9.131564566624978e-05,
           0.9998788981576475,
           1.4736086952050729e-05,
           0.9999726662655667,
           0.9999874023525089,
           6.770770973518627e-05,
           0.00034693587563197295,
           0.00041464358536736045,
           6.776349062158886e-05,
           0.00010631002573427394,
           0.00017407351635580242,
           1.9995082340381423,
           0.00010299138138519712,
           1.9996112254195273,
           0.9998892179163061,
           8.022883376299844e-05,
           0.9999694467500824,
           0.9999890750929958,
           2.0328626614687058e-05,
           1.0000094037196188,
           0.9999549064989,
           3.8917977737566136e-05,
           0.9999938244766388,
           0.9998399801799122,
           8.322666567089154e-05,
           0.9999232068455806,
           0.9999041756868305,
           0.00023288681279854585,
           1.0001370624996264,
           0.00018175677256922868,
           9.251092668002893e-05,
           0.00027426769924954197,
           8.156258967611916e-05,
           1.9995411373317482,
           1.999622699921424,
           7.008808777570807e-05,
           7.008808777600979e-05,
           0.9999694467500836,
           3.055324991312955e-05,
           0.9999788504697015,
           2.1149530302820272e-05,
           0.9999726749463227,
           2.732505367782671e-05,
           0.9998958817919005,
           0.00010411820809637635,
           1.0000329442915445,
           3.2944291547214215e-05,
           0.0003072119907969769,
           0.9996927880091938,
           0.9999299119122222,
           7.008808777631125e-05
          ],
          "opacity": 0
         },
         "mode": "markers",
         "text": [
          "label: (0, 1)<br>conductivity: 1.122461926857865<br>flow_rate: -0.9999586231886298<br>",
          "label: (0, 15)<br>conductivity: 1.1224619268606013<br>flow_rate: 0.999958623188617<br>",
          "label: (1, 2)<br>conductivity: 4.644858017554543e-05<br>flow_rate: 4.137681137224542e-05<br>",
          "label: (2, 3)<br>conductivity: 1.1224618126752335<br>flow_rate: -0.9999818574241673<br>",
          "label: (2, 17)<br>conductivity: 1.1224619347883682<br>flow_rate: 1.0000232342355198<br>",
          "label: (3, 4)<br>conductivity: 5.367681193433859e-05<br>flow_rate: 1.8142575821654986e-05<br>",
          "label: (4, 5)<br>conductivity: 6.932435670193108e-05<br>flow_rate: -0.0001007104489150208<br>",
          "label: (4, 19)<br>conductivity: 7.86781325723064e-05<br>flow_rate: 0.000118853024748951<br>",
          "label: (5, 6)<br>conductivity: 1.122461581017808<br>flow_rate: 0.9998992895510925<br>",
          "label: (6, 7)<br>conductivity: 1.1224620429811933<br>flow_rate: -0.9999487640510292<br>",
          "label: (6, 21)<br>conductivity: 1.4142132657517792<br>flow_rate: 1.9998480536021017<br>",
          "label: (7, 8)<br>conductivity: 2.6446800747727955e-05<br>flow_rate: 5.123594896912438e-05<br>",
          "label: (8, 9)<br>conductivity: 1.1223062608394083<br>flow_rate: -0.999772639346751<br>",
          "label: (8, 23)<br>conductivity: 1.1223062674195443<br>flow_rate: 0.9998238752957186<br>",
          "label: (9, 10)<br>conductivity: 0.00034697711025691405<br>flow_rate: 0.00022736065326070109<br>",
          "label: (10, 11)<br>conductivity: 3.12722570774068e-05<br>flow_rate: -8.260139763640808e-05<br>",
          "label: (10, 25)<br>conductivity: 0.00034696927510465616<br>flow_rate: 0.00030996205089884<br>",
          "label: (11, 12)<br>conductivity: 1.1224620481294132<br>flow_rate: 0.9999173986023584<br>",
          "label: (12, 13)<br>conductivity: 1.1224608803350686<br>flow_rate: -0.9998665083734422<br>",
          "label: (12, 27)<br>conductivity: 1.4142128356391244<br>flow_rate: 1.9997839069758083<br>",
          "label: (13, 14)<br>conductivity: 8.983402501580603e-05<br>flow_rate: 0.00013349162655992947<br>",
          "label: (14, 29)<br>conductivity: 8.983339279517672e-05<br>flow_rate: 0.00013349162656231187<br>",
          "label: (15, 16)<br>conductivity: 1.1224619268616423<br>flow_rate: 0.9999586231886121<br>",
          "label: (16, 17)<br>conductivity: 1.1224615739522956<br>flow_rate: -0.9999531869599444<br>",
          "label: (16, 32)<br>conductivity: 1.414213187833199<br>flow_rate: 1.9999118101485416<br>",
          "label: (17, 18)<br>conductivity: 6.38445030004554e-05<br>flow_rate: 7.004727556374263e-05<br>",
          "label: (18, 19)<br>conductivity: 6.998320186321799e-05<br>flow_rate: -7.210626410817476e-05<br>",
          "label: (18, 34)<br>conductivity: 8.444913690403094e-05<br>flow_rate: 0.00014215353967538831<br>",
          "label: (19, 20)<br>conductivity: 5.262354005383175e-05<br>flow_rate: 4.674676064229826e-05<br>",
          "label: (20, 21)<br>conductivity: 4.229426688429367e-05<br>flow_rate: -6.54196870537947e-05<br>",
          "label: (20, 36)<br>conductivity: 6.0207704888425334e-05<br>flow_rate: 0.00011216644770134672<br>",
          "label: (21, 22)<br>conductivity: 1.4142132224001982<br>flow_rate: 1.999782633915061<br>",
          "label: (22, 23)<br>conductivity: 1.1223061680042494<br>flow_rate: -0.9997873716091952<br>",
          "label: (22, 38)<br>conductivity: 1.6187943023922513<br>flow_rate: 2.9995700055242294<br>",
          "label: (23, 24)<br>conductivity: 4.333641488886423e-05<br>flow_rate: 3.650368653638504e-05<br>",
          "label: (24, 25)<br>conductivity: 7.902852691839591e-05<br>flow_rate: -8.498849281310057e-05<br>",
          "label: (24, 40)<br>conductivity: 8.286221596765783e-05<br>flow_rate: 0.00012149217934787017<br>",
          "label: (25, 26)<br>conductivity: 0.0003462725775979272<br>flow_rate: 0.00022497355808956333<br>",
          "label: (26, 27)<br>conductivity: 0.00011888536569279444<br>flow_rate: -0.00022344731753698902<br>",
          "label: (26, 42)<br>conductivity: 0.0003472540675086269<br>flow_rate: 0.0004484208756391229<br>",
          "label: (27, 28)<br>conductivity: 1.4142127243911242<br>flow_rate: 1.9995604596582617<br>",
          "label: (28, 29)<br>conductivity: 7.2717892566668e-05<br>flow_rate: -5.430382889973681e-05<br>",
          "label: (28, 44)<br>conductivity: 1.4142131609871411<br>flow_rate: 1.9996147634871604<br>",
          "label: (29, 30)<br>conductivity: 6.993170728710209e-05<br>flow_rate: 7.91877976624518e-05<br>",
          "label: (30, 46)<br>conductivity: 6.99304594437922e-05<br>flow_rate: 7.91877976724759e-05<br>",
          "label: (31, 32)<br>conductivity: 1.4142131708348742<br>flow_rate: -1.999864062671518<br>",
          "label: (31, 47)<br>conductivity: 1.4142131708346712<br>flow_rate: 1.9998640626715187<br>",
          "label: (32, 33)<br>conductivity: 3.3610609024479995e-05<br>flow_rate: 4.7747477033804245e-05<br>",
          "label: (33, 34)<br>conductivity: 5.429385446326592e-05<br>flow_rate: -5.131628544279503e-05<br>",
          "label: (33, 49)<br>conductivity: 5.782015197555029e-05<br>flow_rate: 9.906376248089904e-05<br>",
          "label: (34, 35)<br>conductivity: 7.632234168078622e-05<br>flow_rate: 9.083725421869865e-05<br>",
          "label: (35, 36)<br>conductivity: 3.5307299237046965e-05<br>flow_rate: -4.0691794365867465e-05<br>",
          "label: (35, 51)<br>conductivity: 7.832693630423497e-05<br>flow_rate: 0.00013152904858397096<br>",
          "label: (36, 37)<br>conductivity: 5.622738405577739e-05<br>flow_rate: 7.147465334115281e-05<br>",
          "label: (37, 38)<br>conductivity: 1.4142137989290857<br>flow_rate: -1.9995736047027934<br>",
          "label: (37, 53)<br>conductivity: 1.4142139369327422<br>flow_rate: 1.999645079356121<br>",
          "label: (38, 39)<br>conductivity: 1.122305155733596<br>flow_rate: 0.9999964008214806<br>",
          "label: (39, 40)<br>conductivity: 7.071764323992655e-05<br>flow_rate: -9.379214157310769e-05<br>",
          "label: (39, 55)<br>conductivity: 1.1223059283142423<br>flow_rate: 1.000090192963058<br>",
          "label: (40, 41)<br>conductivity: 6.051450448152445e-05<br>flow_rate: 2.770003777195732e-05<br>",
          "label: (41, 42)<br>conductivity: 0.00034657315093959283<br>flow_rate: -0.00036678467245874195<br>",
          "label: (41, 57)<br>conductivity: 0.0003469056914433999<br>flow_rate: 0.00039448471024209096<br>",
          "label: (42, 43)<br>conductivity: 7.623257296243754e-05<br>flow_rate: 8.163620318011676e-05<br>",
          "label: (43, 44)<br>conductivity: 1.4142129891656798<br>flow_rate: -1.9995431989149293<br>",
          "label: (43, 59)<br>conductivity: 1.4142135738105361<br>flow_rate: 1.9996248351181016<br>",
          "label: (44, 45)<br>conductivity: 5.788211041840272e-05<br>flow_rate: 7.156457220959575e-05<br>",
          "label: (45, 46)<br>conductivity: 6.993150204948157e-05<br>flow_rate: -7.918779767250734e-05<br>",
          "label: (45, 61)<br>conductivity: 8.114512335988634e-05<br>flow_rate: 0.00015075236987560937<br>",
          "label: (47, 48)<br>conductivity: 1.4142131708336194<br>flow_rate: 1.9998640626715298<br>",
          "label: (48, 49)<br>conductivity: 3.877837908052767e-05<br>flow_rate: -4.298341344761852e-05<br>",
          "label: (48, 64)<br>conductivity: 1.4142132090170891<br>flow_rate: 1.9999070460849782<br>",
          "label: (49, 50)<br>conductivity: 5.1395410899893014e-05<br>flow_rate: 5.6080349033085025e-05<br>",
          "label: (50, 51)<br>conductivity: 6.59898981591111e-05<br>flow_rate: -5.808504710847733e-05<br>",
          "label: (50, 66)<br>conductivity: 7.490140243490206e-05<br>flow_rate: 0.00011416539613934977<br>",
          "label: (51, 52)<br>conductivity: 5.795091363669424e-05<br>flow_rate: 7.344400147265365e-05<br>",
          "label: (52, 53)<br>conductivity: 1.414213389868356<br>flow_rate: -1.9996266839979857<br>",
          "label: (52, 68)<br>conductivity: 1.414213553579482<br>flow_rate: 1.9997001279994695<br>",
          "label: (53, 54)<br>conductivity: 7.282261738897741e-05<br>flow_rate: 1.8395358135531853e-05<br>",
          "label: (54, 55)<br>conductivity: 6.751335954676269e-05<br>flow_rate: -8.765637448260431e-05<br>",
          "label: (54, 70)<br>conductivity: 8.778787862953747e-05<br>flow_rate: 0.00010605173261797904<br>",
          "label: (55, 56)<br>conductivity: 1.1223054228051161<br>flow_rate: 1.0000025365885803<br>",
          "label: (56, 57)<br>conductivity: 2.4999526436548175e-05<br>flow_rate: -3.7837386726074806e-05<br>",
          "label: (56, 72)<br>conductivity: 1.1223054430598527<br>flow_rate: 1.0000403739753032<br>",
          "label: (57, 58)<br>conductivity: 0.00034689918065643975<br>flow_rate: 0.0003566473235149951<br>",
          "label: (58, 59)<br>conductivity: 7.8582525518217e-05<br>flow_rate: -5.805204273790747e-05<br>",
          "label: (58, 74)<br>conductivity: 0.00034774756327043006<br>flow_rate: 0.00041469936625323134<br>",
          "label: (59, 60)<br>conductivity: 1.4142129641081087<br>flow_rate: 1.9995667830753723<br>",
          "label: (60, 61)<br>conductivity: 4.161994787499023e-05<br>flow_rate: -4.77609884882562e-05<br>",
          "label: (60, 76)<br>conductivity: 1.4142130155615606<br>flow_rate: 1.9996145440638724<br>",
          "label: (61, 62)<br>conductivity: 7.77225447705639e-05<br>flow_rate: 0.00010299138138609884<br>",
          "label: (62, 78)<br>conductivity: 7.772220150219354e-05<br>flow_rate: 0.00010299138138530507<br>",
          "label: (63, 64)<br>conductivity: 1.1224606900075016<br>flow_rate: -0.9998892179163061<br>",
          "label: (63, 79)<br>conductivity: 1.1224606900057492<br>flow_rate: 0.9998892179163013<br>",
          "label: (64, 65)<br>conductivity: 1.1224628486999357<br>flow_rate: 1.000017828168674<br>",
          "label: (65, 66)<br>conductivity: 6.449497902139772e-05<br>flow_rate: -5.1475758095947506e-05<br>",
          "label: (65, 81)<br>conductivity: 1.1224632513448438<br>flow_rate: 1.000069303926784<br>",
          "label: (66, 67)<br>conductivity: 5.3684094509693775e-05<br>flow_rate: 6.268963804519111e-05<br>",
          "label: (67, 68)<br>conductivity: 1.122461875437588<br>flow_rate: -0.9999125454874761<br>",
          "label: (67, 83)<br>conductivity: 1.1224620728850874<br>flow_rate: 0.9999752351255253<br>",
          "label: (68, 69)<br>conductivity: 1.1224622039936798<br>flow_rate: 0.9997875825119782<br>",
          "label: (69, 70)<br>conductivity: 4.044075605838408e-05<br>flow_rate: -9.131564566624978e-05<br>",
          "label: (69, 85)<br>conductivity: 1.1224621979250433<br>flow_rate: 0.9998788981576475<br>",
          "label: (70, 71)<br>conductivity: 8.840802014766594e-05<br>flow_rate: 1.4736086952050729e-05<br>",
          "label: (71, 72)<br>conductivity: 1.1223042251340267<br>flow_rate: -0.9999726662655667<br>",
          "label: (71, 87)<br>conductivity: 1.1223057037698922<br>flow_rate: 0.9999874023525089<br>",
          "label: (72, 73)<br>conductivity: 8.320272051165298e-05<br>flow_rate: 6.770770973518627e-05<br>",
          "label: (73, 74)<br>conductivity: 0.0003477285465080629<br>flow_rate: -0.00034693587563197295<br>",
          "label: (73, 89)<br>conductivity: 0.0003487474264841518<br>flow_rate: 0.00041464358536736045<br>",
          "label: (74, 75)<br>conductivity: 3.9920282156564766e-05<br>flow_rate: 6.776349062158886e-05<br>",
          "label: (75, 76)<br>conductivity: 0.00013273976042092162<br>flow_rate: -0.00010631002573427394<br>",
          "label: (75, 91)<br>conductivity: 0.0001331440089970616<br>flow_rate: 0.00017407351635580242<br>",
          "label: (76, 77)<br>conductivity: 1.4142094159598<br>flow_rate: 1.9995082340381423<br>",
          "label: (77, 78)<br>conductivity: 7.772205608364695e-05<br>flow_rate: -0.00010299138138519712<br>",
          "label: (77, 93)<br>conductivity: 1.4142099241609025<br>flow_rate: 1.9996112254195273<br>",
          "label: (79, 80)<br>conductivity: 1.1224606900063685<br>flow_rate: 0.9998892179163061<br>",
          "label: (80, 81)<br>conductivity: 9.009112452349402e-05<br>flow_rate: -8.022883376299844e-05<br>",
          "label: (80, 95)<br>conductivity: 1.1224620086224604<br>flow_rate: 0.9999694467500824<br>",
          "label: (81, 82)<br>conductivity: 1.1224619403060279<br>flow_rate: 0.9999890750929958<br>",
          "label: (82, 83)<br>conductivity: 3.8991747448088354e-05<br>flow_rate: -2.0328626614687058e-05<br>",
          "label: (82, 97)<br>conductivity: 1.1224620085125105<br>flow_rate: 1.0000094037196188<br>",
          "label: (83, 84)<br>conductivity: 1.1224620046689104<br>flow_rate: 0.9999549064989<br>",
          "label: (84, 85)<br>conductivity: 4.367623762753457e-05<br>flow_rate: -3.8917977737566136e-05<br>",
          "label: (84, 99)<br>conductivity: 1.1224621017682108<br>flow_rate: 0.9999938244766388<br>",
          "label: (85, 86)<br>conductivity: 1.1224621019852346<br>flow_rate: 0.9998399801799122<br>",
          "label: (86, 87)<br>conductivity: 2.7910963416050484e-05<br>flow_rate: -8.322666567089154e-05<br>",
          "label: (86, 101)<br>conductivity: 1.1224620947050077<br>flow_rate: 0.9999232068455806<br>",
          "label: (87, 88)<br>conductivity: 1.1223057111412336<br>flow_rate: 0.9999041756868305<br>",
          "label: (88, 89)<br>conductivity: 0.00034747310467099957<br>flow_rate: -0.00023288681279854585<br>",
          "label: (88, 103)<br>conductivity: 1.1224619034635166<br>flow_rate: 1.0001370624996264<br>",
          "label: (89, 90)<br>conductivity: 0.00011999133148187165<br>flow_rate: 0.00018175677256922868<br>",
          "label: (90, 91)<br>conductivity: 0.00013281446704627495<br>flow_rate: -9.251092668002893e-05<br>",
          "label: (90, 105)<br>conductivity: 0.0001558149496678062<br>flow_rate: 0.00027426769924954197<br>",
          "label: (91, 92)<br>conductivity: 3.823114766949071e-05<br>flow_rate: 8.156258967611916e-05<br>",
          "label: (92, 93)<br>conductivity: 1.4142097508897593<br>flow_rate: -1.9995411373317482<br>",
          "label: (92, 107)<br>conductivity: 1.4142097749643103<br>flow_rate: 1.999622699921424<br>",
          "label: (93, 94)<br>conductivity: 5.654172442808124e-05<br>flow_rate: 7.008808777570807e-05<br>",
          "label: (94, 109)<br>conductivity: 5.654163308471295e-05<br>flow_rate: 7.008808777600979e-05<br>",
          "label: (95, 96)<br>conductivity: 1.1224620086226027<br>flow_rate: 0.9999694467500836<br>",
          "label: (96, 97)<br>conductivity: 3.431111699077335e-05<br>flow_rate: -3.055324991312955e-05<br>",
          "label: (97, 98)<br>conductivity: 1.1224619688248354<br>flow_rate: 0.9999788504697015<br>",
          "label: (98, 99)<br>conductivity: 4.056355140134569e-05<br>flow_rate: -2.1149530302820272e-05<br>",
          "label: (99, 100)<br>conductivity: 1.1224620223964328<br>flow_rate: 0.9999726749463227<br>",
          "label: (100, 101)<br>conductivity: 3.065968423291494e-05<br>flow_rate: -2.732505367782671e-05<br>",
          "label: (101, 102)<br>conductivity: 1.1224620690260874<br>flow_rate: 0.9998958817919005<br>",
          "label: (102, 103)<br>conductivity: 3.49209413433224e-05<br>flow_rate: -0.00010411820809637635<br>",
          "label: (103, 104)<br>conductivity: 1.1224619246019896<br>flow_rate: 1.0000329442915445<br>",
          "label: (104, 105)<br>conductivity: 4.003999476600957e-05<br>flow_rate: 3.2944291547214215e-05<br>",
          "label: (105, 106)<br>conductivity: 0.000155061210470536<br>flow_rate: 0.0003072119907969769<br>",
          "label: (106, 107)<br>conductivity: 1.1224558678966432<br>flow_rate: -0.9996927880091938<br>",
          "label: (107, 108)<br>conductivity: 1.1224618231447276<br>flow_rate: 0.9999299119122222<br>",
          "label: (108, 109)<br>conductivity: 5.6544791125978915e-05<br>flow_rate: -7.008808777631125e-05<br>"
         ],
         "type": "scatter",
         "x": [
          0.25,
          1,
          0.25,
          0.25,
          1,
          0.25,
          0.25,
          1,
          0.25,
          0.25,
          1,
          0.25,
          0.25,
          1,
          0.25,
          0.25,
          1,
          0.25,
          0.25,
          1,
          0.25,
          1,
          1.75,
          1.75,
          2.5,
          1.75,
          1.75,
          2.5,
          1.75,
          1.75,
          2.5,
          1.75,
          1.75,
          2.5,
          1.75,
          1.75,
          2.5,
          1.75,
          1.75,
          2.5,
          1.75,
          1.75,
          2.5,
          1.75,
          2.5,
          3.25,
          4,
          3.25,
          3.25,
          4,
          3.25,
          3.25,
          4,
          3.25,
          3.25,
          4,
          3.25,
          3.25,
          4,
          3.25,
          3.25,
          4,
          3.25,
          3.25,
          4,
          3.25,
          3.25,
          4,
          4.75,
          4.75,
          5.5,
          4.75,
          4.75,
          5.5,
          4.75,
          4.75,
          5.5,
          4.75,
          4.75,
          5.5,
          4.75,
          4.75,
          5.5,
          4.75,
          4.75,
          5.5,
          4.75,
          4.75,
          5.5,
          4.75,
          5.5,
          6.25,
          7,
          6.25,
          6.25,
          7,
          6.25,
          6.25,
          7,
          6.25,
          6.25,
          7,
          6.25,
          6.25,
          7,
          6.25,
          6.25,
          7,
          6.25,
          6.25,
          7,
          6.25,
          6.25,
          7,
          7.75,
          7.75,
          8.5,
          7.75,
          7.75,
          8.5,
          7.75,
          7.75,
          8.5,
          7.75,
          7.75,
          8.5,
          7.75,
          7.75,
          8.5,
          7.75,
          7.75,
          8.5,
          7.75,
          7.75,
          8.5,
          7.75,
          8.5,
          9.25,
          9.25,
          9.25,
          9.25,
          9.25,
          9.25,
          9.25,
          9.25,
          9.25,
          9.25,
          9.25,
          9.25,
          9.25,
          9.25
         ],
         "y": [
          0.4330127018922193,
          0,
          1.299038105676658,
          2.1650635094610964,
          1.7320508075688772,
          3.031088913245535,
          3.8971143170299736,
          3.4641016151377544,
          4.763139720814412,
          5.629165124598851,
          5.196152422706632,
          6.49519052838329,
          7.3612159321677275,
          6.928203230275509,
          8.227241335952167,
          9.093266739736606,
          8.660254037844386,
          9.959292143521044,
          10.825317547305483,
          10.392304845413264,
          11.691342951089922,
          12.12435565298214,
          0.4330127018922193,
          1.299038105676658,
          0.8660254037844386,
          2.1650635094610964,
          3.031088913245535,
          2.598076211353316,
          3.8971143170299736,
          4.763139720814412,
          4.330127018922193,
          5.629165124598851,
          6.49519052838329,
          6.06217782649107,
          7.3612159321677275,
          8.227241335952167,
          7.794228634059947,
          9.093266739736606,
          9.959292143521044,
          9.526279441628825,
          10.825317547305483,
          11.691342951089922,
          11.258330249197702,
          12.55736835487436,
          12.990381056766578,
          0.4330127018922193,
          0,
          1.299038105676658,
          2.1650635094610964,
          1.7320508075688772,
          3.031088913245535,
          3.8971143170299736,
          3.4641016151377544,
          4.763139720814412,
          5.629165124598851,
          5.196152422706632,
          6.49519052838329,
          7.3612159321677275,
          6.928203230275509,
          8.227241335952167,
          9.093266739736606,
          8.660254037844386,
          9.959292143521044,
          10.825317547305483,
          10.392304845413264,
          11.691342951089922,
          12.55736835487436,
          12.12435565298214,
          0.4330127018922193,
          1.299038105676658,
          0.8660254037844386,
          2.1650635094610964,
          3.031088913245535,
          2.598076211353316,
          3.8971143170299736,
          4.763139720814412,
          4.330127018922193,
          5.629165124598851,
          6.49519052838329,
          6.06217782649107,
          7.3612159321677275,
          8.227241335952167,
          7.794228634059947,
          9.093266739736606,
          9.959292143521044,
          9.526279441628825,
          10.825317547305483,
          11.691342951089922,
          11.258330249197702,
          12.55736835487436,
          12.990381056766578,
          0.4330127018922193,
          0,
          1.299038105676658,
          2.1650635094610964,
          1.7320508075688772,
          3.031088913245535,
          3.8971143170299736,
          3.4641016151377544,
          4.763139720814412,
          5.629165124598851,
          5.196152422706632,
          6.49519052838329,
          7.3612159321677275,
          6.928203230275509,
          8.227241335952167,
          9.093266739736606,
          8.660254037844386,
          9.959292143521044,
          10.825317547305483,
          10.392304845413264,
          11.691342951089922,
          12.55736835487436,
          12.12435565298214,
          0.4330127018922193,
          1.299038105676658,
          0.8660254037844386,
          2.1650635094610964,
          3.031088913245535,
          2.598076211353316,
          3.8971143170299736,
          4.763139720814412,
          4.330127018922193,
          5.629165124598851,
          6.49519052838329,
          6.06217782649107,
          7.3612159321677275,
          8.227241335952167,
          7.794228634059947,
          9.093266739736606,
          9.959292143521044,
          9.526279441628825,
          10.825317547305483,
          11.691342951089922,
          11.258330249197702,
          12.55736835487436,
          12.990381056766578,
          1.299038105676658,
          2.1650635094610964,
          3.031088913245535,
          3.8971143170299736,
          4.763139720814412,
          5.629165124598851,
          6.49519052838329,
          7.3612159321677275,
          8.227241335952167,
          9.093266739736606,
          9.959292143521044,
          10.825317547305483,
          11.691342951089922,
          12.55736835487436
         ]
        }
       ],
       "layout": {
        "showlegend": false,
        "template": {
         "data": {
          "bar": [
           {
            "error_x": {
             "color": "#2a3f5f"
            },
            "error_y": {
             "color": "#2a3f5f"
            },
            "marker": {
             "line": {
              "color": "#E5ECF6",
              "width": 0.5
             },
             "pattern": {
              "fillmode": "overlay",
              "size": 10,
              "solidity": 0.2
             }
            },
            "type": "bar"
           }
          ],
          "barpolar": [
           {
            "marker": {
             "line": {
              "color": "#E5ECF6",
              "width": 0.5
             },
             "pattern": {
              "fillmode": "overlay",
              "size": 10,
              "solidity": 0.2
             }
            },
            "type": "barpolar"
           }
          ],
          "carpet": [
           {
            "aaxis": {
             "endlinecolor": "#2a3f5f",
             "gridcolor": "white",
             "linecolor": "white",
             "minorgridcolor": "white",
             "startlinecolor": "#2a3f5f"
            },
            "baxis": {
             "endlinecolor": "#2a3f5f",
             "gridcolor": "white",
             "linecolor": "white",
             "minorgridcolor": "white",
             "startlinecolor": "#2a3f5f"
            },
            "type": "carpet"
           }
          ],
          "choropleth": [
           {
            "colorbar": {
             "outlinewidth": 0,
             "ticks": ""
            },
            "type": "choropleth"
           }
          ],
          "contour": [
           {
            "colorbar": {
             "outlinewidth": 0,
             "ticks": ""
            },
            "colorscale": [
             [
              0,
              "#0d0887"
             ],
             [
              0.1111111111111111,
              "#46039f"
             ],
             [
              0.2222222222222222,
              "#7201a8"
             ],
             [
              0.3333333333333333,
              "#9c179e"
             ],
             [
              0.4444444444444444,
              "#bd3786"
             ],
             [
              0.5555555555555556,
              "#d8576b"
             ],
             [
              0.6666666666666666,
              "#ed7953"
             ],
             [
              0.7777777777777778,
              "#fb9f3a"
             ],
             [
              0.8888888888888888,
              "#fdca26"
             ],
             [
              1,
              "#f0f921"
             ]
            ],
            "type": "contour"
           }
          ],
          "contourcarpet": [
           {
            "colorbar": {
             "outlinewidth": 0,
             "ticks": ""
            },
            "type": "contourcarpet"
           }
          ],
          "heatmap": [
           {
            "colorbar": {
             "outlinewidth": 0,
             "ticks": ""
            },
            "colorscale": [
             [
              0,
              "#0d0887"
             ],
             [
              0.1111111111111111,
              "#46039f"
             ],
             [
              0.2222222222222222,
              "#7201a8"
             ],
             [
              0.3333333333333333,
              "#9c179e"
             ],
             [
              0.4444444444444444,
              "#bd3786"
             ],
             [
              0.5555555555555556,
              "#d8576b"
             ],
             [
              0.6666666666666666,
              "#ed7953"
             ],
             [
              0.7777777777777778,
              "#fb9f3a"
             ],
             [
              0.8888888888888888,
              "#fdca26"
             ],
             [
              1,
              "#f0f921"
             ]
            ],
            "type": "heatmap"
           }
          ],
          "heatmapgl": [
           {
            "colorbar": {
             "outlinewidth": 0,
             "ticks": ""
            },
            "colorscale": [
             [
              0,
              "#0d0887"
             ],
             [
              0.1111111111111111,
              "#46039f"
             ],
             [
              0.2222222222222222,
              "#7201a8"
             ],
             [
              0.3333333333333333,
              "#9c179e"
             ],
             [
              0.4444444444444444,
              "#bd3786"
             ],
             [
              0.5555555555555556,
              "#d8576b"
             ],
             [
              0.6666666666666666,
              "#ed7953"
             ],
             [
              0.7777777777777778,
              "#fb9f3a"
             ],
             [
              0.8888888888888888,
              "#fdca26"
             ],
             [
              1,
              "#f0f921"
             ]
            ],
            "type": "heatmapgl"
           }
          ],
          "histogram": [
           {
            "marker": {
             "pattern": {
              "fillmode": "overlay",
              "size": 10,
              "solidity": 0.2
             }
            },
            "type": "histogram"
           }
          ],
          "histogram2d": [
           {
            "colorbar": {
             "outlinewidth": 0,
             "ticks": ""
            },
            "colorscale": [
             [
              0,
              "#0d0887"
             ],
             [
              0.1111111111111111,
              "#46039f"
             ],
             [
              0.2222222222222222,
              "#7201a8"
             ],
             [
              0.3333333333333333,
              "#9c179e"
             ],
             [
              0.4444444444444444,
              "#bd3786"
             ],
             [
              0.5555555555555556,
              "#d8576b"
             ],
             [
              0.6666666666666666,
              "#ed7953"
             ],
             [
              0.7777777777777778,
              "#fb9f3a"
             ],
             [
              0.8888888888888888,
              "#fdca26"
             ],
             [
              1,
              "#f0f921"
             ]
            ],
            "type": "histogram2d"
           }
          ],
          "histogram2dcontour": [
           {
            "colorbar": {
             "outlinewidth": 0,
             "ticks": ""
            },
            "colorscale": [
             [
              0,
              "#0d0887"
             ],
             [
              0.1111111111111111,
              "#46039f"
             ],
             [
              0.2222222222222222,
              "#7201a8"
             ],
             [
              0.3333333333333333,
              "#9c179e"
             ],
             [
              0.4444444444444444,
              "#bd3786"
             ],
             [
              0.5555555555555556,
              "#d8576b"
             ],
             [
              0.6666666666666666,
              "#ed7953"
             ],
             [
              0.7777777777777778,
              "#fb9f3a"
             ],
             [
              0.8888888888888888,
              "#fdca26"
             ],
             [
              1,
              "#f0f921"
             ]
            ],
            "type": "histogram2dcontour"
           }
          ],
          "mesh3d": [
           {
            "colorbar": {
             "outlinewidth": 0,
             "ticks": ""
            },
            "type": "mesh3d"
           }
          ],
          "parcoords": [
           {
            "line": {
             "colorbar": {
              "outlinewidth": 0,
              "ticks": ""
             }
            },
            "type": "parcoords"
           }
          ],
          "pie": [
           {
            "automargin": true,
            "type": "pie"
           }
          ],
          "scatter": [
           {
            "marker": {
             "colorbar": {
              "outlinewidth": 0,
              "ticks": ""
             }
            },
            "type": "scatter"
           }
          ],
          "scatter3d": [
           {
            "line": {
             "colorbar": {
              "outlinewidth": 0,
              "ticks": ""
             }
            },
            "marker": {
             "colorbar": {
              "outlinewidth": 0,
              "ticks": ""
             }
            },
            "type": "scatter3d"
           }
          ],
          "scattercarpet": [
           {
            "marker": {
             "colorbar": {
              "outlinewidth": 0,
              "ticks": ""
             }
            },
            "type": "scattercarpet"
           }
          ],
          "scattergeo": [
           {
            "marker": {
             "colorbar": {
              "outlinewidth": 0,
              "ticks": ""
             }
            },
            "type": "scattergeo"
           }
          ],
          "scattergl": [
           {
            "marker": {
             "colorbar": {
              "outlinewidth": 0,
              "ticks": ""
             }
            },
            "type": "scattergl"
           }
          ],
          "scattermapbox": [
           {
            "marker": {
             "colorbar": {
              "outlinewidth": 0,
              "ticks": ""
             }
            },
            "type": "scattermapbox"
           }
          ],
          "scatterpolar": [
           {
            "marker": {
             "colorbar": {
              "outlinewidth": 0,
              "ticks": ""
             }
            },
            "type": "scatterpolar"
           }
          ],
          "scatterpolargl": [
           {
            "marker": {
             "colorbar": {
              "outlinewidth": 0,
              "ticks": ""
             }
            },
            "type": "scatterpolargl"
           }
          ],
          "scatterternary": [
           {
            "marker": {
             "colorbar": {
              "outlinewidth": 0,
              "ticks": ""
             }
            },
            "type": "scatterternary"
           }
          ],
          "surface": [
           {
            "colorbar": {
             "outlinewidth": 0,
             "ticks": ""
            },
            "colorscale": [
             [
              0,
              "#0d0887"
             ],
             [
              0.1111111111111111,
              "#46039f"
             ],
             [
              0.2222222222222222,
              "#7201a8"
             ],
             [
              0.3333333333333333,
              "#9c179e"
             ],
             [
              0.4444444444444444,
              "#bd3786"
             ],
             [
              0.5555555555555556,
              "#d8576b"
             ],
             [
              0.6666666666666666,
              "#ed7953"
             ],
             [
              0.7777777777777778,
              "#fb9f3a"
             ],
             [
              0.8888888888888888,
              "#fdca26"
             ],
             [
              1,
              "#f0f921"
             ]
            ],
            "type": "surface"
           }
          ],
          "table": [
           {
            "cells": {
             "fill": {
              "color": "#EBF0F8"
             },
             "line": {
              "color": "white"
             }
            },
            "header": {
             "fill": {
              "color": "#C8D4E3"
             },
             "line": {
              "color": "white"
             }
            },
            "type": "table"
           }
          ]
         },
         "layout": {
          "annotationdefaults": {
           "arrowcolor": "#2a3f5f",
           "arrowhead": 0,
           "arrowwidth": 1
          },
          "autotypenumbers": "strict",
          "coloraxis": {
           "colorbar": {
            "outlinewidth": 0,
            "ticks": ""
           }
          },
          "colorscale": {
           "diverging": [
            [
             0,
             "#8e0152"
            ],
            [
             0.1,
             "#c51b7d"
            ],
            [
             0.2,
             "#de77ae"
            ],
            [
             0.3,
             "#f1b6da"
            ],
            [
             0.4,
             "#fde0ef"
            ],
            [
             0.5,
             "#f7f7f7"
            ],
            [
             0.6,
             "#e6f5d0"
            ],
            [
             0.7,
             "#b8e186"
            ],
            [
             0.8,
             "#7fbc41"
            ],
            [
             0.9,
             "#4d9221"
            ],
            [
             1,
             "#276419"
            ]
           ],
           "sequential": [
            [
             0,
             "#0d0887"
            ],
            [
             0.1111111111111111,
             "#46039f"
            ],
            [
             0.2222222222222222,
             "#7201a8"
            ],
            [
             0.3333333333333333,
             "#9c179e"
            ],
            [
             0.4444444444444444,
             "#bd3786"
            ],
            [
             0.5555555555555556,
             "#d8576b"
            ],
            [
             0.6666666666666666,
             "#ed7953"
            ],
            [
             0.7777777777777778,
             "#fb9f3a"
            ],
            [
             0.8888888888888888,
             "#fdca26"
            ],
            [
             1,
             "#f0f921"
            ]
           ],
           "sequentialminus": [
            [
             0,
             "#0d0887"
            ],
            [
             0.1111111111111111,
             "#46039f"
            ],
            [
             0.2222222222222222,
             "#7201a8"
            ],
            [
             0.3333333333333333,
             "#9c179e"
            ],
            [
             0.4444444444444444,
             "#bd3786"
            ],
            [
             0.5555555555555556,
             "#d8576b"
            ],
            [
             0.6666666666666666,
             "#ed7953"
            ],
            [
             0.7777777777777778,
             "#fb9f3a"
            ],
            [
             0.8888888888888888,
             "#fdca26"
            ],
            [
             1,
             "#f0f921"
            ]
           ]
          },
          "colorway": [
           "#636efa",
           "#EF553B",
           "#00cc96",
           "#ab63fa",
           "#FFA15A",
           "#19d3f3",
           "#FF6692",
           "#B6E880",
           "#FF97FF",
           "#FECB52"
          ],
          "font": {
           "color": "#2a3f5f"
          },
          "geo": {
           "bgcolor": "white",
           "lakecolor": "white",
           "landcolor": "#E5ECF6",
           "showlakes": true,
           "showland": true,
           "subunitcolor": "white"
          },
          "hoverlabel": {
           "align": "left"
          },
          "hovermode": "closest",
          "mapbox": {
           "style": "light"
          },
          "paper_bgcolor": "white",
          "plot_bgcolor": "#E5ECF6",
          "polar": {
           "angularaxis": {
            "gridcolor": "white",
            "linecolor": "white",
            "ticks": ""
           },
           "bgcolor": "#E5ECF6",
           "radialaxis": {
            "gridcolor": "white",
            "linecolor": "white",
            "ticks": ""
           }
          },
          "scene": {
           "xaxis": {
            "backgroundcolor": "#E5ECF6",
            "gridcolor": "white",
            "gridwidth": 2,
            "linecolor": "white",
            "showbackground": true,
            "ticks": "",
            "zerolinecolor": "white"
           },
           "yaxis": {
            "backgroundcolor": "#E5ECF6",
            "gridcolor": "white",
            "gridwidth": 2,
            "linecolor": "white",
            "showbackground": true,
            "ticks": "",
            "zerolinecolor": "white"
           },
           "zaxis": {
            "backgroundcolor": "#E5ECF6",
            "gridcolor": "white",
            "gridwidth": 2,
            "linecolor": "white",
            "showbackground": true,
            "ticks": "",
            "zerolinecolor": "white"
           }
          },
          "shapedefaults": {
           "line": {
            "color": "#2a3f5f"
           }
          },
          "ternary": {
           "aaxis": {
            "gridcolor": "white",
            "linecolor": "white",
            "ticks": ""
           },
           "baxis": {
            "gridcolor": "white",
            "linecolor": "white",
            "ticks": ""
           },
           "bgcolor": "#E5ECF6",
           "caxis": {
            "gridcolor": "white",
            "linecolor": "white",
            "ticks": ""
           }
          },
          "title": {
           "x": 0.05
          },
          "xaxis": {
           "automargin": true,
           "gridcolor": "white",
           "linecolor": "white",
           "ticks": "",
           "title": {
            "standoff": 15
           },
           "zerolinecolor": "white",
           "zerolinewidth": 2
          },
          "yaxis": {
           "automargin": true,
           "gridcolor": "white",
           "linecolor": "white",
           "ticks": "",
           "title": {
            "standoff": 15
           },
           "zerolinecolor": "white",
           "zerolinewidth": 2
          }
         }
        }
       }
      },
      "text/html": [
       "<div>                            <div id=\"18ca7086-3852-4a4a-ac25-650823c94053\" class=\"plotly-graph-div\" style=\"height:525px; width:100%;\"></div>            <script type=\"text/javascript\">                require([\"plotly\"], function(Plotly) {                    window.PLOTLYENV=window.PLOTLYENV || {};                                    if (document.getElementById(\"18ca7086-3852-4a4a-ac25-650823c94053\")) {                    Plotly.newPlot(                        \"18ca7086-3852-4a4a-ac25-650823c94053\",                        [{\"hoverinfo\":\"text\",\"hovertext\":[\"label: 0<br>source: 0.0<br>\",\"label: 1<br>source: -1.0<br>\",\"label: 2<br>source: 0.0<br>\",\"label: 3<br>source: -1.0<br>\",\"label: 4<br>source: 0.0<br>\",\"label: 5<br>source: -1.0<br>\",\"label: 6<br>source: 0.0<br>\",\"label: 7<br>source: -1.0<br>\",\"label: 8<br>source: 0.0<br>\",\"label: 9<br>source: -1.0<br>\",\"label: 10<br>source: 0.0<br>\",\"label: 11<br>source: -1.0<br>\",\"label: 12<br>source: 0.0<br>\",\"label: 13<br>source: -1.0<br>\",\"label: 14<br>source: 0.0<br>\",\"label: 15<br>source: 0.0<br>\",\"label: 16<br>source: 0.0<br>\",\"label: 17<br>source: 0.0<br>\",\"label: 18<br>source: 0.0<br>\",\"label: 19<br>source: 0.0<br>\",\"label: 20<br>source: 0.0<br>\",\"label: 21<br>source: 0.0<br>\",\"label: 22<br>source: 0.0<br>\",\"label: 23<br>source: 0.0<br>\",\"label: 24<br>source: 0.0<br>\",\"label: 25<br>source: 0.0<br>\",\"label: 26<br>source: 0.0<br>\",\"label: 27<br>source: 0.0<br>\",\"label: 28<br>source: 0.0<br>\",\"label: 29<br>source: 0.0<br>\",\"label: 30<br>source: 0.0<br>\",\"label: 31<br>source: 0.0<br>\",\"label: 32<br>source: 0.0<br>\",\"label: 33<br>source: 0.0<br>\",\"label: 34<br>source: 0.0<br>\",\"label: 35<br>source: 0.0<br>\",\"label: 36<br>source: 0.0<br>\",\"label: 37<br>source: 0.0<br>\",\"label: 38<br>source: 0.0<br>\",\"label: 39<br>source: 0.0<br>\",\"label: 40<br>source: 0.0<br>\",\"label: 41<br>source: 0.0<br>\",\"label: 42<br>source: 0.0<br>\",\"label: 43<br>source: 0.0<br>\",\"label: 44<br>source: 0.0<br>\",\"label: 45<br>source: 0.0<br>\",\"label: 46<br>source: 0.0<br>\",\"label: 47<br>source: 0.0<br>\",\"label: 48<br>source: 0.0<br>\",\"label: 49<br>source: 0.0<br>\",\"label: 50<br>source: 0.0<br>\",\"label: 51<br>source: 0.0<br>\",\"label: 52<br>source: 0.0<br>\",\"label: 53<br>source: 0.0<br>\",\"label: 54<br>source: 0.0<br>\",\"label: 55<br>source: 0.0<br>\",\"label: 56<br>source: 0.0<br>\",\"label: 57<br>source: 0.0<br>\",\"label: 58<br>source: 0.0<br>\",\"label: 59<br>source: 0.0<br>\",\"label: 60<br>source: 0.0<br>\",\"label: 61<br>source: 0.0<br>\",\"label: 62<br>source: 0.0<br>\",\"label: 63<br>source: 0.0<br>\",\"label: 64<br>source: 0.0<br>\",\"label: 65<br>source: 0.0<br>\",\"label: 66<br>source: 0.0<br>\",\"label: 67<br>source: 0.0<br>\",\"label: 68<br>source: 0.0<br>\",\"label: 69<br>source: 0.0<br>\",\"label: 70<br>source: 0.0<br>\",\"label: 71<br>source: 0.0<br>\",\"label: 72<br>source: 0.0<br>\",\"label: 73<br>source: 0.0<br>\",\"label: 74<br>source: 0.0<br>\",\"label: 75<br>source: 0.0<br>\",\"label: 76<br>source: 0.0<br>\",\"label: 77<br>source: 0.0<br>\",\"label: 78<br>source: 0.0<br>\",\"label: 79<br>source: 0.0<br>\",\"label: 80<br>source: 0.0<br>\",\"label: 81<br>source: 0.0<br>\",\"label: 82<br>source: 0.0<br>\",\"label: 83<br>source: 0.0<br>\",\"label: 84<br>source: 0.0<br>\",\"label: 85<br>source: 0.0<br>\",\"label: 86<br>source: 0.0<br>\",\"label: 87<br>source: 0.0<br>\",\"label: 88<br>source: 0.0<br>\",\"label: 89<br>source: 0.0<br>\",\"label: 90<br>source: 0.0<br>\",\"label: 91<br>source: 0.0<br>\",\"label: 92<br>source: 0.0<br>\",\"label: 93<br>source: 0.0<br>\",\"label: 94<br>source: 0.0<br>\",\"label: 95<br>source: 0.0<br>\",\"label: 96<br>source: 1.0<br>\",\"label: 97<br>source: 0.0<br>\",\"label: 98<br>source: 1.0<br>\",\"label: 99<br>source: 0.0<br>\",\"label: 100<br>source: 1.0<br>\",\"label: 101<br>source: 0.0<br>\",\"label: 102<br>source: 1.0<br>\",\"label: 103<br>source: 0.0<br>\",\"label: 104<br>source: 1.0<br>\",\"label: 105<br>source: 0.0<br>\",\"label: 106<br>source: 1.0<br>\",\"label: 107<br>source: 0.0<br>\",\"label: 108<br>source: 1.0<br>\",\"label: 109<br>source: 0.0<br>\"],\"marker\":{\"color\":\"#a845b5\",\"line\":{\"width\":2},\"size\":2},\"mode\":\"markers\",\"type\":\"scatter\",\"x\":[0.5,0.0,0.5,0.0,0.5,0.0,0.5,0.0,0.5,0.0,0.5,0.0,0.5,0.0,0.5,1.5,2.0,1.5,2.0,1.5,2.0,1.5,2.0,1.5,2.0,1.5,2.0,1.5,2.0,1.5,2.0,3.5,3.0,3.5,3.0,3.5,3.0,3.5,3.0,3.5,3.0,3.5,3.0,3.5,3.0,3.5,3.0,4.5,5.0,4.5,5.0,4.5,5.0,4.5,5.0,4.5,5.0,4.5,5.0,4.5,5.0,4.5,5.0,6.5,6.0,6.5,6.0,6.5,6.0,6.5,6.0,6.5,6.0,6.5,6.0,6.5,6.0,6.5,6.0,7.5,8.0,7.5,8.0,7.5,8.0,7.5,8.0,7.5,8.0,7.5,8.0,7.5,8.0,7.5,8.0,9.0,9.5,9.0,9.5,9.0,9.5,9.0,9.5,9.0,9.5,9.0,9.5,9.0,9.5,9.0],\"y\":[0.0,0.8660254037844386,1.7320508075688772,2.598076211353316,3.4641016151377544,4.330127018922193,5.196152422706632,6.06217782649107,6.928203230275509,7.794228634059947,8.660254037844386,9.526279441628825,10.392304845413264,11.258330249197702,12.12435565298214,0.0,0.8660254037844386,1.7320508075688772,2.598076211353316,3.4641016151377544,4.330127018922193,5.196152422706632,6.06217782649107,6.928203230275509,7.794228634059947,8.660254037844386,9.526279441628825,10.392304845413264,11.258330249197702,12.12435565298214,12.990381056766578,0.0,0.8660254037844386,1.7320508075688772,2.598076211353316,3.4641016151377544,4.330127018922193,5.196152422706632,6.06217782649107,6.928203230275509,7.794228634059947,8.660254037844386,9.526279441628825,10.392304845413264,11.258330249197702,12.12435565298214,12.990381056766578,0.0,0.8660254037844386,1.7320508075688772,2.598076211353316,3.4641016151377544,4.330127018922193,5.196152422706632,6.06217782649107,6.928203230275509,7.794228634059947,8.660254037844386,9.526279441628825,10.392304845413264,11.258330249197702,12.12435565298214,12.990381056766578,0.0,0.8660254037844386,1.7320508075688772,2.598076211353316,3.4641016151377544,4.330127018922193,5.196152422706632,6.06217782649107,6.928203230275509,7.794228634059947,8.660254037844386,9.526279441628825,10.392304845413264,11.258330249197702,12.12435565298214,12.990381056766578,0.0,0.8660254037844386,1.7320508075688772,2.598076211353316,3.4641016151377544,4.330127018922193,5.196152422706632,6.06217782649107,6.928203230275509,7.794228634059947,8.660254037844386,9.526279441628825,10.392304845413264,11.258330249197702,12.12435565298214,12.990381056766578,0.8660254037844386,1.7320508075688772,2.598076211353316,3.4641016151377544,4.330127018922193,5.196152422706632,6.06217782649107,6.928203230275509,7.794228634059947,8.660254037844386,9.526279441628825,10.392304845413264,11.258330249197702,12.12435565298214,12.990381056766578]},{\"hoverinfo\":\"none\",\"line\":{\"color\":\"rgb(156, 23, 158)\",\"width\":1.122461926857865},\"mode\":\"lines\",\"type\":\"scatter\",\"x\":[0.5,0.0,null],\"y\":[0.0,0.8660254037844386,null]},{\"hoverinfo\":\"none\",\"line\":{\"color\":\"rgb(156, 23, 158)\",\"width\":1.1224619268606013},\"mode\":\"lines\",\"type\":\"scatter\",\"x\":[0.5,1.5,null],\"y\":[0.0,0.0,null]},{\"hoverinfo\":\"none\",\"line\":{\"color\":\"rgb(13, 8, 135)\",\"width\":4.644858017554543e-05},\"mode\":\"lines\",\"type\":\"scatter\",\"x\":[0.0,0.5,null],\"y\":[0.8660254037844386,1.7320508075688772,null]},{\"hoverinfo\":\"none\",\"line\":{\"color\":\"rgb(156, 23, 158)\",\"width\":1.1224618126752335},\"mode\":\"lines\",\"type\":\"scatter\",\"x\":[0.5,0.0,null],\"y\":[1.7320508075688772,2.598076211353316,null]},{\"hoverinfo\":\"none\",\"line\":{\"color\":\"rgb(156, 23, 158)\",\"width\":1.1224619347883682},\"mode\":\"lines\",\"type\":\"scatter\",\"x\":[0.5,1.5,null],\"y\":[1.7320508075688772,1.7320508075688772,null]},{\"hoverinfo\":\"none\",\"line\":{\"color\":\"rgb(13, 8, 135)\",\"width\":5.367681193433859e-05},\"mode\":\"lines\",\"type\":\"scatter\",\"x\":[0.0,0.5,null],\"y\":[2.598076211353316,3.4641016151377544,null]},{\"hoverinfo\":\"none\",\"line\":{\"color\":\"rgb(13, 8, 135)\",\"width\":6.932435670193108e-05},\"mode\":\"lines\",\"type\":\"scatter\",\"x\":[0.5,0.0,null],\"y\":[3.4641016151377544,4.330127018922193,null]},{\"hoverinfo\":\"none\",\"line\":{\"color\":\"rgb(13, 8, 135)\",\"width\":7.86781325723064e-05},\"mode\":\"lines\",\"type\":\"scatter\",\"x\":[0.5,1.5,null],\"y\":[3.4641016151377544,3.4641016151377544,null]},{\"hoverinfo\":\"none\",\"line\":{\"color\":\"rgb(156, 23, 158)\",\"width\":1.122461581017808},\"mode\":\"lines\",\"type\":\"scatter\",\"x\":[0.0,0.5,null],\"y\":[4.330127018922193,5.196152422706632,null]},{\"hoverinfo\":\"none\",\"line\":{\"color\":\"rgb(156, 23, 158)\",\"width\":1.1224620429811933},\"mode\":\"lines\",\"type\":\"scatter\",\"x\":[0.5,0.0,null],\"y\":[5.196152422706632,6.06217782649107,null]},{\"hoverinfo\":\"none\",\"line\":{\"color\":\"rgb(237, 121, 83)\",\"width\":1.4142132657517792},\"mode\":\"lines\",\"type\":\"scatter\",\"x\":[0.5,1.5,null],\"y\":[5.196152422706632,5.196152422706632,null]},{\"hoverinfo\":\"none\",\"line\":{\"color\":\"rgb(13, 8, 135)\",\"width\":2.6446800747727955e-05},\"mode\":\"lines\",\"type\":\"scatter\",\"x\":[0.0,0.5,null],\"y\":[6.06217782649107,6.928203230275509,null]},{\"hoverinfo\":\"none\",\"line\":{\"color\":\"rgb(156, 23, 158)\",\"width\":1.1223062608394083},\"mode\":\"lines\",\"type\":\"scatter\",\"x\":[0.5,0.0,null],\"y\":[6.928203230275509,7.794228634059947,null]},{\"hoverinfo\":\"none\",\"line\":{\"color\":\"rgb(156, 23, 158)\",\"width\":1.1223062674195443},\"mode\":\"lines\",\"type\":\"scatter\",\"x\":[0.5,1.5,null],\"y\":[6.928203230275509,6.928203230275509,null]},{\"hoverinfo\":\"none\",\"line\":{\"color\":\"rgb(13, 8, 135)\",\"width\":0.00034697711025691405},\"mode\":\"lines\",\"type\":\"scatter\",\"x\":[0.0,0.5,null],\"y\":[7.794228634059947,8.660254037844386,null]},{\"hoverinfo\":\"none\",\"line\":{\"color\":\"rgb(13, 8, 135)\",\"width\":3.12722570774068e-05},\"mode\":\"lines\",\"type\":\"scatter\",\"x\":[0.5,0.0,null],\"y\":[8.660254037844386,9.526279441628825,null]},{\"hoverinfo\":\"none\",\"line\":{\"color\":\"rgb(13, 8, 135)\",\"width\":0.00034696927510465616},\"mode\":\"lines\",\"type\":\"scatter\",\"x\":[0.5,1.5,null],\"y\":[8.660254037844386,8.660254037844386,null]},{\"hoverinfo\":\"none\",\"line\":{\"color\":\"rgb(156, 23, 158)\",\"width\":1.1224620481294132},\"mode\":\"lines\",\"type\":\"scatter\",\"x\":[0.0,0.5,null],\"y\":[9.526279441628825,10.392304845413264,null]},{\"hoverinfo\":\"none\",\"line\":{\"color\":\"rgb(156, 23, 158)\",\"width\":1.1224608803350686},\"mode\":\"lines\",\"type\":\"scatter\",\"x\":[0.5,0.0,null],\"y\":[10.392304845413264,11.258330249197702,null]},{\"hoverinfo\":\"none\",\"line\":{\"color\":\"rgb(237, 121, 83)\",\"width\":1.4142128356391244},\"mode\":\"lines\",\"type\":\"scatter\",\"x\":[0.5,1.5,null],\"y\":[10.392304845413264,10.392304845413264,null]},{\"hoverinfo\":\"none\",\"line\":{\"color\":\"rgb(13, 8, 135)\",\"width\":8.983402501580603e-05},\"mode\":\"lines\",\"type\":\"scatter\",\"x\":[0.0,0.5,null],\"y\":[11.258330249197702,12.12435565298214,null]},{\"hoverinfo\":\"none\",\"line\":{\"color\":\"rgb(13, 8, 135)\",\"width\":8.983339279517672e-05},\"mode\":\"lines\",\"type\":\"scatter\",\"x\":[0.5,1.5,null],\"y\":[12.12435565298214,12.12435565298214,null]},{\"hoverinfo\":\"none\",\"line\":{\"color\":\"rgb(156, 23, 158)\",\"width\":1.1224619268616423},\"mode\":\"lines\",\"type\":\"scatter\",\"x\":[1.5,2.0,null],\"y\":[0.0,0.8660254037844386,null]},{\"hoverinfo\":\"none\",\"line\":{\"color\":\"rgb(156, 23, 158)\",\"width\":1.1224615739522956},\"mode\":\"lines\",\"type\":\"scatter\",\"x\":[2.0,1.5,null],\"y\":[0.8660254037844386,1.7320508075688772,null]},{\"hoverinfo\":\"none\",\"line\":{\"color\":\"rgb(237, 121, 83)\",\"width\":1.414213187833199},\"mode\":\"lines\",\"type\":\"scatter\",\"x\":[2.0,3.0,null],\"y\":[0.8660254037844386,0.8660254037844386,null]},{\"hoverinfo\":\"none\",\"line\":{\"color\":\"rgb(13, 8, 135)\",\"width\":6.38445030004554e-05},\"mode\":\"lines\",\"type\":\"scatter\",\"x\":[1.5,2.0,null],\"y\":[1.7320508075688772,2.598076211353316,null]},{\"hoverinfo\":\"none\",\"line\":{\"color\":\"rgb(13, 8, 135)\",\"width\":6.998320186321799e-05},\"mode\":\"lines\",\"type\":\"scatter\",\"x\":[2.0,1.5,null],\"y\":[2.598076211353316,3.4641016151377544,null]},{\"hoverinfo\":\"none\",\"line\":{\"color\":\"rgb(13, 8, 135)\",\"width\":8.444913690403094e-05},\"mode\":\"lines\",\"type\":\"scatter\",\"x\":[2.0,3.0,null],\"y\":[2.598076211353316,2.598076211353316,null]},{\"hoverinfo\":\"none\",\"line\":{\"color\":\"rgb(13, 8, 135)\",\"width\":5.262354005383175e-05},\"mode\":\"lines\",\"type\":\"scatter\",\"x\":[1.5,2.0,null],\"y\":[3.4641016151377544,4.330127018922193,null]},{\"hoverinfo\":\"none\",\"line\":{\"color\":\"rgb(13, 8, 135)\",\"width\":4.229426688429367e-05},\"mode\":\"lines\",\"type\":\"scatter\",\"x\":[2.0,1.5,null],\"y\":[4.330127018922193,5.196152422706632,null]},{\"hoverinfo\":\"none\",\"line\":{\"color\":\"rgb(13, 8, 135)\",\"width\":6.0207704888425334e-05},\"mode\":\"lines\",\"type\":\"scatter\",\"x\":[2.0,3.0,null],\"y\":[4.330127018922193,4.330127018922193,null]},{\"hoverinfo\":\"none\",\"line\":{\"color\":\"rgb(237, 121, 83)\",\"width\":1.4142132224001982},\"mode\":\"lines\",\"type\":\"scatter\",\"x\":[1.5,2.0,null],\"y\":[5.196152422706632,6.06217782649107,null]},{\"hoverinfo\":\"none\",\"line\":{\"color\":\"rgb(156, 23, 158)\",\"width\":1.1223061680042494},\"mode\":\"lines\",\"type\":\"scatter\",\"x\":[2.0,1.5,null],\"y\":[6.06217782649107,6.928203230275509,null]},{\"hoverinfo\":\"none\",\"line\":{\"color\":\"rgb(240, 249, 33)\",\"width\":1.6187943023922513},\"mode\":\"lines\",\"type\":\"scatter\",\"x\":[2.0,3.0,null],\"y\":[6.06217782649107,6.06217782649107,null]},{\"hoverinfo\":\"none\",\"line\":{\"color\":\"rgb(13, 8, 135)\",\"width\":4.333641488886423e-05},\"mode\":\"lines\",\"type\":\"scatter\",\"x\":[1.5,2.0,null],\"y\":[6.928203230275509,7.794228634059947,null]},{\"hoverinfo\":\"none\",\"line\":{\"color\":\"rgb(13, 8, 135)\",\"width\":7.902852691839591e-05},\"mode\":\"lines\",\"type\":\"scatter\",\"x\":[2.0,1.5,null],\"y\":[7.794228634059947,8.660254037844386,null]},{\"hoverinfo\":\"none\",\"line\":{\"color\":\"rgb(13, 8, 135)\",\"width\":8.286221596765783e-05},\"mode\":\"lines\",\"type\":\"scatter\",\"x\":[2.0,3.0,null],\"y\":[7.794228634059947,7.794228634059947,null]},{\"hoverinfo\":\"none\",\"line\":{\"color\":\"rgb(13, 8, 135)\",\"width\":0.0003462725775979272},\"mode\":\"lines\",\"type\":\"scatter\",\"x\":[1.5,2.0,null],\"y\":[8.660254037844386,9.526279441628825,null]},{\"hoverinfo\":\"none\",\"line\":{\"color\":\"rgb(13, 8, 135)\",\"width\":0.00011888536569279444},\"mode\":\"lines\",\"type\":\"scatter\",\"x\":[2.0,1.5,null],\"y\":[9.526279441628825,10.392304845413264,null]},{\"hoverinfo\":\"none\",\"line\":{\"color\":\"rgb(13, 8, 135)\",\"width\":0.0003472540675086269},\"mode\":\"lines\",\"type\":\"scatter\",\"x\":[2.0,3.0,null],\"y\":[9.526279441628825,9.526279441628825,null]},{\"hoverinfo\":\"none\",\"line\":{\"color\":\"rgb(237, 121, 83)\",\"width\":1.4142127243911242},\"mode\":\"lines\",\"type\":\"scatter\",\"x\":[1.5,2.0,null],\"y\":[10.392304845413264,11.258330249197702,null]},{\"hoverinfo\":\"none\",\"line\":{\"color\":\"rgb(13, 8, 135)\",\"width\":7.2717892566668e-05},\"mode\":\"lines\",\"type\":\"scatter\",\"x\":[2.0,1.5,null],\"y\":[11.258330249197702,12.12435565298214,null]},{\"hoverinfo\":\"none\",\"line\":{\"color\":\"rgb(237, 121, 83)\",\"width\":1.4142131609871411},\"mode\":\"lines\",\"type\":\"scatter\",\"x\":[2.0,3.0,null],\"y\":[11.258330249197702,11.258330249197702,null]},{\"hoverinfo\":\"none\",\"line\":{\"color\":\"rgb(13, 8, 135)\",\"width\":6.993170728710209e-05},\"mode\":\"lines\",\"type\":\"scatter\",\"x\":[1.5,2.0,null],\"y\":[12.12435565298214,12.990381056766578,null]},{\"hoverinfo\":\"none\",\"line\":{\"color\":\"rgb(13, 8, 135)\",\"width\":6.99304594437922e-05},\"mode\":\"lines\",\"type\":\"scatter\",\"x\":[2.0,3.0,null],\"y\":[12.990381056766578,12.990381056766578,null]},{\"hoverinfo\":\"none\",\"line\":{\"color\":\"rgb(237, 121, 83)\",\"width\":1.4142131708348742},\"mode\":\"lines\",\"type\":\"scatter\",\"x\":[3.5,3.0,null],\"y\":[0.0,0.8660254037844386,null]},{\"hoverinfo\":\"none\",\"line\":{\"color\":\"rgb(237, 121, 83)\",\"width\":1.4142131708346712},\"mode\":\"lines\",\"type\":\"scatter\",\"x\":[3.5,4.5,null],\"y\":[0.0,0.0,null]},{\"hoverinfo\":\"none\",\"line\":{\"color\":\"rgb(13, 8, 135)\",\"width\":3.3610609024479995e-05},\"mode\":\"lines\",\"type\":\"scatter\",\"x\":[3.0,3.5,null],\"y\":[0.8660254037844386,1.7320508075688772,null]},{\"hoverinfo\":\"none\",\"line\":{\"color\":\"rgb(13, 8, 135)\",\"width\":5.429385446326592e-05},\"mode\":\"lines\",\"type\":\"scatter\",\"x\":[3.5,3.0,null],\"y\":[1.7320508075688772,2.598076211353316,null]},{\"hoverinfo\":\"none\",\"line\":{\"color\":\"rgb(13, 8, 135)\",\"width\":5.782015197555029e-05},\"mode\":\"lines\",\"type\":\"scatter\",\"x\":[3.5,4.5,null],\"y\":[1.7320508075688772,1.7320508075688772,null]},{\"hoverinfo\":\"none\",\"line\":{\"color\":\"rgb(13, 8, 135)\",\"width\":7.632234168078622e-05},\"mode\":\"lines\",\"type\":\"scatter\",\"x\":[3.0,3.5,null],\"y\":[2.598076211353316,3.4641016151377544,null]},{\"hoverinfo\":\"none\",\"line\":{\"color\":\"rgb(13, 8, 135)\",\"width\":3.5307299237046965e-05},\"mode\":\"lines\",\"type\":\"scatter\",\"x\":[3.5,3.0,null],\"y\":[3.4641016151377544,4.330127018922193,null]},{\"hoverinfo\":\"none\",\"line\":{\"color\":\"rgb(13, 8, 135)\",\"width\":7.832693630423497e-05},\"mode\":\"lines\",\"type\":\"scatter\",\"x\":[3.5,4.5,null],\"y\":[3.4641016151377544,3.4641016151377544,null]},{\"hoverinfo\":\"none\",\"line\":{\"color\":\"rgb(13, 8, 135)\",\"width\":5.622738405577739e-05},\"mode\":\"lines\",\"type\":\"scatter\",\"x\":[3.0,3.5,null],\"y\":[4.330127018922193,5.196152422706632,null]},{\"hoverinfo\":\"none\",\"line\":{\"color\":\"rgb(237, 121, 83)\",\"width\":1.4142137989290857},\"mode\":\"lines\",\"type\":\"scatter\",\"x\":[3.5,3.0,null],\"y\":[5.196152422706632,6.06217782649107,null]},{\"hoverinfo\":\"none\",\"line\":{\"color\":\"rgb(237, 121, 83)\",\"width\":1.4142139369327422},\"mode\":\"lines\",\"type\":\"scatter\",\"x\":[3.5,4.5,null],\"y\":[5.196152422706632,5.196152422706632,null]},{\"hoverinfo\":\"none\",\"line\":{\"color\":\"rgb(156, 23, 158)\",\"width\":1.122305155733596},\"mode\":\"lines\",\"type\":\"scatter\",\"x\":[3.0,3.5,null],\"y\":[6.06217782649107,6.928203230275509,null]},{\"hoverinfo\":\"none\",\"line\":{\"color\":\"rgb(13, 8, 135)\",\"width\":7.071764323992655e-05},\"mode\":\"lines\",\"type\":\"scatter\",\"x\":[3.5,3.0,null],\"y\":[6.928203230275509,7.794228634059947,null]},{\"hoverinfo\":\"none\",\"line\":{\"color\":\"rgb(156, 23, 158)\",\"width\":1.1223059283142423},\"mode\":\"lines\",\"type\":\"scatter\",\"x\":[3.5,4.5,null],\"y\":[6.928203230275509,6.928203230275509,null]},{\"hoverinfo\":\"none\",\"line\":{\"color\":\"rgb(13, 8, 135)\",\"width\":6.051450448152445e-05},\"mode\":\"lines\",\"type\":\"scatter\",\"x\":[3.0,3.5,null],\"y\":[7.794228634059947,8.660254037844386,null]},{\"hoverinfo\":\"none\",\"line\":{\"color\":\"rgb(13, 8, 135)\",\"width\":0.00034657315093959283},\"mode\":\"lines\",\"type\":\"scatter\",\"x\":[3.5,3.0,null],\"y\":[8.660254037844386,9.526279441628825,null]},{\"hoverinfo\":\"none\",\"line\":{\"color\":\"rgb(13, 8, 135)\",\"width\":0.0003469056914433999},\"mode\":\"lines\",\"type\":\"scatter\",\"x\":[3.5,4.5,null],\"y\":[8.660254037844386,8.660254037844386,null]},{\"hoverinfo\":\"none\",\"line\":{\"color\":\"rgb(13, 8, 135)\",\"width\":7.623257296243754e-05},\"mode\":\"lines\",\"type\":\"scatter\",\"x\":[3.0,3.5,null],\"y\":[9.526279441628825,10.392304845413264,null]},{\"hoverinfo\":\"none\",\"line\":{\"color\":\"rgb(237, 121, 83)\",\"width\":1.4142129891656798},\"mode\":\"lines\",\"type\":\"scatter\",\"x\":[3.5,3.0,null],\"y\":[10.392304845413264,11.258330249197702,null]},{\"hoverinfo\":\"none\",\"line\":{\"color\":\"rgb(237, 121, 83)\",\"width\":1.4142135738105361},\"mode\":\"lines\",\"type\":\"scatter\",\"x\":[3.5,4.5,null],\"y\":[10.392304845413264,10.392304845413264,null]},{\"hoverinfo\":\"none\",\"line\":{\"color\":\"rgb(13, 8, 135)\",\"width\":5.788211041840272e-05},\"mode\":\"lines\",\"type\":\"scatter\",\"x\":[3.0,3.5,null],\"y\":[11.258330249197702,12.12435565298214,null]},{\"hoverinfo\":\"none\",\"line\":{\"color\":\"rgb(13, 8, 135)\",\"width\":6.993150204948157e-05},\"mode\":\"lines\",\"type\":\"scatter\",\"x\":[3.5,3.0,null],\"y\":[12.12435565298214,12.990381056766578,null]},{\"hoverinfo\":\"none\",\"line\":{\"color\":\"rgb(13, 8, 135)\",\"width\":8.114512335988634e-05},\"mode\":\"lines\",\"type\":\"scatter\",\"x\":[3.5,4.5,null],\"y\":[12.12435565298214,12.12435565298214,null]},{\"hoverinfo\":\"none\",\"line\":{\"color\":\"rgb(237, 121, 83)\",\"width\":1.4142131708336194},\"mode\":\"lines\",\"type\":\"scatter\",\"x\":[4.5,5.0,null],\"y\":[0.0,0.8660254037844386,null]},{\"hoverinfo\":\"none\",\"line\":{\"color\":\"rgb(13, 8, 135)\",\"width\":3.877837908052767e-05},\"mode\":\"lines\",\"type\":\"scatter\",\"x\":[5.0,4.5,null],\"y\":[0.8660254037844386,1.7320508075688772,null]},{\"hoverinfo\":\"none\",\"line\":{\"color\":\"rgb(237, 121, 83)\",\"width\":1.4142132090170891},\"mode\":\"lines\",\"type\":\"scatter\",\"x\":[5.0,6.0,null],\"y\":[0.8660254037844386,0.8660254037844386,null]},{\"hoverinfo\":\"none\",\"line\":{\"color\":\"rgb(13, 8, 135)\",\"width\":5.1395410899893014e-05},\"mode\":\"lines\",\"type\":\"scatter\",\"x\":[4.5,5.0,null],\"y\":[1.7320508075688772,2.598076211353316,null]},{\"hoverinfo\":\"none\",\"line\":{\"color\":\"rgb(13, 8, 135)\",\"width\":6.59898981591111e-05},\"mode\":\"lines\",\"type\":\"scatter\",\"x\":[5.0,4.5,null],\"y\":[2.598076211353316,3.4641016151377544,null]},{\"hoverinfo\":\"none\",\"line\":{\"color\":\"rgb(13, 8, 135)\",\"width\":7.490140243490206e-05},\"mode\":\"lines\",\"type\":\"scatter\",\"x\":[5.0,6.0,null],\"y\":[2.598076211353316,2.598076211353316,null]},{\"hoverinfo\":\"none\",\"line\":{\"color\":\"rgb(13, 8, 135)\",\"width\":5.795091363669424e-05},\"mode\":\"lines\",\"type\":\"scatter\",\"x\":[4.5,5.0,null],\"y\":[3.4641016151377544,4.330127018922193,null]},{\"hoverinfo\":\"none\",\"line\":{\"color\":\"rgb(237, 121, 83)\",\"width\":1.414213389868356},\"mode\":\"lines\",\"type\":\"scatter\",\"x\":[5.0,4.5,null],\"y\":[4.330127018922193,5.196152422706632,null]},{\"hoverinfo\":\"none\",\"line\":{\"color\":\"rgb(237, 121, 83)\",\"width\":1.414213553579482},\"mode\":\"lines\",\"type\":\"scatter\",\"x\":[5.0,6.0,null],\"y\":[4.330127018922193,4.330127018922193,null]},{\"hoverinfo\":\"none\",\"line\":{\"color\":\"rgb(13, 8, 135)\",\"width\":7.282261738897741e-05},\"mode\":\"lines\",\"type\":\"scatter\",\"x\":[4.5,5.0,null],\"y\":[5.196152422706632,6.06217782649107,null]},{\"hoverinfo\":\"none\",\"line\":{\"color\":\"rgb(13, 8, 135)\",\"width\":6.751335954676269e-05},\"mode\":\"lines\",\"type\":\"scatter\",\"x\":[5.0,4.5,null],\"y\":[6.06217782649107,6.928203230275509,null]},{\"hoverinfo\":\"none\",\"line\":{\"color\":\"rgb(13, 8, 135)\",\"width\":8.778787862953747e-05},\"mode\":\"lines\",\"type\":\"scatter\",\"x\":[5.0,6.0,null],\"y\":[6.06217782649107,6.06217782649107,null]},{\"hoverinfo\":\"none\",\"line\":{\"color\":\"rgb(156, 23, 158)\",\"width\":1.1223054228051161},\"mode\":\"lines\",\"type\":\"scatter\",\"x\":[4.5,5.0,null],\"y\":[6.928203230275509,7.794228634059947,null]},{\"hoverinfo\":\"none\",\"line\":{\"color\":\"rgb(13, 8, 135)\",\"width\":2.4999526436548175e-05},\"mode\":\"lines\",\"type\":\"scatter\",\"x\":[5.0,4.5,null],\"y\":[7.794228634059947,8.660254037844386,null]},{\"hoverinfo\":\"none\",\"line\":{\"color\":\"rgb(156, 23, 158)\",\"width\":1.1223054430598527},\"mode\":\"lines\",\"type\":\"scatter\",\"x\":[5.0,6.0,null],\"y\":[7.794228634059947,7.794228634059947,null]},{\"hoverinfo\":\"none\",\"line\":{\"color\":\"rgb(13, 8, 135)\",\"width\":0.00034689918065643975},\"mode\":\"lines\",\"type\":\"scatter\",\"x\":[4.5,5.0,null],\"y\":[8.660254037844386,9.526279441628825,null]},{\"hoverinfo\":\"none\",\"line\":{\"color\":\"rgb(13, 8, 135)\",\"width\":7.8582525518217e-05},\"mode\":\"lines\",\"type\":\"scatter\",\"x\":[5.0,4.5,null],\"y\":[9.526279441628825,10.392304845413264,null]},{\"hoverinfo\":\"none\",\"line\":{\"color\":\"rgb(13, 8, 135)\",\"width\":0.00034774756327043006},\"mode\":\"lines\",\"type\":\"scatter\",\"x\":[5.0,6.0,null],\"y\":[9.526279441628825,9.526279441628825,null]},{\"hoverinfo\":\"none\",\"line\":{\"color\":\"rgb(237, 121, 83)\",\"width\":1.4142129641081087},\"mode\":\"lines\",\"type\":\"scatter\",\"x\":[4.5,5.0,null],\"y\":[10.392304845413264,11.258330249197702,null]},{\"hoverinfo\":\"none\",\"line\":{\"color\":\"rgb(13, 8, 135)\",\"width\":4.161994787499023e-05},\"mode\":\"lines\",\"type\":\"scatter\",\"x\":[5.0,4.5,null],\"y\":[11.258330249197702,12.12435565298214,null]},{\"hoverinfo\":\"none\",\"line\":{\"color\":\"rgb(237, 121, 83)\",\"width\":1.4142130155615606},\"mode\":\"lines\",\"type\":\"scatter\",\"x\":[5.0,6.0,null],\"y\":[11.258330249197702,11.258330249197702,null]},{\"hoverinfo\":\"none\",\"line\":{\"color\":\"rgb(13, 8, 135)\",\"width\":7.77225447705639e-05},\"mode\":\"lines\",\"type\":\"scatter\",\"x\":[4.5,5.0,null],\"y\":[12.12435565298214,12.990381056766578,null]},{\"hoverinfo\":\"none\",\"line\":{\"color\":\"rgb(13, 8, 135)\",\"width\":7.772220150219354e-05},\"mode\":\"lines\",\"type\":\"scatter\",\"x\":[5.0,6.0,null],\"y\":[12.990381056766578,12.990381056766578,null]},{\"hoverinfo\":\"none\",\"line\":{\"color\":\"rgb(156, 23, 158)\",\"width\":1.1224606900075016},\"mode\":\"lines\",\"type\":\"scatter\",\"x\":[6.5,6.0,null],\"y\":[0.0,0.8660254037844386,null]},{\"hoverinfo\":\"none\",\"line\":{\"color\":\"rgb(156, 23, 158)\",\"width\":1.1224606900057492},\"mode\":\"lines\",\"type\":\"scatter\",\"x\":[6.5,7.5,null],\"y\":[0.0,0.0,null]},{\"hoverinfo\":\"none\",\"line\":{\"color\":\"rgb(156, 23, 158)\",\"width\":1.1224628486999357},\"mode\":\"lines\",\"type\":\"scatter\",\"x\":[6.0,6.5,null],\"y\":[0.8660254037844386,1.7320508075688772,null]},{\"hoverinfo\":\"none\",\"line\":{\"color\":\"rgb(13, 8, 135)\",\"width\":6.449497902139772e-05},\"mode\":\"lines\",\"type\":\"scatter\",\"x\":[6.5,6.0,null],\"y\":[1.7320508075688772,2.598076211353316,null]},{\"hoverinfo\":\"none\",\"line\":{\"color\":\"rgb(156, 23, 158)\",\"width\":1.1224632513448438},\"mode\":\"lines\",\"type\":\"scatter\",\"x\":[6.5,7.5,null],\"y\":[1.7320508075688772,1.7320508075688772,null]},{\"hoverinfo\":\"none\",\"line\":{\"color\":\"rgb(13, 8, 135)\",\"width\":5.3684094509693775e-05},\"mode\":\"lines\",\"type\":\"scatter\",\"x\":[6.0,6.5,null],\"y\":[2.598076211353316,3.4641016151377544,null]},{\"hoverinfo\":\"none\",\"line\":{\"color\":\"rgb(156, 23, 158)\",\"width\":1.122461875437588},\"mode\":\"lines\",\"type\":\"scatter\",\"x\":[6.5,6.0,null],\"y\":[3.4641016151377544,4.330127018922193,null]},{\"hoverinfo\":\"none\",\"line\":{\"color\":\"rgb(156, 23, 158)\",\"width\":1.1224620728850874},\"mode\":\"lines\",\"type\":\"scatter\",\"x\":[6.5,7.5,null],\"y\":[3.4641016151377544,3.4641016151377544,null]},{\"hoverinfo\":\"none\",\"line\":{\"color\":\"rgb(156, 23, 158)\",\"width\":1.1224622039936798},\"mode\":\"lines\",\"type\":\"scatter\",\"x\":[6.0,6.5,null],\"y\":[4.330127018922193,5.196152422706632,null]},{\"hoverinfo\":\"none\",\"line\":{\"color\":\"rgb(13, 8, 135)\",\"width\":4.044075605838408e-05},\"mode\":\"lines\",\"type\":\"scatter\",\"x\":[6.5,6.0,null],\"y\":[5.196152422706632,6.06217782649107,null]},{\"hoverinfo\":\"none\",\"line\":{\"color\":\"rgb(156, 23, 158)\",\"width\":1.1224621979250433},\"mode\":\"lines\",\"type\":\"scatter\",\"x\":[6.5,7.5,null],\"y\":[5.196152422706632,5.196152422706632,null]},{\"hoverinfo\":\"none\",\"line\":{\"color\":\"rgb(13, 8, 135)\",\"width\":8.840802014766594e-05},\"mode\":\"lines\",\"type\":\"scatter\",\"x\":[6.0,6.5,null],\"y\":[6.06217782649107,6.928203230275509,null]},{\"hoverinfo\":\"none\",\"line\":{\"color\":\"rgb(156, 23, 158)\",\"width\":1.1223042251340267},\"mode\":\"lines\",\"type\":\"scatter\",\"x\":[6.5,6.0,null],\"y\":[6.928203230275509,7.794228634059947,null]},{\"hoverinfo\":\"none\",\"line\":{\"color\":\"rgb(156, 23, 158)\",\"width\":1.1223057037698922},\"mode\":\"lines\",\"type\":\"scatter\",\"x\":[6.5,7.5,null],\"y\":[6.928203230275509,6.928203230275509,null]},{\"hoverinfo\":\"none\",\"line\":{\"color\":\"rgb(13, 8, 135)\",\"width\":8.320272051165298e-05},\"mode\":\"lines\",\"type\":\"scatter\",\"x\":[6.0,6.5,null],\"y\":[7.794228634059947,8.660254037844386,null]},{\"hoverinfo\":\"none\",\"line\":{\"color\":\"rgb(13, 8, 135)\",\"width\":0.0003477285465080629},\"mode\":\"lines\",\"type\":\"scatter\",\"x\":[6.5,6.0,null],\"y\":[8.660254037844386,9.526279441628825,null]},{\"hoverinfo\":\"none\",\"line\":{\"color\":\"rgb(13, 8, 135)\",\"width\":0.0003487474264841518},\"mode\":\"lines\",\"type\":\"scatter\",\"x\":[6.5,7.5,null],\"y\":[8.660254037844386,8.660254037844386,null]},{\"hoverinfo\":\"none\",\"line\":{\"color\":\"rgb(13, 8, 135)\",\"width\":3.9920282156564766e-05},\"mode\":\"lines\",\"type\":\"scatter\",\"x\":[6.0,6.5,null],\"y\":[9.526279441628825,10.392304845413264,null]},{\"hoverinfo\":\"none\",\"line\":{\"color\":\"rgb(13, 8, 135)\",\"width\":0.00013273976042092162},\"mode\":\"lines\",\"type\":\"scatter\",\"x\":[6.5,6.0,null],\"y\":[10.392304845413264,11.258330249197702,null]},{\"hoverinfo\":\"none\",\"line\":{\"color\":\"rgb(13, 8, 135)\",\"width\":0.0001331440089970616},\"mode\":\"lines\",\"type\":\"scatter\",\"x\":[6.5,7.5,null],\"y\":[10.392304845413264,10.392304845413264,null]},{\"hoverinfo\":\"none\",\"line\":{\"color\":\"rgb(237, 121, 83)\",\"width\":1.4142094159598},\"mode\":\"lines\",\"type\":\"scatter\",\"x\":[6.0,6.5,null],\"y\":[11.258330249197702,12.12435565298214,null]},{\"hoverinfo\":\"none\",\"line\":{\"color\":\"rgb(13, 8, 135)\",\"width\":7.772205608364695e-05},\"mode\":\"lines\",\"type\":\"scatter\",\"x\":[6.5,6.0,null],\"y\":[12.12435565298214,12.990381056766578,null]},{\"hoverinfo\":\"none\",\"line\":{\"color\":\"rgb(237, 121, 83)\",\"width\":1.4142099241609025},\"mode\":\"lines\",\"type\":\"scatter\",\"x\":[6.5,7.5,null],\"y\":[12.12435565298214,12.12435565298214,null]},{\"hoverinfo\":\"none\",\"line\":{\"color\":\"rgb(156, 23, 158)\",\"width\":1.1224606900063685},\"mode\":\"lines\",\"type\":\"scatter\",\"x\":[7.5,8.0,null],\"y\":[0.0,0.8660254037844386,null]},{\"hoverinfo\":\"none\",\"line\":{\"color\":\"rgb(13, 8, 135)\",\"width\":9.009112452349402e-05},\"mode\":\"lines\",\"type\":\"scatter\",\"x\":[8.0,7.5,null],\"y\":[0.8660254037844386,1.7320508075688772,null]},{\"hoverinfo\":\"none\",\"line\":{\"color\":\"rgb(156, 23, 158)\",\"width\":1.1224620086224604},\"mode\":\"lines\",\"type\":\"scatter\",\"x\":[8.0,9.0,null],\"y\":[0.8660254037844386,0.8660254037844386,null]},{\"hoverinfo\":\"none\",\"line\":{\"color\":\"rgb(156, 23, 158)\",\"width\":1.1224619403060279},\"mode\":\"lines\",\"type\":\"scatter\",\"x\":[7.5,8.0,null],\"y\":[1.7320508075688772,2.598076211353316,null]},{\"hoverinfo\":\"none\",\"line\":{\"color\":\"rgb(13, 8, 135)\",\"width\":3.8991747448088354e-05},\"mode\":\"lines\",\"type\":\"scatter\",\"x\":[8.0,7.5,null],\"y\":[2.598076211353316,3.4641016151377544,null]},{\"hoverinfo\":\"none\",\"line\":{\"color\":\"rgb(156, 23, 158)\",\"width\":1.1224620085125105},\"mode\":\"lines\",\"type\":\"scatter\",\"x\":[8.0,9.0,null],\"y\":[2.598076211353316,2.598076211353316,null]},{\"hoverinfo\":\"none\",\"line\":{\"color\":\"rgb(156, 23, 158)\",\"width\":1.1224620046689104},\"mode\":\"lines\",\"type\":\"scatter\",\"x\":[7.5,8.0,null],\"y\":[3.4641016151377544,4.330127018922193,null]},{\"hoverinfo\":\"none\",\"line\":{\"color\":\"rgb(13, 8, 135)\",\"width\":4.367623762753457e-05},\"mode\":\"lines\",\"type\":\"scatter\",\"x\":[8.0,7.5,null],\"y\":[4.330127018922193,5.196152422706632,null]},{\"hoverinfo\":\"none\",\"line\":{\"color\":\"rgb(156, 23, 158)\",\"width\":1.1224621017682108},\"mode\":\"lines\",\"type\":\"scatter\",\"x\":[8.0,9.0,null],\"y\":[4.330127018922193,4.330127018922193,null]},{\"hoverinfo\":\"none\",\"line\":{\"color\":\"rgb(156, 23, 158)\",\"width\":1.1224621019852346},\"mode\":\"lines\",\"type\":\"scatter\",\"x\":[7.5,8.0,null],\"y\":[5.196152422706632,6.06217782649107,null]},{\"hoverinfo\":\"none\",\"line\":{\"color\":\"rgb(13, 8, 135)\",\"width\":2.7910963416050484e-05},\"mode\":\"lines\",\"type\":\"scatter\",\"x\":[8.0,7.5,null],\"y\":[6.06217782649107,6.928203230275509,null]},{\"hoverinfo\":\"none\",\"line\":{\"color\":\"rgb(156, 23, 158)\",\"width\":1.1224620947050077},\"mode\":\"lines\",\"type\":\"scatter\",\"x\":[8.0,9.0,null],\"y\":[6.06217782649107,6.06217782649107,null]},{\"hoverinfo\":\"none\",\"line\":{\"color\":\"rgb(156, 23, 158)\",\"width\":1.1223057111412336},\"mode\":\"lines\",\"type\":\"scatter\",\"x\":[7.5,8.0,null],\"y\":[6.928203230275509,7.794228634059947,null]},{\"hoverinfo\":\"none\",\"line\":{\"color\":\"rgb(13, 8, 135)\",\"width\":0.00034747310467099957},\"mode\":\"lines\",\"type\":\"scatter\",\"x\":[8.0,7.5,null],\"y\":[7.794228634059947,8.660254037844386,null]},{\"hoverinfo\":\"none\",\"line\":{\"color\":\"rgb(156, 23, 158)\",\"width\":1.1224619034635166},\"mode\":\"lines\",\"type\":\"scatter\",\"x\":[8.0,9.0,null],\"y\":[7.794228634059947,7.794228634059947,null]},{\"hoverinfo\":\"none\",\"line\":{\"color\":\"rgb(13, 8, 135)\",\"width\":0.00011999133148187165},\"mode\":\"lines\",\"type\":\"scatter\",\"x\":[7.5,8.0,null],\"y\":[8.660254037844386,9.526279441628825,null]},{\"hoverinfo\":\"none\",\"line\":{\"color\":\"rgb(13, 8, 135)\",\"width\":0.00013281446704627495},\"mode\":\"lines\",\"type\":\"scatter\",\"x\":[8.0,7.5,null],\"y\":[9.526279441628825,10.392304845413264,null]},{\"hoverinfo\":\"none\",\"line\":{\"color\":\"rgb(13, 8, 135)\",\"width\":0.0001558149496678062},\"mode\":\"lines\",\"type\":\"scatter\",\"x\":[8.0,9.0,null],\"y\":[9.526279441628825,9.526279441628825,null]},{\"hoverinfo\":\"none\",\"line\":{\"color\":\"rgb(13, 8, 135)\",\"width\":3.823114766949071e-05},\"mode\":\"lines\",\"type\":\"scatter\",\"x\":[7.5,8.0,null],\"y\":[10.392304845413264,11.258330249197702,null]},{\"hoverinfo\":\"none\",\"line\":{\"color\":\"rgb(237, 121, 83)\",\"width\":1.4142097508897593},\"mode\":\"lines\",\"type\":\"scatter\",\"x\":[8.0,7.5,null],\"y\":[11.258330249197702,12.12435565298214,null]},{\"hoverinfo\":\"none\",\"line\":{\"color\":\"rgb(237, 121, 83)\",\"width\":1.4142097749643103},\"mode\":\"lines\",\"type\":\"scatter\",\"x\":[8.0,9.0,null],\"y\":[11.258330249197702,11.258330249197702,null]},{\"hoverinfo\":\"none\",\"line\":{\"color\":\"rgb(13, 8, 135)\",\"width\":5.654172442808124e-05},\"mode\":\"lines\",\"type\":\"scatter\",\"x\":[7.5,8.0,null],\"y\":[12.12435565298214,12.990381056766578,null]},{\"hoverinfo\":\"none\",\"line\":{\"color\":\"rgb(13, 8, 135)\",\"width\":5.654163308471295e-05},\"mode\":\"lines\",\"type\":\"scatter\",\"x\":[8.0,9.0,null],\"y\":[12.990381056766578,12.990381056766578,null]},{\"hoverinfo\":\"none\",\"line\":{\"color\":\"rgb(156, 23, 158)\",\"width\":1.1224620086226027},\"mode\":\"lines\",\"type\":\"scatter\",\"x\":[9.0,9.5,null],\"y\":[0.8660254037844386,1.7320508075688772,null]},{\"hoverinfo\":\"none\",\"line\":{\"color\":\"rgb(13, 8, 135)\",\"width\":3.431111699077335e-05},\"mode\":\"lines\",\"type\":\"scatter\",\"x\":[9.5,9.0,null],\"y\":[1.7320508075688772,2.598076211353316,null]},{\"hoverinfo\":\"none\",\"line\":{\"color\":\"rgb(156, 23, 158)\",\"width\":1.1224619688248354},\"mode\":\"lines\",\"type\":\"scatter\",\"x\":[9.0,9.5,null],\"y\":[2.598076211353316,3.4641016151377544,null]},{\"hoverinfo\":\"none\",\"line\":{\"color\":\"rgb(13, 8, 135)\",\"width\":4.056355140134569e-05},\"mode\":\"lines\",\"type\":\"scatter\",\"x\":[9.5,9.0,null],\"y\":[3.4641016151377544,4.330127018922193,null]},{\"hoverinfo\":\"none\",\"line\":{\"color\":\"rgb(156, 23, 158)\",\"width\":1.1224620223964328},\"mode\":\"lines\",\"type\":\"scatter\",\"x\":[9.0,9.5,null],\"y\":[4.330127018922193,5.196152422706632,null]},{\"hoverinfo\":\"none\",\"line\":{\"color\":\"rgb(13, 8, 135)\",\"width\":3.065968423291494e-05},\"mode\":\"lines\",\"type\":\"scatter\",\"x\":[9.5,9.0,null],\"y\":[5.196152422706632,6.06217782649107,null]},{\"hoverinfo\":\"none\",\"line\":{\"color\":\"rgb(156, 23, 158)\",\"width\":1.1224620690260874},\"mode\":\"lines\",\"type\":\"scatter\",\"x\":[9.0,9.5,null],\"y\":[6.06217782649107,6.928203230275509,null]},{\"hoverinfo\":\"none\",\"line\":{\"color\":\"rgb(13, 8, 135)\",\"width\":3.49209413433224e-05},\"mode\":\"lines\",\"type\":\"scatter\",\"x\":[9.5,9.0,null],\"y\":[6.928203230275509,7.794228634059947,null]},{\"hoverinfo\":\"none\",\"line\":{\"color\":\"rgb(156, 23, 158)\",\"width\":1.1224619246019896},\"mode\":\"lines\",\"type\":\"scatter\",\"x\":[9.0,9.5,null],\"y\":[7.794228634059947,8.660254037844386,null]},{\"hoverinfo\":\"none\",\"line\":{\"color\":\"rgb(13, 8, 135)\",\"width\":4.003999476600957e-05},\"mode\":\"lines\",\"type\":\"scatter\",\"x\":[9.5,9.0,null],\"y\":[8.660254037844386,9.526279441628825,null]},{\"hoverinfo\":\"none\",\"line\":{\"color\":\"rgb(13, 8, 135)\",\"width\":0.000155061210470536},\"mode\":\"lines\",\"type\":\"scatter\",\"x\":[9.0,9.5,null],\"y\":[9.526279441628825,10.392304845413264,null]},{\"hoverinfo\":\"none\",\"line\":{\"color\":\"rgb(156, 23, 158)\",\"width\":1.1224558678966432},\"mode\":\"lines\",\"type\":\"scatter\",\"x\":[9.5,9.0,null],\"y\":[10.392304845413264,11.258330249197702,null]},{\"hoverinfo\":\"none\",\"line\":{\"color\":\"rgb(156, 23, 158)\",\"width\":1.1224618231447276},\"mode\":\"lines\",\"type\":\"scatter\",\"x\":[9.0,9.5,null],\"y\":[11.258330249197702,12.12435565298214,null]},{\"hoverinfo\":\"none\",\"line\":{\"color\":\"rgb(13, 8, 135)\",\"width\":5.6544791125978915e-05},\"mode\":\"lines\",\"type\":\"scatter\",\"x\":[9.5,9.0,null],\"y\":[12.12435565298214,12.990381056766578,null]},{\"hoverinfo\":\"text\",\"marker\":{\"color\":[0.9999586231886298,0.999958623188617,4.137681137224542e-05,0.9999818574241673,1.0000232342355198,1.8142575821654986e-05,0.0001007104489150208,0.000118853024748951,0.9998992895510925,0.9999487640510292,1.9998480536021017,5.123594896912438e-05,0.999772639346751,0.9998238752957186,0.00022736065326070109,8.260139763640808e-05,0.00030996205089884,0.9999173986023584,0.9998665083734422,1.9997839069758083,0.00013349162655992947,0.00013349162656231187,0.9999586231886121,0.9999531869599444,1.9999118101485416,7.004727556374263e-05,7.210626410817476e-05,0.00014215353967538831,4.674676064229826e-05,6.54196870537947e-05,0.00011216644770134672,1.999782633915061,0.9997873716091952,2.9995700055242294,3.650368653638504e-05,8.498849281310057e-05,0.00012149217934787017,0.00022497355808956333,0.00022344731753698902,0.0004484208756391229,1.9995604596582617,5.430382889973681e-05,1.9996147634871604,7.91877976624518e-05,7.91877976724759e-05,1.999864062671518,1.9998640626715187,4.7747477033804245e-05,5.131628544279503e-05,9.906376248089904e-05,9.083725421869865e-05,4.0691794365867465e-05,0.00013152904858397096,7.147465334115281e-05,1.9995736047027934,1.999645079356121,0.9999964008214806,9.379214157310769e-05,1.000090192963058,2.770003777195732e-05,0.00036678467245874195,0.00039448471024209096,8.163620318011676e-05,1.9995431989149293,1.9996248351181016,7.156457220959575e-05,7.918779767250734e-05,0.00015075236987560937,1.9998640626715298,4.298341344761852e-05,1.9999070460849782,5.6080349033085025e-05,5.808504710847733e-05,0.00011416539613934977,7.344400147265365e-05,1.9996266839979857,1.9997001279994695,1.8395358135531853e-05,8.765637448260431e-05,0.00010605173261797904,1.0000025365885803,3.7837386726074806e-05,1.0000403739753032,0.0003566473235149951,5.805204273790747e-05,0.00041469936625323134,1.9995667830753723,4.77609884882562e-05,1.9996145440638724,0.00010299138138609884,0.00010299138138530507,0.9998892179163061,0.9998892179163013,1.000017828168674,5.1475758095947506e-05,1.000069303926784,6.268963804519111e-05,0.9999125454874761,0.9999752351255253,0.9997875825119782,9.131564566624978e-05,0.9998788981576475,1.4736086952050729e-05,0.9999726662655667,0.9999874023525089,6.770770973518627e-05,0.00034693587563197295,0.00041464358536736045,6.776349062158886e-05,0.00010631002573427394,0.00017407351635580242,1.9995082340381423,0.00010299138138519712,1.9996112254195273,0.9998892179163061,8.022883376299844e-05,0.9999694467500824,0.9999890750929958,2.0328626614687058e-05,1.0000094037196188,0.9999549064989,3.8917977737566136e-05,0.9999938244766388,0.9998399801799122,8.322666567089154e-05,0.9999232068455806,0.9999041756868305,0.00023288681279854585,1.0001370624996264,0.00018175677256922868,9.251092668002893e-05,0.00027426769924954197,8.156258967611916e-05,1.9995411373317482,1.999622699921424,7.008808777570807e-05,7.008808777600979e-05,0.9999694467500836,3.055324991312955e-05,0.9999788504697015,2.1149530302820272e-05,0.9999726749463227,2.732505367782671e-05,0.9998958817919005,0.00010411820809637635,1.0000329442915445,3.2944291547214215e-05,0.0003072119907969769,0.9996927880091938,0.9999299119122222,7.008808777631125e-05],\"opacity\":0},\"mode\":\"markers\",\"text\":[\"label: (0, 1)<br>conductivity: 1.122461926857865<br>flow_rate: -0.9999586231886298<br>\",\"label: (0, 15)<br>conductivity: 1.1224619268606013<br>flow_rate: 0.999958623188617<br>\",\"label: (1, 2)<br>conductivity: 4.644858017554543e-05<br>flow_rate: 4.137681137224542e-05<br>\",\"label: (2, 3)<br>conductivity: 1.1224618126752335<br>flow_rate: -0.9999818574241673<br>\",\"label: (2, 17)<br>conductivity: 1.1224619347883682<br>flow_rate: 1.0000232342355198<br>\",\"label: (3, 4)<br>conductivity: 5.367681193433859e-05<br>flow_rate: 1.8142575821654986e-05<br>\",\"label: (4, 5)<br>conductivity: 6.932435670193108e-05<br>flow_rate: -0.0001007104489150208<br>\",\"label: (4, 19)<br>conductivity: 7.86781325723064e-05<br>flow_rate: 0.000118853024748951<br>\",\"label: (5, 6)<br>conductivity: 1.122461581017808<br>flow_rate: 0.9998992895510925<br>\",\"label: (6, 7)<br>conductivity: 1.1224620429811933<br>flow_rate: -0.9999487640510292<br>\",\"label: (6, 21)<br>conductivity: 1.4142132657517792<br>flow_rate: 1.9998480536021017<br>\",\"label: (7, 8)<br>conductivity: 2.6446800747727955e-05<br>flow_rate: 5.123594896912438e-05<br>\",\"label: (8, 9)<br>conductivity: 1.1223062608394083<br>flow_rate: -0.999772639346751<br>\",\"label: (8, 23)<br>conductivity: 1.1223062674195443<br>flow_rate: 0.9998238752957186<br>\",\"label: (9, 10)<br>conductivity: 0.00034697711025691405<br>flow_rate: 0.00022736065326070109<br>\",\"label: (10, 11)<br>conductivity: 3.12722570774068e-05<br>flow_rate: -8.260139763640808e-05<br>\",\"label: (10, 25)<br>conductivity: 0.00034696927510465616<br>flow_rate: 0.00030996205089884<br>\",\"label: (11, 12)<br>conductivity: 1.1224620481294132<br>flow_rate: 0.9999173986023584<br>\",\"label: (12, 13)<br>conductivity: 1.1224608803350686<br>flow_rate: -0.9998665083734422<br>\",\"label: (12, 27)<br>conductivity: 1.4142128356391244<br>flow_rate: 1.9997839069758083<br>\",\"label: (13, 14)<br>conductivity: 8.983402501580603e-05<br>flow_rate: 0.00013349162655992947<br>\",\"label: (14, 29)<br>conductivity: 8.983339279517672e-05<br>flow_rate: 0.00013349162656231187<br>\",\"label: (15, 16)<br>conductivity: 1.1224619268616423<br>flow_rate: 0.9999586231886121<br>\",\"label: (16, 17)<br>conductivity: 1.1224615739522956<br>flow_rate: -0.9999531869599444<br>\",\"label: (16, 32)<br>conductivity: 1.414213187833199<br>flow_rate: 1.9999118101485416<br>\",\"label: (17, 18)<br>conductivity: 6.38445030004554e-05<br>flow_rate: 7.004727556374263e-05<br>\",\"label: (18, 19)<br>conductivity: 6.998320186321799e-05<br>flow_rate: -7.210626410817476e-05<br>\",\"label: (18, 34)<br>conductivity: 8.444913690403094e-05<br>flow_rate: 0.00014215353967538831<br>\",\"label: (19, 20)<br>conductivity: 5.262354005383175e-05<br>flow_rate: 4.674676064229826e-05<br>\",\"label: (20, 21)<br>conductivity: 4.229426688429367e-05<br>flow_rate: -6.54196870537947e-05<br>\",\"label: (20, 36)<br>conductivity: 6.0207704888425334e-05<br>flow_rate: 0.00011216644770134672<br>\",\"label: (21, 22)<br>conductivity: 1.4142132224001982<br>flow_rate: 1.999782633915061<br>\",\"label: (22, 23)<br>conductivity: 1.1223061680042494<br>flow_rate: -0.9997873716091952<br>\",\"label: (22, 38)<br>conductivity: 1.6187943023922513<br>flow_rate: 2.9995700055242294<br>\",\"label: (23, 24)<br>conductivity: 4.333641488886423e-05<br>flow_rate: 3.650368653638504e-05<br>\",\"label: (24, 25)<br>conductivity: 7.902852691839591e-05<br>flow_rate: -8.498849281310057e-05<br>\",\"label: (24, 40)<br>conductivity: 8.286221596765783e-05<br>flow_rate: 0.00012149217934787017<br>\",\"label: (25, 26)<br>conductivity: 0.0003462725775979272<br>flow_rate: 0.00022497355808956333<br>\",\"label: (26, 27)<br>conductivity: 0.00011888536569279444<br>flow_rate: -0.00022344731753698902<br>\",\"label: (26, 42)<br>conductivity: 0.0003472540675086269<br>flow_rate: 0.0004484208756391229<br>\",\"label: (27, 28)<br>conductivity: 1.4142127243911242<br>flow_rate: 1.9995604596582617<br>\",\"label: (28, 29)<br>conductivity: 7.2717892566668e-05<br>flow_rate: -5.430382889973681e-05<br>\",\"label: (28, 44)<br>conductivity: 1.4142131609871411<br>flow_rate: 1.9996147634871604<br>\",\"label: (29, 30)<br>conductivity: 6.993170728710209e-05<br>flow_rate: 7.91877976624518e-05<br>\",\"label: (30, 46)<br>conductivity: 6.99304594437922e-05<br>flow_rate: 7.91877976724759e-05<br>\",\"label: (31, 32)<br>conductivity: 1.4142131708348742<br>flow_rate: -1.999864062671518<br>\",\"label: (31, 47)<br>conductivity: 1.4142131708346712<br>flow_rate: 1.9998640626715187<br>\",\"label: (32, 33)<br>conductivity: 3.3610609024479995e-05<br>flow_rate: 4.7747477033804245e-05<br>\",\"label: (33, 34)<br>conductivity: 5.429385446326592e-05<br>flow_rate: -5.131628544279503e-05<br>\",\"label: (33, 49)<br>conductivity: 5.782015197555029e-05<br>flow_rate: 9.906376248089904e-05<br>\",\"label: (34, 35)<br>conductivity: 7.632234168078622e-05<br>flow_rate: 9.083725421869865e-05<br>\",\"label: (35, 36)<br>conductivity: 3.5307299237046965e-05<br>flow_rate: -4.0691794365867465e-05<br>\",\"label: (35, 51)<br>conductivity: 7.832693630423497e-05<br>flow_rate: 0.00013152904858397096<br>\",\"label: (36, 37)<br>conductivity: 5.622738405577739e-05<br>flow_rate: 7.147465334115281e-05<br>\",\"label: (37, 38)<br>conductivity: 1.4142137989290857<br>flow_rate: -1.9995736047027934<br>\",\"label: (37, 53)<br>conductivity: 1.4142139369327422<br>flow_rate: 1.999645079356121<br>\",\"label: (38, 39)<br>conductivity: 1.122305155733596<br>flow_rate: 0.9999964008214806<br>\",\"label: (39, 40)<br>conductivity: 7.071764323992655e-05<br>flow_rate: -9.379214157310769e-05<br>\",\"label: (39, 55)<br>conductivity: 1.1223059283142423<br>flow_rate: 1.000090192963058<br>\",\"label: (40, 41)<br>conductivity: 6.051450448152445e-05<br>flow_rate: 2.770003777195732e-05<br>\",\"label: (41, 42)<br>conductivity: 0.00034657315093959283<br>flow_rate: -0.00036678467245874195<br>\",\"label: (41, 57)<br>conductivity: 0.0003469056914433999<br>flow_rate: 0.00039448471024209096<br>\",\"label: (42, 43)<br>conductivity: 7.623257296243754e-05<br>flow_rate: 8.163620318011676e-05<br>\",\"label: (43, 44)<br>conductivity: 1.4142129891656798<br>flow_rate: -1.9995431989149293<br>\",\"label: (43, 59)<br>conductivity: 1.4142135738105361<br>flow_rate: 1.9996248351181016<br>\",\"label: (44, 45)<br>conductivity: 5.788211041840272e-05<br>flow_rate: 7.156457220959575e-05<br>\",\"label: (45, 46)<br>conductivity: 6.993150204948157e-05<br>flow_rate: -7.918779767250734e-05<br>\",\"label: (45, 61)<br>conductivity: 8.114512335988634e-05<br>flow_rate: 0.00015075236987560937<br>\",\"label: (47, 48)<br>conductivity: 1.4142131708336194<br>flow_rate: 1.9998640626715298<br>\",\"label: (48, 49)<br>conductivity: 3.877837908052767e-05<br>flow_rate: -4.298341344761852e-05<br>\",\"label: (48, 64)<br>conductivity: 1.4142132090170891<br>flow_rate: 1.9999070460849782<br>\",\"label: (49, 50)<br>conductivity: 5.1395410899893014e-05<br>flow_rate: 5.6080349033085025e-05<br>\",\"label: (50, 51)<br>conductivity: 6.59898981591111e-05<br>flow_rate: -5.808504710847733e-05<br>\",\"label: (50, 66)<br>conductivity: 7.490140243490206e-05<br>flow_rate: 0.00011416539613934977<br>\",\"label: (51, 52)<br>conductivity: 5.795091363669424e-05<br>flow_rate: 7.344400147265365e-05<br>\",\"label: (52, 53)<br>conductivity: 1.414213389868356<br>flow_rate: -1.9996266839979857<br>\",\"label: (52, 68)<br>conductivity: 1.414213553579482<br>flow_rate: 1.9997001279994695<br>\",\"label: (53, 54)<br>conductivity: 7.282261738897741e-05<br>flow_rate: 1.8395358135531853e-05<br>\",\"label: (54, 55)<br>conductivity: 6.751335954676269e-05<br>flow_rate: -8.765637448260431e-05<br>\",\"label: (54, 70)<br>conductivity: 8.778787862953747e-05<br>flow_rate: 0.00010605173261797904<br>\",\"label: (55, 56)<br>conductivity: 1.1223054228051161<br>flow_rate: 1.0000025365885803<br>\",\"label: (56, 57)<br>conductivity: 2.4999526436548175e-05<br>flow_rate: -3.7837386726074806e-05<br>\",\"label: (56, 72)<br>conductivity: 1.1223054430598527<br>flow_rate: 1.0000403739753032<br>\",\"label: (57, 58)<br>conductivity: 0.00034689918065643975<br>flow_rate: 0.0003566473235149951<br>\",\"label: (58, 59)<br>conductivity: 7.8582525518217e-05<br>flow_rate: -5.805204273790747e-05<br>\",\"label: (58, 74)<br>conductivity: 0.00034774756327043006<br>flow_rate: 0.00041469936625323134<br>\",\"label: (59, 60)<br>conductivity: 1.4142129641081087<br>flow_rate: 1.9995667830753723<br>\",\"label: (60, 61)<br>conductivity: 4.161994787499023e-05<br>flow_rate: -4.77609884882562e-05<br>\",\"label: (60, 76)<br>conductivity: 1.4142130155615606<br>flow_rate: 1.9996145440638724<br>\",\"label: (61, 62)<br>conductivity: 7.77225447705639e-05<br>flow_rate: 0.00010299138138609884<br>\",\"label: (62, 78)<br>conductivity: 7.772220150219354e-05<br>flow_rate: 0.00010299138138530507<br>\",\"label: (63, 64)<br>conductivity: 1.1224606900075016<br>flow_rate: -0.9998892179163061<br>\",\"label: (63, 79)<br>conductivity: 1.1224606900057492<br>flow_rate: 0.9998892179163013<br>\",\"label: (64, 65)<br>conductivity: 1.1224628486999357<br>flow_rate: 1.000017828168674<br>\",\"label: (65, 66)<br>conductivity: 6.449497902139772e-05<br>flow_rate: -5.1475758095947506e-05<br>\",\"label: (65, 81)<br>conductivity: 1.1224632513448438<br>flow_rate: 1.000069303926784<br>\",\"label: (66, 67)<br>conductivity: 5.3684094509693775e-05<br>flow_rate: 6.268963804519111e-05<br>\",\"label: (67, 68)<br>conductivity: 1.122461875437588<br>flow_rate: -0.9999125454874761<br>\",\"label: (67, 83)<br>conductivity: 1.1224620728850874<br>flow_rate: 0.9999752351255253<br>\",\"label: (68, 69)<br>conductivity: 1.1224622039936798<br>flow_rate: 0.9997875825119782<br>\",\"label: (69, 70)<br>conductivity: 4.044075605838408e-05<br>flow_rate: -9.131564566624978e-05<br>\",\"label: (69, 85)<br>conductivity: 1.1224621979250433<br>flow_rate: 0.9998788981576475<br>\",\"label: (70, 71)<br>conductivity: 8.840802014766594e-05<br>flow_rate: 1.4736086952050729e-05<br>\",\"label: (71, 72)<br>conductivity: 1.1223042251340267<br>flow_rate: -0.9999726662655667<br>\",\"label: (71, 87)<br>conductivity: 1.1223057037698922<br>flow_rate: 0.9999874023525089<br>\",\"label: (72, 73)<br>conductivity: 8.320272051165298e-05<br>flow_rate: 6.770770973518627e-05<br>\",\"label: (73, 74)<br>conductivity: 0.0003477285465080629<br>flow_rate: -0.00034693587563197295<br>\",\"label: (73, 89)<br>conductivity: 0.0003487474264841518<br>flow_rate: 0.00041464358536736045<br>\",\"label: (74, 75)<br>conductivity: 3.9920282156564766e-05<br>flow_rate: 6.776349062158886e-05<br>\",\"label: (75, 76)<br>conductivity: 0.00013273976042092162<br>flow_rate: -0.00010631002573427394<br>\",\"label: (75, 91)<br>conductivity: 0.0001331440089970616<br>flow_rate: 0.00017407351635580242<br>\",\"label: (76, 77)<br>conductivity: 1.4142094159598<br>flow_rate: 1.9995082340381423<br>\",\"label: (77, 78)<br>conductivity: 7.772205608364695e-05<br>flow_rate: -0.00010299138138519712<br>\",\"label: (77, 93)<br>conductivity: 1.4142099241609025<br>flow_rate: 1.9996112254195273<br>\",\"label: (79, 80)<br>conductivity: 1.1224606900063685<br>flow_rate: 0.9998892179163061<br>\",\"label: (80, 81)<br>conductivity: 9.009112452349402e-05<br>flow_rate: -8.022883376299844e-05<br>\",\"label: (80, 95)<br>conductivity: 1.1224620086224604<br>flow_rate: 0.9999694467500824<br>\",\"label: (81, 82)<br>conductivity: 1.1224619403060279<br>flow_rate: 0.9999890750929958<br>\",\"label: (82, 83)<br>conductivity: 3.8991747448088354e-05<br>flow_rate: -2.0328626614687058e-05<br>\",\"label: (82, 97)<br>conductivity: 1.1224620085125105<br>flow_rate: 1.0000094037196188<br>\",\"label: (83, 84)<br>conductivity: 1.1224620046689104<br>flow_rate: 0.9999549064989<br>\",\"label: (84, 85)<br>conductivity: 4.367623762753457e-05<br>flow_rate: -3.8917977737566136e-05<br>\",\"label: (84, 99)<br>conductivity: 1.1224621017682108<br>flow_rate: 0.9999938244766388<br>\",\"label: (85, 86)<br>conductivity: 1.1224621019852346<br>flow_rate: 0.9998399801799122<br>\",\"label: (86, 87)<br>conductivity: 2.7910963416050484e-05<br>flow_rate: -8.322666567089154e-05<br>\",\"label: (86, 101)<br>conductivity: 1.1224620947050077<br>flow_rate: 0.9999232068455806<br>\",\"label: (87, 88)<br>conductivity: 1.1223057111412336<br>flow_rate: 0.9999041756868305<br>\",\"label: (88, 89)<br>conductivity: 0.00034747310467099957<br>flow_rate: -0.00023288681279854585<br>\",\"label: (88, 103)<br>conductivity: 1.1224619034635166<br>flow_rate: 1.0001370624996264<br>\",\"label: (89, 90)<br>conductivity: 0.00011999133148187165<br>flow_rate: 0.00018175677256922868<br>\",\"label: (90, 91)<br>conductivity: 0.00013281446704627495<br>flow_rate: -9.251092668002893e-05<br>\",\"label: (90, 105)<br>conductivity: 0.0001558149496678062<br>flow_rate: 0.00027426769924954197<br>\",\"label: (91, 92)<br>conductivity: 3.823114766949071e-05<br>flow_rate: 8.156258967611916e-05<br>\",\"label: (92, 93)<br>conductivity: 1.4142097508897593<br>flow_rate: -1.9995411373317482<br>\",\"label: (92, 107)<br>conductivity: 1.4142097749643103<br>flow_rate: 1.999622699921424<br>\",\"label: (93, 94)<br>conductivity: 5.654172442808124e-05<br>flow_rate: 7.008808777570807e-05<br>\",\"label: (94, 109)<br>conductivity: 5.654163308471295e-05<br>flow_rate: 7.008808777600979e-05<br>\",\"label: (95, 96)<br>conductivity: 1.1224620086226027<br>flow_rate: 0.9999694467500836<br>\",\"label: (96, 97)<br>conductivity: 3.431111699077335e-05<br>flow_rate: -3.055324991312955e-05<br>\",\"label: (97, 98)<br>conductivity: 1.1224619688248354<br>flow_rate: 0.9999788504697015<br>\",\"label: (98, 99)<br>conductivity: 4.056355140134569e-05<br>flow_rate: -2.1149530302820272e-05<br>\",\"label: (99, 100)<br>conductivity: 1.1224620223964328<br>flow_rate: 0.9999726749463227<br>\",\"label: (100, 101)<br>conductivity: 3.065968423291494e-05<br>flow_rate: -2.732505367782671e-05<br>\",\"label: (101, 102)<br>conductivity: 1.1224620690260874<br>flow_rate: 0.9998958817919005<br>\",\"label: (102, 103)<br>conductivity: 3.49209413433224e-05<br>flow_rate: -0.00010411820809637635<br>\",\"label: (103, 104)<br>conductivity: 1.1224619246019896<br>flow_rate: 1.0000329442915445<br>\",\"label: (104, 105)<br>conductivity: 4.003999476600957e-05<br>flow_rate: 3.2944291547214215e-05<br>\",\"label: (105, 106)<br>conductivity: 0.000155061210470536<br>flow_rate: 0.0003072119907969769<br>\",\"label: (106, 107)<br>conductivity: 1.1224558678966432<br>flow_rate: -0.9996927880091938<br>\",\"label: (107, 108)<br>conductivity: 1.1224618231447276<br>flow_rate: 0.9999299119122222<br>\",\"label: (108, 109)<br>conductivity: 5.6544791125978915e-05<br>flow_rate: -7.008808777631125e-05<br>\"],\"type\":\"scatter\",\"x\":[0.25,1.0,0.25,0.25,1.0,0.25,0.25,1.0,0.25,0.25,1.0,0.25,0.25,1.0,0.25,0.25,1.0,0.25,0.25,1.0,0.25,1.0,1.75,1.75,2.5,1.75,1.75,2.5,1.75,1.75,2.5,1.75,1.75,2.5,1.75,1.75,2.5,1.75,1.75,2.5,1.75,1.75,2.5,1.75,2.5,3.25,4.0,3.25,3.25,4.0,3.25,3.25,4.0,3.25,3.25,4.0,3.25,3.25,4.0,3.25,3.25,4.0,3.25,3.25,4.0,3.25,3.25,4.0,4.75,4.75,5.5,4.75,4.75,5.5,4.75,4.75,5.5,4.75,4.75,5.5,4.75,4.75,5.5,4.75,4.75,5.5,4.75,4.75,5.5,4.75,5.5,6.25,7.0,6.25,6.25,7.0,6.25,6.25,7.0,6.25,6.25,7.0,6.25,6.25,7.0,6.25,6.25,7.0,6.25,6.25,7.0,6.25,6.25,7.0,7.75,7.75,8.5,7.75,7.75,8.5,7.75,7.75,8.5,7.75,7.75,8.5,7.75,7.75,8.5,7.75,7.75,8.5,7.75,7.75,8.5,7.75,8.5,9.25,9.25,9.25,9.25,9.25,9.25,9.25,9.25,9.25,9.25,9.25,9.25,9.25,9.25],\"y\":[0.4330127018922193,0.0,1.299038105676658,2.1650635094610964,1.7320508075688772,3.031088913245535,3.8971143170299736,3.4641016151377544,4.763139720814412,5.629165124598851,5.196152422706632,6.49519052838329,7.3612159321677275,6.928203230275509,8.227241335952167,9.093266739736606,8.660254037844386,9.959292143521044,10.825317547305483,10.392304845413264,11.691342951089922,12.12435565298214,0.4330127018922193,1.299038105676658,0.8660254037844386,2.1650635094610964,3.031088913245535,2.598076211353316,3.8971143170299736,4.763139720814412,4.330127018922193,5.629165124598851,6.49519052838329,6.06217782649107,7.3612159321677275,8.227241335952167,7.794228634059947,9.093266739736606,9.959292143521044,9.526279441628825,10.825317547305483,11.691342951089922,11.258330249197702,12.55736835487436,12.990381056766578,0.4330127018922193,0.0,1.299038105676658,2.1650635094610964,1.7320508075688772,3.031088913245535,3.8971143170299736,3.4641016151377544,4.763139720814412,5.629165124598851,5.196152422706632,6.49519052838329,7.3612159321677275,6.928203230275509,8.227241335952167,9.093266739736606,8.660254037844386,9.959292143521044,10.825317547305483,10.392304845413264,11.691342951089922,12.55736835487436,12.12435565298214,0.4330127018922193,1.299038105676658,0.8660254037844386,2.1650635094610964,3.031088913245535,2.598076211353316,3.8971143170299736,4.763139720814412,4.330127018922193,5.629165124598851,6.49519052838329,6.06217782649107,7.3612159321677275,8.227241335952167,7.794228634059947,9.093266739736606,9.959292143521044,9.526279441628825,10.825317547305483,11.691342951089922,11.258330249197702,12.55736835487436,12.990381056766578,0.4330127018922193,0.0,1.299038105676658,2.1650635094610964,1.7320508075688772,3.031088913245535,3.8971143170299736,3.4641016151377544,4.763139720814412,5.629165124598851,5.196152422706632,6.49519052838329,7.3612159321677275,6.928203230275509,8.227241335952167,9.093266739736606,8.660254037844386,9.959292143521044,10.825317547305483,10.392304845413264,11.691342951089922,12.55736835487436,12.12435565298214,0.4330127018922193,1.299038105676658,0.8660254037844386,2.1650635094610964,3.031088913245535,2.598076211353316,3.8971143170299736,4.763139720814412,4.330127018922193,5.629165124598851,6.49519052838329,6.06217782649107,7.3612159321677275,8.227241335952167,7.794228634059947,9.093266739736606,9.959292143521044,9.526279441628825,10.825317547305483,11.691342951089922,11.258330249197702,12.55736835487436,12.990381056766578,1.299038105676658,2.1650635094610964,3.031088913245535,3.8971143170299736,4.763139720814412,5.629165124598851,6.49519052838329,7.3612159321677275,8.227241335952167,9.093266739736606,9.959292143521044,10.825317547305483,11.691342951089922,12.55736835487436]}],                        {\"showlegend\":false,\"template\":{\"data\":{\"bar\":[{\"error_x\":{\"color\":\"#2a3f5f\"},\"error_y\":{\"color\":\"#2a3f5f\"},\"marker\":{\"line\":{\"color\":\"#E5ECF6\",\"width\":0.5},\"pattern\":{\"fillmode\":\"overlay\",\"size\":10,\"solidity\":0.2}},\"type\":\"bar\"}],\"barpolar\":[{\"marker\":{\"line\":{\"color\":\"#E5ECF6\",\"width\":0.5},\"pattern\":{\"fillmode\":\"overlay\",\"size\":10,\"solidity\":0.2}},\"type\":\"barpolar\"}],\"carpet\":[{\"aaxis\":{\"endlinecolor\":\"#2a3f5f\",\"gridcolor\":\"white\",\"linecolor\":\"white\",\"minorgridcolor\":\"white\",\"startlinecolor\":\"#2a3f5f\"},\"baxis\":{\"endlinecolor\":\"#2a3f5f\",\"gridcolor\":\"white\",\"linecolor\":\"white\",\"minorgridcolor\":\"white\",\"startlinecolor\":\"#2a3f5f\"},\"type\":\"carpet\"}],\"choropleth\":[{\"colorbar\":{\"outlinewidth\":0,\"ticks\":\"\"},\"type\":\"choropleth\"}],\"contour\":[{\"colorbar\":{\"outlinewidth\":0,\"ticks\":\"\"},\"colorscale\":[[0.0,\"#0d0887\"],[0.1111111111111111,\"#46039f\"],[0.2222222222222222,\"#7201a8\"],[0.3333333333333333,\"#9c179e\"],[0.4444444444444444,\"#bd3786\"],[0.5555555555555556,\"#d8576b\"],[0.6666666666666666,\"#ed7953\"],[0.7777777777777778,\"#fb9f3a\"],[0.8888888888888888,\"#fdca26\"],[1.0,\"#f0f921\"]],\"type\":\"contour\"}],\"contourcarpet\":[{\"colorbar\":{\"outlinewidth\":0,\"ticks\":\"\"},\"type\":\"contourcarpet\"}],\"heatmap\":[{\"colorbar\":{\"outlinewidth\":0,\"ticks\":\"\"},\"colorscale\":[[0.0,\"#0d0887\"],[0.1111111111111111,\"#46039f\"],[0.2222222222222222,\"#7201a8\"],[0.3333333333333333,\"#9c179e\"],[0.4444444444444444,\"#bd3786\"],[0.5555555555555556,\"#d8576b\"],[0.6666666666666666,\"#ed7953\"],[0.7777777777777778,\"#fb9f3a\"],[0.8888888888888888,\"#fdca26\"],[1.0,\"#f0f921\"]],\"type\":\"heatmap\"}],\"heatmapgl\":[{\"colorbar\":{\"outlinewidth\":0,\"ticks\":\"\"},\"colorscale\":[[0.0,\"#0d0887\"],[0.1111111111111111,\"#46039f\"],[0.2222222222222222,\"#7201a8\"],[0.3333333333333333,\"#9c179e\"],[0.4444444444444444,\"#bd3786\"],[0.5555555555555556,\"#d8576b\"],[0.6666666666666666,\"#ed7953\"],[0.7777777777777778,\"#fb9f3a\"],[0.8888888888888888,\"#fdca26\"],[1.0,\"#f0f921\"]],\"type\":\"heatmapgl\"}],\"histogram\":[{\"marker\":{\"pattern\":{\"fillmode\":\"overlay\",\"size\":10,\"solidity\":0.2}},\"type\":\"histogram\"}],\"histogram2d\":[{\"colorbar\":{\"outlinewidth\":0,\"ticks\":\"\"},\"colorscale\":[[0.0,\"#0d0887\"],[0.1111111111111111,\"#46039f\"],[0.2222222222222222,\"#7201a8\"],[0.3333333333333333,\"#9c179e\"],[0.4444444444444444,\"#bd3786\"],[0.5555555555555556,\"#d8576b\"],[0.6666666666666666,\"#ed7953\"],[0.7777777777777778,\"#fb9f3a\"],[0.8888888888888888,\"#fdca26\"],[1.0,\"#f0f921\"]],\"type\":\"histogram2d\"}],\"histogram2dcontour\":[{\"colorbar\":{\"outlinewidth\":0,\"ticks\":\"\"},\"colorscale\":[[0.0,\"#0d0887\"],[0.1111111111111111,\"#46039f\"],[0.2222222222222222,\"#7201a8\"],[0.3333333333333333,\"#9c179e\"],[0.4444444444444444,\"#bd3786\"],[0.5555555555555556,\"#d8576b\"],[0.6666666666666666,\"#ed7953\"],[0.7777777777777778,\"#fb9f3a\"],[0.8888888888888888,\"#fdca26\"],[1.0,\"#f0f921\"]],\"type\":\"histogram2dcontour\"}],\"mesh3d\":[{\"colorbar\":{\"outlinewidth\":0,\"ticks\":\"\"},\"type\":\"mesh3d\"}],\"parcoords\":[{\"line\":{\"colorbar\":{\"outlinewidth\":0,\"ticks\":\"\"}},\"type\":\"parcoords\"}],\"pie\":[{\"automargin\":true,\"type\":\"pie\"}],\"scatter\":[{\"marker\":{\"colorbar\":{\"outlinewidth\":0,\"ticks\":\"\"}},\"type\":\"scatter\"}],\"scatter3d\":[{\"line\":{\"colorbar\":{\"outlinewidth\":0,\"ticks\":\"\"}},\"marker\":{\"colorbar\":{\"outlinewidth\":0,\"ticks\":\"\"}},\"type\":\"scatter3d\"}],\"scattercarpet\":[{\"marker\":{\"colorbar\":{\"outlinewidth\":0,\"ticks\":\"\"}},\"type\":\"scattercarpet\"}],\"scattergeo\":[{\"marker\":{\"colorbar\":{\"outlinewidth\":0,\"ticks\":\"\"}},\"type\":\"scattergeo\"}],\"scattergl\":[{\"marker\":{\"colorbar\":{\"outlinewidth\":0,\"ticks\":\"\"}},\"type\":\"scattergl\"}],\"scattermapbox\":[{\"marker\":{\"colorbar\":{\"outlinewidth\":0,\"ticks\":\"\"}},\"type\":\"scattermapbox\"}],\"scatterpolar\":[{\"marker\":{\"colorbar\":{\"outlinewidth\":0,\"ticks\":\"\"}},\"type\":\"scatterpolar\"}],\"scatterpolargl\":[{\"marker\":{\"colorbar\":{\"outlinewidth\":0,\"ticks\":\"\"}},\"type\":\"scatterpolargl\"}],\"scatterternary\":[{\"marker\":{\"colorbar\":{\"outlinewidth\":0,\"ticks\":\"\"}},\"type\":\"scatterternary\"}],\"surface\":[{\"colorbar\":{\"outlinewidth\":0,\"ticks\":\"\"},\"colorscale\":[[0.0,\"#0d0887\"],[0.1111111111111111,\"#46039f\"],[0.2222222222222222,\"#7201a8\"],[0.3333333333333333,\"#9c179e\"],[0.4444444444444444,\"#bd3786\"],[0.5555555555555556,\"#d8576b\"],[0.6666666666666666,\"#ed7953\"],[0.7777777777777778,\"#fb9f3a\"],[0.8888888888888888,\"#fdca26\"],[1.0,\"#f0f921\"]],\"type\":\"surface\"}],\"table\":[{\"cells\":{\"fill\":{\"color\":\"#EBF0F8\"},\"line\":{\"color\":\"white\"}},\"header\":{\"fill\":{\"color\":\"#C8D4E3\"},\"line\":{\"color\":\"white\"}},\"type\":\"table\"}]},\"layout\":{\"annotationdefaults\":{\"arrowcolor\":\"#2a3f5f\",\"arrowhead\":0,\"arrowwidth\":1},\"autotypenumbers\":\"strict\",\"coloraxis\":{\"colorbar\":{\"outlinewidth\":0,\"ticks\":\"\"}},\"colorscale\":{\"diverging\":[[0,\"#8e0152\"],[0.1,\"#c51b7d\"],[0.2,\"#de77ae\"],[0.3,\"#f1b6da\"],[0.4,\"#fde0ef\"],[0.5,\"#f7f7f7\"],[0.6,\"#e6f5d0\"],[0.7,\"#b8e186\"],[0.8,\"#7fbc41\"],[0.9,\"#4d9221\"],[1,\"#276419\"]],\"sequential\":[[0.0,\"#0d0887\"],[0.1111111111111111,\"#46039f\"],[0.2222222222222222,\"#7201a8\"],[0.3333333333333333,\"#9c179e\"],[0.4444444444444444,\"#bd3786\"],[0.5555555555555556,\"#d8576b\"],[0.6666666666666666,\"#ed7953\"],[0.7777777777777778,\"#fb9f3a\"],[0.8888888888888888,\"#fdca26\"],[1.0,\"#f0f921\"]],\"sequentialminus\":[[0.0,\"#0d0887\"],[0.1111111111111111,\"#46039f\"],[0.2222222222222222,\"#7201a8\"],[0.3333333333333333,\"#9c179e\"],[0.4444444444444444,\"#bd3786\"],[0.5555555555555556,\"#d8576b\"],[0.6666666666666666,\"#ed7953\"],[0.7777777777777778,\"#fb9f3a\"],[0.8888888888888888,\"#fdca26\"],[1.0,\"#f0f921\"]]},\"colorway\":[\"#636efa\",\"#EF553B\",\"#00cc96\",\"#ab63fa\",\"#FFA15A\",\"#19d3f3\",\"#FF6692\",\"#B6E880\",\"#FF97FF\",\"#FECB52\"],\"font\":{\"color\":\"#2a3f5f\"},\"geo\":{\"bgcolor\":\"white\",\"lakecolor\":\"white\",\"landcolor\":\"#E5ECF6\",\"showlakes\":true,\"showland\":true,\"subunitcolor\":\"white\"},\"hoverlabel\":{\"align\":\"left\"},\"hovermode\":\"closest\",\"mapbox\":{\"style\":\"light\"},\"paper_bgcolor\":\"white\",\"plot_bgcolor\":\"#E5ECF6\",\"polar\":{\"angularaxis\":{\"gridcolor\":\"white\",\"linecolor\":\"white\",\"ticks\":\"\"},\"bgcolor\":\"#E5ECF6\",\"radialaxis\":{\"gridcolor\":\"white\",\"linecolor\":\"white\",\"ticks\":\"\"}},\"scene\":{\"xaxis\":{\"backgroundcolor\":\"#E5ECF6\",\"gridcolor\":\"white\",\"gridwidth\":2,\"linecolor\":\"white\",\"showbackground\":true,\"ticks\":\"\",\"zerolinecolor\":\"white\"},\"yaxis\":{\"backgroundcolor\":\"#E5ECF6\",\"gridcolor\":\"white\",\"gridwidth\":2,\"linecolor\":\"white\",\"showbackground\":true,\"ticks\":\"\",\"zerolinecolor\":\"white\"},\"zaxis\":{\"backgroundcolor\":\"#E5ECF6\",\"gridcolor\":\"white\",\"gridwidth\":2,\"linecolor\":\"white\",\"showbackground\":true,\"ticks\":\"\",\"zerolinecolor\":\"white\"}},\"shapedefaults\":{\"line\":{\"color\":\"#2a3f5f\"}},\"ternary\":{\"aaxis\":{\"gridcolor\":\"white\",\"linecolor\":\"white\",\"ticks\":\"\"},\"baxis\":{\"gridcolor\":\"white\",\"linecolor\":\"white\",\"ticks\":\"\"},\"bgcolor\":\"#E5ECF6\",\"caxis\":{\"gridcolor\":\"white\",\"linecolor\":\"white\",\"ticks\":\"\"}},\"title\":{\"x\":0.05},\"xaxis\":{\"automargin\":true,\"gridcolor\":\"white\",\"linecolor\":\"white\",\"ticks\":\"\",\"title\":{\"standoff\":15},\"zerolinecolor\":\"white\",\"zerolinewidth\":2},\"yaxis\":{\"automargin\":true,\"gridcolor\":\"white\",\"linecolor\":\"white\",\"ticks\":\"\",\"title\":{\"standoff\":15},\"zerolinecolor\":\"white\",\"zerolinewidth\":2}}}},                        {\"responsive\": true}                    ).then(function(){\n",
       "                            \n",
       "var gd = document.getElementById('18ca7086-3852-4a4a-ac25-650823c94053');\n",
       "var x = new MutationObserver(function (mutations, observer) {{\n",
       "        var display = window.getComputedStyle(gd).display;\n",
       "        if (!display || display === 'none') {{\n",
       "            console.log([gd, 'removed!']);\n",
       "            Plotly.purge(gd);\n",
       "            observer.disconnect();\n",
       "        }}\n",
       "}});\n",
       "\n",
       "// Listen for the removal of the full notebook cells\n",
       "var notebookContainer = gd.closest('#notebook-container');\n",
       "if (notebookContainer) {{\n",
       "    x.observe(notebookContainer, {childList: true});\n",
       "}}\n",
       "\n",
       "// Listen for the clearing of the current output cell\n",
       "var outputEl = gd.closest('.output');\n",
       "if (outputEl) {{\n",
       "    x.observe(outputEl, {childList: true});\n",
       "}}\n",
       "\n",
       "                        })                };                });            </script>        </div>"
      ]
     },
     "metadata": {},
     "output_type": "display_data"
    }
   ],
   "source": []
  },
  {
   "cell_type": "code",
   "execution_count": null,
   "metadata": {},
   "outputs": [],
   "source": []
  }
 ],
 "metadata": {
  "kernelspec": {
   "display_name": "Python 3",
   "language": "python",
   "name": "python3"
  },
  "language_info": {
   "codemirror_mode": {
    "name": "ipython",
    "version": 3
   },
   "file_extension": ".py",
   "mimetype": "text/x-python",
   "name": "python",
   "nbconvert_exporter": "python",
   "pygments_lexer": "ipython3",
   "version": "3.7.3"
  }
 },
 "nbformat": 4,
 "nbformat_minor": 4
}
