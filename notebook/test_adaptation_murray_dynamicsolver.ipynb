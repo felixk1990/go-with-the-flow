{
 "cells": [
  {
   "cell_type": "code",
   "execution_count": 1,
   "metadata": {},
   "outputs": [
    {
     "ename": "ModuleNotFoundError",
     "evalue": "No module named 'init_ivp'",
     "output_type": "error",
     "traceback": [
      "\u001b[1;31m---------------------------------------------------------------------------\u001b[0m",
      "\u001b[1;31mModuleNotFoundError\u001b[0m                       Traceback (most recent call last)",
      "\u001b[1;32m<ipython-input-1-74a459b9116c>\u001b[0m in \u001b[0;36m<module>\u001b[1;34m\u001b[0m\n\u001b[0;32m      1\u001b[0m \u001b[1;32mimport\u001b[0m \u001b[0mnumpy\u001b[0m \u001b[1;32mas\u001b[0m \u001b[0mnp\u001b[0m\u001b[1;33m\u001b[0m\u001b[1;33m\u001b[0m\u001b[0m\n\u001b[0;32m      2\u001b[0m \u001b[1;32mimport\u001b[0m \u001b[0mgoflow\u001b[0m\u001b[1;33m.\u001b[0m\u001b[0minit_ivp\u001b[0m \u001b[1;32mas\u001b[0m \u001b[0mgi\u001b[0m\u001b[1;33m\u001b[0m\u001b[1;33m\u001b[0m\u001b[0m\n\u001b[1;32m----> 3\u001b[1;33m \u001b[1;32mimport\u001b[0m \u001b[0mgoflow\u001b[0m\u001b[1;33m.\u001b[0m\u001b[0mmodels\u001b[0m \u001b[1;32mas\u001b[0m \u001b[0mgfm\u001b[0m\u001b[1;33m\u001b[0m\u001b[1;33m\u001b[0m\u001b[0m\n\u001b[0m",
      "\u001b[1;32m~\\Anaconda3\\lib\\site-packages\\goflow\\models.py\u001b[0m in \u001b[0;36m<module>\u001b[1;34m\u001b[0m\n\u001b[0;32m     11\u001b[0m \u001b[1;33m\u001b[0m\u001b[0m\n\u001b[0;32m     12\u001b[0m \u001b[1;31m# custom\u001b[0m\u001b[1;33m\u001b[0m\u001b[1;33m\u001b[0m\u001b[1;33m\u001b[0m\u001b[0m\n\u001b[1;32m---> 13\u001b[1;33m \u001b[1;32mfrom\u001b[0m \u001b[0minit_ivp\u001b[0m \u001b[1;32mimport\u001b[0m \u001b[1;33m*\u001b[0m\u001b[1;33m\u001b[0m\u001b[1;33m\u001b[0m\u001b[0m\n\u001b[0m\u001b[0;32m     14\u001b[0m \u001b[1;33m\u001b[0m\u001b[0m\n\u001b[0;32m     15\u001b[0m \u001b[1;33m\u001b[0m\u001b[0m\n",
      "\u001b[1;31mModuleNotFoundError\u001b[0m: No module named 'init_ivp'"
     ]
    }
   ],
   "source": [
    "import numpy as np\n",
    "import goflow.init_ivp as gi\n",
    "import goflow.models as gfm"
   ]
  },
  {
   "cell_type": "code",
   "execution_count": null,
   "metadata": {},
   "outputs": [],
   "source": [
    "# #initialize circuit+flow pattern\n",
    "cfp={\n",
    "    'type': 'hexagonal',\n",
    "    'periods': 3,\n",
    "    'source':'dipole_border',\n",
    "    'plexus':'default',\n",
    "}\n",
    "flow=gfm.initialize_flow_on_crystal(cfp)\n",
    "\n",
    "# set model and model parameters\n",
    "mp={\n",
    "    'alpha_0':1,\n",
    "    'alpha_0':1.\n",
    "}\n",
    "murray=gfm.init(model='murray',pars=mp)\n",
    "\n",
    "# initialize dynamic system and set integration parameters\n",
    "morpheus=gi.morph_dynamic(flow=flow,model=murray)   \n",
    "sp={\n",
    "    't0': 0.,\n",
    "    't1': 5.,\n",
    "    'x0': np.power(morpheus.flow.circuit.edges['conductivity']/morpheus.flow.circuit.scales['conductance'],0.25),\n",
    "}"
   ]
  },
  {
   "cell_type": "code",
   "execution_count": null,
   "metadata": {},
   "outputs": [],
   "source": [
    "# numerically evaluate the system\n",
    "nsol=morpheus.nsolve(murray.calc_update_stimuli,(sp['t0'],sp['t1']),sp['x0'], **murray.solver_options)\n",
    "murray.jac=False\n",
    "cost=[murray.calc_cost_stimuli(t,y,*murray.solver_options['args']) for t,y in zip(nsol.t,nsol.y.transpose())]"
   ]
  },
  {
   "cell_type": "code",
   "execution_count": null,
   "metadata": {},
   "outputs": [],
   "source": [
    "# plot dynamic data such as radii and costs\n",
    "import matplotlib.pyplot as plt\n",
    "fig,axs=plt.subplots(2,1,figsize=(12,6),sharex=True)\n",
    "axs[0].plot(nsol.t,nsol.y.transpose(),alpha=0.1,color='b')\n",
    "axs[1].plot(nsol.t,cost,alpha=0.2,color='b')\n",
    "\n",
    "for i in range(2):\n",
    "    axs[i].grid(True)\n",
    "    \n",
    "axs[1].set_xlabel(r'time $t$')\n",
    "axs[0].set_ylabel(r'radii $r$')\n",
    "axs[1].set_ylabel(r'metabolic cost $\\Gamma$')\n",
    "plt.show()"
   ]
  },
  {
   "cell_type": "code",
   "execution_count": null,
   "metadata": {
    "scrolled": true
   },
   "outputs": [],
   "source": [
    "# plot network with data of choice\n",
    "flow.circuit.edges['conductivity']=nsol.y.transpose()[-1]\n",
    "flow.circuit.edges['flow_rate']=flow.calc_configuration_flow()\n",
    "flow.circuit.draw_weight_scaling=2.\n",
    "fig=flow.circuit.plot_circuit({'width':'flow_rate'})\n",
    "fig.show()"
   ]
  },
  {
   "cell_type": "code",
   "execution_count": null,
   "metadata": {},
   "outputs": [],
   "source": []
  }
 ],
 "metadata": {
  "kernelspec": {
   "display_name": "Python 3",
   "language": "python",
   "name": "python3"
  },
  "language_info": {
   "codemirror_mode": {
    "name": "ipython",
    "version": 3
   },
   "file_extension": ".py",
   "mimetype": "text/x-python",
   "name": "python",
   "nbconvert_exporter": "python",
   "pygments_lexer": "ipython3",
   "version": "3.7.9"
  }
 },
 "nbformat": 4,
 "nbformat_minor": 4
}
