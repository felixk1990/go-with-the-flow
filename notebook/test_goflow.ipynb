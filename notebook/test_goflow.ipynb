{
 "cells": [
  {
   "cell_type": "code",
   "execution_count": 1,
   "metadata": {},
   "outputs": [],
   "source": [
    "import networkx as nx\n",
    "import sys\n",
    "import numpy as np\n",
    "sys.path.insert(0,'../goflow')\n",
    "import kirchhoff_init as ki\n",
    "import pandas as pd"
   ]
  },
  {
   "cell_type": "code",
   "execution_count": 2,
   "metadata": {},
   "outputs": [
    {
     "name": "stdout",
     "output_type": "stream",
     "text": [
      "circuit(): initialized and ready for (some) action :)\n"
     ]
    }
   ],
   "source": [
    "n=3\n",
    "G=nx.grid_graph(( n,n,1))\n",
    "K = ki.initialize_circuit_from_networkx(G)"
   ]
  },
  {
   "cell_type": "code",
   "execution_count": 3,
   "metadata": {},
   "outputs": [
    {
     "name": "stdout",
     "output_type": "stream",
     "text": [
      "circuit(): initialized and ready for (some) action :)\n"
     ]
    }
   ],
   "source": [
    "import kirchhoff_flow as kf\n",
    "n=3\n",
    "G=nx.grid_graph(( n,n,1))\n",
    "K= kf.initialize_flow_circuit_from_networkx(G)"
   ]
  },
  {
   "cell_type": "code",
   "execution_count": 4,
   "metadata": {},
   "outputs": [
    {
     "name": "stdout",
     "output_type": "stream",
     "text": [
      "set_source_landscape(): root_multi is set and consistent :)\n"
     ]
    }
   ],
   "source": [
    "K.graph['num_sources']=4\n",
    "K.set_source_landscape('root_multi',num_sources=2)"
   ]
  },
  {
   "cell_type": "code",
   "execution_count": 5,
   "metadata": {},
   "outputs": [
    {
     "name": "stdout",
     "output_type": "stream",
     "text": [
      "0   -1.0\n",
      "1   -1.0\n",
      "2    3.5\n",
      "3   -1.0\n",
      "4   -1.0\n",
      "5    3.5\n",
      "6   -1.0\n",
      "7   -1.0\n",
      "8   -1.0\n",
      "Name: source, dtype: float64\n"
     ]
    },
    {
     "data": {
      "text/plain": [
       "<AxesSubplot:xlabel='source', ylabel='source'>"
      ]
     },
     "execution_count": 5,
     "metadata": {},
     "output_type": "execute_result"
    },
    {
     "data": {
      "image/png": "[encoded data removed]",
      "text/plain": [
       "<Figure size 432x288 with 1 Axes>"
      ]
     },
     "metadata": {
      "needs_background": "light"
     },
     "output_type": "display_data"
    }
   ],
   "source": [
    "print(K.nodes['source'])\n",
    "K.nodes.plot('source','source',kind='scatter')"
   ]
  },
  {
   "cell_type": "code",
   "execution_count": 6,
   "metadata": {},
   "outputs": [
    {
     "name": "stdout",
     "output_type": "stream",
     "text": [
      "{0: 8, 1: -1, 2: -1, 3: -1, 4: -1, 5: -1, 6: -1, 7: -1, 8: -1}\n",
      "set networkx.spring_layout()\n",
      "set_source_landscape(): root_geometric is set and consistent :)\n"
     ]
    }
   ],
   "source": [
    "custom={}\n",
    "for i,n in enumerate(K.G.nodes()):\n",
    "    if i==0:\n",
    "        custom.update({n:len(K.G.nodes())-1})\n",
    "    else:\n",
    "        custom.update({n:-1})\n",
    "print(custom)\n",
    "K.set_source_landscape('root_geometric')"
   ]
  },
  {
   "cell_type": "code",
   "execution_count": 7,
   "metadata": {},
   "outputs": [
    {
     "name": "stdout",
     "output_type": "stream",
     "text": [
      "set_plexus_landscape(): root_geometric is set and consistent :)\n"
     ]
    }
   ],
   "source": [
    "K.set_plexus_landscape()"
   ]
  },
  {
   "cell_type": "code",
   "execution_count": 8,
   "metadata": {},
   "outputs": [
    {
     "name": "stdout",
     "output_type": "stream",
     "text": [
      "set_source_landscape(): default is set and consistent :)\n"
     ]
    }
   ],
   "source": [
    "K.set_source_landscape()"
   ]
  },
  {
   "cell_type": "code",
   "execution_count": null,
   "metadata": {},
   "outputs": [],
   "source": []
  }
 ],
 "metadata": {
  "kernelspec": {
   "display_name": "Python 3",
   "language": "python",
   "name": "python3"
  },
  "language_info": {
   "codemirror_mode": {
    "name": "ipython",
    "version": 3
   },
   "file_extension": ".py",
   "mimetype": "text/x-python",
   "name": "python",
   "nbconvert_exporter": "python",
   "pygments_lexer": "ipython3",
   "version": "3.7.9"
  }
 },
 "nbformat": 4,
 "nbformat_minor": 4
}
