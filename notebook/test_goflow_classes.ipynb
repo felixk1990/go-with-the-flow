{
 "cells": [
  {
   "cell_type": "code",
   "execution_count": 1,
   "metadata": {},
   "outputs": [
    {
     "name": "stdout",
     "output_type": "stream",
     "text": [
      "circuit(): initialized and ready for (some) action :)\n"
     ]
    }
   ],
   "source": [
    "import sys\n",
    "sys.path.insert(0,'../')\n",
    "sys.path.insert(0,'../goflow')\n",
    "import init_ivp\n",
    "import ivp_ds\n",
    "import ivp_opt\n",
    "import kirchhoff.circuit_flow as kfc\n",
    "import hailhydro.flow_init as hf\n",
    "\n",
    "circuit=kfc.initialize_flow_circuit_from_crystal('simple',3)\n",
    "flow=hf.initialize_flow_on_circuit(circuit)"
   ]
  },
  {
   "cell_type": "code",
   "execution_count": 2,
   "metadata": {},
   "outputs": [
    {
     "data": {
      "text/plain": [
       "<ivp_opt.morph_opt at 0x29c4837dc88>"
      ]
     },
     "execution_count": 2,
     "metadata": {},
     "output_type": "execute_result"
    }
   ],
   "source": [
    "init_ivp.morph(flow)\n",
    "ivp_ds.morph_ds(flow)\n",
    "ivp_opt.morph_opt(flow)"
   ]
  },
  {
   "cell_type": "code",
   "execution_count": null,
   "metadata": {},
   "outputs": [],
   "source": []
  },
  {
   "cell_type": "code",
   "execution_count": null,
   "metadata": {},
   "outputs": [],
   "source": []
  }
 ],
 "metadata": {
  "kernelspec": {
   "display_name": "Python 3",
   "language": "python",
   "name": "python3"
  },
  "language_info": {
   "codemirror_mode": {
    "name": "ipython",
    "version": 3
   },
   "file_extension": ".py",
   "mimetype": "text/x-python",
   "name": "python",
   "nbconvert_exporter": "python",
   "pygments_lexer": "ipython3",
   "version": "3.7.9"
  }
 },
 "nbformat": 4,
 "nbformat_minor": 4
}
