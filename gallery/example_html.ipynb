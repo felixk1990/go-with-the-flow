{
 "cells": [
  {
   "cell_type": "code",
   "execution_count": 1,
   "metadata": {
    "scrolled": true
   },
   "outputs": [
    {
     "name": "stdout",
     "output_type": "stream",
     "text": [
      "Set source: default\n",
      "set_source_landscape(): default is set and consistent :)\n",
      "Set plexus: default\n",
      "set_plexus_landscape(): default is set and consistent :)\n"
     ]
    }
   ],
   "source": [
    "import numpy as np\n",
    "import kirchhoff.circuit_init as kfi\n",
    "from hailhydro.flow_init import Flow\n",
    "\n",
    "from goflow.adapter import init_ivp as gi\n",
    "from plotly_gif import GIF, capture\n",
    "import plotly.graph_objects as go\n",
    "\n",
    "#initialize circuit+flow pattern\n",
    "# C = kfi.initialize_circuit_from_crystal('laves',3)\n",
    "C = kfi.initialize_circuit_from_crystal('triagonal_planar',3)\n",
    "\n",
    "pars_src = {\n",
    "    'modesSRC': 'root_geometric'\n",
    "#     'modeSRC': 'root_short',\n",
    "#     'modeSRC': 'dipole_border',\n",
    "}\n",
    "pars_plx = {\n",
    "    'modePLX':'default',\n",
    "}\n",
    "# set model and model parameters\n",
    "pars_model = {\n",
    "    'alpha_0':1.,\n",
    "    'alpha_1':1.\n",
    "}\n",
    "# # initialize dynamic system and set integration parameters\n",
    "morpheus = gi.morph_dynamic(C, 'murray', [pars_model, pars_src, pars_plx]) \n",
    "morpheus.evals = 200"
   ]
  },
  {
   "cell_type": "code",
   "execution_count": 2,
   "metadata": {
    "scrolled": true
   },
   "outputs": [],
   "source": [
    "# numerically evaluate the system\n",
    "cnd = morpheus.flow.circuit.edges['conductivity']\n",
    "cnd_scale = morpheus.flow.circuit.scales['conductance']\n",
    "\n",
    "sp = {\n",
    "    't0': 1e-05,\n",
    "    't1': 4.,\n",
    "    'x0': np.power(cnd/cnd_scale,0.25)*0.1,\n",
    "}\n",
    "nsol = morpheus.nlogSolve((sp['t0'],sp['t1']), sp['x0'])\n",
    "# print(nsol)\n",
    "\n",
    "dataPoints = zip(nsol.t,nsol.y.transpose())\n",
    "murrayModel = morpheus.model\n",
    "args = murrayModel.solver_options['args']\n",
    "cost = [murrayModel.calc_cost_stimuli(t, y, *args)[0] for t, y in dataPoints]"
   ]
  },
  {
   "cell_type": "code",
   "execution_count": 3,
   "metadata": {
    "scrolled": true
   },
   "outputs": [],
   "source": [
    "aux = {\n",
    "    'color_nodes': ['#030512'],\n",
    "    'colormap': ['RdPu'],\n",
    "}\n",
    "# plot the network plexus and attributes\n",
    "# plexus\n",
    "morpheus.flow.circuit.edges['conductivity'] = np.round(nsol.y.transpose()[0],5)\n",
    "lw = morpheus.flow.circuit.edges['conductivity']\n",
    "morpheus.flow.circuit.edges['flow_rate'], dP = morpheus.flow.calc_configuration_flow()\n",
    "morpheus.flow.circuit.edges['flow_rate'] = np.round(np.absolute(morpheus.flow.circuit.edges['flow_rate']),5)\n",
    "fig = morpheus.flow.circuit.plot_circuit(linewidth = [10.*lw], color_edges = [lw], **aux)\n",
    "fig.write_html(\"../docs/plexus.html\")\n",
    "\n",
    "# final\n",
    "morpheus.flow.circuit.edges['conductivity'] = np.round(nsol.y.transpose()[-1],5)\n",
    "lw = morpheus.flow.circuit.edges['conductivity']\n",
    "morpheus.flow.circuit.edges['flow_rate'], dP = morpheus.flow.calc_configuration_flow()\n",
    "morpheus.flow.circuit.edges['flow_rate'] = np.round(np.absolute(morpheus.flow.circuit.edges['flow_rate']),5)\n",
    "fw = morpheus.flow.circuit.edges['flow_rate']\n",
    "\n",
    "fig = morpheus.flow.circuit.plot_circuit(linewidth = [5.*lw], color_edges = [lw], **aux)\n",
    "fig.write_html(\"../docs/final.html\")\n",
    "\n",
    "fig = morpheus.flow.circuit.plot_circuit(linewidth = [5.*fw], color_edges = [fw])\n",
    "fig.write_html(\"../docs/final_flow.html\")"
   ]
  },
  {
   "cell_type": "code",
   "execution_count": 4,
   "metadata": {
    "scrolled": true
   },
   "outputs": [],
   "source": [
    "# plot the radii dynamics\n",
    "fig = go.Figure()\n",
    "for i, ys in enumerate(nsol.y):\n",
    "    \n",
    "    e = morpheus.flow.circuit.edges['label'][i]\n",
    "    fig.add_trace(\n",
    "        go.Scatter(\n",
    "            x= nsol.t, \n",
    "            y= ys, \n",
    "            mode='lines',\n",
    "            line=dict(color='rgba(0,0,255,0.1)'),\n",
    "            name=f'vessel {e}'\n",
    "        )\n",
    "    )\n",
    "fig.update_layout( dict(\n",
    "#     showlegend =  False,\n",
    "    )\n",
    ")\n",
    "fig.update_xaxes(type=\"log\")\n",
    "# fig.update_yaxes(range=[y_min, y_max]) # linear range\n",
    "fig.write_html(\"../docs/dynamics.html\")"
   ]
  },
  {
   "cell_type": "code",
   "execution_count": null,
   "metadata": {},
   "outputs": [],
   "source": []
  }
 ],
 "metadata": {
  "kernelspec": {
   "display_name": "devGoFlow",
   "language": "python",
   "name": "devgoflow"
  },
  "language_info": {
   "codemirror_mode": {
    "name": "ipython",
    "version": 3
   },
   "file_extension": ".py",
   "mimetype": "text/x-python",
   "name": "python",
   "nbconvert_exporter": "python",
   "pygments_lexer": "ipython3",
   "version": "3.9.7"
  }
 },
 "nbformat": 4,
 "nbformat_minor": 4
}
