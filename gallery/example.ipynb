{
 "cells": [
  {
   "cell_type": "code",
   "execution_count": 14,
   "id": "9876cf77",
   "metadata": {},
   "outputs": [
    {
     "data": {
      "application/vnd.plotly.v1+json": {
       "config": {
        "plotlyServerURL": "https://plot.ly"
       },
       "data": [
        {
         "hoverinfo": "text",
         "hovertext": [
          "label: 0<br>",
          "label: 1<br>",
          "label: 2<br>",
          "label: 3<br>",
          "label: 4<br>",
          "label: 5<br>",
          "label: 6<br>",
          "label: 7<br>",
          "label: 8<br>",
          "label: 9<br>",
          "label: 10<br>",
          "label: 11<br>",
          "label: 12<br>",
          "label: 13<br>",
          "label: 14<br>",
          "label: 15<br>",
          "label: 16<br>",
          "label: 17<br>",
          "label: 18<br>"
         ],
         "marker": {
          "color": "#a845b5",
          "line": {
           "width": 2
          },
          "size": 2
         },
         "mode": "markers",
         "type": "scatter",
         "x": [
          0,
          1,
          2,
          3,
          4,
          0.5,
          1.5,
          2.5,
          3.5,
          1,
          2,
          3,
          0.5,
          1.5,
          2.5,
          3.5,
          1,
          2,
          3
         ],
         "y": [
          0,
          0,
          0,
          0,
          0,
          -0.8660254037844386,
          -0.8660254037844386,
          -0.8660254037844386,
          -0.8660254037844386,
          -1.7320508075688772,
          -1.7320508075688772,
          -1.7320508075688772,
          0.8660254037844386,
          0.8660254037844386,
          0.8660254037844386,
          0.8660254037844386,
          1.7320508075688772,
          1.7320508075688772,
          1.7320508075688772
         ]
        },
        {
         "hoverinfo": "none",
         "line": {
          "color": "#c762d4",
          "width": 5
         },
         "mode": "lines",
         "type": "scatter",
         "x": [
          0,
          1,
          null
         ],
         "y": [
          0,
          0,
          null
         ]
        },
        {
         "hoverinfo": "none",
         "line": {
          "color": "#c762d4",
          "width": 5
         },
         "mode": "lines",
         "type": "scatter",
         "x": [
          0,
          0.5,
          null
         ],
         "y": [
          0,
          -0.8660254037844386,
          null
         ]
        },
        {
         "hoverinfo": "none",
         "line": {
          "color": "#c762d4",
          "width": 5
         },
         "mode": "lines",
         "type": "scatter",
         "x": [
          0,
          0.5,
          null
         ],
         "y": [
          0,
          0.8660254037844386,
          null
         ]
        },
        {
         "hoverinfo": "none",
         "line": {
          "color": "#c762d4",
          "width": 5
         },
         "mode": "lines",
         "type": "scatter",
         "x": [
          1,
          2,
          null
         ],
         "y": [
          0,
          0,
          null
         ]
        },
        {
         "hoverinfo": "none",
         "line": {
          "color": "#c762d4",
          "width": 5
         },
         "mode": "lines",
         "type": "scatter",
         "x": [
          1,
          0.5,
          null
         ],
         "y": [
          0,
          -0.8660254037844386,
          null
         ]
        },
        {
         "hoverinfo": "none",
         "line": {
          "color": "#c762d4",
          "width": 5
         },
         "mode": "lines",
         "type": "scatter",
         "x": [
          1,
          1.5,
          null
         ],
         "y": [
          0,
          -0.8660254037844386,
          null
         ]
        },
        {
         "hoverinfo": "none",
         "line": {
          "color": "#c762d4",
          "width": 5
         },
         "mode": "lines",
         "type": "scatter",
         "x": [
          1,
          0.5,
          null
         ],
         "y": [
          0,
          0.8660254037844386,
          null
         ]
        },
        {
         "hoverinfo": "none",
         "line": {
          "color": "#c762d4",
          "width": 5
         },
         "mode": "lines",
         "type": "scatter",
         "x": [
          1,
          1.5,
          null
         ],
         "y": [
          0,
          0.8660254037844386,
          null
         ]
        },
        {
         "hoverinfo": "none",
         "line": {
          "color": "#c762d4",
          "width": 5
         },
         "mode": "lines",
         "type": "scatter",
         "x": [
          2,
          3,
          null
         ],
         "y": [
          0,
          0,
          null
         ]
        },
        {
         "hoverinfo": "none",
         "line": {
          "color": "#c762d4",
          "width": 5
         },
         "mode": "lines",
         "type": "scatter",
         "x": [
          2,
          1.5,
          null
         ],
         "y": [
          0,
          -0.8660254037844386,
          null
         ]
        },
        {
         "hoverinfo": "none",
         "line": {
          "color": "#c762d4",
          "width": 5
         },
         "mode": "lines",
         "type": "scatter",
         "x": [
          2,
          2.5,
          null
         ],
         "y": [
          0,
          -0.8660254037844386,
          null
         ]
        },
        {
         "hoverinfo": "none",
         "line": {
          "color": "#c762d4",
          "width": 5
         },
         "mode": "lines",
         "type": "scatter",
         "x": [
          2,
          1.5,
          null
         ],
         "y": [
          0,
          0.8660254037844386,
          null
         ]
        },
        {
         "hoverinfo": "none",
         "line": {
          "color": "#c762d4",
          "width": 5
         },
         "mode": "lines",
         "type": "scatter",
         "x": [
          2,
          2.5,
          null
         ],
         "y": [
          0,
          0.8660254037844386,
          null
         ]
        },
        {
         "hoverinfo": "none",
         "line": {
          "color": "#c762d4",
          "width": 5
         },
         "mode": "lines",
         "type": "scatter",
         "x": [
          3,
          4,
          null
         ],
         "y": [
          0,
          0,
          null
         ]
        },
        {
         "hoverinfo": "none",
         "line": {
          "color": "#c762d4",
          "width": 5
         },
         "mode": "lines",
         "type": "scatter",
         "x": [
          3,
          2.5,
          null
         ],
         "y": [
          0,
          -0.8660254037844386,
          null
         ]
        },
        {
         "hoverinfo": "none",
         "line": {
          "color": "#c762d4",
          "width": 5
         },
         "mode": "lines",
         "type": "scatter",
         "x": [
          3,
          3.5,
          null
         ],
         "y": [
          0,
          -0.8660254037844386,
          null
         ]
        },
        {
         "hoverinfo": "none",
         "line": {
          "color": "#c762d4",
          "width": 5
         },
         "mode": "lines",
         "type": "scatter",
         "x": [
          3,
          2.5,
          null
         ],
         "y": [
          0,
          0.8660254037844386,
          null
         ]
        },
        {
         "hoverinfo": "none",
         "line": {
          "color": "#c762d4",
          "width": 5
         },
         "mode": "lines",
         "type": "scatter",
         "x": [
          3,
          3.5,
          null
         ],
         "y": [
          0,
          0.8660254037844386,
          null
         ]
        },
        {
         "hoverinfo": "none",
         "line": {
          "color": "#c762d4",
          "width": 5
         },
         "mode": "lines",
         "type": "scatter",
         "x": [
          4,
          3.5,
          null
         ],
         "y": [
          0,
          -0.8660254037844386,
          null
         ]
        },
        {
         "hoverinfo": "none",
         "line": {
          "color": "#c762d4",
          "width": 5
         },
         "mode": "lines",
         "type": "scatter",
         "x": [
          4,
          3.5,
          null
         ],
         "y": [
          0,
          0.8660254037844386,
          null
         ]
        },
        {
         "hoverinfo": "none",
         "line": {
          "color": "#c762d4",
          "width": 5
         },
         "mode": "lines",
         "type": "scatter",
         "x": [
          0.5,
          1.5,
          null
         ],
         "y": [
          -0.8660254037844386,
          -0.8660254037844386,
          null
         ]
        },
        {
         "hoverinfo": "none",
         "line": {
          "color": "#c762d4",
          "width": 5
         },
         "mode": "lines",
         "type": "scatter",
         "x": [
          0.5,
          1,
          null
         ],
         "y": [
          -0.8660254037844386,
          -1.7320508075688772,
          null
         ]
        },
        {
         "hoverinfo": "none",
         "line": {
          "color": "#c762d4",
          "width": 5
         },
         "mode": "lines",
         "type": "scatter",
         "x": [
          1.5,
          2.5,
          null
         ],
         "y": [
          -0.8660254037844386,
          -0.8660254037844386,
          null
         ]
        },
        {
         "hoverinfo": "none",
         "line": {
          "color": "#c762d4",
          "width": 5
         },
         "mode": "lines",
         "type": "scatter",
         "x": [
          1.5,
          1,
          null
         ],
         "y": [
          -0.8660254037844386,
          -1.7320508075688772,
          null
         ]
        },
        {
         "hoverinfo": "none",
         "line": {
          "color": "#c762d4",
          "width": 5
         },
         "mode": "lines",
         "type": "scatter",
         "x": [
          1.5,
          2,
          null
         ],
         "y": [
          -0.8660254037844386,
          -1.7320508075688772,
          null
         ]
        },
        {
         "hoverinfo": "none",
         "line": {
          "color": "#c762d4",
          "width": 5
         },
         "mode": "lines",
         "type": "scatter",
         "x": [
          2.5,
          3.5,
          null
         ],
         "y": [
          -0.8660254037844386,
          -0.8660254037844386,
          null
         ]
        },
        {
         "hoverinfo": "none",
         "line": {
          "color": "#c762d4",
          "width": 5
         },
         "mode": "lines",
         "type": "scatter",
         "x": [
          2.5,
          2,
          null
         ],
         "y": [
          -0.8660254037844386,
          -1.7320508075688772,
          null
         ]
        },
        {
         "hoverinfo": "none",
         "line": {
          "color": "#c762d4",
          "width": 5
         },
         "mode": "lines",
         "type": "scatter",
         "x": [
          2.5,
          3,
          null
         ],
         "y": [
          -0.8660254037844386,
          -1.7320508075688772,
          null
         ]
        },
        {
         "hoverinfo": "none",
         "line": {
          "color": "#c762d4",
          "width": 5
         },
         "mode": "lines",
         "type": "scatter",
         "x": [
          3.5,
          3,
          null
         ],
         "y": [
          -0.8660254037844386,
          -1.7320508075688772,
          null
         ]
        },
        {
         "hoverinfo": "none",
         "line": {
          "color": "#c762d4",
          "width": 5
         },
         "mode": "lines",
         "type": "scatter",
         "x": [
          1,
          2,
          null
         ],
         "y": [
          -1.7320508075688772,
          -1.7320508075688772,
          null
         ]
        },
        {
         "hoverinfo": "none",
         "line": {
          "color": "#c762d4",
          "width": 5
         },
         "mode": "lines",
         "type": "scatter",
         "x": [
          2,
          3,
          null
         ],
         "y": [
          -1.7320508075688772,
          -1.7320508075688772,
          null
         ]
        },
        {
         "hoverinfo": "none",
         "line": {
          "color": "#c762d4",
          "width": 5
         },
         "mode": "lines",
         "type": "scatter",
         "x": [
          0.5,
          1.5,
          null
         ],
         "y": [
          0.8660254037844386,
          0.8660254037844386,
          null
         ]
        },
        {
         "hoverinfo": "none",
         "line": {
          "color": "#c762d4",
          "width": 5
         },
         "mode": "lines",
         "type": "scatter",
         "x": [
          0.5,
          1,
          null
         ],
         "y": [
          0.8660254037844386,
          1.7320508075688772,
          null
         ]
        },
        {
         "hoverinfo": "none",
         "line": {
          "color": "#c762d4",
          "width": 5
         },
         "mode": "lines",
         "type": "scatter",
         "x": [
          1.5,
          2.5,
          null
         ],
         "y": [
          0.8660254037844386,
          0.8660254037844386,
          null
         ]
        },
        {
         "hoverinfo": "none",
         "line": {
          "color": "#c762d4",
          "width": 5
         },
         "mode": "lines",
         "type": "scatter",
         "x": [
          1.5,
          1,
          null
         ],
         "y": [
          0.8660254037844386,
          1.7320508075688772,
          null
         ]
        },
        {
         "hoverinfo": "none",
         "line": {
          "color": "#c762d4",
          "width": 5
         },
         "mode": "lines",
         "type": "scatter",
         "x": [
          1.5,
          2,
          null
         ],
         "y": [
          0.8660254037844386,
          1.7320508075688772,
          null
         ]
        },
        {
         "hoverinfo": "none",
         "line": {
          "color": "#c762d4",
          "width": 5
         },
         "mode": "lines",
         "type": "scatter",
         "x": [
          2.5,
          3.5,
          null
         ],
         "y": [
          0.8660254037844386,
          0.8660254037844386,
          null
         ]
        },
        {
         "hoverinfo": "none",
         "line": {
          "color": "#c762d4",
          "width": 5
         },
         "mode": "lines",
         "type": "scatter",
         "x": [
          2.5,
          2,
          null
         ],
         "y": [
          0.8660254037844386,
          1.7320508075688772,
          null
         ]
        },
        {
         "hoverinfo": "none",
         "line": {
          "color": "#c762d4",
          "width": 5
         },
         "mode": "lines",
         "type": "scatter",
         "x": [
          2.5,
          3,
          null
         ],
         "y": [
          0.8660254037844386,
          1.7320508075688772,
          null
         ]
        },
        {
         "hoverinfo": "none",
         "line": {
          "color": "#c762d4",
          "width": 5
         },
         "mode": "lines",
         "type": "scatter",
         "x": [
          3.5,
          3,
          null
         ],
         "y": [
          0.8660254037844386,
          1.7320508075688772,
          null
         ]
        },
        {
         "hoverinfo": "none",
         "line": {
          "color": "#c762d4",
          "width": 5
         },
         "mode": "lines",
         "type": "scatter",
         "x": [
          1,
          2,
          null
         ],
         "y": [
          1.7320508075688772,
          1.7320508075688772,
          null
         ]
        },
        {
         "hoverinfo": "none",
         "line": {
          "color": "#c762d4",
          "width": 5
         },
         "mode": "lines",
         "type": "scatter",
         "x": [
          2,
          3,
          null
         ],
         "y": [
          1.7320508075688772,
          1.7320508075688772,
          null
         ]
        },
        {
         "hoverinfo": "text",
         "hoverlabel": {
          "bgcolor": "white"
         },
         "marker": {
          "color": "#c762d4",
          "opacity": 0
         },
         "mode": "markers",
         "text": [
          "label: (0, 1)<br>",
          "label: (0, 5)<br>",
          "label: (0, 12)<br>",
          "label: (1, 2)<br>",
          "label: (1, 5)<br>",
          "label: (1, 6)<br>",
          "label: (1, 12)<br>",
          "label: (1, 13)<br>",
          "label: (2, 3)<br>",
          "label: (2, 6)<br>",
          "label: (2, 7)<br>",
          "label: (2, 13)<br>",
          "label: (2, 14)<br>",
          "label: (3, 4)<br>",
          "label: (3, 7)<br>",
          "label: (3, 8)<br>",
          "label: (3, 14)<br>",
          "label: (3, 15)<br>",
          "label: (4, 8)<br>",
          "label: (4, 15)<br>",
          "label: (5, 6)<br>",
          "label: (5, 9)<br>",
          "label: (6, 7)<br>",
          "label: (6, 9)<br>",
          "label: (6, 10)<br>",
          "label: (7, 8)<br>",
          "label: (7, 10)<br>",
          "label: (7, 11)<br>",
          "label: (8, 11)<br>",
          "label: (9, 10)<br>",
          "label: (10, 11)<br>",
          "label: (12, 13)<br>",
          "label: (12, 16)<br>",
          "label: (13, 14)<br>",
          "label: (13, 16)<br>",
          "label: (13, 17)<br>",
          "label: (14, 15)<br>",
          "label: (14, 17)<br>",
          "label: (14, 18)<br>",
          "label: (15, 18)<br>",
          "label: (16, 17)<br>",
          "label: (17, 18)<br>"
         ],
         "type": "scatter",
         "x": [
          0.5,
          0.25,
          0.25,
          1.5,
          0.75,
          1.25,
          0.75,
          1.25,
          2.5,
          1.75,
          2.25,
          1.75,
          2.25,
          3.5,
          2.75,
          3.25,
          2.75,
          3.25,
          3.75,
          3.75,
          1,
          0.75,
          2,
          1.25,
          1.75,
          3,
          2.25,
          2.75,
          3.25,
          1.5,
          2.5,
          1,
          0.75,
          2,
          1.25,
          1.75,
          3,
          2.25,
          2.75,
          3.25,
          1.5,
          2.5
         ],
         "y": [
          0,
          -0.4330127018922193,
          0.4330127018922193,
          0,
          -0.4330127018922193,
          -0.4330127018922193,
          0.4330127018922193,
          0.4330127018922193,
          0,
          -0.4330127018922193,
          -0.4330127018922193,
          0.4330127018922193,
          0.4330127018922193,
          0,
          -0.4330127018922193,
          -0.4330127018922193,
          0.4330127018922193,
          0.4330127018922193,
          -0.4330127018922193,
          0.4330127018922193,
          -0.8660254037844386,
          -1.299038105676658,
          -0.8660254037844386,
          -1.299038105676658,
          -1.299038105676658,
          -0.8660254037844386,
          -1.299038105676658,
          -1.299038105676658,
          -1.299038105676658,
          -1.7320508075688772,
          -1.7320508075688772,
          0.8660254037844386,
          1.299038105676658,
          0.8660254037844386,
          1.299038105676658,
          1.299038105676658,
          0.8660254037844386,
          1.299038105676658,
          1.299038105676658,
          1.299038105676658,
          1.7320508075688772,
          1.7320508075688772
         ]
        }
       ],
       "layout": {
        "autosize": true,
        "margin": {
         "b": 0,
         "l": 0,
         "r": 0,
         "t": 0
        },
        "scene": {
         "aspectmode": "data"
        },
        "showlegend": false,
        "template": {
         "data": {
          "bar": [
           {
            "error_x": {
             "color": "#2a3f5f"
            },
            "error_y": {
             "color": "#2a3f5f"
            },
            "marker": {
             "line": {
              "color": "#E5ECF6",
              "width": 0.5
             },
             "pattern": {
              "fillmode": "overlay",
              "size": 10,
              "solidity": 0.2
             }
            },
            "type": "bar"
           }
          ],
          "barpolar": [
           {
            "marker": {
             "line": {
              "color": "#E5ECF6",
              "width": 0.5
             },
             "pattern": {
              "fillmode": "overlay",
              "size": 10,
              "solidity": 0.2
             }
            },
            "type": "barpolar"
           }
          ],
          "carpet": [
           {
            "aaxis": {
             "endlinecolor": "#2a3f5f",
             "gridcolor": "white",
             "linecolor": "white",
             "minorgridcolor": "white",
             "startlinecolor": "#2a3f5f"
            },
            "baxis": {
             "endlinecolor": "#2a3f5f",
             "gridcolor": "white",
             "linecolor": "white",
             "minorgridcolor": "white",
             "startlinecolor": "#2a3f5f"
            },
            "type": "carpet"
           }
          ],
          "choropleth": [
           {
            "colorbar": {
             "outlinewidth": 0,
             "ticks": ""
            },
            "type": "choropleth"
           }
          ],
          "contour": [
           {
            "colorbar": {
             "outlinewidth": 0,
             "ticks": ""
            },
            "colorscale": [
             [
              0,
              "#0d0887"
             ],
             [
              0.1111111111111111,
              "#46039f"
             ],
             [
              0.2222222222222222,
              "#7201a8"
             ],
             [
              0.3333333333333333,
              "#9c179e"
             ],
             [
              0.4444444444444444,
              "#bd3786"
             ],
             [
              0.5555555555555556,
              "#d8576b"
             ],
             [
              0.6666666666666666,
              "#ed7953"
             ],
             [
              0.7777777777777778,
              "#fb9f3a"
             ],
             [
              0.8888888888888888,
              "#fdca26"
             ],
             [
              1,
              "#f0f921"
             ]
            ],
            "type": "contour"
           }
          ],
          "contourcarpet": [
           {
            "colorbar": {
             "outlinewidth": 0,
             "ticks": ""
            },
            "type": "contourcarpet"
           }
          ],
          "heatmap": [
           {
            "colorbar": {
             "outlinewidth": 0,
             "ticks": ""
            },
            "colorscale": [
             [
              0,
              "#0d0887"
             ],
             [
              0.1111111111111111,
              "#46039f"
             ],
             [
              0.2222222222222222,
              "#7201a8"
             ],
             [
              0.3333333333333333,
              "#9c179e"
             ],
             [
              0.4444444444444444,
              "#bd3786"
             ],
             [
              0.5555555555555556,
              "#d8576b"
             ],
             [
              0.6666666666666666,
              "#ed7953"
             ],
             [
              0.7777777777777778,
              "#fb9f3a"
             ],
             [
              0.8888888888888888,
              "#fdca26"
             ],
             [
              1,
              "#f0f921"
             ]
            ],
            "type": "heatmap"
           }
          ],
          "heatmapgl": [
           {
            "colorbar": {
             "outlinewidth": 0,
             "ticks": ""
            },
            "colorscale": [
             [
              0,
              "#0d0887"
             ],
             [
              0.1111111111111111,
              "#46039f"
             ],
             [
              0.2222222222222222,
              "#7201a8"
             ],
             [
              0.3333333333333333,
              "#9c179e"
             ],
             [
              0.4444444444444444,
              "#bd3786"
             ],
             [
              0.5555555555555556,
              "#d8576b"
             ],
             [
              0.6666666666666666,
              "#ed7953"
             ],
             [
              0.7777777777777778,
              "#fb9f3a"
             ],
             [
              0.8888888888888888,
              "#fdca26"
             ],
             [
              1,
              "#f0f921"
             ]
            ],
            "type": "heatmapgl"
           }
          ],
          "histogram": [
           {
            "marker": {
             "pattern": {
              "fillmode": "overlay",
              "size": 10,
              "solidity": 0.2
             }
            },
            "type": "histogram"
           }
          ],
          "histogram2d": [
           {
            "colorbar": {
             "outlinewidth": 0,
             "ticks": ""
            },
            "colorscale": [
             [
              0,
              "#0d0887"
             ],
             [
              0.1111111111111111,
              "#46039f"
             ],
             [
              0.2222222222222222,
              "#7201a8"
             ],
             [
              0.3333333333333333,
              "#9c179e"
             ],
             [
              0.4444444444444444,
              "#bd3786"
             ],
             [
              0.5555555555555556,
              "#d8576b"
             ],
             [
              0.6666666666666666,
              "#ed7953"
             ],
             [
              0.7777777777777778,
              "#fb9f3a"
             ],
             [
              0.8888888888888888,
              "#fdca26"
             ],
             [
              1,
              "#f0f921"
             ]
            ],
            "type": "histogram2d"
           }
          ],
          "histogram2dcontour": [
           {
            "colorbar": {
             "outlinewidth": 0,
             "ticks": ""
            },
            "colorscale": [
             [
              0,
              "#0d0887"
             ],
             [
              0.1111111111111111,
              "#46039f"
             ],
             [
              0.2222222222222222,
              "#7201a8"
             ],
             [
              0.3333333333333333,
              "#9c179e"
             ],
             [
              0.4444444444444444,
              "#bd3786"
             ],
             [
              0.5555555555555556,
              "#d8576b"
             ],
             [
              0.6666666666666666,
              "#ed7953"
             ],
             [
              0.7777777777777778,
              "#fb9f3a"
             ],
             [
              0.8888888888888888,
              "#fdca26"
             ],
             [
              1,
              "#f0f921"
             ]
            ],
            "type": "histogram2dcontour"
           }
          ],
          "mesh3d": [
           {
            "colorbar": {
             "outlinewidth": 0,
             "ticks": ""
            },
            "type": "mesh3d"
           }
          ],
          "parcoords": [
           {
            "line": {
             "colorbar": {
              "outlinewidth": 0,
              "ticks": ""
             }
            },
            "type": "parcoords"
           }
          ],
          "pie": [
           {
            "automargin": true,
            "type": "pie"
           }
          ],
          "scatter": [
           {
            "marker": {
             "colorbar": {
              "outlinewidth": 0,
              "ticks": ""
             }
            },
            "type": "scatter"
           }
          ],
          "scatter3d": [
           {
            "line": {
             "colorbar": {
              "outlinewidth": 0,
              "ticks": ""
             }
            },
            "marker": {
             "colorbar": {
              "outlinewidth": 0,
              "ticks": ""
             }
            },
            "type": "scatter3d"
           }
          ],
          "scattercarpet": [
           {
            "marker": {
             "colorbar": {
              "outlinewidth": 0,
              "ticks": ""
             }
            },
            "type": "scattercarpet"
           }
          ],
          "scattergeo": [
           {
            "marker": {
             "colorbar": {
              "outlinewidth": 0,
              "ticks": ""
             }
            },
            "type": "scattergeo"
           }
          ],
          "scattergl": [
           {
            "marker": {
             "colorbar": {
              "outlinewidth": 0,
              "ticks": ""
             }
            },
            "type": "scattergl"
           }
          ],
          "scattermapbox": [
           {
            "marker": {
             "colorbar": {
              "outlinewidth": 0,
              "ticks": ""
             }
            },
            "type": "scattermapbox"
           }
          ],
          "scatterpolar": [
           {
            "marker": {
             "colorbar": {
              "outlinewidth": 0,
              "ticks": ""
             }
            },
            "type": "scatterpolar"
           }
          ],
          "scatterpolargl": [
           {
            "marker": {
             "colorbar": {
              "outlinewidth": 0,
              "ticks": ""
             }
            },
            "type": "scatterpolargl"
           }
          ],
          "scatterternary": [
           {
            "marker": {
             "colorbar": {
              "outlinewidth": 0,
              "ticks": ""
             }
            },
            "type": "scatterternary"
           }
          ],
          "surface": [
           {
            "colorbar": {
             "outlinewidth": 0,
             "ticks": ""
            },
            "colorscale": [
             [
              0,
              "#0d0887"
             ],
             [
              0.1111111111111111,
              "#46039f"
             ],
             [
              0.2222222222222222,
              "#7201a8"
             ],
             [
              0.3333333333333333,
              "#9c179e"
             ],
             [
              0.4444444444444444,
              "#bd3786"
             ],
             [
              0.5555555555555556,
              "#d8576b"
             ],
             [
              0.6666666666666666,
              "#ed7953"
             ],
             [
              0.7777777777777778,
              "#fb9f3a"
             ],
             [
              0.8888888888888888,
              "#fdca26"
             ],
             [
              1,
              "#f0f921"
             ]
            ],
            "type": "surface"
           }
          ],
          "table": [
           {
            "cells": {
             "fill": {
              "color": "#EBF0F8"
             },
             "line": {
              "color": "white"
             }
            },
            "header": {
             "fill": {
              "color": "#C8D4E3"
             },
             "line": {
              "color": "white"
             }
            },
            "type": "table"
           }
          ]
         },
         "layout": {
          "annotationdefaults": {
           "arrowcolor": "#2a3f5f",
           "arrowhead": 0,
           "arrowwidth": 1
          },
          "autotypenumbers": "strict",
          "coloraxis": {
           "colorbar": {
            "outlinewidth": 0,
            "ticks": ""
           }
          },
          "colorscale": {
           "diverging": [
            [
             0,
             "#8e0152"
            ],
            [
             0.1,
             "#c51b7d"
            ],
            [
             0.2,
             "#de77ae"
            ],
            [
             0.3,
             "#f1b6da"
            ],
            [
             0.4,
             "#fde0ef"
            ],
            [
             0.5,
             "#f7f7f7"
            ],
            [
             0.6,
             "#e6f5d0"
            ],
            [
             0.7,
             "#b8e186"
            ],
            [
             0.8,
             "#7fbc41"
            ],
            [
             0.9,
             "#4d9221"
            ],
            [
             1,
             "#276419"
            ]
           ],
           "sequential": [
            [
             0,
             "#0d0887"
            ],
            [
             0.1111111111111111,
             "#46039f"
            ],
            [
             0.2222222222222222,
             "#7201a8"
            ],
            [
             0.3333333333333333,
             "#9c179e"
            ],
            [
             0.4444444444444444,
             "#bd3786"
            ],
            [
             0.5555555555555556,
             "#d8576b"
            ],
            [
             0.6666666666666666,
             "#ed7953"
            ],
            [
             0.7777777777777778,
             "#fb9f3a"
            ],
            [
             0.8888888888888888,
             "#fdca26"
            ],
            [
             1,
             "#f0f921"
            ]
           ],
           "sequentialminus": [
            [
             0,
             "#0d0887"
            ],
            [
             0.1111111111111111,
             "#46039f"
            ],
            [
             0.2222222222222222,
             "#7201a8"
            ],
            [
             0.3333333333333333,
             "#9c179e"
            ],
            [
             0.4444444444444444,
             "#bd3786"
            ],
            [
             0.5555555555555556,
             "#d8576b"
            ],
            [
             0.6666666666666666,
             "#ed7953"
            ],
            [
             0.7777777777777778,
             "#fb9f3a"
            ],
            [
             0.8888888888888888,
             "#fdca26"
            ],
            [
             1,
             "#f0f921"
            ]
           ]
          },
          "colorway": [
           "#636efa",
           "#EF553B",
           "#00cc96",
           "#ab63fa",
           "#FFA15A",
           "#19d3f3",
           "#FF6692",
           "#B6E880",
           "#FF97FF",
           "#FECB52"
          ],
          "font": {
           "color": "#2a3f5f"
          },
          "geo": {
           "bgcolor": "white",
           "lakecolor": "white",
           "landcolor": "#E5ECF6",
           "showlakes": true,
           "showland": true,
           "subunitcolor": "white"
          },
          "hoverlabel": {
           "align": "left"
          },
          "hovermode": "closest",
          "mapbox": {
           "style": "light"
          },
          "paper_bgcolor": "white",
          "plot_bgcolor": "#E5ECF6",
          "polar": {
           "angularaxis": {
            "gridcolor": "white",
            "linecolor": "white",
            "ticks": ""
           },
           "bgcolor": "#E5ECF6",
           "radialaxis": {
            "gridcolor": "white",
            "linecolor": "white",
            "ticks": ""
           }
          },
          "scene": {
           "xaxis": {
            "backgroundcolor": "#E5ECF6",
            "gridcolor": "white",
            "gridwidth": 2,
            "linecolor": "white",
            "showbackground": true,
            "ticks": "",
            "zerolinecolor": "white"
           },
           "yaxis": {
            "backgroundcolor": "#E5ECF6",
            "gridcolor": "white",
            "gridwidth": 2,
            "linecolor": "white",
            "showbackground": true,
            "ticks": "",
            "zerolinecolor": "white"
           },
           "zaxis": {
            "backgroundcolor": "#E5ECF6",
            "gridcolor": "white",
            "gridwidth": 2,
            "linecolor": "white",
            "showbackground": true,
            "ticks": "",
            "zerolinecolor": "white"
           }
          },
          "shapedefaults": {
           "line": {
            "color": "#2a3f5f"
           }
          },
          "ternary": {
           "aaxis": {
            "gridcolor": "white",
            "linecolor": "white",
            "ticks": ""
           },
           "baxis": {
            "gridcolor": "white",
            "linecolor": "white",
            "ticks": ""
           },
           "bgcolor": "#E5ECF6",
           "caxis": {
            "gridcolor": "white",
            "linecolor": "white",
            "ticks": ""
           }
          },
          "title": {
           "x": 0.05
          },
          "xaxis": {
           "automargin": true,
           "gridcolor": "white",
           "linecolor": "white",
           "ticks": "",
           "title": {
            "standoff": 15
           },
           "zerolinecolor": "white",
           "zerolinewidth": 2
          },
          "yaxis": {
           "automargin": true,
           "gridcolor": "white",
           "linecolor": "white",
           "ticks": "",
           "title": {
            "standoff": 15
           },
           "zerolinecolor": "white",
           "zerolinewidth": 2
          }
         }
        }
       }
      },
      "text/html": [
       "<div>                            <div id=\"ad900e26-8767-4096-a93b-3bad20beff9e\" class=\"plotly-graph-div\" style=\"height:525px; width:100%;\"></div>            <script type=\"text/javascript\">                require([\"plotly\"], function(Plotly) {                    window.PLOTLYENV=window.PLOTLYENV || {};                                    if (document.getElementById(\"ad900e26-8767-4096-a93b-3bad20beff9e\")) {                    Plotly.newPlot(                        \"ad900e26-8767-4096-a93b-3bad20beff9e\",                        [{\"hoverinfo\":\"text\",\"hovertext\":[\"label: 0<br>\",\"label: 1<br>\",\"label: 2<br>\",\"label: 3<br>\",\"label: 4<br>\",\"label: 5<br>\",\"label: 6<br>\",\"label: 7<br>\",\"label: 8<br>\",\"label: 9<br>\",\"label: 10<br>\",\"label: 11<br>\",\"label: 12<br>\",\"label: 13<br>\",\"label: 14<br>\",\"label: 15<br>\",\"label: 16<br>\",\"label: 17<br>\",\"label: 18<br>\"],\"marker\":{\"color\":\"#a845b5\",\"line\":{\"width\":2},\"size\":2},\"mode\":\"markers\",\"x\":[0.0,1.0,2.0,3.0,4.0,0.5,1.5,2.5,3.5,1.0,2.0,3.0,0.5,1.5,2.5,3.5,1.0,2.0,3.0],\"y\":[0.0,0.0,0.0,0.0,0.0,-0.8660254037844386,-0.8660254037844386,-0.8660254037844386,-0.8660254037844386,-1.7320508075688772,-1.7320508075688772,-1.7320508075688772,0.8660254037844386,0.8660254037844386,0.8660254037844386,0.8660254037844386,1.7320508075688772,1.7320508075688772,1.7320508075688772],\"type\":\"scatter\"},{\"hoverinfo\":\"none\",\"line\":{\"color\":\"#c762d4\",\"width\":5},\"mode\":\"lines\",\"x\":[0.0,1.0,null],\"y\":[0.0,0.0,null],\"type\":\"scatter\"},{\"hoverinfo\":\"none\",\"line\":{\"color\":\"#c762d4\",\"width\":5},\"mode\":\"lines\",\"x\":[0.0,0.5,null],\"y\":[0.0,-0.8660254037844386,null],\"type\":\"scatter\"},{\"hoverinfo\":\"none\",\"line\":{\"color\":\"#c762d4\",\"width\":5},\"mode\":\"lines\",\"x\":[0.0,0.5,null],\"y\":[0.0,0.8660254037844386,null],\"type\":\"scatter\"},{\"hoverinfo\":\"none\",\"line\":{\"color\":\"#c762d4\",\"width\":5},\"mode\":\"lines\",\"x\":[1.0,2.0,null],\"y\":[0.0,0.0,null],\"type\":\"scatter\"},{\"hoverinfo\":\"none\",\"line\":{\"color\":\"#c762d4\",\"width\":5},\"mode\":\"lines\",\"x\":[1.0,0.5,null],\"y\":[0.0,-0.8660254037844386,null],\"type\":\"scatter\"},{\"hoverinfo\":\"none\",\"line\":{\"color\":\"#c762d4\",\"width\":5},\"mode\":\"lines\",\"x\":[1.0,1.5,null],\"y\":[0.0,-0.8660254037844386,null],\"type\":\"scatter\"},{\"hoverinfo\":\"none\",\"line\":{\"color\":\"#c762d4\",\"width\":5},\"mode\":\"lines\",\"x\":[1.0,0.5,null],\"y\":[0.0,0.8660254037844386,null],\"type\":\"scatter\"},{\"hoverinfo\":\"none\",\"line\":{\"color\":\"#c762d4\",\"width\":5},\"mode\":\"lines\",\"x\":[1.0,1.5,null],\"y\":[0.0,0.8660254037844386,null],\"type\":\"scatter\"},{\"hoverinfo\":\"none\",\"line\":{\"color\":\"#c762d4\",\"width\":5},\"mode\":\"lines\",\"x\":[2.0,3.0,null],\"y\":[0.0,0.0,null],\"type\":\"scatter\"},{\"hoverinfo\":\"none\",\"line\":{\"color\":\"#c762d4\",\"width\":5},\"mode\":\"lines\",\"x\":[2.0,1.5,null],\"y\":[0.0,-0.8660254037844386,null],\"type\":\"scatter\"},{\"hoverinfo\":\"none\",\"line\":{\"color\":\"#c762d4\",\"width\":5},\"mode\":\"lines\",\"x\":[2.0,2.5,null],\"y\":[0.0,-0.8660254037844386,null],\"type\":\"scatter\"},{\"hoverinfo\":\"none\",\"line\":{\"color\":\"#c762d4\",\"width\":5},\"mode\":\"lines\",\"x\":[2.0,1.5,null],\"y\":[0.0,0.8660254037844386,null],\"type\":\"scatter\"},{\"hoverinfo\":\"none\",\"line\":{\"color\":\"#c762d4\",\"width\":5},\"mode\":\"lines\",\"x\":[2.0,2.5,null],\"y\":[0.0,0.8660254037844386,null],\"type\":\"scatter\"},{\"hoverinfo\":\"none\",\"line\":{\"color\":\"#c762d4\",\"width\":5},\"mode\":\"lines\",\"x\":[3.0,4.0,null],\"y\":[0.0,0.0,null],\"type\":\"scatter\"},{\"hoverinfo\":\"none\",\"line\":{\"color\":\"#c762d4\",\"width\":5},\"mode\":\"lines\",\"x\":[3.0,2.5,null],\"y\":[0.0,-0.8660254037844386,null],\"type\":\"scatter\"},{\"hoverinfo\":\"none\",\"line\":{\"color\":\"#c762d4\",\"width\":5},\"mode\":\"lines\",\"x\":[3.0,3.5,null],\"y\":[0.0,-0.8660254037844386,null],\"type\":\"scatter\"},{\"hoverinfo\":\"none\",\"line\":{\"color\":\"#c762d4\",\"width\":5},\"mode\":\"lines\",\"x\":[3.0,2.5,null],\"y\":[0.0,0.8660254037844386,null],\"type\":\"scatter\"},{\"hoverinfo\":\"none\",\"line\":{\"color\":\"#c762d4\",\"width\":5},\"mode\":\"lines\",\"x\":[3.0,3.5,null],\"y\":[0.0,0.8660254037844386,null],\"type\":\"scatter\"},{\"hoverinfo\":\"none\",\"line\":{\"color\":\"#c762d4\",\"width\":5},\"mode\":\"lines\",\"x\":[4.0,3.5,null],\"y\":[0.0,-0.8660254037844386,null],\"type\":\"scatter\"},{\"hoverinfo\":\"none\",\"line\":{\"color\":\"#c762d4\",\"width\":5},\"mode\":\"lines\",\"x\":[4.0,3.5,null],\"y\":[0.0,0.8660254037844386,null],\"type\":\"scatter\"},{\"hoverinfo\":\"none\",\"line\":{\"color\":\"#c762d4\",\"width\":5},\"mode\":\"lines\",\"x\":[0.5,1.5,null],\"y\":[-0.8660254037844386,-0.8660254037844386,null],\"type\":\"scatter\"},{\"hoverinfo\":\"none\",\"line\":{\"color\":\"#c762d4\",\"width\":5},\"mode\":\"lines\",\"x\":[0.5,1.0,null],\"y\":[-0.8660254037844386,-1.7320508075688772,null],\"type\":\"scatter\"},{\"hoverinfo\":\"none\",\"line\":{\"color\":\"#c762d4\",\"width\":5},\"mode\":\"lines\",\"x\":[1.5,2.5,null],\"y\":[-0.8660254037844386,-0.8660254037844386,null],\"type\":\"scatter\"},{\"hoverinfo\":\"none\",\"line\":{\"color\":\"#c762d4\",\"width\":5},\"mode\":\"lines\",\"x\":[1.5,1.0,null],\"y\":[-0.8660254037844386,-1.7320508075688772,null],\"type\":\"scatter\"},{\"hoverinfo\":\"none\",\"line\":{\"color\":\"#c762d4\",\"width\":5},\"mode\":\"lines\",\"x\":[1.5,2.0,null],\"y\":[-0.8660254037844386,-1.7320508075688772,null],\"type\":\"scatter\"},{\"hoverinfo\":\"none\",\"line\":{\"color\":\"#c762d4\",\"width\":5},\"mode\":\"lines\",\"x\":[2.5,3.5,null],\"y\":[-0.8660254037844386,-0.8660254037844386,null],\"type\":\"scatter\"},{\"hoverinfo\":\"none\",\"line\":{\"color\":\"#c762d4\",\"width\":5},\"mode\":\"lines\",\"x\":[2.5,2.0,null],\"y\":[-0.8660254037844386,-1.7320508075688772,null],\"type\":\"scatter\"},{\"hoverinfo\":\"none\",\"line\":{\"color\":\"#c762d4\",\"width\":5},\"mode\":\"lines\",\"x\":[2.5,3.0,null],\"y\":[-0.8660254037844386,-1.7320508075688772,null],\"type\":\"scatter\"},{\"hoverinfo\":\"none\",\"line\":{\"color\":\"#c762d4\",\"width\":5},\"mode\":\"lines\",\"x\":[3.5,3.0,null],\"y\":[-0.8660254037844386,-1.7320508075688772,null],\"type\":\"scatter\"},{\"hoverinfo\":\"none\",\"line\":{\"color\":\"#c762d4\",\"width\":5},\"mode\":\"lines\",\"x\":[1.0,2.0,null],\"y\":[-1.7320508075688772,-1.7320508075688772,null],\"type\":\"scatter\"},{\"hoverinfo\":\"none\",\"line\":{\"color\":\"#c762d4\",\"width\":5},\"mode\":\"lines\",\"x\":[2.0,3.0,null],\"y\":[-1.7320508075688772,-1.7320508075688772,null],\"type\":\"scatter\"},{\"hoverinfo\":\"none\",\"line\":{\"color\":\"#c762d4\",\"width\":5},\"mode\":\"lines\",\"x\":[0.5,1.5,null],\"y\":[0.8660254037844386,0.8660254037844386,null],\"type\":\"scatter\"},{\"hoverinfo\":\"none\",\"line\":{\"color\":\"#c762d4\",\"width\":5},\"mode\":\"lines\",\"x\":[0.5,1.0,null],\"y\":[0.8660254037844386,1.7320508075688772,null],\"type\":\"scatter\"},{\"hoverinfo\":\"none\",\"line\":{\"color\":\"#c762d4\",\"width\":5},\"mode\":\"lines\",\"x\":[1.5,2.5,null],\"y\":[0.8660254037844386,0.8660254037844386,null],\"type\":\"scatter\"},{\"hoverinfo\":\"none\",\"line\":{\"color\":\"#c762d4\",\"width\":5},\"mode\":\"lines\",\"x\":[1.5,1.0,null],\"y\":[0.8660254037844386,1.7320508075688772,null],\"type\":\"scatter\"},{\"hoverinfo\":\"none\",\"line\":{\"color\":\"#c762d4\",\"width\":5},\"mode\":\"lines\",\"x\":[1.5,2.0,null],\"y\":[0.8660254037844386,1.7320508075688772,null],\"type\":\"scatter\"},{\"hoverinfo\":\"none\",\"line\":{\"color\":\"#c762d4\",\"width\":5},\"mode\":\"lines\",\"x\":[2.5,3.5,null],\"y\":[0.8660254037844386,0.8660254037844386,null],\"type\":\"scatter\"},{\"hoverinfo\":\"none\",\"line\":{\"color\":\"#c762d4\",\"width\":5},\"mode\":\"lines\",\"x\":[2.5,2.0,null],\"y\":[0.8660254037844386,1.7320508075688772,null],\"type\":\"scatter\"},{\"hoverinfo\":\"none\",\"line\":{\"color\":\"#c762d4\",\"width\":5},\"mode\":\"lines\",\"x\":[2.5,3.0,null],\"y\":[0.8660254037844386,1.7320508075688772,null],\"type\":\"scatter\"},{\"hoverinfo\":\"none\",\"line\":{\"color\":\"#c762d4\",\"width\":5},\"mode\":\"lines\",\"x\":[3.5,3.0,null],\"y\":[0.8660254037844386,1.7320508075688772,null],\"type\":\"scatter\"},{\"hoverinfo\":\"none\",\"line\":{\"color\":\"#c762d4\",\"width\":5},\"mode\":\"lines\",\"x\":[1.0,2.0,null],\"y\":[1.7320508075688772,1.7320508075688772,null],\"type\":\"scatter\"},{\"hoverinfo\":\"none\",\"line\":{\"color\":\"#c762d4\",\"width\":5},\"mode\":\"lines\",\"x\":[2.0,3.0,null],\"y\":[1.7320508075688772,1.7320508075688772,null],\"type\":\"scatter\"},{\"hoverinfo\":\"text\",\"hoverlabel\":{\"bgcolor\":\"white\"},\"marker\":{\"color\":\"#c762d4\",\"opacity\":0},\"mode\":\"markers\",\"text\":[\"label: (0, 1)<br>\",\"label: (0, 5)<br>\",\"label: (0, 12)<br>\",\"label: (1, 2)<br>\",\"label: (1, 5)<br>\",\"label: (1, 6)<br>\",\"label: (1, 12)<br>\",\"label: (1, 13)<br>\",\"label: (2, 3)<br>\",\"label: (2, 6)<br>\",\"label: (2, 7)<br>\",\"label: (2, 13)<br>\",\"label: (2, 14)<br>\",\"label: (3, 4)<br>\",\"label: (3, 7)<br>\",\"label: (3, 8)<br>\",\"label: (3, 14)<br>\",\"label: (3, 15)<br>\",\"label: (4, 8)<br>\",\"label: (4, 15)<br>\",\"label: (5, 6)<br>\",\"label: (5, 9)<br>\",\"label: (6, 7)<br>\",\"label: (6, 9)<br>\",\"label: (6, 10)<br>\",\"label: (7, 8)<br>\",\"label: (7, 10)<br>\",\"label: (7, 11)<br>\",\"label: (8, 11)<br>\",\"label: (9, 10)<br>\",\"label: (10, 11)<br>\",\"label: (12, 13)<br>\",\"label: (12, 16)<br>\",\"label: (13, 14)<br>\",\"label: (13, 16)<br>\",\"label: (13, 17)<br>\",\"label: (14, 15)<br>\",\"label: (14, 17)<br>\",\"label: (14, 18)<br>\",\"label: (15, 18)<br>\",\"label: (16, 17)<br>\",\"label: (17, 18)<br>\"],\"x\":[0.5,0.25,0.25,1.5,0.75,1.25,0.75,1.25,2.5,1.75,2.25,1.75,2.25,3.5,2.75,3.25,2.75,3.25,3.75,3.75,1.0,0.75,2.0,1.25,1.75,3.0,2.25,2.75,3.25,1.5,2.5,1.0,0.75,2.0,1.25,1.75,3.0,2.25,2.75,3.25,1.5,2.5],\"y\":[0.0,-0.4330127018922193,0.4330127018922193,0.0,-0.4330127018922193,-0.4330127018922193,0.4330127018922193,0.4330127018922193,0.0,-0.4330127018922193,-0.4330127018922193,0.4330127018922193,0.4330127018922193,0.0,-0.4330127018922193,-0.4330127018922193,0.4330127018922193,0.4330127018922193,-0.4330127018922193,0.4330127018922193,-0.8660254037844386,-1.299038105676658,-0.8660254037844386,-1.299038105676658,-1.299038105676658,-0.8660254037844386,-1.299038105676658,-1.299038105676658,-1.299038105676658,-1.7320508075688772,-1.7320508075688772,0.8660254037844386,1.299038105676658,0.8660254037844386,1.299038105676658,1.299038105676658,0.8660254037844386,1.299038105676658,1.299038105676658,1.299038105676658,1.7320508075688772,1.7320508075688772],\"type\":\"scatter\"}],                        {\"template\":{\"data\":{\"bar\":[{\"error_x\":{\"color\":\"#2a3f5f\"},\"error_y\":{\"color\":\"#2a3f5f\"},\"marker\":{\"line\":{\"color\":\"#E5ECF6\",\"width\":0.5},\"pattern\":{\"fillmode\":\"overlay\",\"size\":10,\"solidity\":0.2}},\"type\":\"bar\"}],\"barpolar\":[{\"marker\":{\"line\":{\"color\":\"#E5ECF6\",\"width\":0.5},\"pattern\":{\"fillmode\":\"overlay\",\"size\":10,\"solidity\":0.2}},\"type\":\"barpolar\"}],\"carpet\":[{\"aaxis\":{\"endlinecolor\":\"#2a3f5f\",\"gridcolor\":\"white\",\"linecolor\":\"white\",\"minorgridcolor\":\"white\",\"startlinecolor\":\"#2a3f5f\"},\"baxis\":{\"endlinecolor\":\"#2a3f5f\",\"gridcolor\":\"white\",\"linecolor\":\"white\",\"minorgridcolor\":\"white\",\"startlinecolor\":\"#2a3f5f\"},\"type\":\"carpet\"}],\"choropleth\":[{\"colorbar\":{\"outlinewidth\":0,\"ticks\":\"\"},\"type\":\"choropleth\"}],\"contour\":[{\"colorbar\":{\"outlinewidth\":0,\"ticks\":\"\"},\"colorscale\":[[0.0,\"#0d0887\"],[0.1111111111111111,\"#46039f\"],[0.2222222222222222,\"#7201a8\"],[0.3333333333333333,\"#9c179e\"],[0.4444444444444444,\"#bd3786\"],[0.5555555555555556,\"#d8576b\"],[0.6666666666666666,\"#ed7953\"],[0.7777777777777778,\"#fb9f3a\"],[0.8888888888888888,\"#fdca26\"],[1.0,\"#f0f921\"]],\"type\":\"contour\"}],\"contourcarpet\":[{\"colorbar\":{\"outlinewidth\":0,\"ticks\":\"\"},\"type\":\"contourcarpet\"}],\"heatmap\":[{\"colorbar\":{\"outlinewidth\":0,\"ticks\":\"\"},\"colorscale\":[[0.0,\"#0d0887\"],[0.1111111111111111,\"#46039f\"],[0.2222222222222222,\"#7201a8\"],[0.3333333333333333,\"#9c179e\"],[0.4444444444444444,\"#bd3786\"],[0.5555555555555556,\"#d8576b\"],[0.6666666666666666,\"#ed7953\"],[0.7777777777777778,\"#fb9f3a\"],[0.8888888888888888,\"#fdca26\"],[1.0,\"#f0f921\"]],\"type\":\"heatmap\"}],\"heatmapgl\":[{\"colorbar\":{\"outlinewidth\":0,\"ticks\":\"\"},\"colorscale\":[[0.0,\"#0d0887\"],[0.1111111111111111,\"#46039f\"],[0.2222222222222222,\"#7201a8\"],[0.3333333333333333,\"#9c179e\"],[0.4444444444444444,\"#bd3786\"],[0.5555555555555556,\"#d8576b\"],[0.6666666666666666,\"#ed7953\"],[0.7777777777777778,\"#fb9f3a\"],[0.8888888888888888,\"#fdca26\"],[1.0,\"#f0f921\"]],\"type\":\"heatmapgl\"}],\"histogram\":[{\"marker\":{\"pattern\":{\"fillmode\":\"overlay\",\"size\":10,\"solidity\":0.2}},\"type\":\"histogram\"}],\"histogram2d\":[{\"colorbar\":{\"outlinewidth\":0,\"ticks\":\"\"},\"colorscale\":[[0.0,\"#0d0887\"],[0.1111111111111111,\"#46039f\"],[0.2222222222222222,\"#7201a8\"],[0.3333333333333333,\"#9c179e\"],[0.4444444444444444,\"#bd3786\"],[0.5555555555555556,\"#d8576b\"],[0.6666666666666666,\"#ed7953\"],[0.7777777777777778,\"#fb9f3a\"],[0.8888888888888888,\"#fdca26\"],[1.0,\"#f0f921\"]],\"type\":\"histogram2d\"}],\"histogram2dcontour\":[{\"colorbar\":{\"outlinewidth\":0,\"ticks\":\"\"},\"colorscale\":[[0.0,\"#0d0887\"],[0.1111111111111111,\"#46039f\"],[0.2222222222222222,\"#7201a8\"],[0.3333333333333333,\"#9c179e\"],[0.4444444444444444,\"#bd3786\"],[0.5555555555555556,\"#d8576b\"],[0.6666666666666666,\"#ed7953\"],[0.7777777777777778,\"#fb9f3a\"],[0.8888888888888888,\"#fdca26\"],[1.0,\"#f0f921\"]],\"type\":\"histogram2dcontour\"}],\"mesh3d\":[{\"colorbar\":{\"outlinewidth\":0,\"ticks\":\"\"},\"type\":\"mesh3d\"}],\"parcoords\":[{\"line\":{\"colorbar\":{\"outlinewidth\":0,\"ticks\":\"\"}},\"type\":\"parcoords\"}],\"pie\":[{\"automargin\":true,\"type\":\"pie\"}],\"scatter\":[{\"marker\":{\"colorbar\":{\"outlinewidth\":0,\"ticks\":\"\"}},\"type\":\"scatter\"}],\"scatter3d\":[{\"line\":{\"colorbar\":{\"outlinewidth\":0,\"ticks\":\"\"}},\"marker\":{\"colorbar\":{\"outlinewidth\":0,\"ticks\":\"\"}},\"type\":\"scatter3d\"}],\"scattercarpet\":[{\"marker\":{\"colorbar\":{\"outlinewidth\":0,\"ticks\":\"\"}},\"type\":\"scattercarpet\"}],\"scattergeo\":[{\"marker\":{\"colorbar\":{\"outlinewidth\":0,\"ticks\":\"\"}},\"type\":\"scattergeo\"}],\"scattergl\":[{\"marker\":{\"colorbar\":{\"outlinewidth\":0,\"ticks\":\"\"}},\"type\":\"scattergl\"}],\"scattermapbox\":[{\"marker\":{\"colorbar\":{\"outlinewidth\":0,\"ticks\":\"\"}},\"type\":\"scattermapbox\"}],\"scatterpolar\":[{\"marker\":{\"colorbar\":{\"outlinewidth\":0,\"ticks\":\"\"}},\"type\":\"scatterpolar\"}],\"scatterpolargl\":[{\"marker\":{\"colorbar\":{\"outlinewidth\":0,\"ticks\":\"\"}},\"type\":\"scatterpolargl\"}],\"scatterternary\":[{\"marker\":{\"colorbar\":{\"outlinewidth\":0,\"ticks\":\"\"}},\"type\":\"scatterternary\"}],\"surface\":[{\"colorbar\":{\"outlinewidth\":0,\"ticks\":\"\"},\"colorscale\":[[0.0,\"#0d0887\"],[0.1111111111111111,\"#46039f\"],[0.2222222222222222,\"#7201a8\"],[0.3333333333333333,\"#9c179e\"],[0.4444444444444444,\"#bd3786\"],[0.5555555555555556,\"#d8576b\"],[0.6666666666666666,\"#ed7953\"],[0.7777777777777778,\"#fb9f3a\"],[0.8888888888888888,\"#fdca26\"],[1.0,\"#f0f921\"]],\"type\":\"surface\"}],\"table\":[{\"cells\":{\"fill\":{\"color\":\"#EBF0F8\"},\"line\":{\"color\":\"white\"}},\"header\":{\"fill\":{\"color\":\"#C8D4E3\"},\"line\":{\"color\":\"white\"}},\"type\":\"table\"}]},\"layout\":{\"annotationdefaults\":{\"arrowcolor\":\"#2a3f5f\",\"arrowhead\":0,\"arrowwidth\":1},\"autotypenumbers\":\"strict\",\"coloraxis\":{\"colorbar\":{\"outlinewidth\":0,\"ticks\":\"\"}},\"colorscale\":{\"diverging\":[[0,\"#8e0152\"],[0.1,\"#c51b7d\"],[0.2,\"#de77ae\"],[0.3,\"#f1b6da\"],[0.4,\"#fde0ef\"],[0.5,\"#f7f7f7\"],[0.6,\"#e6f5d0\"],[0.7,\"#b8e186\"],[0.8,\"#7fbc41\"],[0.9,\"#4d9221\"],[1,\"#276419\"]],\"sequential\":[[0.0,\"#0d0887\"],[0.1111111111111111,\"#46039f\"],[0.2222222222222222,\"#7201a8\"],[0.3333333333333333,\"#9c179e\"],[0.4444444444444444,\"#bd3786\"],[0.5555555555555556,\"#d8576b\"],[0.6666666666666666,\"#ed7953\"],[0.7777777777777778,\"#fb9f3a\"],[0.8888888888888888,\"#fdca26\"],[1.0,\"#f0f921\"]],\"sequentialminus\":[[0.0,\"#0d0887\"],[0.1111111111111111,\"#46039f\"],[0.2222222222222222,\"#7201a8\"],[0.3333333333333333,\"#9c179e\"],[0.4444444444444444,\"#bd3786\"],[0.5555555555555556,\"#d8576b\"],[0.6666666666666666,\"#ed7953\"],[0.7777777777777778,\"#fb9f3a\"],[0.8888888888888888,\"#fdca26\"],[1.0,\"#f0f921\"]]},\"colorway\":[\"#636efa\",\"#EF553B\",\"#00cc96\",\"#ab63fa\",\"#FFA15A\",\"#19d3f3\",\"#FF6692\",\"#B6E880\",\"#FF97FF\",\"#FECB52\"],\"font\":{\"color\":\"#2a3f5f\"},\"geo\":{\"bgcolor\":\"white\",\"lakecolor\":\"white\",\"landcolor\":\"#E5ECF6\",\"showlakes\":true,\"showland\":true,\"subunitcolor\":\"white\"},\"hoverlabel\":{\"align\":\"left\"},\"hovermode\":\"closest\",\"mapbox\":{\"style\":\"light\"},\"paper_bgcolor\":\"white\",\"plot_bgcolor\":\"#E5ECF6\",\"polar\":{\"angularaxis\":{\"gridcolor\":\"white\",\"linecolor\":\"white\",\"ticks\":\"\"},\"bgcolor\":\"#E5ECF6\",\"radialaxis\":{\"gridcolor\":\"white\",\"linecolor\":\"white\",\"ticks\":\"\"}},\"scene\":{\"xaxis\":{\"backgroundcolor\":\"#E5ECF6\",\"gridcolor\":\"white\",\"gridwidth\":2,\"linecolor\":\"white\",\"showbackground\":true,\"ticks\":\"\",\"zerolinecolor\":\"white\"},\"yaxis\":{\"backgroundcolor\":\"#E5ECF6\",\"gridcolor\":\"white\",\"gridwidth\":2,\"linecolor\":\"white\",\"showbackground\":true,\"ticks\":\"\",\"zerolinecolor\":\"white\"},\"zaxis\":{\"backgroundcolor\":\"#E5ECF6\",\"gridcolor\":\"white\",\"gridwidth\":2,\"linecolor\":\"white\",\"showbackground\":true,\"ticks\":\"\",\"zerolinecolor\":\"white\"}},\"shapedefaults\":{\"line\":{\"color\":\"#2a3f5f\"}},\"ternary\":{\"aaxis\":{\"gridcolor\":\"white\",\"linecolor\":\"white\",\"ticks\":\"\"},\"baxis\":{\"gridcolor\":\"white\",\"linecolor\":\"white\",\"ticks\":\"\"},\"bgcolor\":\"#E5ECF6\",\"caxis\":{\"gridcolor\":\"white\",\"linecolor\":\"white\",\"ticks\":\"\"}},\"title\":{\"x\":0.05},\"xaxis\":{\"automargin\":true,\"gridcolor\":\"white\",\"linecolor\":\"white\",\"ticks\":\"\",\"title\":{\"standoff\":15},\"zerolinecolor\":\"white\",\"zerolinewidth\":2},\"yaxis\":{\"automargin\":true,\"gridcolor\":\"white\",\"linecolor\":\"white\",\"ticks\":\"\",\"title\":{\"standoff\":15},\"zerolinecolor\":\"white\",\"zerolinewidth\":2}}},\"margin\":{\"l\":0,\"r\":0,\"t\":0,\"b\":0},\"scene\":{\"aspectmode\":\"data\"},\"showlegend\":false,\"autosize\":true},                        {\"responsive\": true}                    ).then(function(){\n",
       "                            \n",
       "var gd = document.getElementById('ad900e26-8767-4096-a93b-3bad20beff9e');\n",
       "var x = new MutationObserver(function (mutations, observer) {{\n",
       "        var display = window.getComputedStyle(gd).display;\n",
       "        if (!display || display === 'none') {{\n",
       "            console.log([gd, 'removed!']);\n",
       "            Plotly.purge(gd);\n",
       "            observer.disconnect();\n",
       "        }}\n",
       "}});\n",
       "\n",
       "// Listen for the removal of the full notebook cells\n",
       "var notebookContainer = gd.closest('#notebook-container');\n",
       "if (notebookContainer) {{\n",
       "    x.observe(notebookContainer, {childList: true});\n",
       "}}\n",
       "\n",
       "// Listen for the clearing of the current output cell\n",
       "var outputEl = gd.closest('.output');\n",
       "if (outputEl) {{\n",
       "    x.observe(outputEl, {childList: true});\n",
       "}}\n",
       "\n",
       "                        })                };                });            </script>        </div>"
      ]
     },
     "metadata": {},
     "output_type": "display_data"
    }
   ],
   "source": [
    "import numpy as np\n",
    "import kirchhoff.circuit_init as kfi\n",
    "from goflow.adapter import init_ivp as gi\n",
    "\n",
    "# #initialize plexus+flow pattern\n",
    "init_flow=dict(\n",
    "    crystal_type='triagonal_planar',\n",
    "    periods= 3,\n",
    ")\n",
    "\n",
    "C = kfi.initialize_circuit_from_crystal(**init_flow)\n",
    "\n",
    "# plot initial network with data of choice\n",
    "fig = C.plot_circuit()\n",
    "fig.show()"
   ]
  },
  {
   "cell_type": "code",
   "execution_count": null,
   "id": "99eefbb9",
   "metadata": {},
   "outputs": [],
   "source": [
    "import numpy as np\n",
    "import kirchhoff.circuit_init as kfi\n",
    "from hailhydro.flow_init import Flow\n",
    "\n",
    "from goflow.adapter import init_ivp as gi\n",
    "\n",
    "#initialize circuit+flow pattern\n",
    "# C = kfi.initialize_circuit_from_crystal('laves',3)\n",
    "C = kfi.initialize_circuit_from_crystal('hexagonal',3).G\n",
    "pars_src = {\n",
    "#     'modeSRC': 'root_short',\n",
    "#     'modeSRC': 'dipole_border',\n",
    "    'modeSRC': 'dipole_wall',\n",
    "}\n",
    "pars_plx = {\n",
    "    'modePLX':'default',\n",
    "}\n",
    "# set model and model parameters\n",
    "pars_model = {\n",
    "    'alpha_0':1.,\n",
    "    'alpha_1':1.\n",
    "}\n",
    "# # initialize dynamic system and set integration parameters\n",
    "morpheus = gi.morph_dynamic(C, 'murray', [pars_model, pars_src, pars_plx]) "
   ]
  }
 ],
 "metadata": {
  "kernelspec": {
   "display_name": "devGoFlow",
   "language": "python",
   "name": "devgoflow"
  },
  "language_info": {
   "codemirror_mode": {
    "name": "ipython",
    "version": 3
   },
   "file_extension": ".py",
   "mimetype": "text/x-python",
   "name": "python",
   "nbconvert_exporter": "python",
   "pygments_lexer": "ipython3",
   "version": "3.9.7"
  }
 },
 "nbformat": 4,
 "nbformat_minor": 5
}
